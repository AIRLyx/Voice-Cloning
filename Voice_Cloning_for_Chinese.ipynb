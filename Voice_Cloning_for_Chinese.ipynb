{
  "nbformat": 4,
  "nbformat_minor": 0,
  "metadata": {
    "colab": {
      "provenance": [],
      "machine_shape": "hm",
      "gpuType": "V100",
      "authorship_tag": "ABX9TyMYRpL8k6zSBBMwHqs70M55",
      "include_colab_link": true
    },
    "kernelspec": {
      "name": "python3",
      "display_name": "Python 3"
    },
    "language_info": {
      "name": "python"
    },
    "accelerator": "GPU"
  },
  "cells": [
    {
      "cell_type": "markdown",
      "metadata": {
        "id": "view-in-github",
        "colab_type": "text"
      },
      "source": [
        "<a href=\"https://colab.research.google.com/github/KevinWang676/Bark-Voice-Cloning/blob/main/Voice_Cloning_for_Chinese.ipynb\" target=\"_parent\"><img src=\"https://colab.research.google.com/assets/colab-badge.svg\" alt=\"Open In Colab\"/></a>"
      ]
    },
    {
      "cell_type": "markdown",
      "source": [
        "# 中文声音克隆 Voice Cloning for Chinese"
      ],
      "metadata": {
        "id": "Uhhc4_stcdSf"
      }
    },
    {
      "cell_type": "markdown",
      "source": [
        "## 配置环境 Set up"
      ],
      "metadata": {
        "id": "qIFF53SWVDe-"
      }
    },
    {
      "cell_type": "code",
      "source": [
        "! nvidia-smi # 需要使用GPU运行"
      ],
      "metadata": {
        "id": "4RZJ1P69VKLU"
      },
      "execution_count": null,
      "outputs": []
    },
    {
      "cell_type": "code",
      "source": [
        "! pip install openai-whisper\n",
        "! pip install modelscope\n",
        "! pip install tts-autolabel -f https://modelscope.oss-cn-beijing.aliyuncs.com/releases/repo.html\n",
        "! pip install typeguard==2.3.1\n",
        "! pip install sox\n",
        "! pip install bitstring\n",
        "! pip install kantts -f https://modelscope.oss-cn-beijing.aliyuncs.com/releases/repo.html\n",
        "! pip install pytorch_wavelets\n",
        "! pip install tensorboardX\n",
        "! git clone https://github.com/fbcotter/pytorch_wavelets\n",
        "! pip install matplotlib\n",
        "! pip install numpy==1.22.0\n",
        "\n",
        "# 点击左下角终端，在终端中依次执行三行代码：(1) apt-get install sox (2) cd pytorch_wavelets 和 (3) pip install .\n"
      ],
      "metadata": {
        "id": "s2aAbOEPaVh6",
        "colab": {
          "base_uri": "https://localhost:8080/",
          "height": 1000
        },
        "outputId": "ce1b2470-ad41-43bf-fc2b-3ec4cab9bac2"
      },
      "execution_count": 1,
      "outputs": [
        {
          "output_type": "stream",
          "name": "stdout",
          "text": [
            "Collecting openai-whisper\n",
            "  Downloading openai-whisper-20230314.tar.gz (792 kB)\n",
            "\u001b[?25l     \u001b[90m━━━━━━━━━━━━━━━━━━━━━━━━━━━━━━━━━━━━━━━━\u001b[0m \u001b[32m0.0/792.9 kB\u001b[0m \u001b[31m?\u001b[0m eta \u001b[36m-:--:--\u001b[0m\r\u001b[2K     \u001b[91m━━━━━━━━━━━━━━━━━━━━━━━━━━━━━━━━━━━━━\u001b[0m\u001b[91m╸\u001b[0m \u001b[32m788.5/792.9 kB\u001b[0m \u001b[31m27.2 MB/s\u001b[0m eta \u001b[36m0:00:01\u001b[0m\r\u001b[2K     \u001b[90m━━━━━━━━━━━━━━━━━━━━━━━━━━━━━━━━━━━━━━\u001b[0m \u001b[32m792.9/792.9 kB\u001b[0m \u001b[31m19.6 MB/s\u001b[0m eta \u001b[36m0:00:00\u001b[0m\n",
            "\u001b[?25h  Installing build dependencies ... \u001b[?25l\u001b[?25hdone\n",
            "  Getting requirements to build wheel ... \u001b[?25l\u001b[?25hdone\n",
            "  Preparing metadata (pyproject.toml) ... \u001b[?25l\u001b[?25hdone\n",
            "Requirement already satisfied: triton==2.0.0 in /usr/local/lib/python3.10/dist-packages (from openai-whisper) (2.0.0)\n",
            "Requirement already satisfied: numba in /usr/local/lib/python3.10/dist-packages (from openai-whisper) (0.56.4)\n",
            "Requirement already satisfied: numpy in /usr/local/lib/python3.10/dist-packages (from openai-whisper) (1.22.4)\n",
            "Requirement already satisfied: torch in /usr/local/lib/python3.10/dist-packages (from openai-whisper) (2.0.1+cu118)\n",
            "Requirement already satisfied: tqdm in /usr/local/lib/python3.10/dist-packages (from openai-whisper) (4.65.0)\n",
            "Requirement already satisfied: more-itertools in /usr/local/lib/python3.10/dist-packages (from openai-whisper) (9.1.0)\n",
            "Collecting tiktoken==0.3.1 (from openai-whisper)\n",
            "  Downloading tiktoken-0.3.1-cp310-cp310-manylinux_2_17_x86_64.manylinux2014_x86_64.whl (1.7 MB)\n",
            "\u001b[2K     \u001b[90m━━━━━━━━━━━━━━━━━━━━━━━━━━━━━━━━━━━━━━━━\u001b[0m \u001b[32m1.7/1.7 MB\u001b[0m \u001b[31m71.7 MB/s\u001b[0m eta \u001b[36m0:00:00\u001b[0m\n",
            "\u001b[?25hCollecting ffmpeg-python==0.2.0 (from openai-whisper)\n",
            "  Downloading ffmpeg_python-0.2.0-py3-none-any.whl (25 kB)\n",
            "Requirement already satisfied: future in /usr/local/lib/python3.10/dist-packages (from ffmpeg-python==0.2.0->openai-whisper) (0.18.3)\n",
            "Requirement already satisfied: regex>=2022.1.18 in /usr/local/lib/python3.10/dist-packages (from tiktoken==0.3.1->openai-whisper) (2022.10.31)\n",
            "Requirement already satisfied: requests>=2.26.0 in /usr/local/lib/python3.10/dist-packages (from tiktoken==0.3.1->openai-whisper) (2.27.1)\n",
            "Requirement already satisfied: cmake in /usr/local/lib/python3.10/dist-packages (from triton==2.0.0->openai-whisper) (3.25.2)\n",
            "Requirement already satisfied: filelock in /usr/local/lib/python3.10/dist-packages (from triton==2.0.0->openai-whisper) (3.12.2)\n",
            "Requirement already satisfied: lit in /usr/local/lib/python3.10/dist-packages (from triton==2.0.0->openai-whisper) (16.0.6)\n",
            "Requirement already satisfied: llvmlite<0.40,>=0.39.0dev0 in /usr/local/lib/python3.10/dist-packages (from numba->openai-whisper) (0.39.1)\n",
            "Requirement already satisfied: setuptools in /usr/local/lib/python3.10/dist-packages (from numba->openai-whisper) (67.7.2)\n",
            "Requirement already satisfied: typing-extensions in /usr/local/lib/python3.10/dist-packages (from torch->openai-whisper) (4.6.3)\n",
            "Requirement already satisfied: sympy in /usr/local/lib/python3.10/dist-packages (from torch->openai-whisper) (1.11.1)\n",
            "Requirement already satisfied: networkx in /usr/local/lib/python3.10/dist-packages (from torch->openai-whisper) (3.1)\n",
            "Requirement already satisfied: jinja2 in /usr/local/lib/python3.10/dist-packages (from torch->openai-whisper) (3.1.2)\n",
            "Requirement already satisfied: urllib3<1.27,>=1.21.1 in /usr/local/lib/python3.10/dist-packages (from requests>=2.26.0->tiktoken==0.3.1->openai-whisper) (1.26.16)\n",
            "Requirement already satisfied: certifi>=2017.4.17 in /usr/local/lib/python3.10/dist-packages (from requests>=2.26.0->tiktoken==0.3.1->openai-whisper) (2023.5.7)\n",
            "Requirement already satisfied: charset-normalizer~=2.0.0 in /usr/local/lib/python3.10/dist-packages (from requests>=2.26.0->tiktoken==0.3.1->openai-whisper) (2.0.12)\n",
            "Requirement already satisfied: idna<4,>=2.5 in /usr/local/lib/python3.10/dist-packages (from requests>=2.26.0->tiktoken==0.3.1->openai-whisper) (3.4)\n",
            "Requirement already satisfied: MarkupSafe>=2.0 in /usr/local/lib/python3.10/dist-packages (from jinja2->torch->openai-whisper) (2.1.3)\n",
            "Requirement already satisfied: mpmath>=0.19 in /usr/local/lib/python3.10/dist-packages (from sympy->torch->openai-whisper) (1.3.0)\n",
            "Building wheels for collected packages: openai-whisper\n",
            "  Building wheel for openai-whisper (pyproject.toml) ... \u001b[?25l\u001b[?25hdone\n",
            "  Created wheel for openai-whisper: filename=openai_whisper-20230314-py3-none-any.whl size=796910 sha256=47694d985a7ddcfdff6f19538e54918ce2331170c6e3cf987d51766ab1fe62a4\n",
            "  Stored in directory: /root/.cache/pip/wheels/b2/13/5f/fe8245f6dc59df505879da4b2129932e342f02a80e6b87f27d\n",
            "Successfully built openai-whisper\n",
            "Installing collected packages: ffmpeg-python, tiktoken, openai-whisper\n",
            "Successfully installed ffmpeg-python-0.2.0 openai-whisper-20230314 tiktoken-0.3.1\n",
            "Collecting modelscope\n",
            "  Downloading modelscope-1.7.1-py3-none-any.whl (4.5 MB)\n",
            "\u001b[2K     \u001b[90m━━━━━━━━━━━━━━━━━━━━━━━━━━━━━━━━━━━━━━━━\u001b[0m \u001b[32m4.5/4.5 MB\u001b[0m \u001b[31m62.7 MB/s\u001b[0m eta \u001b[36m0:00:00\u001b[0m\n",
            "\u001b[?25hCollecting addict (from modelscope)\n",
            "  Downloading addict-2.4.0-py3-none-any.whl (3.8 kB)\n",
            "Requirement already satisfied: attrs in /usr/local/lib/python3.10/dist-packages (from modelscope) (23.1.0)\n",
            "Collecting datasets (from modelscope)\n",
            "  Downloading datasets-2.13.1-py3-none-any.whl (486 kB)\n",
            "\u001b[2K     \u001b[90m━━━━━━━━━━━━━━━━━━━━━━━━━━━━━━━━━━━━━━\u001b[0m \u001b[32m486.2/486.2 kB\u001b[0m \u001b[31m48.3 MB/s\u001b[0m eta \u001b[36m0:00:00\u001b[0m\n",
            "\u001b[?25hCollecting einops (from modelscope)\n",
            "  Downloading einops-0.6.1-py3-none-any.whl (42 kB)\n",
            "\u001b[2K     \u001b[90m━━━━━━━━━━━━━━━━━━━━━━━━━━━━━━━━━━━━━━━━\u001b[0m \u001b[32m42.2/42.2 kB\u001b[0m \u001b[31m4.8 MB/s\u001b[0m eta \u001b[36m0:00:00\u001b[0m\n",
            "\u001b[?25hRequirement already satisfied: filelock>=3.3.0 in /usr/local/lib/python3.10/dist-packages (from modelscope) (3.12.2)\n",
            "Requirement already satisfied: gast>=0.2.2 in /usr/local/lib/python3.10/dist-packages (from modelscope) (0.4.0)\n",
            "Collecting numpy<=1.22.0 (from modelscope)\n",
            "  Downloading numpy-1.22.0-cp310-cp310-manylinux_2_17_x86_64.manylinux2014_x86_64.whl (16.8 MB)\n",
            "\u001b[2K     \u001b[90m━━━━━━━━━━━━━━━━━━━━━━━━━━━━━━━━━━━━━━━━\u001b[0m \u001b[32m16.8/16.8 MB\u001b[0m \u001b[31m84.9 MB/s\u001b[0m eta \u001b[36m0:00:00\u001b[0m\n",
            "\u001b[?25hCollecting oss2 (from modelscope)\n",
            "  Downloading oss2-2.18.0.tar.gz (270 kB)\n",
            "\u001b[2K     \u001b[90m━━━━━━━━━━━━━━━━━━━━━━━━━━━━━━━━━━━━━━\u001b[0m \u001b[32m270.5/270.5 kB\u001b[0m \u001b[31m29.4 MB/s\u001b[0m eta \u001b[36m0:00:00\u001b[0m\n",
            "\u001b[?25h  Preparing metadata (setup.py) ... \u001b[?25l\u001b[?25hdone\n",
            "Collecting pandas<1.4.0 (from modelscope)\n",
            "  Downloading pandas-1.3.5-cp310-cp310-manylinux_2_17_x86_64.manylinux2014_x86_64.whl (11.5 MB)\n",
            "\u001b[2K     \u001b[90m━━━━━━━━━━━━━━━━━━━━━━━━━━━━━━━━━━━━━━━\u001b[0m \u001b[32m11.5/11.5 MB\u001b[0m \u001b[31m102.0 MB/s\u001b[0m eta \u001b[36m0:00:00\u001b[0m\n",
            "\u001b[?25hRequirement already satisfied: Pillow>=6.2.0 in /usr/local/lib/python3.10/dist-packages (from modelscope) (8.4.0)\n",
            "Collecting pyarrow!=9.0.0,>=6.0.0 (from modelscope)\n",
            "  Downloading pyarrow-12.0.1-cp310-cp310-manylinux_2_17_x86_64.manylinux2014_x86_64.whl (38.9 MB)\n",
            "\u001b[2K     \u001b[90m━━━━━━━━━━━━━━━━━━━━━━━━━━━━━━━━━━━━━━━━\u001b[0m \u001b[32m38.9/38.9 MB\u001b[0m \u001b[31m37.4 MB/s\u001b[0m eta \u001b[36m0:00:00\u001b[0m\n",
            "\u001b[?25hRequirement already satisfied: python-dateutil>=2.1 in /usr/local/lib/python3.10/dist-packages (from modelscope) (2.8.2)\n",
            "Requirement already satisfied: pyyaml in /usr/local/lib/python3.10/dist-packages (from modelscope) (6.0)\n",
            "Requirement already satisfied: requests>=2.25 in /usr/local/lib/python3.10/dist-packages (from modelscope) (2.27.1)\n",
            "Requirement already satisfied: scipy in /usr/local/lib/python3.10/dist-packages (from modelscope) (1.10.1)\n",
            "Requirement already satisfied: setuptools in /usr/local/lib/python3.10/dist-packages (from modelscope) (67.7.2)\n",
            "Collecting simplejson>=3.3.0 (from modelscope)\n",
            "  Downloading simplejson-3.19.1-cp310-cp310-manylinux_2_5_x86_64.manylinux1_x86_64.manylinux_2_17_x86_64.manylinux2014_x86_64.whl (137 kB)\n",
            "\u001b[2K     \u001b[90m━━━━━━━━━━━━━━━━━━━━━━━━━━━━━━━━━━━━━━\u001b[0m \u001b[32m137.9/137.9 kB\u001b[0m \u001b[31m17.3 MB/s\u001b[0m eta \u001b[36m0:00:00\u001b[0m\n",
            "\u001b[?25hRequirement already satisfied: sortedcontainers>=1.5.9 in /usr/local/lib/python3.10/dist-packages (from modelscope) (2.4.0)\n",
            "Requirement already satisfied: tqdm>=4.64.0 in /usr/local/lib/python3.10/dist-packages (from modelscope) (4.65.0)\n",
            "Requirement already satisfied: urllib3>=1.26 in /usr/local/lib/python3.10/dist-packages (from modelscope) (1.26.16)\n",
            "Collecting yapf (from modelscope)\n",
            "  Downloading yapf-0.40.1-py3-none-any.whl (250 kB)\n",
            "\u001b[2K     \u001b[90m━━━━━━━━━━━━━━━━━━━━━━━━━━━━━━━━━━━━━━\u001b[0m \u001b[32m250.3/250.3 kB\u001b[0m \u001b[31m28.3 MB/s\u001b[0m eta \u001b[36m0:00:00\u001b[0m\n",
            "\u001b[?25hRequirement already satisfied: pytz>=2017.3 in /usr/local/lib/python3.10/dist-packages (from pandas<1.4.0->modelscope) (2022.7.1)\n",
            "Requirement already satisfied: six>=1.5 in /usr/local/lib/python3.10/dist-packages (from python-dateutil>=2.1->modelscope) (1.16.0)\n",
            "Requirement already satisfied: certifi>=2017.4.17 in /usr/local/lib/python3.10/dist-packages (from requests>=2.25->modelscope) (2023.5.7)\n",
            "Requirement already satisfied: charset-normalizer~=2.0.0 in /usr/local/lib/python3.10/dist-packages (from requests>=2.25->modelscope) (2.0.12)\n",
            "Requirement already satisfied: idna<4,>=2.5 in /usr/local/lib/python3.10/dist-packages (from requests>=2.25->modelscope) (3.4)\n",
            "Collecting dill<0.3.7,>=0.3.0 (from datasets->modelscope)\n",
            "  Downloading dill-0.3.6-py3-none-any.whl (110 kB)\n",
            "\u001b[2K     \u001b[90m━━━━━━━━━━━━━━━━━━━━━━━━━━━━━━━━━━━━━━\u001b[0m \u001b[32m110.5/110.5 kB\u001b[0m \u001b[31m15.0 MB/s\u001b[0m eta \u001b[36m0:00:00\u001b[0m\n",
            "\u001b[?25hCollecting xxhash (from datasets->modelscope)\n",
            "  Downloading xxhash-3.2.0-cp310-cp310-manylinux_2_17_x86_64.manylinux2014_x86_64.whl (212 kB)\n",
            "\u001b[2K     \u001b[90m━━━━━━━━━━━━━━━━━━━━━━━━━━━━━━━━━━━━━━\u001b[0m \u001b[32m212.5/212.5 kB\u001b[0m \u001b[31m26.2 MB/s\u001b[0m eta \u001b[36m0:00:00\u001b[0m\n",
            "\u001b[?25hCollecting multiprocess (from datasets->modelscope)\n",
            "  Downloading multiprocess-0.70.14-py310-none-any.whl (134 kB)\n",
            "\u001b[2K     \u001b[90m━━━━━━━━━━━━━━━━━━━━━━━━━━━━━━━━━━━━━━\u001b[0m \u001b[32m134.3/134.3 kB\u001b[0m \u001b[31m17.4 MB/s\u001b[0m eta \u001b[36m0:00:00\u001b[0m\n",
            "\u001b[?25hRequirement already satisfied: fsspec[http]>=2021.11.1 in /usr/local/lib/python3.10/dist-packages (from datasets->modelscope) (2023.6.0)\n",
            "Requirement already satisfied: aiohttp in /usr/local/lib/python3.10/dist-packages (from datasets->modelscope) (3.8.4)\n",
            "Collecting huggingface-hub<1.0.0,>=0.11.0 (from datasets->modelscope)\n",
            "  Downloading huggingface_hub-0.16.4-py3-none-any.whl (268 kB)\n",
            "\u001b[2K     \u001b[90m━━━━━━━━━━━━━━━━━━━━━━━━━━━━━━━━━━━━━━\u001b[0m \u001b[32m268.8/268.8 kB\u001b[0m \u001b[31m31.3 MB/s\u001b[0m eta \u001b[36m0:00:00\u001b[0m\n",
            "\u001b[?25hRequirement already satisfied: packaging in /usr/local/lib/python3.10/dist-packages (from datasets->modelscope) (23.1)\n",
            "Collecting crcmod>=1.7 (from oss2->modelscope)\n",
            "  Downloading crcmod-1.7.tar.gz (89 kB)\n",
            "\u001b[2K     \u001b[90m━━━━━━━━━━━━━━━━━━━━━━━━━━━━━━━━━━━━━━━━\u001b[0m \u001b[32m89.7/89.7 kB\u001b[0m \u001b[31m11.9 MB/s\u001b[0m eta \u001b[36m0:00:00\u001b[0m\n",
            "\u001b[?25h  Preparing metadata (setup.py) ... \u001b[?25l\u001b[?25hdone\n",
            "Collecting pycryptodome>=3.4.7 (from oss2->modelscope)\n",
            "  Downloading pycryptodome-3.18.0-cp35-abi3-manylinux_2_17_x86_64.manylinux2014_x86_64.whl (2.1 MB)\n",
            "\u001b[2K     \u001b[90m━━━━━━━━━━━━━━━━━━━━━━━━━━━━━━━━━━━━━━━━\u001b[0m \u001b[32m2.1/2.1 MB\u001b[0m \u001b[31m99.3 MB/s\u001b[0m eta \u001b[36m0:00:00\u001b[0m\n",
            "\u001b[?25hCollecting aliyun-python-sdk-kms>=2.4.1 (from oss2->modelscope)\n",
            "  Downloading aliyun_python_sdk_kms-2.16.1-py2.py3-none-any.whl (70 kB)\n",
            "\u001b[2K     \u001b[90m━━━━━━━━━━━━━━━━━━━━━━━━━━━━━━━━━━━━━━━━\u001b[0m \u001b[32m70.8/70.8 kB\u001b[0m \u001b[31m9.7 MB/s\u001b[0m eta \u001b[36m0:00:00\u001b[0m\n",
            "\u001b[?25hCollecting aliyun-python-sdk-core>=2.13.12 (from oss2->modelscope)\n",
            "  Downloading aliyun-python-sdk-core-2.13.36.tar.gz (440 kB)\n",
            "\u001b[2K     \u001b[90m━━━━━━━━━━━━━━━━━━━━━━━━━━━━━━━━━━━━━━\u001b[0m \u001b[32m440.5/440.5 kB\u001b[0m \u001b[31m46.4 MB/s\u001b[0m eta \u001b[36m0:00:00\u001b[0m\n",
            "\u001b[?25h  Preparing metadata (setup.py) ... \u001b[?25l\u001b[?25hdone\n",
            "Collecting importlib-metadata>=6.6.0 (from yapf->modelscope)\n",
            "  Downloading importlib_metadata-6.8.0-py3-none-any.whl (22 kB)\n",
            "Requirement already satisfied: platformdirs>=3.5.1 in /usr/local/lib/python3.10/dist-packages (from yapf->modelscope) (3.7.0)\n",
            "Requirement already satisfied: tomli>=2.0.1 in /usr/local/lib/python3.10/dist-packages (from yapf->modelscope) (2.0.1)\n",
            "Collecting jmespath<1.0.0,>=0.9.3 (from aliyun-python-sdk-core>=2.13.12->oss2->modelscope)\n",
            "  Downloading jmespath-0.10.0-py2.py3-none-any.whl (24 kB)\n",
            "Collecting cryptography>=2.6.0 (from aliyun-python-sdk-core>=2.13.12->oss2->modelscope)\n",
            "  Downloading cryptography-41.0.1-cp37-abi3-manylinux_2_28_x86_64.whl (4.3 MB)\n",
            "\u001b[2K     \u001b[90m━━━━━━━━━━━━━━━━━━━━━━━━━━━━━━━━━━━━━━━━\u001b[0m \u001b[32m4.3/4.3 MB\u001b[0m \u001b[31m116.8 MB/s\u001b[0m eta \u001b[36m0:00:00\u001b[0m\n",
            "\u001b[?25hRequirement already satisfied: multidict<7.0,>=4.5 in /usr/local/lib/python3.10/dist-packages (from aiohttp->datasets->modelscope) (6.0.4)\n",
            "Requirement already satisfied: async-timeout<5.0,>=4.0.0a3 in /usr/local/lib/python3.10/dist-packages (from aiohttp->datasets->modelscope) (4.0.2)\n",
            "Requirement already satisfied: yarl<2.0,>=1.0 in /usr/local/lib/python3.10/dist-packages (from aiohttp->datasets->modelscope) (1.9.2)\n",
            "Requirement already satisfied: frozenlist>=1.1.1 in /usr/local/lib/python3.10/dist-packages (from aiohttp->datasets->modelscope) (1.3.3)\n",
            "Requirement already satisfied: aiosignal>=1.1.2 in /usr/local/lib/python3.10/dist-packages (from aiohttp->datasets->modelscope) (1.3.1)\n",
            "Requirement already satisfied: typing-extensions>=3.7.4.3 in /usr/local/lib/python3.10/dist-packages (from huggingface-hub<1.0.0,>=0.11.0->datasets->modelscope) (4.6.3)\n",
            "Requirement already satisfied: zipp>=0.5 in /usr/local/lib/python3.10/dist-packages (from importlib-metadata>=6.6.0->yapf->modelscope) (3.15.0)\n",
            "Requirement already satisfied: cffi>=1.12 in /usr/local/lib/python3.10/dist-packages (from cryptography>=2.6.0->aliyun-python-sdk-core>=2.13.12->oss2->modelscope) (1.15.1)\n",
            "Requirement already satisfied: pycparser in /usr/local/lib/python3.10/dist-packages (from cffi>=1.12->cryptography>=2.6.0->aliyun-python-sdk-core>=2.13.12->oss2->modelscope) (2.21)\n",
            "Building wheels for collected packages: oss2, aliyun-python-sdk-core, crcmod\n",
            "  Building wheel for oss2 (setup.py) ... \u001b[?25l\u001b[?25hdone\n",
            "  Created wheel for oss2: filename=oss2-2.18.0-py3-none-any.whl size=114757 sha256=b48c9a8bc3a6e89e1fce7a2024ffae49b141510bf8bad5ed7c4698d7729dfe91\n",
            "  Stored in directory: /root/.cache/pip/wheels/13/31/f3/bab557765fef362f76b425e7adb98832c0a5aac335f72b82b2\n",
            "  Building wheel for aliyun-python-sdk-core (setup.py) ... \u001b[?25l\u001b[?25hdone\n",
            "  Created wheel for aliyun-python-sdk-core: filename=aliyun_python_sdk_core-2.13.36-py3-none-any.whl size=533194 sha256=354b3486bed508ae44ac84bfcb8a20da4a83181450cf672c09fdf08722e56eb2\n",
            "  Stored in directory: /root/.cache/pip/wheels/c0/f4/0e/87c534857132bd3bd2c4465c0b15b4db650cf6c15a876bda34\n",
            "  Building wheel for crcmod (setup.py) ... \u001b[?25l\u001b[?25hdone\n",
            "  Created wheel for crcmod: filename=crcmod-1.7-cp310-cp310-linux_x86_64.whl size=37106 sha256=8814f9902fe0284f54602a288f8aa1b1769f9695b25e89e4a6580c839a6299cd\n",
            "  Stored in directory: /root/.cache/pip/wheels/85/4c/07/72215c529bd59d67e3dac29711d7aba1b692f543c808ba9e86\n",
            "Successfully built oss2 aliyun-python-sdk-core crcmod\n",
            "Installing collected packages: crcmod, addict, xxhash, simplejson, pycryptodome, numpy, jmespath, importlib-metadata, einops, dill, yapf, pyarrow, pandas, multiprocess, huggingface-hub, cryptography, aliyun-python-sdk-core, datasets, aliyun-python-sdk-kms, oss2, modelscope\n",
            "  Attempting uninstall: numpy\n",
            "    Found existing installation: numpy 1.22.4\n",
            "    Uninstalling numpy-1.22.4:\n",
            "      Successfully uninstalled numpy-1.22.4\n",
            "  Attempting uninstall: pyarrow\n",
            "    Found existing installation: pyarrow 9.0.0\n",
            "    Uninstalling pyarrow-9.0.0:\n",
            "      Successfully uninstalled pyarrow-9.0.0\n",
            "  Attempting uninstall: pandas\n",
            "    Found existing installation: pandas 1.5.3\n",
            "    Uninstalling pandas-1.5.3:\n",
            "      Successfully uninstalled pandas-1.5.3\n",
            "\u001b[31mERROR: pip's dependency resolver does not currently take into account all the packages that are installed. This behaviour is the source of the following dependency conflicts.\n",
            "google-colab 1.0.0 requires pandas==1.5.3, but you have pandas 1.3.5 which is incompatible.\n",
            "librosa 0.10.0.post2 requires numpy!=1.22.0,!=1.22.1,!=1.22.2,>=1.20.3, but you have numpy 1.22.0 which is incompatible.\n",
            "pandas-gbq 0.17.9 requires pyarrow<10.0dev,>=3.0.0, but you have pyarrow 12.0.1 which is incompatible.\u001b[0m\u001b[31m\n",
            "\u001b[0mSuccessfully installed addict-2.4.0 aliyun-python-sdk-core-2.13.36 aliyun-python-sdk-kms-2.16.1 crcmod-1.7 cryptography-41.0.1 datasets-2.13.1 dill-0.3.6 einops-0.6.1 huggingface-hub-0.16.4 importlib-metadata-6.8.0 jmespath-0.10.0 modelscope-1.7.1 multiprocess-0.70.14 numpy-1.22.0 oss2-2.18.0 pandas-1.3.5 pyarrow-12.0.1 pycryptodome-3.18.0 simplejson-3.19.1 xxhash-3.2.0 yapf-0.40.1\n"
          ]
        },
        {
          "output_type": "display_data",
          "data": {
            "application/vnd.colab-display-data+json": {
              "pip_warning": {
                "packages": [
                  "numpy"
                ]
              }
            }
          },
          "metadata": {}
        },
        {
          "output_type": "stream",
          "name": "stdout",
          "text": [
            "Looking in links: https://modelscope.oss-cn-beijing.aliyuncs.com/releases/repo.html\n",
            "Collecting tts-autolabel\n",
            "  Downloading https://modelscope.oss-cn-beijing.aliyuncs.com/releases/dependencies/kantts/tts_autolabel-1.1.2-py3-none-any.whl (80 kB)\n",
            "\u001b[2K     \u001b[90m━━━━━━━━━━━━━━━━━━━━━━━━━━━━━━━━━━━━━━━\u001b[0m \u001b[32m80.3/80.3 kB\u001b[0m \u001b[31m177.6 kB/s\u001b[0m eta \u001b[36m0:00:00\u001b[0m\n",
            "\u001b[?25hCollecting onnxruntime (from tts-autolabel)\n",
            "  Downloading onnxruntime-1.15.1-cp310-cp310-manylinux_2_17_x86_64.manylinux2014_x86_64.whl (5.9 MB)\n",
            "\u001b[2K     \u001b[90m━━━━━━━━━━━━━━━━━━━━━━━━━━━━━━━━━━━━━━━━\u001b[0m \u001b[32m5.9/5.9 MB\u001b[0m \u001b[31m70.4 MB/s\u001b[0m eta \u001b[36m0:00:00\u001b[0m\n",
            "\u001b[?25hRequirement already satisfied: librosa in /usr/local/lib/python3.10/dist-packages (from tts-autolabel) (0.10.0.post2)\n",
            "Requirement already satisfied: numpy in /usr/local/lib/python3.10/dist-packages (from tts-autolabel) (1.22.0)\n",
            "Requirement already satisfied: scipy in /usr/local/lib/python3.10/dist-packages (from tts-autolabel) (1.10.1)\n",
            "Collecting typeguard (from tts-autolabel)\n",
            "  Downloading typeguard-4.0.0-py3-none-any.whl (33 kB)\n",
            "Collecting kaldi-native-fbank (from tts-autolabel)\n",
            "  Downloading kaldi_native_fbank-1.17-cp310-cp310-manylinux_2_17_x86_64.manylinux2014_x86_64.whl (189 kB)\n",
            "\u001b[2K     \u001b[90m━━━━━━━━━━━━━━━━━━━━━━━━━━━━━━━━━━━━━━\u001b[0m \u001b[32m189.5/189.5 kB\u001b[0m \u001b[31m21.7 MB/s\u001b[0m eta \u001b[36m0:00:00\u001b[0m\n",
            "\u001b[?25hCollecting pypinyin (from tts-autolabel)\n",
            "  Downloading pypinyin-0.49.0-py2.py3-none-any.whl (1.4 MB)\n",
            "\u001b[2K     \u001b[90m━━━━━━━━━━━━━━━━━━━━━━━━━━━━━━━━━━━━━━━━\u001b[0m \u001b[32m1.4/1.4 MB\u001b[0m \u001b[31m83.2 MB/s\u001b[0m eta \u001b[36m0:00:00\u001b[0m\n",
            "\u001b[?25hCollecting g2p-en (from tts-autolabel)\n",
            "  Downloading g2p_en-2.1.0-py3-none-any.whl (3.1 MB)\n",
            "\u001b[2K     \u001b[90m━━━━━━━━━━━━━━━━━━━━━━━━━━━━━━━━━━━━━━━━\u001b[0m \u001b[32m3.1/3.1 MB\u001b[0m \u001b[31m101.4 MB/s\u001b[0m eta \u001b[36m0:00:00\u001b[0m\n",
            "\u001b[?25hCollecting nls-pykaldi (from tts-autolabel)\n",
            "  Downloading https://modelscope.oss-cn-beijing.aliyuncs.com/releases/dependencies/pykaldi/linux/nls_pykaldi-1.0.0-cp310-cp310-linux_x86_64.whl (21.7 MB)\n",
            "\u001b[2K     \u001b[90m━━━━━━━━━━━━━━━━━━━━━━━━━━━━━━━━━━━━━━━━\u001b[0m \u001b[32m21.7/21.7 MB\u001b[0m \u001b[31m11.9 MB/s\u001b[0m eta \u001b[36m0:00:00\u001b[0m\n",
            "\u001b[?25hCollecting ttsfrd>=0.1.2 (from tts-autolabel)\n",
            "  Downloading https://modelscope.oss-cn-beijing.aliyuncs.com/releases/dependencies/ttsfrd/linux/ttsfrd-0.2.1-cp310-cp310-linux_x86_64.whl (53.4 MB)\n",
            "\u001b[2K     \u001b[90m━━━━━━━━━━━━━━━━━━━━━━━━━━━━━━━━━━━━━━━━\u001b[0m \u001b[32m53.4/53.4 MB\u001b[0m \u001b[31m10.0 MB/s\u001b[0m eta \u001b[36m0:00:00\u001b[0m\n",
            "\u001b[?25hRequirement already satisfied: nltk>=3.2.4 in /usr/local/lib/python3.10/dist-packages (from g2p-en->tts-autolabel) (3.8.1)\n",
            "Requirement already satisfied: inflect>=0.3.1 in /usr/local/lib/python3.10/dist-packages (from g2p-en->tts-autolabel) (6.0.4)\n",
            "Collecting distance>=0.1.3 (from g2p-en->tts-autolabel)\n",
            "  Downloading Distance-0.1.3.tar.gz (180 kB)\n",
            "\u001b[2K     \u001b[90m━━━━━━━━━━━━━━━━━━━━━━━━━━━━━━━━━━━━━━\u001b[0m \u001b[32m180.3/180.3 kB\u001b[0m \u001b[31m21.9 MB/s\u001b[0m eta \u001b[36m0:00:00\u001b[0m\n",
            "\u001b[?25h  Preparing metadata (setup.py) ... \u001b[?25l\u001b[?25hdone\n",
            "Requirement already satisfied: audioread>=2.1.9 in /usr/local/lib/python3.10/dist-packages (from librosa->tts-autolabel) (3.0.0)\n",
            "Collecting numpy (from tts-autolabel)\n",
            "  Downloading numpy-1.25.0-cp310-cp310-manylinux_2_17_x86_64.manylinux2014_x86_64.whl (17.6 MB)\n",
            "\u001b[2K     \u001b[90m━━━━━━━━━━━━━━━━━━━━━━━━━━━━━━━━━━━━━━━━\u001b[0m \u001b[32m17.6/17.6 MB\u001b[0m \u001b[31m89.5 MB/s\u001b[0m eta \u001b[36m0:00:00\u001b[0m\n",
            "\u001b[?25hRequirement already satisfied: scikit-learn>=0.20.0 in /usr/local/lib/python3.10/dist-packages (from librosa->tts-autolabel) (1.2.2)\n",
            "Requirement already satisfied: joblib>=0.14 in /usr/local/lib/python3.10/dist-packages (from librosa->tts-autolabel) (1.2.0)\n",
            "Requirement already satisfied: decorator>=4.3.0 in /usr/local/lib/python3.10/dist-packages (from librosa->tts-autolabel) (4.4.2)\n",
            "Requirement already satisfied: numba>=0.51.0 in /usr/local/lib/python3.10/dist-packages (from librosa->tts-autolabel) (0.56.4)\n",
            "Requirement already satisfied: soundfile>=0.12.1 in /usr/local/lib/python3.10/dist-packages (from librosa->tts-autolabel) (0.12.1)\n",
            "Requirement already satisfied: pooch<1.7,>=1.0 in /usr/local/lib/python3.10/dist-packages (from librosa->tts-autolabel) (1.6.0)\n",
            "Requirement already satisfied: soxr>=0.3.2 in /usr/local/lib/python3.10/dist-packages (from librosa->tts-autolabel) (0.3.5)\n",
            "Requirement already satisfied: typing-extensions>=4.1.1 in /usr/local/lib/python3.10/dist-packages (from librosa->tts-autolabel) (4.6.3)\n",
            "Requirement already satisfied: lazy-loader>=0.1 in /usr/local/lib/python3.10/dist-packages (from librosa->tts-autolabel) (0.2)\n",
            "Requirement already satisfied: msgpack>=1.0 in /usr/local/lib/python3.10/dist-packages (from librosa->tts-autolabel) (1.0.5)\n",
            "Collecting coloredlogs (from onnxruntime->tts-autolabel)\n",
            "  Downloading coloredlogs-15.0.1-py2.py3-none-any.whl (46 kB)\n",
            "\u001b[2K     \u001b[90m━━━━━━━━━━━━━━━━━━━━━━━━━━━━━━━━━━━━━━━━\u001b[0m \u001b[32m46.0/46.0 kB\u001b[0m \u001b[31m5.3 MB/s\u001b[0m eta \u001b[36m0:00:00\u001b[0m\n",
            "\u001b[?25hRequirement already satisfied: flatbuffers in /usr/local/lib/python3.10/dist-packages (from onnxruntime->tts-autolabel) (23.5.26)\n",
            "Requirement already satisfied: packaging in /usr/local/lib/python3.10/dist-packages (from onnxruntime->tts-autolabel) (23.1)\n",
            "Requirement already satisfied: protobuf in /usr/local/lib/python3.10/dist-packages (from onnxruntime->tts-autolabel) (3.20.3)\n",
            "Requirement already satisfied: sympy in /usr/local/lib/python3.10/dist-packages (from onnxruntime->tts-autolabel) (1.11.1)\n",
            "Requirement already satisfied: pydantic>=1.9.1 in /usr/local/lib/python3.10/dist-packages (from inflect>=0.3.1->g2p-en->tts-autolabel) (1.10.9)\n",
            "Requirement already satisfied: click in /usr/local/lib/python3.10/dist-packages (from nltk>=3.2.4->g2p-en->tts-autolabel) (8.1.3)\n",
            "Requirement already satisfied: regex>=2021.8.3 in /usr/local/lib/python3.10/dist-packages (from nltk>=3.2.4->g2p-en->tts-autolabel) (2022.10.31)\n",
            "Requirement already satisfied: tqdm in /usr/local/lib/python3.10/dist-packages (from nltk>=3.2.4->g2p-en->tts-autolabel) (4.65.0)\n",
            "Requirement already satisfied: llvmlite<0.40,>=0.39.0dev0 in /usr/local/lib/python3.10/dist-packages (from numba>=0.51.0->librosa->tts-autolabel) (0.39.1)\n",
            "Collecting numpy (from tts-autolabel)\n",
            "  Downloading numpy-1.23.5-cp310-cp310-manylinux_2_17_x86_64.manylinux2014_x86_64.whl (17.1 MB)\n",
            "\u001b[2K     \u001b[90m━━━━━━━━━━━━━━━━━━━━━━━━━━━━━━━━━━━━━━━━\u001b[0m \u001b[32m17.1/17.1 MB\u001b[0m \u001b[31m95.7 MB/s\u001b[0m eta \u001b[36m0:00:00\u001b[0m\n",
            "\u001b[?25hRequirement already satisfied: setuptools in /usr/local/lib/python3.10/dist-packages (from numba>=0.51.0->librosa->tts-autolabel) (67.7.2)\n",
            "Requirement already satisfied: appdirs>=1.3.0 in /usr/local/lib/python3.10/dist-packages (from pooch<1.7,>=1.0->librosa->tts-autolabel) (1.4.4)\n",
            "Requirement already satisfied: requests>=2.19.0 in /usr/local/lib/python3.10/dist-packages (from pooch<1.7,>=1.0->librosa->tts-autolabel) (2.27.1)\n",
            "Requirement already satisfied: threadpoolctl>=2.0.0 in /usr/local/lib/python3.10/dist-packages (from scikit-learn>=0.20.0->librosa->tts-autolabel) (3.1.0)\n",
            "Requirement already satisfied: cffi>=1.0 in /usr/local/lib/python3.10/dist-packages (from soundfile>=0.12.1->librosa->tts-autolabel) (1.15.1)\n",
            "Collecting humanfriendly>=9.1 (from coloredlogs->onnxruntime->tts-autolabel)\n",
            "  Downloading humanfriendly-10.0-py2.py3-none-any.whl (86 kB)\n",
            "\u001b[2K     \u001b[90m━━━━━━━━━━━━━━━━━━━━━━━━━━━━━━━━━━━━━━━━\u001b[0m \u001b[32m86.8/86.8 kB\u001b[0m \u001b[31m11.1 MB/s\u001b[0m eta \u001b[36m0:00:00\u001b[0m\n",
            "\u001b[?25hRequirement already satisfied: mpmath>=0.19 in /usr/local/lib/python3.10/dist-packages (from sympy->onnxruntime->tts-autolabel) (1.3.0)\n",
            "Requirement already satisfied: pycparser in /usr/local/lib/python3.10/dist-packages (from cffi>=1.0->soundfile>=0.12.1->librosa->tts-autolabel) (2.21)\n",
            "Requirement already satisfied: urllib3<1.27,>=1.21.1 in /usr/local/lib/python3.10/dist-packages (from requests>=2.19.0->pooch<1.7,>=1.0->librosa->tts-autolabel) (1.26.16)\n",
            "Requirement already satisfied: certifi>=2017.4.17 in /usr/local/lib/python3.10/dist-packages (from requests>=2.19.0->pooch<1.7,>=1.0->librosa->tts-autolabel) (2023.5.7)\n",
            "Requirement already satisfied: charset-normalizer~=2.0.0 in /usr/local/lib/python3.10/dist-packages (from requests>=2.19.0->pooch<1.7,>=1.0->librosa->tts-autolabel) (2.0.12)\n",
            "Requirement already satisfied: idna<4,>=2.5 in /usr/local/lib/python3.10/dist-packages (from requests>=2.19.0->pooch<1.7,>=1.0->librosa->tts-autolabel) (3.4)\n",
            "Building wheels for collected packages: distance\n",
            "  Building wheel for distance (setup.py) ... \u001b[?25l\u001b[?25hdone\n",
            "  Created wheel for distance: filename=Distance-0.1.3-py3-none-any.whl size=16258 sha256=6dcaa7680ea330f50b704211fa68c5f76df42b23f9164ec729388b4138a43b5c\n",
            "  Stored in directory: /root/.cache/pip/wheels/e8/bb/de/f71bf63559ea9a921059a5405806f7ff6ed612a9231c4a9309\n",
            "Successfully built distance\n",
            "Installing collected packages: distance, typeguard, ttsfrd, pypinyin, numpy, kaldi-native-fbank, humanfriendly, nls-pykaldi, coloredlogs, onnxruntime, g2p-en, tts-autolabel\n",
            "  Attempting uninstall: numpy\n",
            "    Found existing installation: numpy 1.22.0\n",
            "    Uninstalling numpy-1.22.0:\n",
            "      Successfully uninstalled numpy-1.22.0\n",
            "\u001b[31mERROR: pip's dependency resolver does not currently take into account all the packages that are installed. This behaviour is the source of the following dependency conflicts.\n",
            "modelscope 1.7.1 requires numpy<=1.22.0, but you have numpy 1.23.5 which is incompatible.\n",
            "pandas-gbq 0.17.9 requires pyarrow<10.0dev,>=3.0.0, but you have pyarrow 12.0.1 which is incompatible.\u001b[0m\u001b[31m\n",
            "\u001b[0mSuccessfully installed coloredlogs-15.0.1 distance-0.1.3 g2p-en-2.1.0 humanfriendly-10.0 kaldi-native-fbank-1.17 nls-pykaldi-1.0.0 numpy-1.23.5 onnxruntime-1.15.1 pypinyin-0.49.0 tts-autolabel-1.1.2 ttsfrd-0.2.1 typeguard-4.0.0\n"
          ]
        },
        {
          "output_type": "display_data",
          "data": {
            "application/vnd.colab-display-data+json": {
              "pip_warning": {
                "packages": [
                  "numpy"
                ]
              }
            }
          },
          "metadata": {}
        },
        {
          "output_type": "stream",
          "name": "stdout",
          "text": [
            "Collecting typeguard==2.3.1\n",
            "  Downloading typeguard-2.3.1-py3-none-any.whl (10 kB)\n",
            "Installing collected packages: typeguard\n",
            "  Attempting uninstall: typeguard\n",
            "    Found existing installation: typeguard 4.0.0\n",
            "    Uninstalling typeguard-4.0.0:\n",
            "      Successfully uninstalled typeguard-4.0.0\n",
            "Successfully installed typeguard-2.3.1\n",
            "Collecting sox\n",
            "  Downloading sox-1.4.1-py2.py3-none-any.whl (39 kB)\n",
            "Requirement already satisfied: numpy>=1.9.0 in /usr/local/lib/python3.10/dist-packages (from sox) (1.23.5)\n",
            "Installing collected packages: sox\n",
            "Successfully installed sox-1.4.1\n",
            "Collecting bitstring\n",
            "  Downloading bitstring-4.0.2-py3-none-any.whl (46 kB)\n",
            "\u001b[2K     \u001b[90m━━━━━━━━━━━━━━━━━━━━━━━━━━━━━━━━━━━━━━━━\u001b[0m \u001b[32m46.0/46.0 kB\u001b[0m \u001b[31m3.7 MB/s\u001b[0m eta \u001b[36m0:00:00\u001b[0m\n",
            "\u001b[?25hInstalling collected packages: bitstring\n",
            "Successfully installed bitstring-4.0.2\n",
            "Looking in links: https://modelscope.oss-cn-beijing.aliyuncs.com/releases/repo.html\n",
            "Collecting kantts\n",
            "  Downloading https://modelscope.oss-cn-beijing.aliyuncs.com/releases/dependencies/kantts/kantts-1.0.1-py3-none-any.whl (147 kB)\n",
            "\u001b[2K     \u001b[90m━━━━━━━━━━━━━━━━━━━━━━━━━━━━━━━━━━━━━\u001b[0m \u001b[32m147.2/147.2 kB\u001b[0m \u001b[31m239.8 kB/s\u001b[0m eta \u001b[36m0:00:00\u001b[0m\n",
            "\u001b[?25hRequirement already satisfied: librosa>=0.9.2 in /usr/local/lib/python3.10/dist-packages (from kantts) (0.10.0.post2)\n",
            "Requirement already satisfied: matplotlib in /usr/local/lib/python3.10/dist-packages (from kantts) (3.7.1)\n",
            "Requirement already satisfied: numpy in /usr/local/lib/python3.10/dist-packages (from kantts) (1.23.5)\n",
            "Requirement already satisfied: numba in /usr/local/lib/python3.10/dist-packages (from kantts) (0.56.4)\n",
            "Collecting unidecode (from kantts)\n",
            "  Downloading Unidecode-1.3.6-py3-none-any.whl (235 kB)\n",
            "\u001b[2K     \u001b[90m━━━━━━━━━━━━━━━━━━━━━━━━━━━━━━━━━━━━━━\u001b[0m \u001b[32m235.9/235.9 kB\u001b[0m \u001b[31m10.2 MB/s\u001b[0m eta \u001b[36m0:00:00\u001b[0m\n",
            "\u001b[?25hRequirement already satisfied: inflect in /usr/local/lib/python3.10/dist-packages (from kantts) (6.0.4)\n",
            "Requirement already satisfied: pywavelets>=1.3.0 in /usr/local/lib/python3.10/dist-packages (from kantts) (1.4.1)\n",
            "Requirement already satisfied: scikit-learn>=1.0.2 in /usr/local/lib/python3.10/dist-packages (from kantts) (1.2.2)\n",
            "Requirement already satisfied: scipy>=1.7.3 in /usr/local/lib/python3.10/dist-packages (from kantts) (1.10.1)\n",
            "Requirement already satisfied: tqdm in /usr/local/lib/python3.10/dist-packages (from kantts) (4.65.0)\n",
            "Collecting pysptk (from kantts)\n",
            "  Downloading pysptk-0.2.0.tar.gz (276 kB)\n",
            "\u001b[2K     \u001b[90m━━━━━━━━━━━━━━━━━━━━━━━━━━━━━━━━━━━━━━\u001b[0m \u001b[32m276.8/276.8 kB\u001b[0m \u001b[31m31.5 MB/s\u001b[0m eta \u001b[36m0:00:00\u001b[0m\n",
            "\u001b[?25h  Installing build dependencies ... \u001b[?25l\u001b[?25hdone\n",
            "  Getting requirements to build wheel ... \u001b[?25l\u001b[?25hdone\n",
            "  Preparing metadata (pyproject.toml) ... \u001b[?25l\u001b[?25hdone\n",
            "Requirement already satisfied: sox in /usr/local/lib/python3.10/dist-packages (from kantts) (1.4.1)\n",
            "Requirement already satisfied: ttsfrd in /usr/local/lib/python3.10/dist-packages (from kantts) (0.2.1)\n",
            "Requirement already satisfied: audioread>=2.1.9 in /usr/local/lib/python3.10/dist-packages (from librosa>=0.9.2->kantts) (3.0.0)\n",
            "Requirement already satisfied: joblib>=0.14 in /usr/local/lib/python3.10/dist-packages (from librosa>=0.9.2->kantts) (1.2.0)\n",
            "Requirement already satisfied: decorator>=4.3.0 in /usr/local/lib/python3.10/dist-packages (from librosa>=0.9.2->kantts) (4.4.2)\n",
            "Requirement already satisfied: soundfile>=0.12.1 in /usr/local/lib/python3.10/dist-packages (from librosa>=0.9.2->kantts) (0.12.1)\n",
            "Requirement already satisfied: pooch<1.7,>=1.0 in /usr/local/lib/python3.10/dist-packages (from librosa>=0.9.2->kantts) (1.6.0)\n",
            "Requirement already satisfied: soxr>=0.3.2 in /usr/local/lib/python3.10/dist-packages (from librosa>=0.9.2->kantts) (0.3.5)\n",
            "Requirement already satisfied: typing-extensions>=4.1.1 in /usr/local/lib/python3.10/dist-packages (from librosa>=0.9.2->kantts) (4.6.3)\n",
            "Requirement already satisfied: lazy-loader>=0.1 in /usr/local/lib/python3.10/dist-packages (from librosa>=0.9.2->kantts) (0.2)\n",
            "Requirement already satisfied: msgpack>=1.0 in /usr/local/lib/python3.10/dist-packages (from librosa>=0.9.2->kantts) (1.0.5)\n",
            "Requirement already satisfied: llvmlite<0.40,>=0.39.0dev0 in /usr/local/lib/python3.10/dist-packages (from numba->kantts) (0.39.1)\n",
            "Requirement already satisfied: setuptools in /usr/local/lib/python3.10/dist-packages (from numba->kantts) (67.7.2)\n",
            "Requirement already satisfied: threadpoolctl>=2.0.0 in /usr/local/lib/python3.10/dist-packages (from scikit-learn>=1.0.2->kantts) (3.1.0)\n",
            "Requirement already satisfied: pydantic>=1.9.1 in /usr/local/lib/python3.10/dist-packages (from inflect->kantts) (1.10.9)\n",
            "Requirement already satisfied: contourpy>=1.0.1 in /usr/local/lib/python3.10/dist-packages (from matplotlib->kantts) (1.1.0)\n",
            "Requirement already satisfied: cycler>=0.10 in /usr/local/lib/python3.10/dist-packages (from matplotlib->kantts) (0.11.0)\n",
            "Requirement already satisfied: fonttools>=4.22.0 in /usr/local/lib/python3.10/dist-packages (from matplotlib->kantts) (4.40.0)\n",
            "Requirement already satisfied: kiwisolver>=1.0.1 in /usr/local/lib/python3.10/dist-packages (from matplotlib->kantts) (1.4.4)\n",
            "Requirement already satisfied: packaging>=20.0 in /usr/local/lib/python3.10/dist-packages (from matplotlib->kantts) (23.1)\n",
            "Requirement already satisfied: pillow>=6.2.0 in /usr/local/lib/python3.10/dist-packages (from matplotlib->kantts) (8.4.0)\n",
            "Requirement already satisfied: pyparsing>=2.3.1 in /usr/local/lib/python3.10/dist-packages (from matplotlib->kantts) (3.1.0)\n",
            "Requirement already satisfied: python-dateutil>=2.7 in /usr/local/lib/python3.10/dist-packages (from matplotlib->kantts) (2.8.2)\n",
            "Requirement already satisfied: cython>=0.28.0 in /usr/local/lib/python3.10/dist-packages (from pysptk->kantts) (0.29.35)\n",
            "Requirement already satisfied: appdirs>=1.3.0 in /usr/local/lib/python3.10/dist-packages (from pooch<1.7,>=1.0->librosa>=0.9.2->kantts) (1.4.4)\n",
            "Requirement already satisfied: requests>=2.19.0 in /usr/local/lib/python3.10/dist-packages (from pooch<1.7,>=1.0->librosa>=0.9.2->kantts) (2.27.1)\n",
            "Requirement already satisfied: six>=1.5 in /usr/local/lib/python3.10/dist-packages (from python-dateutil>=2.7->matplotlib->kantts) (1.16.0)\n",
            "Requirement already satisfied: cffi>=1.0 in /usr/local/lib/python3.10/dist-packages (from soundfile>=0.12.1->librosa>=0.9.2->kantts) (1.15.1)\n",
            "Requirement already satisfied: pycparser in /usr/local/lib/python3.10/dist-packages (from cffi>=1.0->soundfile>=0.12.1->librosa>=0.9.2->kantts) (2.21)\n",
            "Requirement already satisfied: urllib3<1.27,>=1.21.1 in /usr/local/lib/python3.10/dist-packages (from requests>=2.19.0->pooch<1.7,>=1.0->librosa>=0.9.2->kantts) (1.26.16)\n",
            "Requirement already satisfied: certifi>=2017.4.17 in /usr/local/lib/python3.10/dist-packages (from requests>=2.19.0->pooch<1.7,>=1.0->librosa>=0.9.2->kantts) (2023.5.7)\n",
            "Requirement already satisfied: charset-normalizer~=2.0.0 in /usr/local/lib/python3.10/dist-packages (from requests>=2.19.0->pooch<1.7,>=1.0->librosa>=0.9.2->kantts) (2.0.12)\n",
            "Requirement already satisfied: idna<4,>=2.5 in /usr/local/lib/python3.10/dist-packages (from requests>=2.19.0->pooch<1.7,>=1.0->librosa>=0.9.2->kantts) (3.4)\n",
            "Building wheels for collected packages: pysptk\n",
            "  Building wheel for pysptk (pyproject.toml) ... \u001b[?25l\u001b[?25hdone\n",
            "  Created wheel for pysptk: filename=pysptk-0.2.0-cp310-cp310-linux_x86_64.whl size=1282790 sha256=5701c8443ec3ba751d94d101ecf8a440b8ca58334c9708c0867fa01ab5c8863b\n",
            "  Stored in directory: /root/.cache/pip/wheels/a7/2a/ed/6a829dcdfd2a67af80144fcdfc9c3f31eac108fafba4fceb59\n",
            "Successfully built pysptk\n",
            "Installing collected packages: unidecode, pysptk, kantts\n",
            "Successfully installed kantts-1.0.1 pysptk-0.2.0 unidecode-1.3.6\n",
            "Collecting pytorch_wavelets\n",
            "  Downloading pytorch_wavelets-1.3.0-py3-none-any.whl (54 kB)\n",
            "\u001b[2K     \u001b[90m━━━━━━━━━━━━━━━━━━━━━━━━━━━━━━━━━━━━━━━━\u001b[0m \u001b[32m54.9/54.9 kB\u001b[0m \u001b[31m3.3 MB/s\u001b[0m eta \u001b[36m0:00:00\u001b[0m\n",
            "\u001b[?25hRequirement already satisfied: numpy in /usr/local/lib/python3.10/dist-packages (from pytorch_wavelets) (1.23.5)\n",
            "Requirement already satisfied: six in /usr/local/lib/python3.10/dist-packages (from pytorch_wavelets) (1.16.0)\n",
            "Requirement already satisfied: torch in /usr/local/lib/python3.10/dist-packages (from pytorch_wavelets) (2.0.1+cu118)\n",
            "Requirement already satisfied: filelock in /usr/local/lib/python3.10/dist-packages (from torch->pytorch_wavelets) (3.12.2)\n",
            "Requirement already satisfied: typing-extensions in /usr/local/lib/python3.10/dist-packages (from torch->pytorch_wavelets) (4.6.3)\n",
            "Requirement already satisfied: sympy in /usr/local/lib/python3.10/dist-packages (from torch->pytorch_wavelets) (1.11.1)\n",
            "Requirement already satisfied: networkx in /usr/local/lib/python3.10/dist-packages (from torch->pytorch_wavelets) (3.1)\n",
            "Requirement already satisfied: jinja2 in /usr/local/lib/python3.10/dist-packages (from torch->pytorch_wavelets) (3.1.2)\n",
            "Requirement already satisfied: triton==2.0.0 in /usr/local/lib/python3.10/dist-packages (from torch->pytorch_wavelets) (2.0.0)\n",
            "Requirement already satisfied: cmake in /usr/local/lib/python3.10/dist-packages (from triton==2.0.0->torch->pytorch_wavelets) (3.25.2)\n",
            "Requirement already satisfied: lit in /usr/local/lib/python3.10/dist-packages (from triton==2.0.0->torch->pytorch_wavelets) (16.0.6)\n",
            "Requirement already satisfied: MarkupSafe>=2.0 in /usr/local/lib/python3.10/dist-packages (from jinja2->torch->pytorch_wavelets) (2.1.3)\n",
            "Requirement already satisfied: mpmath>=0.19 in /usr/local/lib/python3.10/dist-packages (from sympy->torch->pytorch_wavelets) (1.3.0)\n",
            "Installing collected packages: pytorch_wavelets\n",
            "Successfully installed pytorch_wavelets-1.3.0\n",
            "Collecting tensorboardX\n",
            "  Downloading tensorboardX-2.6.1-py2.py3-none-any.whl (101 kB)\n",
            "\u001b[2K     \u001b[90m━━━━━━━━━━━━━━━━━━━━━━━━━━━━━━━━━━━━━━━\u001b[0m \u001b[32m101.6/101.6 kB\u001b[0m \u001b[31m6.1 MB/s\u001b[0m eta \u001b[36m0:00:00\u001b[0m\n",
            "\u001b[?25hRequirement already satisfied: numpy in /usr/local/lib/python3.10/dist-packages (from tensorboardX) (1.23.5)\n",
            "Requirement already satisfied: packaging in /usr/local/lib/python3.10/dist-packages (from tensorboardX) (23.1)\n",
            "Collecting protobuf>=4.22.3 (from tensorboardX)\n",
            "  Downloading protobuf-4.23.4-cp37-abi3-manylinux2014_x86_64.whl (304 kB)\n",
            "\u001b[2K     \u001b[90m━━━━━━━━━━━━━━━━━━━━━━━━━━━━━━━━━━━━━━\u001b[0m \u001b[32m304.5/304.5 kB\u001b[0m \u001b[31m20.2 MB/s\u001b[0m eta \u001b[36m0:00:00\u001b[0m\n",
            "\u001b[?25hInstalling collected packages: protobuf, tensorboardX\n",
            "  Attempting uninstall: protobuf\n",
            "    Found existing installation: protobuf 3.20.3\n",
            "    Uninstalling protobuf-3.20.3:\n",
            "      Successfully uninstalled protobuf-3.20.3\n",
            "\u001b[31mERROR: pip's dependency resolver does not currently take into account all the packages that are installed. This behaviour is the source of the following dependency conflicts.\n",
            "pandas-gbq 0.17.9 requires pyarrow<10.0dev,>=3.0.0, but you have pyarrow 12.0.1 which is incompatible.\u001b[0m\u001b[31m\n",
            "\u001b[0mSuccessfully installed protobuf-4.23.4 tensorboardX-2.6.1\n",
            "Cloning into 'pytorch_wavelets'...\n",
            "remote: Enumerating objects: 978, done.\u001b[K\n",
            "remote: Counting objects: 100% (142/142), done.\u001b[K\n",
            "remote: Compressing objects: 100% (96/96), done.\u001b[K\n",
            "remote: Total 978 (delta 79), reused 91 (delta 46), pack-reused 836\u001b[K\n",
            "Receiving objects: 100% (978/978), 6.80 MiB | 11.45 MiB/s, done.\n",
            "Resolving deltas: 100% (663/663), done.\n",
            "Requirement already satisfied: matplotlib in /usr/local/lib/python3.10/dist-packages (3.7.1)\n",
            "Requirement already satisfied: contourpy>=1.0.1 in /usr/local/lib/python3.10/dist-packages (from matplotlib) (1.1.0)\n",
            "Requirement already satisfied: cycler>=0.10 in /usr/local/lib/python3.10/dist-packages (from matplotlib) (0.11.0)\n",
            "Requirement already satisfied: fonttools>=4.22.0 in /usr/local/lib/python3.10/dist-packages (from matplotlib) (4.40.0)\n",
            "Requirement already satisfied: kiwisolver>=1.0.1 in /usr/local/lib/python3.10/dist-packages (from matplotlib) (1.4.4)\n",
            "Requirement already satisfied: numpy>=1.20 in /usr/local/lib/python3.10/dist-packages (from matplotlib) (1.23.5)\n",
            "Requirement already satisfied: packaging>=20.0 in /usr/local/lib/python3.10/dist-packages (from matplotlib) (23.1)\n",
            "Requirement already satisfied: pillow>=6.2.0 in /usr/local/lib/python3.10/dist-packages (from matplotlib) (8.4.0)\n",
            "Requirement already satisfied: pyparsing>=2.3.1 in /usr/local/lib/python3.10/dist-packages (from matplotlib) (3.1.0)\n",
            "Requirement already satisfied: python-dateutil>=2.7 in /usr/local/lib/python3.10/dist-packages (from matplotlib) (2.8.2)\n",
            "Requirement already satisfied: six>=1.5 in /usr/local/lib/python3.10/dist-packages (from python-dateutil>=2.7->matplotlib) (1.16.0)\n",
            "Collecting numpy==1.22.0\n",
            "  Using cached numpy-1.22.0-cp310-cp310-manylinux_2_17_x86_64.manylinux2014_x86_64.whl (16.8 MB)\n",
            "Installing collected packages: numpy\n",
            "  Attempting uninstall: numpy\n",
            "    Found existing installation: numpy 1.23.5\n",
            "    Uninstalling numpy-1.23.5:\n",
            "      Successfully uninstalled numpy-1.23.5\n",
            "\u001b[31mERROR: pip's dependency resolver does not currently take into account all the packages that are installed. This behaviour is the source of the following dependency conflicts.\n",
            "librosa 0.10.0.post2 requires numpy!=1.22.0,!=1.22.1,!=1.22.2,>=1.20.3, but you have numpy 1.22.0 which is incompatible.\n",
            "pandas-gbq 0.17.9 requires pyarrow<10.0dev,>=3.0.0, but you have pyarrow 12.0.1 which is incompatible.\u001b[0m\u001b[31m\n",
            "\u001b[0mSuccessfully installed numpy-1.22.0\n"
          ]
        },
        {
          "output_type": "display_data",
          "data": {
            "application/vnd.colab-display-data+json": {
              "pip_warning": {
                "packages": [
                  "numpy"
                ]
              }
            }
          },
          "metadata": {}
        }
      ]
    },
    {
      "cell_type": "code",
      "source": [
        "import os\n",
        "os._exit(00) # 重启notebook"
      ],
      "metadata": {
        "id": "lO29uxHrVafx"
      },
      "execution_count": null,
      "outputs": []
    },
    {
      "cell_type": "code",
      "source": [
        "import sox"
      ],
      "metadata": {
        "id": "UsOLbeoYFO04"
      },
      "execution_count": 1,
      "outputs": []
    },
    {
      "cell_type": "markdown",
      "source": [
        "## 选做、实测无影响：在终端中执行\n",
        "cd ~\n",
        "\n",
        "apt install zip\n",
        "\n",
        "wget https://isv-data.oss-cn-hangzhou.aliyuncs.com/ics/MaaS/TTS/download_files/nltk_data.zip\n",
        "\n",
        "unzip nltk_data.zip\n"
      ],
      "metadata": {
        "id": "n95rxUggJANs"
      }
    },
    {
      "cell_type": "markdown",
      "source": [
        "## 对音频切片处理"
      ],
      "metadata": {
        "id": "YZqH0DtGcsXJ"
      }
    },
    {
      "cell_type": "code",
      "source": [
        "import subprocess\n",
        "from pathlib import Path\n",
        "import librosa\n",
        "from scipy.io import wavfile\n",
        "import numpy as np\n",
        "import torch\n",
        "import csv\n",
        "import whisper\n",
        "\n",
        "def split_long_audio(model, filepaths, character_name, save_dir=\"data_dir\", out_sr=44100):\n",
        "    if isinstance(filepaths, str):\n",
        "        filepaths = [filepaths]\n",
        "\n",
        "    for file_idx, filepath in enumerate(filepaths):\n",
        "\n",
        "        save_path = Path(save_dir) / character_name\n",
        "        save_path.mkdir(exist_ok=True, parents=True)\n",
        "\n",
        "        print(f\"Transcribing file {file_idx}: '{filepath}' to segments...\")\n",
        "        result = model.transcribe(filepath, word_timestamps=True, task=\"transcribe\", beam_size=5, best_of=5)\n",
        "        segments = result['segments']\n",
        "\n",
        "        wav, sr = librosa.load(filepath, sr=None, offset=0, duration=None, mono=True)\n",
        "        wav, _ = librosa.effects.trim(wav, top_db=20)\n",
        "        peak = np.abs(wav).max()\n",
        "        if peak > 1.0:\n",
        "            wav = 0.98 * wav / peak\n",
        "        wav2 = librosa.resample(wav, orig_sr=sr, target_sr=out_sr)\n",
        "        wav2 /= max(wav2.max(), -wav2.min())\n",
        "\n",
        "        for i, seg in enumerate(segments):\n",
        "            start_time = seg['start']\n",
        "            end_time = seg['end']\n",
        "            wav_seg = wav2[int(start_time * out_sr):int(end_time * out_sr)]\n",
        "            wav_seg_name = f\"{character_name}_{file_idx}_{i}.wav\"\n",
        "            out_fpath = save_path / wav_seg_name\n",
        "            wavfile.write(out_fpath, rate=out_sr, data=(wav_seg * np.iinfo(np.int16).max).astype(np.int16))"
      ],
      "metadata": {
        "id": "NdoD-ZnIaWhN"
      },
      "execution_count": 6,
      "outputs": []
    },
    {
      "cell_type": "code",
      "source": [
        "whisper_size = \"medium\"\n",
        "whisper_model = whisper.load_model(whisper_size)"
      ],
      "metadata": {
        "id": "yXrxpjEGaWlT",
        "colab": {
          "base_uri": "https://localhost:8080/"
        },
        "outputId": "1fe4b50a-695e-4792-95c9-7ffcf4468c29"
      },
      "execution_count": 8,
      "outputs": [
        {
          "output_type": "stream",
          "name": "stderr",
          "text": [
            "100%|█████████████████████████████████████| 1.42G/1.42G [00:31<00:00, 49.0MiB/s]\n"
          ]
        }
      ]
    },
    {
      "cell_type": "code",
      "source": [
        "split_long_audio(whisper_model, \"filename.wav\", \"test\", \"dataset_raw\") # 请在{filename}处填写您上传的wav文件名"
      ],
      "metadata": {
        "id": "yTN4IRxOaWoi",
        "colab": {
          "base_uri": "https://localhost:8080/"
        },
        "outputId": "fe6c1806-8f87-406b-af87-c2c29da33c5a"
      },
      "execution_count": 9,
      "outputs": [
        {
          "output_type": "stream",
          "name": "stdout",
          "text": [
            "Transcribing file 0: 'nana_speech.wav' to segments...\n"
          ]
        }
      ]
    },
    {
      "cell_type": "markdown",
      "source": [
        "## 需要新建三个文件夹，分别是：\"test_wavs\", \"output_training_data\", \"pretrain_work_dir\""
      ],
      "metadata": {
        "id": "ccQC4ZcWbtXy"
      }
    },
    {
      "cell_type": "code",
      "source": [
        "! mv  -v ./dataset_raw/test/* ./test_wavs/"
      ],
      "metadata": {
        "colab": {
          "base_uri": "https://localhost:8080/"
        },
        "id": "t7-qxeiBG2wH",
        "outputId": "6db0dcdc-88a4-49b8-d486-767ae89f58c7"
      },
      "execution_count": 10,
      "outputs": [
        {
          "output_type": "stream",
          "name": "stdout",
          "text": [
            "renamed './dataset_raw/test/test_0_0.wav' -> './test_wavs/test_0_0.wav'\n",
            "renamed './dataset_raw/test/test_0_10.wav' -> './test_wavs/test_0_10.wav'\n",
            "renamed './dataset_raw/test/test_0_11.wav' -> './test_wavs/test_0_11.wav'\n",
            "renamed './dataset_raw/test/test_0_12.wav' -> './test_wavs/test_0_12.wav'\n",
            "renamed './dataset_raw/test/test_0_13.wav' -> './test_wavs/test_0_13.wav'\n",
            "renamed './dataset_raw/test/test_0_14.wav' -> './test_wavs/test_0_14.wav'\n",
            "renamed './dataset_raw/test/test_0_15.wav' -> './test_wavs/test_0_15.wav'\n",
            "renamed './dataset_raw/test/test_0_16.wav' -> './test_wavs/test_0_16.wav'\n",
            "renamed './dataset_raw/test/test_0_17.wav' -> './test_wavs/test_0_17.wav'\n",
            "renamed './dataset_raw/test/test_0_18.wav' -> './test_wavs/test_0_18.wav'\n",
            "renamed './dataset_raw/test/test_0_19.wav' -> './test_wavs/test_0_19.wav'\n",
            "renamed './dataset_raw/test/test_0_1.wav' -> './test_wavs/test_0_1.wav'\n",
            "renamed './dataset_raw/test/test_0_2.wav' -> './test_wavs/test_0_2.wav'\n",
            "renamed './dataset_raw/test/test_0_3.wav' -> './test_wavs/test_0_3.wav'\n",
            "renamed './dataset_raw/test/test_0_4.wav' -> './test_wavs/test_0_4.wav'\n",
            "renamed './dataset_raw/test/test_0_5.wav' -> './test_wavs/test_0_5.wav'\n",
            "renamed './dataset_raw/test/test_0_6.wav' -> './test_wavs/test_0_6.wav'\n",
            "renamed './dataset_raw/test/test_0_7.wav' -> './test_wavs/test_0_7.wav'\n",
            "renamed './dataset_raw/test/test_0_8.wav' -> './test_wavs/test_0_8.wav'\n",
            "renamed './dataset_raw/test/test_0_9.wav' -> './test_wavs/test_0_9.wav'\n"
          ]
        }
      ]
    },
    {
      "cell_type": "code",
      "source": [
        "from modelscope.tools import run_auto_label"
      ],
      "metadata": {
        "id": "4GPDev3BaRFm",
        "colab": {
          "base_uri": "https://localhost:8080/"
        },
        "outputId": "6e28f6b6-f10d-4a4c-baa8-e5f2949a1a26"
      },
      "execution_count": 11,
      "outputs": [
        {
          "output_type": "stream",
          "name": "stderr",
          "text": [
            "2023-07-07 20:56:58,453 - modelscope - INFO - PyTorch version 2.0.1+cu118 Found.\n",
            "2023-07-07 20:56:58,456 - modelscope - INFO - TensorFlow version 2.12.0 Found.\n",
            "2023-07-07 20:56:58,457 - modelscope - INFO - Loading ast index from /root/.cache/modelscope/ast_indexer\n",
            "2023-07-07 20:56:58,459 - modelscope - INFO - No valid ast index found from /root/.cache/modelscope/ast_indexer, generating ast index from prebuilt!\n",
            "2023-07-07 20:56:58,509 - modelscope - INFO - Loading done! Current index file version is 1.7.1, with md5 831b00263cf29df16d1aa0e4d51c3ef1 and a total number of 861 components indexed\n"
          ]
        }
      ]
    },
    {
      "cell_type": "code",
      "source": [
        "input_wav = \"./test_wavs/\"\n",
        "output_data = \"./output_training_data/\"\n",
        "\n",
        "ret, report = run_auto_label(input_wav=input_wav, work_dir=output_data, resource_revision=\"v1.0.5\")"
      ],
      "metadata": {
        "id": "YpEmrdkgaU1E",
        "colab": {
          "base_uri": "https://localhost:8080/"
        },
        "outputId": "c1c130f2-f760-4c7e-8bd6-ba72b22c51a1"
      },
      "execution_count": 12,
      "outputs": [
        {
          "output_type": "stream",
          "name": "stderr",
          "text": [
            "2023-07-07 20:57:00,082 - modelscope - INFO - Use user-specified model revision: v1.0.5\n",
            "Downloading: 100%|██████████| 185/185 [00:00<00:00, 981kB/s]\n",
            "Downloading: 100%|██████████| 1.02G/1.02G [00:23<00:00, 47.0MB/s]\n",
            "Downloading: 100%|██████████| 6.27k/6.27k [00:00<00:00, 2.25MB/s]\n"
          ]
        },
        {
          "output_type": "stream",
          "name": "stdout",
          "text": [
            "2023-07-07 20:57:38\n",
            "wav_preprocess start...\n",
            "---  new folder...  ---\n",
            "---  OK  ---\n"
          ]
        },
        {
          "output_type": "stream",
          "name": "stderr",
          "text": [
            "100%|██████████| 20/20 [00:00<00:00, 100.43it/s]"
          ]
        },
        {
          "output_type": "stream",
          "name": "stdout",
          "text": [
            "wav cut by vad start...\n"
          ]
        },
        {
          "output_type": "stream",
          "name": "stderr",
          "text": [
            "\n",
            "100%|██████████| 20/20 [00:01<00:00, 10.55it/s]\n",
            "100%|██████████| 19/19 [00:02<00:00,  7.45it/s]\n"
          ]
        },
        {
          "output_type": "stream",
          "name": "stdout",
          "text": [
            "Text to label start...\n"
          ]
        },
        {
          "output_type": "stream",
          "name": "stderr",
          "text": [
            "100%|██████████| 19/19 [00:03<00:00,  5.50it/s]"
          ]
        },
        {
          "output_type": "stream",
          "name": "stdout",
          "text": [
            "pre-break recording in paragraph by vad.\n",
            "Generate phone interval by asr align.\n",
            "---  New folder /content/output_training_data/align...  ---\n",
            "---  OK  ---\n",
            "prosody_dir=/content/output_training_data/paragraph/prosody\n"
          ]
        },
        {
          "output_type": "stream",
          "name": "stderr",
          "text": [
            "\n"
          ]
        },
        {
          "output_type": "stream",
          "name": "stdout",
          "text": [
            "run_asr_align step 2\n",
            "speak_script=/content/output_training_data/align/script.txt\n",
            "job_num=19 process_num=4 fbank_config=/root/.cache/modelscope/hub/damo/speech_ptts_autolabel_16k/model/fsmn_16k_2/fbank.conf, data_dir=/content/output_training_data/align/gen/data, fbank_dir=/content/output_training_data/align/gen/fbank\n",
            "run make_fbank with num=19 config_path=/root/.cache/modelscope/hub/damo/speech_ptts_autolabel_16k/model/fsmn_16k_2/fbank.conf\n",
            "data_path=/content/output_training_data/align/gen/data fbank_path=/content/output_training_data/align/gen/fbank\n",
            "[{'id': 'test_0_1', 'wav': '/content/output_training_data/wav_cut/test_0_1.wav'}, {'id': 'test_0_16', 'wav': '/content/output_training_data/wav_cut/test_0_16.wav'}, {'id': 'test_0_11', 'wav': '/content/output_training_data/wav_cut/test_0_11.wav'}, {'id': 'test_0_19', 'wav': '/content/output_training_data/wav_cut/test_0_19.wav'}, {'id': 'test_0_9', 'wav': '/content/output_training_data/wav_cut/test_0_9.wav'}, {'id': 'test_0_6', 'wav': '/content/output_training_data/wav_cut/test_0_6.wav'}, {'id': 'test_0_14', 'wav': '/content/output_training_data/wav_cut/test_0_14.wav'}, {'id': 'test_0_3', 'wav': '/content/output_training_data/wav_cut/test_0_3.wav'}, {'id': 'test_0_10', 'wav': '/content/output_training_data/wav_cut/test_0_10.wav'}, {'id': 'test_0_13', 'wav': '/content/output_training_data/wav_cut/test_0_13.wav'}, {'id': 'test_0_7', 'wav': '/content/output_training_data/wav_cut/test_0_7.wav'}, {'id': 'test_0_17', 'wav': '/content/output_training_data/wav_cut/test_0_17.wav'}, {'id': 'test_0_0', 'wav': '/content/output_training_data/wav_cut/test_0_0.wav'}, {'id': 'test_0_5', 'wav': '/content/output_training_data/wav_cut/test_0_5.wav'}, {'id': 'test_0_12', 'wav': '/content/output_training_data/wav_cut/test_0_12.wav'}, {'id': 'test_0_2', 'wav': '/content/output_training_data/wav_cut/test_0_2.wav'}, {'id': 'test_0_8', 'wav': '/content/output_training_data/wav_cut/test_0_8.wav'}, {'id': 'test_0_18', 'wav': '/content/output_training_data/wav_cut/test_0_18.wav'}, {'id': 'test_0_4', 'wav': '/content/output_training_data/wav_cut/test_0_4.wav'}]\n"
          ]
        },
        {
          "output_type": "stream",
          "name": "stderr",
          "text": [
            "100%|██████████| 19/19 [00:25<00:00,  1.36s/it]"
          ]
        },
        {
          "output_type": "stream",
          "name": "stdout",
          "text": [
            "DONE compute fbank and copy feats\n",
            "DONE!\n",
            "job_num=19 process_num=4 data_dir=/content/output_training_data/align/gen/data lm_dir=/root/.cache/modelscope/hub/damo/speech_ptts_autolabel_16k/model/lang am_dir=/root/.cache/modelscope/hub/damo/speech_ptts_autolabel_16k/model/fsmn_16k_2, fbank_dir=/content/output_training_data/align/gen/fbank, align_dir=/content/output_training_data/align/gen/align\n",
            "[{'id': 'test_0_1', 'ark': '/content/output_training_data/align/gen/fbank/raw_fbank_data.test_0_1.ark', 'scp': '/content/output_training_data/align/gen/fbank/raw_fbank_data.test_0_1.scp'}, {'id': 'test_0_16', 'ark': '/content/output_training_data/align/gen/fbank/raw_fbank_data.test_0_16.ark', 'scp': '/content/output_training_data/align/gen/fbank/raw_fbank_data.test_0_16.scp'}, {'id': 'test_0_11', 'ark': '/content/output_training_data/align/gen/fbank/raw_fbank_data.test_0_11.ark', 'scp': '/content/output_training_data/align/gen/fbank/raw_fbank_data.test_0_11.scp'}, {'id': 'test_0_19', 'ark': '/content/output_training_data/align/gen/fbank/raw_fbank_data.test_0_19.ark', 'scp': '/content/output_training_data/align/gen/fbank/raw_fbank_data.test_0_19.scp'}, {'id': 'test_0_9', 'ark': '/content/output_training_data/align/gen/fbank/raw_fbank_data.test_0_9.ark', 'scp': '/content/output_training_data/align/gen/fbank/raw_fbank_data.test_0_9.scp'}, {'id': 'test_0_6', 'ark': '/content/output_training_data/align/gen/fbank/raw_fbank_data.test_0_6.ark', 'scp': '/content/output_training_data/align/gen/fbank/raw_fbank_data.test_0_6.scp'}, {'id': 'test_0_14', 'ark': '/content/output_training_data/align/gen/fbank/raw_fbank_data.test_0_14.ark', 'scp': '/content/output_training_data/align/gen/fbank/raw_fbank_data.test_0_14.scp'}, {'id': 'test_0_3', 'ark': '/content/output_training_data/align/gen/fbank/raw_fbank_data.test_0_3.ark', 'scp': '/content/output_training_data/align/gen/fbank/raw_fbank_data.test_0_3.scp'}, {'id': 'test_0_10', 'ark': '/content/output_training_data/align/gen/fbank/raw_fbank_data.test_0_10.ark', 'scp': '/content/output_training_data/align/gen/fbank/raw_fbank_data.test_0_10.scp'}, {'id': 'test_0_13', 'ark': '/content/output_training_data/align/gen/fbank/raw_fbank_data.test_0_13.ark', 'scp': '/content/output_training_data/align/gen/fbank/raw_fbank_data.test_0_13.scp'}, {'id': 'test_0_7', 'ark': '/content/output_training_data/align/gen/fbank/raw_fbank_data.test_0_7.ark', 'scp': '/content/output_training_data/align/gen/fbank/raw_fbank_data.test_0_7.scp'}, {'id': 'test_0_17', 'ark': '/content/output_training_data/align/gen/fbank/raw_fbank_data.test_0_17.ark', 'scp': '/content/output_training_data/align/gen/fbank/raw_fbank_data.test_0_17.scp'}, {'id': 'test_0_0', 'ark': '/content/output_training_data/align/gen/fbank/raw_fbank_data.test_0_0.ark', 'scp': '/content/output_training_data/align/gen/fbank/raw_fbank_data.test_0_0.scp'}, {'id': 'test_0_5', 'ark': '/content/output_training_data/align/gen/fbank/raw_fbank_data.test_0_5.ark', 'scp': '/content/output_training_data/align/gen/fbank/raw_fbank_data.test_0_5.scp'}, {'id': 'test_0_12', 'ark': '/content/output_training_data/align/gen/fbank/raw_fbank_data.test_0_12.ark', 'scp': '/content/output_training_data/align/gen/fbank/raw_fbank_data.test_0_12.scp'}, {'id': 'test_0_2', 'ark': '/content/output_training_data/align/gen/fbank/raw_fbank_data.test_0_2.ark', 'scp': '/content/output_training_data/align/gen/fbank/raw_fbank_data.test_0_2.scp'}, {'id': 'test_0_8', 'ark': '/content/output_training_data/align/gen/fbank/raw_fbank_data.test_0_8.ark', 'scp': '/content/output_training_data/align/gen/fbank/raw_fbank_data.test_0_8.scp'}, {'id': 'test_0_18', 'ark': '/content/output_training_data/align/gen/fbank/raw_fbank_data.test_0_18.ark', 'scp': '/content/output_training_data/align/gen/fbank/raw_fbank_data.test_0_18.scp'}, {'id': 'test_0_4', 'ark': '/content/output_training_data/align/gen/fbank/raw_fbank_data.test_0_4.ark', 'scp': '/content/output_training_data/align/gen/fbank/raw_fbank_data.test_0_4.scp'}]\n"
          ]
        },
        {
          "output_type": "stream",
          "name": "stderr",
          "text": [
            "\n"
          ]
        },
        {
          "output_type": "stream",
          "name": "stdout",
          "text": [
            "Feature preprocessing start...\n"
          ]
        },
        {
          "output_type": "stream",
          "name": "stderr",
          "text": [
            "100%|██████████| 19/19 [00:38<00:00,  2.01s/it]"
          ]
        },
        {
          "output_type": "stream",
          "name": "stdout",
          "text": [
            "Waveform aligning start...\n"
          ]
        },
        {
          "output_type": "stream",
          "name": "stderr",
          "text": [
            "\n",
            "100%|██████████| 19/19 [00:26<00:00,  1.41s/it]"
          ]
        },
        {
          "output_type": "stream",
          "name": "stdout",
          "text": [
            "do_align done!\n",
            "---  new folder...  ---\n",
            "---  OK  ---\n",
            "test_0_0.ali\n",
            "test_0_2.ali\n",
            "test_0_5.ali\n",
            "test_0_18.ali\n",
            "test_0_10.ali\n",
            "test_0_9.ali\n",
            "test_0_1.ali\n",
            "test_0_3.ali\n",
            "test_0_4.ali\n",
            "test_0_12.ali\n",
            "test_0_17.ali\n",
            "test_0_16.ali\n",
            "test_0_11.ali\n",
            "test_0_7.ali\n",
            "test_0_13.ali\n",
            "test_0_14.ali\n",
            "test_0_6.ali\n",
            "test_0_8.ali\n",
            "test_0_19.ali\n",
            "Trim silence wav with align info and modify wav files....\n"
          ]
        },
        {
          "output_type": "stream",
          "name": "stderr",
          "text": [
            "\n",
            "100%|██████████| 19/19 [00:00<00:00, 136.18it/s]"
          ]
        },
        {
          "output_type": "stream",
          "name": "stdout",
          "text": [
            "Convert align info to interval files....\n",
            "---  There is this folder!  ---\n",
            "test_0_0.ali\n",
            "test_0_2.ali\n",
            "test_0_5.ali\n",
            "test_0_18.ali\n",
            "test_0_10.ali\n",
            "test_0_9.ali\n",
            "test_0_1.ali\n",
            "test_0_3.ali\n",
            "test_0_4.ali\n",
            "test_0_12.ali\n",
            "test_0_17.ali\n",
            "test_0_16.ali\n",
            "test_0_11.ali\n",
            "test_0_7.ali\n",
            "test_0_13.ali\n",
            "test_0_14.ali\n",
            "test_0_6.ali\n",
            "test_0_8.ali\n",
            "test_0_19.ali\n",
            "Modify sil to sp in interval....\n"
          ]
        },
        {
          "output_type": "stream",
          "name": "stderr",
          "text": [
            "\n"
          ]
        },
        {
          "output_type": "stream",
          "name": "stdout",
          "text": [
            "modify interval er phone.\n",
            "---  New folder /content/output_training_data/interval...  ---\n",
            "---  OK  ---\n",
            "qualification review.\n",
            "prosody sillence detect.\n",
            "---  New folder /content/output_training_data/prosody...  ---\n",
            "---  OK  ---\n",
            "average silence duration: 0.1726315789473685\n"
          ]
        },
        {
          "output_type": "stream",
          "name": "stderr",
          "text": [
            "100%|██████████| 38/38 [00:00<00:00, 6918.89it/s]"
          ]
        },
        {
          "output_type": "stream",
          "name": "stdout",
          "text": [
            "Write prosody file\n",
            "0 \"mismatch\" sentences\n",
            "\n",
            "Auto labeling info: stage 1 | develop mode 0 | gender:female | score 10.000000 | retcode 0\n",
            "labeling report:\n",
            "stage 1 | develop mode 0 | gender female | score 10.000000 | retcode 0\n",
            "qulification report:\n",
            "credit score: 10.000000\n",
            "qualified score: 3.000000\n",
            "normalized snr: 35.000000\n",
            "abandon utt snr threshold: 10.000000\n",
            "snr score ration: 0.500000\n",
            "interval score ration: 0.500000\n",
            "data qulificaion report:\n"
          ]
        },
        {
          "output_type": "stream",
          "name": "stderr",
          "text": [
            "\n"
          ]
        }
      ]
    },
    {
      "cell_type": "markdown",
      "source": [
        "## 训练 Training"
      ],
      "metadata": {
        "id": "oImeaYwbcFOV"
      }
    },
    {
      "cell_type": "code",
      "source": [
        "from modelscope.metainfo import Trainers\n",
        "from modelscope.trainers import build_trainer\n",
        "from modelscope.utils.audio.audio_utils import TtsTrainType\n",
        "\n",
        "pretrained_model_id = 'damo/speech_personal_sambert-hifigan_nsf_tts_zh-cn_pretrain_16k'\n",
        "\n",
        "dataset_id = \"./output_training_data/\"\n",
        "pretrain_work_dir = \"./pretrain_work_dir/\"\n",
        "\n",
        "# 训练信息，用于指定需要训练哪个或哪些模型，这里展示AM和Vocoder模型皆进行训练\n",
        "# 目前支持训练：TtsTrainType.TRAIN_TYPE_SAMBERT, TtsTrainType.TRAIN_TYPE_VOC\n",
        "# 训练SAMBERT会以模型最新step作为基础进行finetune\n",
        "train_info = {\n",
        "    TtsTrainType.TRAIN_TYPE_SAMBERT: {  # 配置训练AM（sambert）模型\n",
        "        'train_steps': 202,               # 训练多少个step\n",
        "        'save_interval_steps': 200,       # 每训练多少个step保存一次checkpoint\n",
        "        'log_interval': 10               # 每训练多少个step打印一次训练日志\n",
        "    }\n",
        "}\n",
        "\n",
        "# 配置训练参数，指定数据集，临时工作目录和train_info\n",
        "kwargs = dict(\n",
        "    model=pretrained_model_id,                  # 指定要finetune的模型\n",
        "    model_revision = \"v1.0.6\",\n",
        "    work_dir=pretrain_work_dir,                 # 指定临时工作目录\n",
        "    train_dataset=dataset_id,                   # 指定数据集id\n",
        "    train_type=train_info                       # 指定要训练类型及参数\n",
        ")\n",
        "\n",
        "trainer = build_trainer(Trainers.speech_kantts_trainer,\n",
        "                        default_args=kwargs)\n",
        "\n",
        "trainer.train()\n"
      ],
      "metadata": {
        "id": "tzH2jcmxbV1i",
        "colab": {
          "base_uri": "https://localhost:8080/"
        },
        "outputId": "548ae499-fb9a-4b43-a8fb-0ef25263d530"
      },
      "execution_count": 13,
      "outputs": [
        {
          "output_type": "stream",
          "name": "stderr",
          "text": [
            "2023-07-07 21:01:23,271 - modelscope - INFO - Use user-specified model revision: v1.0.6\n",
            "Downloading: 100%|██████████| 4.07k/4.07k [00:00<00:00, 1.38MB/s]\n",
            "2023-07-07 21:01:25,787 - modelscope - INFO - Use user-specified model revision: v1.0.6\n",
            "Downloading: 100%|██████████| 138k/138k [00:00<00:00, 258kB/s]\n",
            "Downloading: 100%|██████████| 288k/288k [00:00<00:00, 406kB/s]\n",
            "Downloading: 100%|██████████| 327k/327k [00:00<00:00, 462kB/s]\n",
            "Downloading: 100%|██████████| 535k/535k [00:00<00:00, 602kB/s]\n",
            "Downloading: 100%|██████████| 506/506 [00:00<00:00, 1.99MB/s]\n",
            "Downloading: 100%|██████████| 1.69M/1.69M [00:01<00:00, 1.41MB/s]\n",
            "Downloading: 100%|██████████| 452k/452k [00:00<00:00, 512kB/s]\n",
            "Downloading: 100%|██████████| 998k/998k [00:01<00:00, 943kB/s]\n",
            "Downloading: 100%|██████████| 866M/866M [00:26<00:00, 34.7MB/s]\n",
            "Downloading: 100%|██████████| 150M/150M [00:10<00:00, 14.6MB/s]\n",
            "Downloading: 100%|██████████| 3.82k/3.82k [00:00<00:00, 1.61MB/s]\n",
            "Downloading: 100%|██████████| 2.49k/2.49k [00:00<00:00, 10.2MB/s]\n",
            "Downloading: 100%|██████████| 1.60M/1.60M [00:01<00:00, 1.54MB/s]\n",
            "Downloading: 100%|██████████| 51.3k/51.3k [00:00<00:00, 146kB/s]\n",
            "Downloading: 100%|██████████| 1.79M/1.79M [00:01<00:00, 1.46MB/s]\n",
            "Downloading: 100%|██████████| 1.87M/1.87M [00:01<00:00, 1.35MB/s]\n",
            "Downloading: 100%|██████████| 112k/112k [00:00<00:00, 214kB/s]\n",
            "Downloading: 100%|██████████| 226k/226k [00:00<00:00, 319kB/s]\n",
            "Downloading: 100%|██████████| 72.3k/72.3k [00:00<00:00, 204kB/s]\n",
            "Downloading: 100%|██████████| 24.1k/24.1k [00:00<00:00, 138kB/s]\n",
            "Downloading: 100%|██████████| 236M/236M [00:16<00:00, 15.5MB/s]\n",
            "Downloading: 100%|██████████| 67.1k/67.1k [00:00<00:00, 189kB/s]\n",
            "Downloading: 100%|██████████| 26.8M/26.8M [00:03<00:00, 8.22MB/s]\n",
            "Downloading: 100%|██████████| 26.8M/26.8M [00:03<00:00, 8.12MB/s]\n",
            "Downloading: 100%|██████████| 151k/151k [00:00<00:00, 287kB/s]\n",
            "Downloading: 100%|██████████| 52.3k/52.3k [00:00<00:00, 149kB/s]\n",
            "Downloading: 100%|██████████| 98.7k/98.7k [00:00<00:00, 184kB/s]\n",
            "Downloading: 100%|██████████| 45.0k/45.0k [00:00<00:00, 128kB/s]\n",
            "Downloading: 100%|██████████| 2.34M/2.34M [00:01<00:00, 1.95MB/s]\n",
            "Downloading: 100%|██████████| 63.6k/63.6k [00:00<00:00, 178kB/s]\n",
            "Downloading: 100%|██████████| 1.57M/1.57M [00:01<00:00, 1.52MB/s]\n",
            "2023-07-07 21:03:03,792 - modelscope - INFO - Set workdir to ./pretrain_work_dir/\n",
            "2023-07-07 21:03:03,795 - modelscope - INFO - load ./output_training_data/\n",
            "2023-07-07 21:03:04,383 - modelscope - INFO - Use user-specified model revision: v1.0.6\n",
            "2023-07-07 21:03:12,975 - modelscope - INFO - am_config=./pretrain_work_dir/orig_model/basemodel_16k/sambert/config.yaml voc_config=./pretrain_work_dir/orig_model/basemodel_16k/hifigan/config.yaml\n",
            "2023-07-07 21:03:12,977 - modelscope - INFO - audio_config=./pretrain_work_dir/orig_model/basemodel_16k/audio_config_se_16k.yaml\n",
            "2023-07-07 21:03:12,980 - modelscope - INFO - am_ckpts=OrderedDict([(2400000, './pretrain_work_dir/orig_model/basemodel_16k/sambert/ckpt/checkpoint_2400000.pth')])\n",
            "2023-07-07 21:03:12,982 - modelscope - INFO - voc_ckpts=OrderedDict([(2400000, './pretrain_work_dir/orig_model/basemodel_16k/hifigan/ckpt/checkpoint_2400000.pth')])\n",
            "2023-07-07 21:03:12,983 - modelscope - INFO - se_path=./pretrain_work_dir/orig_model/se.npy se_model_path=./pretrain_work_dir/orig_model/basemodel_16k/speaker_embedding/se.onnx\n",
            "2023-07-07 21:03:12,984 - modelscope - INFO - mvn_path=./pretrain_work_dir/orig_model/mvn.npy\n",
            "100%|██████████| 38/38 [00:00<00:00, 6478.48it/s]"
          ]
        },
        {
          "output_type": "stream",
          "name": "stdout",
          "text": [
            "TextScriptConvertor.process:\n",
            "Save script to: ./pretrain_work_dir/data/Script.xml\n",
            "TextScriptConvertor.process:\n",
            "Save metafile to: ./pretrain_work_dir/data/raw_metafile.txt\n",
            "[AudioProcessor] Initialize AudioProcessor.\n",
            "[AudioProcessor] config params:\n",
            "[AudioProcessor] wav_normalize: True\n",
            "[AudioProcessor] trim_silence: True\n",
            "[AudioProcessor] trim_silence_threshold_db: 60\n",
            "[AudioProcessor] preemphasize: False\n",
            "[AudioProcessor] sampling_rate: 16000\n",
            "[AudioProcessor] hop_length: 200\n",
            "[AudioProcessor] win_length: 1000\n",
            "[AudioProcessor] n_fft: 2048\n",
            "[AudioProcessor] n_mels: 80\n",
            "[AudioProcessor] fmin: 0.0\n",
            "[AudioProcessor] fmax: 8000.0\n",
            "[AudioProcessor] phone_level_feature: True\n",
            "[AudioProcessor] se_feature: True\n",
            "[AudioProcessor] norm_type: mean_std\n",
            "[AudioProcessor] max_norm: 1.0\n",
            "[AudioProcessor] symmetric: False\n",
            "[AudioProcessor] min_level_db: -100.0\n",
            "[AudioProcessor] ref_level_db: 20\n",
            "[AudioProcessor] num_workers: 16\n",
            "[AudioProcessor] Amplitude normalization started\n",
            "Volume statistic proceeding...\n"
          ]
        },
        {
          "output_type": "stream",
          "name": "stderr",
          "text": [
            "\n",
            "100%|██████████| 19/19 [00:00<00:00, 41.09it/s]\n"
          ]
        },
        {
          "output_type": "stream",
          "name": "stdout",
          "text": [
            "Average amplitude RMS : 0.17481673684210527\n",
            "Volume statistic done.\n",
            "Volume normalization proceeding...\n"
          ]
        },
        {
          "output_type": "stream",
          "name": "stderr",
          "text": [
            "100%|██████████| 19/19 [00:00<00:00, 1475.75it/s]"
          ]
        },
        {
          "output_type": "stream",
          "name": "stdout",
          "text": [
            "Volume normalization done.\n",
            "[AudioProcessor] Amplitude normalization finished\n",
            "[AudioProcessor] Duration generation started\n"
          ]
        },
        {
          "output_type": "stream",
          "name": "stderr",
          "text": [
            "\n",
            "  0%|          | 0/19 [00:00<?, ?it/s]"
          ]
        },
        {
          "output_type": "stream",
          "name": "stdout",
          "text": [
            "[AudioProcessor] Duration align with mel is proceeding...\n"
          ]
        },
        {
          "output_type": "stream",
          "name": "stderr",
          "text": [
            "100%|██████████| 19/19 [00:00<00:00, 21.15it/s]\n"
          ]
        },
        {
          "output_type": "stream",
          "name": "stdout",
          "text": [
            "[AudioProcessor] Duration generate finished\n",
            "[AudioProcessor] Trim silence with interval started\n",
            "[AudioProcessor] Start to load pcm from ./pretrain_work_dir/data/wav\n"
          ]
        },
        {
          "output_type": "stream",
          "name": "stderr",
          "text": [
            "100%|██████████| 19/19 [00:01<00:00, 18.07it/s]\n",
            "  0%|          | 0/19 [00:00<?, ?it/s]\n",
            "100%|██████████| 19/19 [00:00<00:00, 1410.92it/s]"
          ]
        },
        {
          "output_type": "stream",
          "name": "stdout",
          "text": [
            "[AudioProcessor] Trim silence finished\n",
            "[AudioProcessor] Melspec extraction started\n"
          ]
        },
        {
          "output_type": "stream",
          "name": "stderr",
          "text": [
            "\n",
            "100%|██████████| 19/19 [00:01<00:00, 13.53it/s]\n"
          ]
        },
        {
          "output_type": "stream",
          "name": "stdout",
          "text": [
            "[AudioProcessor] Melspec extraction finished\n",
            "Melspec statistic proceeding...\n"
          ]
        },
        {
          "output_type": "stream",
          "name": "stderr",
          "text": [
            "100%|██████████| 19/19 [00:00<00:00, 9566.84it/s]\n",
            "100%|██████████| 19/19 [00:00<00:00, 5898.29it/s]"
          ]
        },
        {
          "output_type": "stream",
          "name": "stdout",
          "text": [
            "Melspec statistic done\n",
            "[AudioProcessor] melspec mean and std saved to:\n",
            "./pretrain_work_dir/data/mel/mel_mean.txt,\n",
            "./pretrain_work_dir/data/mel/mel_std.txt\n",
            "[AudioProcessor] Melspec mean std norm is proceeding...\n",
            "[AudioProcessor] Melspec normalization finished\n",
            "[AudioProcessor] Normed Melspec saved to ./pretrain_work_dir/data/mel\n",
            "[AudioProcessor] Duration calibrating failed for test_0_4, mismatch frames -1\n",
            "[AudioProcessor] Pitch extraction started\n"
          ]
        },
        {
          "output_type": "stream",
          "name": "stderr",
          "text": [
            "\n",
            "  0%|          | 0/19 [00:00<?, ?it/s]"
          ]
        },
        {
          "output_type": "stream",
          "name": "stdout",
          "text": [
            "[AudioProcessor] Pitch align with mel is proceeding...\n"
          ]
        },
        {
          "output_type": "stream",
          "name": "stderr",
          "text": [
            "100%|██████████| 19/19 [00:01<00:00, 14.95it/s]\n"
          ]
        },
        {
          "output_type": "stream",
          "name": "stdout",
          "text": [
            "[AudioProcessor] Pitch normalization is proceeding...\n"
          ]
        },
        {
          "output_type": "stream",
          "name": "stderr",
          "text": [
            "100%|██████████| 19/19 [00:00<00:00, 34100.03it/s]\n",
            "100%|██████████| 19/19 [00:00<00:00, 20709.92it/s]"
          ]
        },
        {
          "output_type": "stream",
          "name": "stdout",
          "text": [
            "[AudioProcessor] f0 mean and std saved to:\n",
            "./pretrain_work_dir/data/f0/f0_mean.txt,\n",
            "./pretrain_work_dir/data/f0/f0_std.txt\n",
            "[AudioProcessor] Pitch mean std norm is proceeding...\n",
            "[AudioProcessor] Pitch turn to phone-level is proceeding...\n"
          ]
        },
        {
          "output_type": "stream",
          "name": "stderr",
          "text": [
            "\n",
            "100%|██████████| 19/19 [00:00<00:00, 21.24it/s]\n"
          ]
        },
        {
          "output_type": "stream",
          "name": "stdout",
          "text": [
            "[AudioProcessor] Pitch normalization finished\n",
            "[AudioProcessor] Normed f0 saved to ./pretrain_work_dir/data/f0\n",
            "[AudioProcessor] Pitch extraction finished\n",
            "[AudioProcessor] Energy extraction started\n"
          ]
        },
        {
          "output_type": "stream",
          "name": "stderr",
          "text": [
            "100%|██████████| 19/19 [00:00<00:00, 19.75it/s]\n",
            "100%|██████████| 19/19 [00:00<00:00, 34513.55it/s]\n",
            "100%|██████████| 19/19 [00:00<00:00, 17384.77it/s]"
          ]
        },
        {
          "output_type": "stream",
          "name": "stdout",
          "text": [
            "[AudioProcessor] energy mean and std saved to:\n",
            "./pretrain_work_dir/data/energy/energy_mean.txt,\n",
            "./pretrain_work_dir/data/energy/energy_std.txt\n",
            "[AudioProcessor] Energy mean std norm is proceeding...\n"
          ]
        },
        {
          "output_type": "stream",
          "name": "stderr",
          "text": [
            "\n",
            "100%|██████████| 19/19 [00:00<00:00, 22.22it/s]\n"
          ]
        },
        {
          "output_type": "stream",
          "name": "stdout",
          "text": [
            "[AudioProcessor] Energy normalization finished\n",
            "[AudioProcessor] Normed Energy saved to ./pretrain_work_dir/data/energy\n",
            "[AudioProcessor] Energy extraction finished\n",
            "[AudioProcessor] All features extracted successfully!\n",
            "Processing audio done.\n",
            "[SpeakerEmbeddingProcessor] Speaker embedding extractor started\n",
            "[SpeakerEmbeddingProcessor] se model loading error!!!\n",
            "[SpeakerEmbeddingProcessor] please update your se model to ensure that the version is greater than or equal to 1.0.5\n",
            "[SpeakerEmbeddingProcessor] try load it as se.model\n",
            "[SpeakerEmbeddingProcessor] Speaker embedding extracted successfully!\n",
            "Processing speaker embedding done.\n",
            "Processing done.\n",
            "Voc metafile generated.\n",
            "AM metafile generated.\n"
          ]
        },
        {
          "output_type": "stream",
          "name": "stderr",
          "text": [
            "2023-07-07 21:04:00,546 - modelscope - INFO - Start training....\n",
            "2023-07-07 21:04:00,547 - modelscope - INFO - Start SAMBERT training...\n",
            "2023-07-07 21:04:00,548 - modelscope - INFO - TRAIN SAMBERT....\n",
            "2023-07-07 21:04:00,563 - modelscope - INFO - TRAINING steps: 2400302\n",
            "2023-07-07 21:04:00,571 - modelscope - INFO - audio_config = {'fmax': 8000.0, 'fmin': 0.0, 'hop_length': 200, 'max_norm': 1.0, 'min_level_db': -100.0, 'n_fft': 2048, 'n_mels': 80, 'norm_type': 'mean_std', 'num_workers': 16, 'phone_level_feature': True, 'preemphasize': False, 'ref_level_db': 20, 'sampling_rate': 16000, 'symmetric': False, 'trim_silence': True, 'trim_silence_threshold_db': 60, 'wav_normalize': True, 'win_length': 1000}\n",
            "2023-07-07 21:04:00,573 - modelscope - INFO - Loss = {'MelReconLoss': {'enable': True, 'params': {'loss_type': 'mae'}}, 'ProsodyReconLoss': {'enable': True, 'params': {'loss_type': 'mae'}}}\n",
            "2023-07-07 21:04:00,575 - modelscope - INFO - Model = {'KanTtsSAMBERT': {'optimizer': {'params': {'betas': [0.9, 0.98], 'eps': 1e-09, 'lr': 0.001, 'weight_decay': 0.0}, 'type': 'Adam'}, 'params': {'MAS': False, 'NSF': True, 'SE': True, 'decoder_attention_dropout': 0.1, 'decoder_dropout': 0.1, 'decoder_ffn_inner_dim': 1024, 'decoder_num_heads': 8, 'decoder_num_layers': 12, 'decoder_num_units': 128, 'decoder_prenet_units': [256, 256], 'decoder_relu_dropout': 0.1, 'dur_pred_lstm_units': 128, 'dur_pred_prenet_units': [128, 128], 'embedding_dim': 512, 'emotion_units': 32, 'encoder_attention_dropout': 0.1, 'encoder_dropout': 0.1, 'encoder_ffn_inner_dim': 1024, 'encoder_num_heads': 8, 'encoder_num_layers': 8, 'encoder_num_units': 128, 'encoder_projection_units': 32, 'encoder_relu_dropout': 0.1, 'max_len': 800, 'nsf_f0_global_maximum': 730.0, 'nsf_f0_global_minimum': 30.0, 'nsf_norm_type': 'global', 'num_mels': 82, 'outputs_per_step': 3, 'postnet_dropout': 0.1, 'postnet_ffn_inner_dim': 512, 'postnet_filter_size': 41, 'postnet_fsmn_num_layers': 4, 'postnet_lstm_units': 128, 'postnet_num_memory_units': 256, 'postnet_shift': 17, 'predictor_dropout': 0.1, 'predictor_ffn_inner_dim': 256, 'predictor_filter_size': 41, 'predictor_fsmn_num_layers': 3, 'predictor_lstm_units': 128, 'predictor_num_memory_units': 128, 'predictor_shift': 0, 'speaker_units': 192}, 'scheduler': {'params': {'warmup_steps': 4000}, 'type': 'NoamLR'}}}\n",
            "2023-07-07 21:04:00,576 - modelscope - INFO - allow_cache = False\n",
            "2023-07-07 21:04:00,578 - modelscope - INFO - batch_size = 32\n",
            "2023-07-07 21:04:00,579 - modelscope - INFO - create_time = 2023-07-07 21:04:00\n",
            "2023-07-07 21:04:00,582 - modelscope - INFO - eval_interval_steps = 10000000000000000\n",
            "2023-07-07 21:04:00,587 - modelscope - INFO - git_revision_hash = d16755444c9baf23348213211a5ed9035458ecf0\n",
            "2023-07-07 21:04:00,589 - modelscope - INFO - grad_norm = 1.0\n",
            "2023-07-07 21:04:00,591 - modelscope - INFO - linguistic_unit = {'cleaners': 'english_cleaners', 'lfeat_type_list': 'sy,tone,syllable_flag,word_segment,emo_category,speaker_category', 'speaker_list': 'F7'}\n",
            "2023-07-07 21:04:00,592 - modelscope - INFO - log_interval_steps = 50\n",
            "2023-07-07 21:04:00,594 - modelscope - INFO - model_type = sambert\n",
            "2023-07-07 21:04:00,595 - modelscope - INFO - num_save_intermediate_results = 4\n",
            "2023-07-07 21:04:00,596 - modelscope - INFO - num_workers = 4\n",
            "2023-07-07 21:04:00,599 - modelscope - INFO - pin_memory = False\n",
            "2023-07-07 21:04:00,599 - modelscope - INFO - remove_short_samples = False\n",
            "2023-07-07 21:04:00,600 - modelscope - INFO - save_interval_steps = 300\n",
            "2023-07-07 21:04:00,602 - modelscope - INFO - train_max_steps = 2400302\n",
            "2023-07-07 21:04:00,603 - modelscope - INFO - train_steps = 302\n",
            "2023-07-07 21:04:00,604 - modelscope - INFO - log_interval = 10\n",
            "2023-07-07 21:04:00,606 - modelscope - INFO - modelscope_version = 1.7.1\n"
          ]
        },
        {
          "output_type": "stream",
          "name": "stdout",
          "text": [
            "Loading metafile...\n"
          ]
        },
        {
          "output_type": "stream",
          "name": "stderr",
          "text": [
            "100%|██████████| 17/17 [00:00<00:00, 18429.35it/s]"
          ]
        },
        {
          "output_type": "stream",
          "name": "stdout",
          "text": [
            "Loading metafile...\n"
          ]
        },
        {
          "output_type": "stream",
          "name": "stderr",
          "text": [
            "\n",
            "100%|██████████| 1/1 [00:00<00:00, 1096.55it/s]\n",
            "2023-07-07 21:04:00,633 - modelscope - INFO - The number of training files = 17.\n",
            "2023-07-07 21:04:00,634 - modelscope - INFO - The number of validation files = 1.\n",
            "2023-07-07 21:04:01,608 - modelscope - INFO - Successfully resumed from ./pretrain_work_dir/orig_model/basemodel_16k/sambert/ckpt/checkpoint_2400000.pth.\n",
            "  0%|          | 0/1 [00:00<?, ?it/s]"
          ]
        },
        {
          "output_type": "stream",
          "name": "stdout",
          "text": [
            "Checkpoint saved at step 2400000\n",
            "(Steps: 2400000) train/TotalLoss = 0.0363.\n",
            "(Steps: 2400000) train/mel_loss_ = 0.0096.\n",
            "(Steps: 2400000) train/mel_loss = 0.0081.\n",
            "(Steps: 2400000) train/dur_loss = 0.0059.\n",
            "(Steps: 2400000) train/pitch_loss = 0.0042.\n",
            "(Steps: 2400000) train/energy_loss = 0.0085.\n",
            "(Steps: 2400000) train/batch_size = 0.3400.\n",
            "(Steps: 2400000) train/x_band_width = 0.2800.\n",
            "(Steps: 2400000) train/h_band_width = 0.2800.\n",
            "KanTtsSAMBERT learning rate: 0.000082\n"
          ]
        },
        {
          "output_type": "stream",
          "name": "stderr",
          "text": [
            "100%|██████████| 1/1 [00:04<00:00,  4.61s/it]"
          ]
        },
        {
          "output_type": "stream",
          "name": "stdout",
          "text": [
            "Epoch 0 finished\n"
          ]
        },
        {
          "output_type": "stream",
          "name": "stderr",
          "text": [
            "\n",
            "100%|██████████| 1/1 [00:00<00:00,  1.53it/s]"
          ]
        },
        {
          "output_type": "stream",
          "name": "stdout",
          "text": [
            "Epoch 1 finished\n"
          ]
        },
        {
          "output_type": "stream",
          "name": "stderr",
          "text": [
            "\n",
            "100%|██████████| 1/1 [00:00<00:00,  1.53it/s]"
          ]
        },
        {
          "output_type": "stream",
          "name": "stdout",
          "text": [
            "Epoch 2 finished\n"
          ]
        },
        {
          "output_type": "stream",
          "name": "stderr",
          "text": [
            "\n",
            "100%|██████████| 1/1 [00:00<00:00,  1.61it/s]"
          ]
        },
        {
          "output_type": "stream",
          "name": "stdout",
          "text": [
            "Epoch 3 finished\n"
          ]
        },
        {
          "output_type": "stream",
          "name": "stderr",
          "text": [
            "\n",
            "100%|██████████| 1/1 [00:00<00:00,  1.62it/s]"
          ]
        },
        {
          "output_type": "stream",
          "name": "stdout",
          "text": [
            "Epoch 4 finished\n"
          ]
        },
        {
          "output_type": "stream",
          "name": "stderr",
          "text": [
            "\n",
            "100%|██████████| 1/1 [00:00<00:00,  1.60it/s]"
          ]
        },
        {
          "output_type": "stream",
          "name": "stdout",
          "text": [
            "Epoch 5 finished\n"
          ]
        },
        {
          "output_type": "stream",
          "name": "stderr",
          "text": [
            "\n",
            "100%|██████████| 1/1 [00:00<00:00,  1.54it/s]"
          ]
        },
        {
          "output_type": "stream",
          "name": "stdout",
          "text": [
            "Epoch 6 finished\n"
          ]
        },
        {
          "output_type": "stream",
          "name": "stderr",
          "text": [
            "\n",
            "100%|██████████| 1/1 [00:00<00:00,  1.55it/s]"
          ]
        },
        {
          "output_type": "stream",
          "name": "stdout",
          "text": [
            "Epoch 7 finished\n"
          ]
        },
        {
          "output_type": "stream",
          "name": "stderr",
          "text": [
            "\n",
            "100%|██████████| 1/1 [00:00<00:00,  1.58it/s]"
          ]
        },
        {
          "output_type": "stream",
          "name": "stdout",
          "text": [
            "Epoch 8 finished\n"
          ]
        },
        {
          "output_type": "stream",
          "name": "stderr",
          "text": [
            "\n",
            "100%|██████████| 1/1 [00:00<00:00,  1.49it/s]"
          ]
        },
        {
          "output_type": "stream",
          "name": "stdout",
          "text": [
            "Epoch 9 finished\n"
          ]
        },
        {
          "output_type": "stream",
          "name": "stderr",
          "text": [
            "\n",
            "  0%|          | 0/1 [00:00<?, ?it/s]"
          ]
        },
        {
          "output_type": "stream",
          "name": "stdout",
          "text": [
            "(Steps: 2400010) train/TotalLoss = 0.3459.\n",
            "(Steps: 2400010) train/mel_loss_ = 0.0925.\n",
            "(Steps: 2400010) train/mel_loss = 0.0747.\n",
            "(Steps: 2400010) train/dur_loss = 0.0557.\n",
            "(Steps: 2400010) train/pitch_loss = 0.0400.\n",
            "(Steps: 2400010) train/energy_loss = 0.0831.\n",
            "(Steps: 2400010) train/batch_size = 3.4000.\n",
            "(Steps: 2400010) train/x_band_width = 2.8000.\n",
            "(Steps: 2400010) train/h_band_width = 2.8000.\n",
            "KanTtsSAMBERT learning rate: 0.000082\n"
          ]
        },
        {
          "output_type": "stream",
          "name": "stderr",
          "text": [
            "100%|██████████| 1/1 [00:00<00:00,  1.56it/s]"
          ]
        },
        {
          "output_type": "stream",
          "name": "stdout",
          "text": [
            "Epoch 10 finished\n"
          ]
        },
        {
          "output_type": "stream",
          "name": "stderr",
          "text": [
            "\n",
            "100%|██████████| 1/1 [00:00<00:00,  1.61it/s]"
          ]
        },
        {
          "output_type": "stream",
          "name": "stdout",
          "text": [
            "Epoch 11 finished\n"
          ]
        },
        {
          "output_type": "stream",
          "name": "stderr",
          "text": [
            "\n",
            "100%|██████████| 1/1 [00:00<00:00,  1.71it/s]"
          ]
        },
        {
          "output_type": "stream",
          "name": "stdout",
          "text": [
            "Epoch 12 finished\n"
          ]
        },
        {
          "output_type": "stream",
          "name": "stderr",
          "text": [
            "\n",
            "100%|██████████| 1/1 [00:00<00:00,  1.74it/s]"
          ]
        },
        {
          "output_type": "stream",
          "name": "stdout",
          "text": [
            "Epoch 13 finished\n"
          ]
        },
        {
          "output_type": "stream",
          "name": "stderr",
          "text": [
            "\n",
            "100%|██████████| 1/1 [00:00<00:00,  1.77it/s]"
          ]
        },
        {
          "output_type": "stream",
          "name": "stdout",
          "text": [
            "Epoch 14 finished\n"
          ]
        },
        {
          "output_type": "stream",
          "name": "stderr",
          "text": [
            "\n",
            "100%|██████████| 1/1 [00:00<00:00,  1.69it/s]"
          ]
        },
        {
          "output_type": "stream",
          "name": "stdout",
          "text": [
            "Epoch 15 finished\n"
          ]
        },
        {
          "output_type": "stream",
          "name": "stderr",
          "text": [
            "\n",
            "100%|██████████| 1/1 [00:00<00:00,  1.73it/s]"
          ]
        },
        {
          "output_type": "stream",
          "name": "stdout",
          "text": [
            "Epoch 16 finished\n"
          ]
        },
        {
          "output_type": "stream",
          "name": "stderr",
          "text": [
            "\n",
            "100%|██████████| 1/1 [00:00<00:00,  1.77it/s]"
          ]
        },
        {
          "output_type": "stream",
          "name": "stdout",
          "text": [
            "Epoch 17 finished\n"
          ]
        },
        {
          "output_type": "stream",
          "name": "stderr",
          "text": [
            "\n",
            "100%|██████████| 1/1 [00:00<00:00,  1.72it/s]"
          ]
        },
        {
          "output_type": "stream",
          "name": "stdout",
          "text": [
            "Epoch 18 finished\n"
          ]
        },
        {
          "output_type": "stream",
          "name": "stderr",
          "text": [
            "\n",
            "100%|██████████| 1/1 [00:00<00:00,  1.70it/s]"
          ]
        },
        {
          "output_type": "stream",
          "name": "stdout",
          "text": [
            "Epoch 19 finished\n"
          ]
        },
        {
          "output_type": "stream",
          "name": "stderr",
          "text": [
            "\n",
            "  0%|          | 0/1 [00:00<?, ?it/s]"
          ]
        },
        {
          "output_type": "stream",
          "name": "stdout",
          "text": [
            "(Steps: 2400020) train/TotalLoss = 0.3190.\n",
            "(Steps: 2400020) train/mel_loss_ = 0.0866.\n",
            "(Steps: 2400020) train/mel_loss = 0.0668.\n",
            "(Steps: 2400020) train/dur_loss = 0.0482.\n",
            "(Steps: 2400020) train/pitch_loss = 0.0376.\n",
            "(Steps: 2400020) train/energy_loss = 0.0797.\n",
            "(Steps: 2400020) train/batch_size = 3.4000.\n",
            "(Steps: 2400020) train/x_band_width = 2.8000.\n",
            "(Steps: 2400020) train/h_band_width = 2.8000.\n",
            "KanTtsSAMBERT learning rate: 0.000082\n"
          ]
        },
        {
          "output_type": "stream",
          "name": "stderr",
          "text": [
            "100%|██████████| 1/1 [00:00<00:00,  1.66it/s]"
          ]
        },
        {
          "output_type": "stream",
          "name": "stdout",
          "text": [
            "Epoch 20 finished\n"
          ]
        },
        {
          "output_type": "stream",
          "name": "stderr",
          "text": [
            "\n",
            "100%|██████████| 1/1 [00:00<00:00,  1.74it/s]"
          ]
        },
        {
          "output_type": "stream",
          "name": "stdout",
          "text": [
            "Epoch 21 finished\n"
          ]
        },
        {
          "output_type": "stream",
          "name": "stderr",
          "text": [
            "\n",
            "100%|██████████| 1/1 [00:00<00:00,  1.74it/s]"
          ]
        },
        {
          "output_type": "stream",
          "name": "stdout",
          "text": [
            "Epoch 22 finished\n"
          ]
        },
        {
          "output_type": "stream",
          "name": "stderr",
          "text": [
            "\n",
            "100%|██████████| 1/1 [00:00<00:00,  1.77it/s]"
          ]
        },
        {
          "output_type": "stream",
          "name": "stdout",
          "text": [
            "Epoch 23 finished\n"
          ]
        },
        {
          "output_type": "stream",
          "name": "stderr",
          "text": [
            "\n",
            "100%|██████████| 1/1 [00:00<00:00,  1.75it/s]"
          ]
        },
        {
          "output_type": "stream",
          "name": "stdout",
          "text": [
            "Epoch 24 finished\n"
          ]
        },
        {
          "output_type": "stream",
          "name": "stderr",
          "text": [
            "\n",
            "100%|██████████| 1/1 [00:00<00:00,  1.76it/s]"
          ]
        },
        {
          "output_type": "stream",
          "name": "stdout",
          "text": [
            "Epoch 25 finished\n"
          ]
        },
        {
          "output_type": "stream",
          "name": "stderr",
          "text": [
            "\n",
            "100%|██████████| 1/1 [00:00<00:00,  1.67it/s]"
          ]
        },
        {
          "output_type": "stream",
          "name": "stdout",
          "text": [
            "Epoch 26 finished\n"
          ]
        },
        {
          "output_type": "stream",
          "name": "stderr",
          "text": [
            "\n",
            "100%|██████████| 1/1 [00:00<00:00,  1.46it/s]"
          ]
        },
        {
          "output_type": "stream",
          "name": "stdout",
          "text": [
            "Epoch 27 finished\n"
          ]
        },
        {
          "output_type": "stream",
          "name": "stderr",
          "text": [
            "\n",
            "100%|██████████| 1/1 [00:00<00:00,  1.56it/s]"
          ]
        },
        {
          "output_type": "stream",
          "name": "stdout",
          "text": [
            "Epoch 28 finished\n"
          ]
        },
        {
          "output_type": "stream",
          "name": "stderr",
          "text": [
            "\n",
            "100%|██████████| 1/1 [00:00<00:00,  1.55it/s]"
          ]
        },
        {
          "output_type": "stream",
          "name": "stdout",
          "text": [
            "Epoch 29 finished\n"
          ]
        },
        {
          "output_type": "stream",
          "name": "stderr",
          "text": [
            "\n",
            "  0%|          | 0/1 [00:00<?, ?it/s]"
          ]
        },
        {
          "output_type": "stream",
          "name": "stdout",
          "text": [
            "(Steps: 2400030) train/TotalLoss = 0.2978.\n",
            "(Steps: 2400030) train/mel_loss_ = 0.0821.\n",
            "(Steps: 2400030) train/mel_loss = 0.0621.\n",
            "(Steps: 2400030) train/dur_loss = 0.0418.\n",
            "(Steps: 2400030) train/pitch_loss = 0.0353.\n",
            "(Steps: 2400030) train/energy_loss = 0.0766.\n",
            "(Steps: 2400030) train/batch_size = 3.4000.\n",
            "(Steps: 2400030) train/x_band_width = 2.8000.\n",
            "(Steps: 2400030) train/h_band_width = 2.8000.\n",
            "KanTtsSAMBERT learning rate: 0.000082\n"
          ]
        },
        {
          "output_type": "stream",
          "name": "stderr",
          "text": [
            "100%|██████████| 1/1 [00:00<00:00,  1.55it/s]"
          ]
        },
        {
          "output_type": "stream",
          "name": "stdout",
          "text": [
            "Epoch 30 finished\n"
          ]
        },
        {
          "output_type": "stream",
          "name": "stderr",
          "text": [
            "\n",
            "100%|██████████| 1/1 [00:00<00:00,  1.52it/s]"
          ]
        },
        {
          "output_type": "stream",
          "name": "stdout",
          "text": [
            "Epoch 31 finished\n"
          ]
        },
        {
          "output_type": "stream",
          "name": "stderr",
          "text": [
            "\n",
            "100%|██████████| 1/1 [00:00<00:00,  1.55it/s]"
          ]
        },
        {
          "output_type": "stream",
          "name": "stdout",
          "text": [
            "Epoch 32 finished\n"
          ]
        },
        {
          "output_type": "stream",
          "name": "stderr",
          "text": [
            "\n",
            "100%|██████████| 1/1 [00:00<00:00,  1.52it/s]"
          ]
        },
        {
          "output_type": "stream",
          "name": "stdout",
          "text": [
            "Epoch 33 finished\n"
          ]
        },
        {
          "output_type": "stream",
          "name": "stderr",
          "text": [
            "\n",
            "100%|██████████| 1/1 [00:00<00:00,  1.56it/s]"
          ]
        },
        {
          "output_type": "stream",
          "name": "stdout",
          "text": [
            "Epoch 34 finished\n"
          ]
        },
        {
          "output_type": "stream",
          "name": "stderr",
          "text": [
            "\n",
            "100%|██████████| 1/1 [00:00<00:00,  1.51it/s]"
          ]
        },
        {
          "output_type": "stream",
          "name": "stdout",
          "text": [
            "Epoch 35 finished\n"
          ]
        },
        {
          "output_type": "stream",
          "name": "stderr",
          "text": [
            "\n",
            "100%|██████████| 1/1 [00:00<00:00,  1.61it/s]"
          ]
        },
        {
          "output_type": "stream",
          "name": "stdout",
          "text": [
            "Epoch 36 finished\n"
          ]
        },
        {
          "output_type": "stream",
          "name": "stderr",
          "text": [
            "\n",
            "100%|██████████| 1/1 [00:00<00:00,  1.61it/s]"
          ]
        },
        {
          "output_type": "stream",
          "name": "stdout",
          "text": [
            "Epoch 37 finished\n"
          ]
        },
        {
          "output_type": "stream",
          "name": "stderr",
          "text": [
            "\n",
            "100%|██████████| 1/1 [00:00<00:00,  1.71it/s]"
          ]
        },
        {
          "output_type": "stream",
          "name": "stdout",
          "text": [
            "Epoch 38 finished\n"
          ]
        },
        {
          "output_type": "stream",
          "name": "stderr",
          "text": [
            "\n",
            "100%|██████████| 1/1 [00:00<00:00,  1.70it/s]"
          ]
        },
        {
          "output_type": "stream",
          "name": "stdout",
          "text": [
            "Epoch 39 finished\n"
          ]
        },
        {
          "output_type": "stream",
          "name": "stderr",
          "text": [
            "\n",
            "  0%|          | 0/1 [00:00<?, ?it/s]"
          ]
        },
        {
          "output_type": "stream",
          "name": "stdout",
          "text": [
            "(Steps: 2400040) train/TotalLoss = 0.2837.\n",
            "(Steps: 2400040) train/mel_loss_ = 0.0798.\n",
            "(Steps: 2400040) train/mel_loss = 0.0596.\n",
            "(Steps: 2400040) train/dur_loss = 0.0377.\n",
            "(Steps: 2400040) train/pitch_loss = 0.0330.\n",
            "(Steps: 2400040) train/energy_loss = 0.0736.\n",
            "(Steps: 2400040) train/batch_size = 3.4000.\n",
            "(Steps: 2400040) train/x_band_width = 2.8000.\n",
            "(Steps: 2400040) train/h_band_width = 2.8000.\n",
            "KanTtsSAMBERT learning rate: 0.000082\n"
          ]
        },
        {
          "output_type": "stream",
          "name": "stderr",
          "text": [
            "100%|██████████| 1/1 [00:00<00:00,  1.64it/s]"
          ]
        },
        {
          "output_type": "stream",
          "name": "stdout",
          "text": [
            "Epoch 40 finished\n"
          ]
        },
        {
          "output_type": "stream",
          "name": "stderr",
          "text": [
            "\n",
            "100%|██████████| 1/1 [00:00<00:00,  1.75it/s]"
          ]
        },
        {
          "output_type": "stream",
          "name": "stdout",
          "text": [
            "Epoch 41 finished\n"
          ]
        },
        {
          "output_type": "stream",
          "name": "stderr",
          "text": [
            "\n",
            "100%|██████████| 1/1 [00:00<00:00,  1.75it/s]"
          ]
        },
        {
          "output_type": "stream",
          "name": "stdout",
          "text": [
            "Epoch 42 finished\n"
          ]
        },
        {
          "output_type": "stream",
          "name": "stderr",
          "text": [
            "\n",
            "100%|██████████| 1/1 [00:00<00:00,  1.72it/s]"
          ]
        },
        {
          "output_type": "stream",
          "name": "stdout",
          "text": [
            "Epoch 43 finished\n"
          ]
        },
        {
          "output_type": "stream",
          "name": "stderr",
          "text": [
            "\n",
            "100%|██████████| 1/1 [00:00<00:00,  1.79it/s]"
          ]
        },
        {
          "output_type": "stream",
          "name": "stdout",
          "text": [
            "Epoch 44 finished\n"
          ]
        },
        {
          "output_type": "stream",
          "name": "stderr",
          "text": [
            "\n",
            "100%|██████████| 1/1 [00:00<00:00,  1.78it/s]"
          ]
        },
        {
          "output_type": "stream",
          "name": "stdout",
          "text": [
            "Epoch 45 finished\n"
          ]
        },
        {
          "output_type": "stream",
          "name": "stderr",
          "text": [
            "\n",
            "100%|██████████| 1/1 [00:00<00:00,  1.74it/s]"
          ]
        },
        {
          "output_type": "stream",
          "name": "stdout",
          "text": [
            "Epoch 46 finished\n"
          ]
        },
        {
          "output_type": "stream",
          "name": "stderr",
          "text": [
            "\n",
            "100%|██████████| 1/1 [00:00<00:00,  1.74it/s]"
          ]
        },
        {
          "output_type": "stream",
          "name": "stdout",
          "text": [
            "Epoch 47 finished\n"
          ]
        },
        {
          "output_type": "stream",
          "name": "stderr",
          "text": [
            "\n",
            "100%|██████████| 1/1 [00:00<00:00,  1.68it/s]"
          ]
        },
        {
          "output_type": "stream",
          "name": "stdout",
          "text": [
            "Epoch 48 finished\n"
          ]
        },
        {
          "output_type": "stream",
          "name": "stderr",
          "text": [
            "\n",
            "100%|██████████| 1/1 [00:00<00:00,  1.71it/s]"
          ]
        },
        {
          "output_type": "stream",
          "name": "stdout",
          "text": [
            "Epoch 49 finished\n"
          ]
        },
        {
          "output_type": "stream",
          "name": "stderr",
          "text": [
            "\n",
            "  0%|          | 0/1 [00:00<?, ?it/s]"
          ]
        },
        {
          "output_type": "stream",
          "name": "stdout",
          "text": [
            "(Steps: 2400050) train/TotalLoss = 0.2731.\n",
            "(Steps: 2400050) train/mel_loss_ = 0.0780.\n",
            "(Steps: 2400050) train/mel_loss = 0.0576.\n",
            "(Steps: 2400050) train/dur_loss = 0.0344.\n",
            "(Steps: 2400050) train/pitch_loss = 0.0314.\n",
            "(Steps: 2400050) train/energy_loss = 0.0717.\n",
            "(Steps: 2400050) train/batch_size = 3.4000.\n",
            "(Steps: 2400050) train/x_band_width = 2.8000.\n",
            "(Steps: 2400050) train/h_band_width = 2.8000.\n",
            "KanTtsSAMBERT learning rate: 0.000082\n"
          ]
        },
        {
          "output_type": "stream",
          "name": "stderr",
          "text": [
            "100%|██████████| 1/1 [00:00<00:00,  1.69it/s]"
          ]
        },
        {
          "output_type": "stream",
          "name": "stdout",
          "text": [
            "Epoch 50 finished\n"
          ]
        },
        {
          "output_type": "stream",
          "name": "stderr",
          "text": [
            "\n",
            "100%|██████████| 1/1 [00:00<00:00,  1.74it/s]"
          ]
        },
        {
          "output_type": "stream",
          "name": "stdout",
          "text": [
            "Epoch 51 finished\n"
          ]
        },
        {
          "output_type": "stream",
          "name": "stderr",
          "text": [
            "\n",
            "100%|██████████| 1/1 [00:00<00:00,  1.75it/s]"
          ]
        },
        {
          "output_type": "stream",
          "name": "stdout",
          "text": [
            "Epoch 52 finished\n"
          ]
        },
        {
          "output_type": "stream",
          "name": "stderr",
          "text": [
            "\n",
            "100%|██████████| 1/1 [00:00<00:00,  1.68it/s]"
          ]
        },
        {
          "output_type": "stream",
          "name": "stdout",
          "text": [
            "Epoch 53 finished\n"
          ]
        },
        {
          "output_type": "stream",
          "name": "stderr",
          "text": [
            "\n",
            "100%|██████████| 1/1 [00:00<00:00,  1.54it/s]"
          ]
        },
        {
          "output_type": "stream",
          "name": "stdout",
          "text": [
            "Epoch 54 finished\n"
          ]
        },
        {
          "output_type": "stream",
          "name": "stderr",
          "text": [
            "\n",
            "100%|██████████| 1/1 [00:00<00:00,  1.46it/s]"
          ]
        },
        {
          "output_type": "stream",
          "name": "stdout",
          "text": [
            "Epoch 55 finished\n"
          ]
        },
        {
          "output_type": "stream",
          "name": "stderr",
          "text": [
            "\n",
            "100%|██████████| 1/1 [00:00<00:00,  1.51it/s]"
          ]
        },
        {
          "output_type": "stream",
          "name": "stdout",
          "text": [
            "Epoch 56 finished\n"
          ]
        },
        {
          "output_type": "stream",
          "name": "stderr",
          "text": [
            "\n",
            "100%|██████████| 1/1 [00:00<00:00,  1.49it/s]"
          ]
        },
        {
          "output_type": "stream",
          "name": "stdout",
          "text": [
            "Epoch 57 finished\n"
          ]
        },
        {
          "output_type": "stream",
          "name": "stderr",
          "text": [
            "\n",
            "100%|██████████| 1/1 [00:00<00:00,  1.64it/s]"
          ]
        },
        {
          "output_type": "stream",
          "name": "stdout",
          "text": [
            "Epoch 58 finished\n"
          ]
        },
        {
          "output_type": "stream",
          "name": "stderr",
          "text": [
            "\n",
            "100%|██████████| 1/1 [00:00<00:00,  1.52it/s]"
          ]
        },
        {
          "output_type": "stream",
          "name": "stdout",
          "text": [
            "Epoch 59 finished\n"
          ]
        },
        {
          "output_type": "stream",
          "name": "stderr",
          "text": [
            "\n",
            "  0%|          | 0/1 [00:00<?, ?it/s]"
          ]
        },
        {
          "output_type": "stream",
          "name": "stdout",
          "text": [
            "(Steps: 2400060) train/TotalLoss = 0.2631.\n",
            "(Steps: 2400060) train/mel_loss_ = 0.0766.\n",
            "(Steps: 2400060) train/mel_loss = 0.0564.\n",
            "(Steps: 2400060) train/dur_loss = 0.0316.\n",
            "(Steps: 2400060) train/pitch_loss = 0.0297.\n",
            "(Steps: 2400060) train/energy_loss = 0.0688.\n",
            "(Steps: 2400060) train/batch_size = 3.4000.\n",
            "(Steps: 2400060) train/x_band_width = 2.8000.\n",
            "(Steps: 2400060) train/h_band_width = 2.8000.\n",
            "KanTtsSAMBERT learning rate: 0.000082\n"
          ]
        },
        {
          "output_type": "stream",
          "name": "stderr",
          "text": [
            "100%|██████████| 1/1 [00:00<00:00,  1.52it/s]"
          ]
        },
        {
          "output_type": "stream",
          "name": "stdout",
          "text": [
            "Epoch 60 finished\n"
          ]
        },
        {
          "output_type": "stream",
          "name": "stderr",
          "text": [
            "\n",
            "100%|██████████| 1/1 [00:00<00:00,  1.55it/s]"
          ]
        },
        {
          "output_type": "stream",
          "name": "stdout",
          "text": [
            "Epoch 61 finished\n"
          ]
        },
        {
          "output_type": "stream",
          "name": "stderr",
          "text": [
            "\n",
            "100%|██████████| 1/1 [00:00<00:00,  1.51it/s]"
          ]
        },
        {
          "output_type": "stream",
          "name": "stdout",
          "text": [
            "Epoch 62 finished\n"
          ]
        },
        {
          "output_type": "stream",
          "name": "stderr",
          "text": [
            "\n",
            "100%|██████████| 1/1 [00:00<00:00,  1.54it/s]"
          ]
        },
        {
          "output_type": "stream",
          "name": "stdout",
          "text": [
            "Epoch 63 finished\n"
          ]
        },
        {
          "output_type": "stream",
          "name": "stderr",
          "text": [
            "\n",
            "100%|██████████| 1/1 [00:00<00:00,  1.60it/s]"
          ]
        },
        {
          "output_type": "stream",
          "name": "stdout",
          "text": [
            "Epoch 64 finished\n"
          ]
        },
        {
          "output_type": "stream",
          "name": "stderr",
          "text": [
            "\n",
            "100%|██████████| 1/1 [00:00<00:00,  1.69it/s]"
          ]
        },
        {
          "output_type": "stream",
          "name": "stdout",
          "text": [
            "Epoch 65 finished\n"
          ]
        },
        {
          "output_type": "stream",
          "name": "stderr",
          "text": [
            "\n",
            "100%|██████████| 1/1 [00:00<00:00,  1.76it/s]"
          ]
        },
        {
          "output_type": "stream",
          "name": "stdout",
          "text": [
            "Epoch 66 finished\n"
          ]
        },
        {
          "output_type": "stream",
          "name": "stderr",
          "text": [
            "\n",
            "100%|██████████| 1/1 [00:00<00:00,  1.75it/s]"
          ]
        },
        {
          "output_type": "stream",
          "name": "stdout",
          "text": [
            "Epoch 67 finished\n"
          ]
        },
        {
          "output_type": "stream",
          "name": "stderr",
          "text": [
            "\n",
            "100%|██████████| 1/1 [00:00<00:00,  1.80it/s]"
          ]
        },
        {
          "output_type": "stream",
          "name": "stdout",
          "text": [
            "Epoch 68 finished\n"
          ]
        },
        {
          "output_type": "stream",
          "name": "stderr",
          "text": [
            "\n",
            "100%|██████████| 1/1 [00:00<00:00,  1.72it/s]"
          ]
        },
        {
          "output_type": "stream",
          "name": "stdout",
          "text": [
            "Epoch 69 finished\n"
          ]
        },
        {
          "output_type": "stream",
          "name": "stderr",
          "text": [
            "\n",
            "  0%|          | 0/1 [00:00<?, ?it/s]"
          ]
        },
        {
          "output_type": "stream",
          "name": "stdout",
          "text": [
            "(Steps: 2400070) train/TotalLoss = 0.2546.\n",
            "(Steps: 2400070) train/mel_loss_ = 0.0749.\n",
            "(Steps: 2400070) train/mel_loss = 0.0551.\n",
            "(Steps: 2400070) train/dur_loss = 0.0291.\n",
            "(Steps: 2400070) train/pitch_loss = 0.0287.\n",
            "(Steps: 2400070) train/energy_loss = 0.0669.\n",
            "(Steps: 2400070) train/batch_size = 3.4000.\n",
            "(Steps: 2400070) train/x_band_width = 2.8000.\n",
            "(Steps: 2400070) train/h_band_width = 2.8000.\n",
            "KanTtsSAMBERT learning rate: 0.000082\n"
          ]
        },
        {
          "output_type": "stream",
          "name": "stderr",
          "text": [
            "100%|██████████| 1/1 [00:00<00:00,  1.63it/s]"
          ]
        },
        {
          "output_type": "stream",
          "name": "stdout",
          "text": [
            "Epoch 70 finished\n"
          ]
        },
        {
          "output_type": "stream",
          "name": "stderr",
          "text": [
            "\n",
            "100%|██████████| 1/1 [00:00<00:00,  1.77it/s]"
          ]
        },
        {
          "output_type": "stream",
          "name": "stdout",
          "text": [
            "Epoch 71 finished\n"
          ]
        },
        {
          "output_type": "stream",
          "name": "stderr",
          "text": [
            "\n",
            "100%|██████████| 1/1 [00:00<00:00,  1.71it/s]"
          ]
        },
        {
          "output_type": "stream",
          "name": "stdout",
          "text": [
            "Epoch 72 finished\n"
          ]
        },
        {
          "output_type": "stream",
          "name": "stderr",
          "text": [
            "\n",
            "100%|██████████| 1/1 [00:00<00:00,  1.71it/s]"
          ]
        },
        {
          "output_type": "stream",
          "name": "stdout",
          "text": [
            "Epoch 73 finished\n"
          ]
        },
        {
          "output_type": "stream",
          "name": "stderr",
          "text": [
            "\n",
            "100%|██████████| 1/1 [00:00<00:00,  1.76it/s]"
          ]
        },
        {
          "output_type": "stream",
          "name": "stdout",
          "text": [
            "Epoch 74 finished\n"
          ]
        },
        {
          "output_type": "stream",
          "name": "stderr",
          "text": [
            "\n",
            "100%|██████████| 1/1 [00:00<00:00,  1.76it/s]"
          ]
        },
        {
          "output_type": "stream",
          "name": "stdout",
          "text": [
            "Epoch 75 finished\n"
          ]
        },
        {
          "output_type": "stream",
          "name": "stderr",
          "text": [
            "\n",
            "100%|██████████| 1/1 [00:00<00:00,  1.73it/s]"
          ]
        },
        {
          "output_type": "stream",
          "name": "stdout",
          "text": [
            "Epoch 76 finished\n"
          ]
        },
        {
          "output_type": "stream",
          "name": "stderr",
          "text": [
            "\n",
            "100%|██████████| 1/1 [00:00<00:00,  1.69it/s]"
          ]
        },
        {
          "output_type": "stream",
          "name": "stdout",
          "text": [
            "Epoch 77 finished\n"
          ]
        },
        {
          "output_type": "stream",
          "name": "stderr",
          "text": [
            "\n",
            "100%|██████████| 1/1 [00:00<00:00,  1.71it/s]"
          ]
        },
        {
          "output_type": "stream",
          "name": "stdout",
          "text": [
            "Epoch 78 finished\n"
          ]
        },
        {
          "output_type": "stream",
          "name": "stderr",
          "text": [
            "\n",
            "100%|██████████| 1/1 [00:00<00:00,  1.69it/s]"
          ]
        },
        {
          "output_type": "stream",
          "name": "stdout",
          "text": [
            "Epoch 79 finished\n"
          ]
        },
        {
          "output_type": "stream",
          "name": "stderr",
          "text": [
            "\n",
            "  0%|          | 0/1 [00:00<?, ?it/s]"
          ]
        },
        {
          "output_type": "stream",
          "name": "stdout",
          "text": [
            "(Steps: 2400080) train/TotalLoss = 0.2486.\n",
            "(Steps: 2400080) train/mel_loss_ = 0.0742.\n",
            "(Steps: 2400080) train/mel_loss = 0.0542.\n",
            "(Steps: 2400080) train/dur_loss = 0.0271.\n",
            "(Steps: 2400080) train/pitch_loss = 0.0281.\n",
            "(Steps: 2400080) train/energy_loss = 0.0650.\n",
            "(Steps: 2400080) train/batch_size = 3.4000.\n",
            "(Steps: 2400080) train/x_band_width = 2.8000.\n",
            "(Steps: 2400080) train/h_band_width = 2.8000.\n",
            "KanTtsSAMBERT learning rate: 0.000082\n"
          ]
        },
        {
          "output_type": "stream",
          "name": "stderr",
          "text": [
            "100%|██████████| 1/1 [00:00<00:00,  1.63it/s]"
          ]
        },
        {
          "output_type": "stream",
          "name": "stdout",
          "text": [
            "Epoch 80 finished\n"
          ]
        },
        {
          "output_type": "stream",
          "name": "stderr",
          "text": [
            "\n",
            "100%|██████████| 1/1 [00:00<00:00,  1.80it/s]"
          ]
        },
        {
          "output_type": "stream",
          "name": "stdout",
          "text": [
            "Epoch 81 finished\n"
          ]
        },
        {
          "output_type": "stream",
          "name": "stderr",
          "text": [
            "\n",
            "100%|██████████| 1/1 [00:00<00:00,  1.52it/s]"
          ]
        },
        {
          "output_type": "stream",
          "name": "stdout",
          "text": [
            "Epoch 82 finished\n"
          ]
        },
        {
          "output_type": "stream",
          "name": "stderr",
          "text": [
            "\n",
            "100%|██████████| 1/1 [00:00<00:00,  1.54it/s]"
          ]
        },
        {
          "output_type": "stream",
          "name": "stdout",
          "text": [
            "Epoch 83 finished\n"
          ]
        },
        {
          "output_type": "stream",
          "name": "stderr",
          "text": [
            "\n",
            "100%|██████████| 1/1 [00:00<00:00,  1.60it/s]"
          ]
        },
        {
          "output_type": "stream",
          "name": "stdout",
          "text": [
            "Epoch 84 finished\n"
          ]
        },
        {
          "output_type": "stream",
          "name": "stderr",
          "text": [
            "\n",
            "100%|██████████| 1/1 [00:00<00:00,  1.59it/s]"
          ]
        },
        {
          "output_type": "stream",
          "name": "stdout",
          "text": [
            "Epoch 85 finished\n"
          ]
        },
        {
          "output_type": "stream",
          "name": "stderr",
          "text": [
            "\n",
            "100%|██████████| 1/1 [00:00<00:00,  1.64it/s]"
          ]
        },
        {
          "output_type": "stream",
          "name": "stdout",
          "text": [
            "Epoch 86 finished\n"
          ]
        },
        {
          "output_type": "stream",
          "name": "stderr",
          "text": [
            "\n",
            "100%|██████████| 1/1 [00:00<00:00,  1.59it/s]"
          ]
        },
        {
          "output_type": "stream",
          "name": "stdout",
          "text": [
            "Epoch 87 finished\n"
          ]
        },
        {
          "output_type": "stream",
          "name": "stderr",
          "text": [
            "\n",
            "100%|██████████| 1/1 [00:00<00:00,  1.62it/s]"
          ]
        },
        {
          "output_type": "stream",
          "name": "stdout",
          "text": [
            "Epoch 88 finished\n"
          ]
        },
        {
          "output_type": "stream",
          "name": "stderr",
          "text": [
            "\n",
            "100%|██████████| 1/1 [00:00<00:00,  1.56it/s]"
          ]
        },
        {
          "output_type": "stream",
          "name": "stdout",
          "text": [
            "Epoch 89 finished\n"
          ]
        },
        {
          "output_type": "stream",
          "name": "stderr",
          "text": [
            "\n",
            "  0%|          | 0/1 [00:00<?, ?it/s]"
          ]
        },
        {
          "output_type": "stream",
          "name": "stdout",
          "text": [
            "(Steps: 2400090) train/TotalLoss = 0.2426.\n",
            "(Steps: 2400090) train/mel_loss_ = 0.0731.\n",
            "(Steps: 2400090) train/mel_loss = 0.0533.\n",
            "(Steps: 2400090) train/dur_loss = 0.0255.\n",
            "(Steps: 2400090) train/pitch_loss = 0.0271.\n",
            "(Steps: 2400090) train/energy_loss = 0.0636.\n",
            "(Steps: 2400090) train/batch_size = 3.4000.\n",
            "(Steps: 2400090) train/x_band_width = 2.8000.\n",
            "(Steps: 2400090) train/h_band_width = 2.8000.\n",
            "KanTtsSAMBERT learning rate: 0.000082\n"
          ]
        },
        {
          "output_type": "stream",
          "name": "stderr",
          "text": [
            "100%|██████████| 1/1 [00:00<00:00,  1.47it/s]"
          ]
        },
        {
          "output_type": "stream",
          "name": "stdout",
          "text": [
            "Epoch 90 finished\n"
          ]
        },
        {
          "output_type": "stream",
          "name": "stderr",
          "text": [
            "\n",
            "100%|██████████| 1/1 [00:00<00:00,  1.44it/s]"
          ]
        },
        {
          "output_type": "stream",
          "name": "stdout",
          "text": [
            "Epoch 91 finished\n"
          ]
        },
        {
          "output_type": "stream",
          "name": "stderr",
          "text": [
            "\n",
            "100%|██████████| 1/1 [00:00<00:00,  1.63it/s]"
          ]
        },
        {
          "output_type": "stream",
          "name": "stdout",
          "text": [
            "Epoch 92 finished\n"
          ]
        },
        {
          "output_type": "stream",
          "name": "stderr",
          "text": [
            "\n",
            "100%|██████████| 1/1 [00:00<00:00,  1.69it/s]"
          ]
        },
        {
          "output_type": "stream",
          "name": "stdout",
          "text": [
            "Epoch 93 finished\n"
          ]
        },
        {
          "output_type": "stream",
          "name": "stderr",
          "text": [
            "\n",
            "100%|██████████| 1/1 [00:00<00:00,  1.78it/s]"
          ]
        },
        {
          "output_type": "stream",
          "name": "stdout",
          "text": [
            "Epoch 94 finished\n"
          ]
        },
        {
          "output_type": "stream",
          "name": "stderr",
          "text": [
            "\n",
            "100%|██████████| 1/1 [00:00<00:00,  1.77it/s]"
          ]
        },
        {
          "output_type": "stream",
          "name": "stdout",
          "text": [
            "Epoch 95 finished\n"
          ]
        },
        {
          "output_type": "stream",
          "name": "stderr",
          "text": [
            "\n",
            "100%|██████████| 1/1 [00:00<00:00,  1.72it/s]"
          ]
        },
        {
          "output_type": "stream",
          "name": "stdout",
          "text": [
            "Epoch 96 finished\n"
          ]
        },
        {
          "output_type": "stream",
          "name": "stderr",
          "text": [
            "\n",
            "100%|██████████| 1/1 [00:00<00:00,  1.74it/s]"
          ]
        },
        {
          "output_type": "stream",
          "name": "stdout",
          "text": [
            "Epoch 97 finished\n"
          ]
        },
        {
          "output_type": "stream",
          "name": "stderr",
          "text": [
            "\n",
            "100%|██████████| 1/1 [00:00<00:00,  1.70it/s]"
          ]
        },
        {
          "output_type": "stream",
          "name": "stdout",
          "text": [
            "Epoch 98 finished\n"
          ]
        },
        {
          "output_type": "stream",
          "name": "stderr",
          "text": [
            "\n",
            "100%|██████████| 1/1 [00:00<00:00,  1.73it/s]"
          ]
        },
        {
          "output_type": "stream",
          "name": "stdout",
          "text": [
            "Epoch 99 finished\n"
          ]
        },
        {
          "output_type": "stream",
          "name": "stderr",
          "text": [
            "\n",
            "  0%|          | 0/1 [00:00<?, ?it/s]"
          ]
        },
        {
          "output_type": "stream",
          "name": "stdout",
          "text": [
            "(Steps: 2400100) train/TotalLoss = 0.2382.\n",
            "(Steps: 2400100) train/mel_loss_ = 0.0726.\n",
            "(Steps: 2400100) train/mel_loss = 0.0528.\n",
            "(Steps: 2400100) train/dur_loss = 0.0240.\n",
            "(Steps: 2400100) train/pitch_loss = 0.0265.\n",
            "(Steps: 2400100) train/energy_loss = 0.0622.\n",
            "(Steps: 2400100) train/batch_size = 3.4000.\n",
            "(Steps: 2400100) train/x_band_width = 2.8000.\n",
            "(Steps: 2400100) train/h_band_width = 2.8000.\n",
            "KanTtsSAMBERT learning rate: 0.000082\n"
          ]
        },
        {
          "output_type": "stream",
          "name": "stderr",
          "text": [
            "100%|██████████| 1/1 [00:00<00:00,  1.64it/s]"
          ]
        },
        {
          "output_type": "stream",
          "name": "stdout",
          "text": [
            "Epoch 100 finished\n"
          ]
        },
        {
          "output_type": "stream",
          "name": "stderr",
          "text": [
            "\n",
            "100%|██████████| 1/1 [00:00<00:00,  1.73it/s]"
          ]
        },
        {
          "output_type": "stream",
          "name": "stdout",
          "text": [
            "Epoch 101 finished\n"
          ]
        },
        {
          "output_type": "stream",
          "name": "stderr",
          "text": [
            "\n",
            "100%|██████████| 1/1 [00:00<00:00,  1.72it/s]"
          ]
        },
        {
          "output_type": "stream",
          "name": "stdout",
          "text": [
            "Epoch 102 finished\n"
          ]
        },
        {
          "output_type": "stream",
          "name": "stderr",
          "text": [
            "\n",
            "100%|██████████| 1/1 [00:00<00:00,  1.74it/s]"
          ]
        },
        {
          "output_type": "stream",
          "name": "stdout",
          "text": [
            "Epoch 103 finished\n"
          ]
        },
        {
          "output_type": "stream",
          "name": "stderr",
          "text": [
            "\n",
            "100%|██████████| 1/1 [00:00<00:00,  1.13it/s]"
          ]
        },
        {
          "output_type": "stream",
          "name": "stdout",
          "text": [
            "Epoch 104 finished\n"
          ]
        },
        {
          "output_type": "stream",
          "name": "stderr",
          "text": [
            "\n",
            "100%|██████████| 1/1 [00:00<00:00,  1.72it/s]"
          ]
        },
        {
          "output_type": "stream",
          "name": "stdout",
          "text": [
            "Epoch 105 finished\n"
          ]
        },
        {
          "output_type": "stream",
          "name": "stderr",
          "text": [
            "\n",
            "100%|██████████| 1/1 [00:00<00:00,  1.77it/s]"
          ]
        },
        {
          "output_type": "stream",
          "name": "stdout",
          "text": [
            "Epoch 106 finished\n"
          ]
        },
        {
          "output_type": "stream",
          "name": "stderr",
          "text": [
            "\n",
            "100%|██████████| 1/1 [00:00<00:00,  1.74it/s]"
          ]
        },
        {
          "output_type": "stream",
          "name": "stdout",
          "text": [
            "Epoch 107 finished\n"
          ]
        },
        {
          "output_type": "stream",
          "name": "stderr",
          "text": [
            "\n",
            "100%|██████████| 1/1 [00:00<00:00,  1.70it/s]"
          ]
        },
        {
          "output_type": "stream",
          "name": "stdout",
          "text": [
            "Epoch 108 finished\n"
          ]
        },
        {
          "output_type": "stream",
          "name": "stderr",
          "text": [
            "\n",
            "100%|██████████| 1/1 [00:00<00:00,  1.43it/s]"
          ]
        },
        {
          "output_type": "stream",
          "name": "stdout",
          "text": [
            "Epoch 109 finished\n"
          ]
        },
        {
          "output_type": "stream",
          "name": "stderr",
          "text": [
            "\n",
            "  0%|          | 0/1 [00:00<?, ?it/s]"
          ]
        },
        {
          "output_type": "stream",
          "name": "stdout",
          "text": [
            "(Steps: 2400110) train/TotalLoss = 0.2336.\n",
            "(Steps: 2400110) train/mel_loss_ = 0.0719.\n",
            "(Steps: 2400110) train/mel_loss = 0.0522.\n",
            "(Steps: 2400110) train/dur_loss = 0.0225.\n",
            "(Steps: 2400110) train/pitch_loss = 0.0258.\n",
            "(Steps: 2400110) train/energy_loss = 0.0611.\n",
            "(Steps: 2400110) train/batch_size = 3.4000.\n",
            "(Steps: 2400110) train/x_band_width = 2.8000.\n",
            "(Steps: 2400110) train/h_band_width = 2.8000.\n",
            "KanTtsSAMBERT learning rate: 0.000082\n"
          ]
        },
        {
          "output_type": "stream",
          "name": "stderr",
          "text": [
            "100%|██████████| 1/1 [00:00<00:00,  1.39it/s]"
          ]
        },
        {
          "output_type": "stream",
          "name": "stdout",
          "text": [
            "Epoch 110 finished\n"
          ]
        },
        {
          "output_type": "stream",
          "name": "stderr",
          "text": [
            "\n",
            "100%|██████████| 1/1 [00:00<00:00,  1.34it/s]"
          ]
        },
        {
          "output_type": "stream",
          "name": "stdout",
          "text": [
            "Epoch 111 finished\n"
          ]
        },
        {
          "output_type": "stream",
          "name": "stderr",
          "text": [
            "\n",
            "100%|██████████| 1/1 [00:00<00:00,  1.44it/s]"
          ]
        },
        {
          "output_type": "stream",
          "name": "stdout",
          "text": [
            "Epoch 112 finished\n"
          ]
        },
        {
          "output_type": "stream",
          "name": "stderr",
          "text": [
            "\n",
            "100%|██████████| 1/1 [00:00<00:00,  1.52it/s]"
          ]
        },
        {
          "output_type": "stream",
          "name": "stdout",
          "text": [
            "Epoch 113 finished\n"
          ]
        },
        {
          "output_type": "stream",
          "name": "stderr",
          "text": [
            "\n",
            "100%|██████████| 1/1 [00:00<00:00,  1.60it/s]"
          ]
        },
        {
          "output_type": "stream",
          "name": "stdout",
          "text": [
            "Epoch 114 finished\n"
          ]
        },
        {
          "output_type": "stream",
          "name": "stderr",
          "text": [
            "\n",
            "100%|██████████| 1/1 [00:00<00:00,  1.53it/s]"
          ]
        },
        {
          "output_type": "stream",
          "name": "stdout",
          "text": [
            "Epoch 115 finished\n"
          ]
        },
        {
          "output_type": "stream",
          "name": "stderr",
          "text": [
            "\n",
            "100%|██████████| 1/1 [00:00<00:00,  1.53it/s]"
          ]
        },
        {
          "output_type": "stream",
          "name": "stdout",
          "text": [
            "Epoch 116 finished\n"
          ]
        },
        {
          "output_type": "stream",
          "name": "stderr",
          "text": [
            "\n",
            "100%|██████████| 1/1 [00:00<00:00,  1.55it/s]"
          ]
        },
        {
          "output_type": "stream",
          "name": "stdout",
          "text": [
            "Epoch 117 finished\n"
          ]
        },
        {
          "output_type": "stream",
          "name": "stderr",
          "text": [
            "\n",
            "100%|██████████| 1/1 [00:00<00:00,  1.57it/s]"
          ]
        },
        {
          "output_type": "stream",
          "name": "stdout",
          "text": [
            "Epoch 118 finished\n"
          ]
        },
        {
          "output_type": "stream",
          "name": "stderr",
          "text": [
            "\n",
            "100%|██████████| 1/1 [00:00<00:00,  1.66it/s]"
          ]
        },
        {
          "output_type": "stream",
          "name": "stdout",
          "text": [
            "Epoch 119 finished\n"
          ]
        },
        {
          "output_type": "stream",
          "name": "stderr",
          "text": [
            "\n",
            "  0%|          | 0/1 [00:00<?, ?it/s]"
          ]
        },
        {
          "output_type": "stream",
          "name": "stdout",
          "text": [
            "(Steps: 2400120) train/TotalLoss = 0.2292.\n",
            "(Steps: 2400120) train/mel_loss_ = 0.0711.\n",
            "(Steps: 2400120) train/mel_loss = 0.0514.\n",
            "(Steps: 2400120) train/dur_loss = 0.0219.\n",
            "(Steps: 2400120) train/pitch_loss = 0.0253.\n",
            "(Steps: 2400120) train/energy_loss = 0.0595.\n",
            "(Steps: 2400120) train/batch_size = 3.4000.\n",
            "(Steps: 2400120) train/x_band_width = 2.8000.\n",
            "(Steps: 2400120) train/h_band_width = 2.8000.\n",
            "KanTtsSAMBERT learning rate: 0.000082\n"
          ]
        },
        {
          "output_type": "stream",
          "name": "stderr",
          "text": [
            "100%|██████████| 1/1 [00:00<00:00,  1.64it/s]"
          ]
        },
        {
          "output_type": "stream",
          "name": "stdout",
          "text": [
            "Epoch 120 finished\n"
          ]
        },
        {
          "output_type": "stream",
          "name": "stderr",
          "text": [
            "\n",
            "100%|██████████| 1/1 [00:00<00:00,  1.72it/s]"
          ]
        },
        {
          "output_type": "stream",
          "name": "stdout",
          "text": [
            "Epoch 121 finished\n"
          ]
        },
        {
          "output_type": "stream",
          "name": "stderr",
          "text": [
            "\n",
            "100%|██████████| 1/1 [00:00<00:00,  1.76it/s]"
          ]
        },
        {
          "output_type": "stream",
          "name": "stdout",
          "text": [
            "Epoch 122 finished\n"
          ]
        },
        {
          "output_type": "stream",
          "name": "stderr",
          "text": [
            "\n",
            "100%|██████████| 1/1 [00:00<00:00,  1.72it/s]"
          ]
        },
        {
          "output_type": "stream",
          "name": "stdout",
          "text": [
            "Epoch 123 finished\n"
          ]
        },
        {
          "output_type": "stream",
          "name": "stderr",
          "text": [
            "\n",
            "100%|██████████| 1/1 [00:00<00:00,  1.68it/s]"
          ]
        },
        {
          "output_type": "stream",
          "name": "stdout",
          "text": [
            "Epoch 124 finished\n"
          ]
        },
        {
          "output_type": "stream",
          "name": "stderr",
          "text": [
            "\n",
            "100%|██████████| 1/1 [00:00<00:00,  1.68it/s]"
          ]
        },
        {
          "output_type": "stream",
          "name": "stdout",
          "text": [
            "Epoch 125 finished\n"
          ]
        },
        {
          "output_type": "stream",
          "name": "stderr",
          "text": [
            "\n",
            "100%|██████████| 1/1 [00:00<00:00,  1.72it/s]"
          ]
        },
        {
          "output_type": "stream",
          "name": "stdout",
          "text": [
            "Epoch 126 finished\n"
          ]
        },
        {
          "output_type": "stream",
          "name": "stderr",
          "text": [
            "\n",
            "100%|██████████| 1/1 [00:00<00:00,  1.75it/s]"
          ]
        },
        {
          "output_type": "stream",
          "name": "stdout",
          "text": [
            "Epoch 127 finished\n"
          ]
        },
        {
          "output_type": "stream",
          "name": "stderr",
          "text": [
            "\n",
            "100%|██████████| 1/1 [00:00<00:00,  1.71it/s]"
          ]
        },
        {
          "output_type": "stream",
          "name": "stdout",
          "text": [
            "Epoch 128 finished\n"
          ]
        },
        {
          "output_type": "stream",
          "name": "stderr",
          "text": [
            "\n",
            "100%|██████████| 1/1 [00:00<00:00,  1.74it/s]"
          ]
        },
        {
          "output_type": "stream",
          "name": "stdout",
          "text": [
            "Epoch 129 finished\n"
          ]
        },
        {
          "output_type": "stream",
          "name": "stderr",
          "text": [
            "\n",
            "  0%|          | 0/1 [00:00<?, ?it/s]"
          ]
        },
        {
          "output_type": "stream",
          "name": "stdout",
          "text": [
            "(Steps: 2400130) train/TotalLoss = 0.2261.\n",
            "(Steps: 2400130) train/mel_loss_ = 0.0706.\n",
            "(Steps: 2400130) train/mel_loss = 0.0511.\n",
            "(Steps: 2400130) train/dur_loss = 0.0206.\n",
            "(Steps: 2400130) train/pitch_loss = 0.0248.\n",
            "(Steps: 2400130) train/energy_loss = 0.0590.\n",
            "(Steps: 2400130) train/batch_size = 3.4000.\n",
            "(Steps: 2400130) train/x_band_width = 2.8000.\n",
            "(Steps: 2400130) train/h_band_width = 2.8000.\n",
            "KanTtsSAMBERT learning rate: 0.000082\n"
          ]
        },
        {
          "output_type": "stream",
          "name": "stderr",
          "text": [
            "100%|██████████| 1/1 [00:00<00:00,  1.63it/s]"
          ]
        },
        {
          "output_type": "stream",
          "name": "stdout",
          "text": [
            "Epoch 130 finished\n"
          ]
        },
        {
          "output_type": "stream",
          "name": "stderr",
          "text": [
            "\n",
            "100%|██████████| 1/1 [00:00<00:00,  1.70it/s]"
          ]
        },
        {
          "output_type": "stream",
          "name": "stdout",
          "text": [
            "Epoch 131 finished\n"
          ]
        },
        {
          "output_type": "stream",
          "name": "stderr",
          "text": [
            "\n",
            "100%|██████████| 1/1 [00:00<00:00,  1.73it/s]"
          ]
        },
        {
          "output_type": "stream",
          "name": "stdout",
          "text": [
            "Epoch 132 finished\n"
          ]
        },
        {
          "output_type": "stream",
          "name": "stderr",
          "text": [
            "\n",
            "100%|██████████| 1/1 [00:00<00:00,  1.72it/s]"
          ]
        },
        {
          "output_type": "stream",
          "name": "stdout",
          "text": [
            "Epoch 133 finished\n"
          ]
        },
        {
          "output_type": "stream",
          "name": "stderr",
          "text": [
            "\n",
            "100%|██████████| 1/1 [00:00<00:00,  1.73it/s]"
          ]
        },
        {
          "output_type": "stream",
          "name": "stdout",
          "text": [
            "Epoch 134 finished\n"
          ]
        },
        {
          "output_type": "stream",
          "name": "stderr",
          "text": [
            "\n",
            "100%|██████████| 1/1 [00:00<00:00,  1.76it/s]"
          ]
        },
        {
          "output_type": "stream",
          "name": "stdout",
          "text": [
            "Epoch 135 finished\n"
          ]
        },
        {
          "output_type": "stream",
          "name": "stderr",
          "text": [
            "\n",
            "100%|██████████| 1/1 [00:00<00:00,  1.57it/s]"
          ]
        },
        {
          "output_type": "stream",
          "name": "stdout",
          "text": [
            "Epoch 136 finished\n"
          ]
        },
        {
          "output_type": "stream",
          "name": "stderr",
          "text": [
            "\n",
            "100%|██████████| 1/1 [00:00<00:00,  1.52it/s]"
          ]
        },
        {
          "output_type": "stream",
          "name": "stdout",
          "text": [
            "Epoch 137 finished\n"
          ]
        },
        {
          "output_type": "stream",
          "name": "stderr",
          "text": [
            "\n",
            "100%|██████████| 1/1 [00:00<00:00,  1.51it/s]"
          ]
        },
        {
          "output_type": "stream",
          "name": "stdout",
          "text": [
            "Epoch 138 finished\n"
          ]
        },
        {
          "output_type": "stream",
          "name": "stderr",
          "text": [
            "\n",
            "100%|██████████| 1/1 [00:00<00:00,  1.56it/s]"
          ]
        },
        {
          "output_type": "stream",
          "name": "stdout",
          "text": [
            "Epoch 139 finished\n"
          ]
        },
        {
          "output_type": "stream",
          "name": "stderr",
          "text": [
            "\n",
            "  0%|          | 0/1 [00:00<?, ?it/s]"
          ]
        },
        {
          "output_type": "stream",
          "name": "stdout",
          "text": [
            "(Steps: 2400140) train/TotalLoss = 0.2218.\n",
            "(Steps: 2400140) train/mel_loss_ = 0.0697.\n",
            "(Steps: 2400140) train/mel_loss = 0.0502.\n",
            "(Steps: 2400140) train/dur_loss = 0.0200.\n",
            "(Steps: 2400140) train/pitch_loss = 0.0244.\n",
            "(Steps: 2400140) train/energy_loss = 0.0576.\n",
            "(Steps: 2400140) train/batch_size = 3.4000.\n",
            "(Steps: 2400140) train/x_band_width = 2.8000.\n",
            "(Steps: 2400140) train/h_band_width = 2.8000.\n",
            "KanTtsSAMBERT learning rate: 0.000082\n"
          ]
        },
        {
          "output_type": "stream",
          "name": "stderr",
          "text": [
            "100%|██████████| 1/1 [00:00<00:00,  1.54it/s]"
          ]
        },
        {
          "output_type": "stream",
          "name": "stdout",
          "text": [
            "Epoch 140 finished\n"
          ]
        },
        {
          "output_type": "stream",
          "name": "stderr",
          "text": [
            "\n",
            "100%|██████████| 1/1 [00:00<00:00,  1.62it/s]"
          ]
        },
        {
          "output_type": "stream",
          "name": "stdout",
          "text": [
            "Epoch 141 finished\n"
          ]
        },
        {
          "output_type": "stream",
          "name": "stderr",
          "text": [
            "\n",
            "100%|██████████| 1/1 [00:00<00:00,  1.52it/s]"
          ]
        },
        {
          "output_type": "stream",
          "name": "stdout",
          "text": [
            "Epoch 142 finished\n"
          ]
        },
        {
          "output_type": "stream",
          "name": "stderr",
          "text": [
            "\n",
            "100%|██████████| 1/1 [00:00<00:00,  1.62it/s]"
          ]
        },
        {
          "output_type": "stream",
          "name": "stdout",
          "text": [
            "Epoch 143 finished\n"
          ]
        },
        {
          "output_type": "stream",
          "name": "stderr",
          "text": [
            "\n",
            "100%|██████████| 1/1 [00:00<00:00,  1.54it/s]"
          ]
        },
        {
          "output_type": "stream",
          "name": "stdout",
          "text": [
            "Epoch 144 finished\n"
          ]
        },
        {
          "output_type": "stream",
          "name": "stderr",
          "text": [
            "\n",
            "100%|██████████| 1/1 [00:00<00:00,  1.49it/s]"
          ]
        },
        {
          "output_type": "stream",
          "name": "stdout",
          "text": [
            "Epoch 145 finished\n"
          ]
        },
        {
          "output_type": "stream",
          "name": "stderr",
          "text": [
            "\n",
            "100%|██████████| 1/1 [00:00<00:00,  1.56it/s]"
          ]
        },
        {
          "output_type": "stream",
          "name": "stdout",
          "text": [
            "Epoch 146 finished\n"
          ]
        },
        {
          "output_type": "stream",
          "name": "stderr",
          "text": [
            "\n",
            "100%|██████████| 1/1 [00:00<00:00,  1.73it/s]"
          ]
        },
        {
          "output_type": "stream",
          "name": "stdout",
          "text": [
            "Epoch 147 finished\n"
          ]
        },
        {
          "output_type": "stream",
          "name": "stderr",
          "text": [
            "\n",
            "100%|██████████| 1/1 [00:00<00:00,  1.75it/s]"
          ]
        },
        {
          "output_type": "stream",
          "name": "stdout",
          "text": [
            "Epoch 148 finished\n"
          ]
        },
        {
          "output_type": "stream",
          "name": "stderr",
          "text": [
            "\n",
            "100%|██████████| 1/1 [00:00<00:00,  1.73it/s]"
          ]
        },
        {
          "output_type": "stream",
          "name": "stdout",
          "text": [
            "Epoch 149 finished\n"
          ]
        },
        {
          "output_type": "stream",
          "name": "stderr",
          "text": [
            "\n",
            "  0%|          | 0/1 [00:00<?, ?it/s]"
          ]
        },
        {
          "output_type": "stream",
          "name": "stdout",
          "text": [
            "(Steps: 2400150) train/TotalLoss = 0.2185.\n",
            "(Steps: 2400150) train/mel_loss_ = 0.0692.\n",
            "(Steps: 2400150) train/mel_loss = 0.0500.\n",
            "(Steps: 2400150) train/dur_loss = 0.0193.\n",
            "(Steps: 2400150) train/pitch_loss = 0.0234.\n",
            "(Steps: 2400150) train/energy_loss = 0.0566.\n",
            "(Steps: 2400150) train/batch_size = 3.4000.\n",
            "(Steps: 2400150) train/x_band_width = 2.8000.\n",
            "(Steps: 2400150) train/h_band_width = 2.8000.\n",
            "KanTtsSAMBERT learning rate: 0.000082\n"
          ]
        },
        {
          "output_type": "stream",
          "name": "stderr",
          "text": [
            "100%|██████████| 1/1 [00:00<00:00,  1.65it/s]"
          ]
        },
        {
          "output_type": "stream",
          "name": "stdout",
          "text": [
            "Epoch 150 finished\n"
          ]
        },
        {
          "output_type": "stream",
          "name": "stderr",
          "text": [
            "\n",
            "100%|██████████| 1/1 [00:00<00:00,  1.76it/s]"
          ]
        },
        {
          "output_type": "stream",
          "name": "stdout",
          "text": [
            "Epoch 151 finished\n"
          ]
        },
        {
          "output_type": "stream",
          "name": "stderr",
          "text": [
            "\n",
            "100%|██████████| 1/1 [00:00<00:00,  1.71it/s]"
          ]
        },
        {
          "output_type": "stream",
          "name": "stdout",
          "text": [
            "Epoch 152 finished\n"
          ]
        },
        {
          "output_type": "stream",
          "name": "stderr",
          "text": [
            "\n",
            "100%|██████████| 1/1 [00:00<00:00,  1.74it/s]"
          ]
        },
        {
          "output_type": "stream",
          "name": "stdout",
          "text": [
            "Epoch 153 finished\n"
          ]
        },
        {
          "output_type": "stream",
          "name": "stderr",
          "text": [
            "\n",
            "100%|██████████| 1/1 [00:00<00:00,  1.71it/s]"
          ]
        },
        {
          "output_type": "stream",
          "name": "stdout",
          "text": [
            "Epoch 154 finished\n"
          ]
        },
        {
          "output_type": "stream",
          "name": "stderr",
          "text": [
            "\n",
            "100%|██████████| 1/1 [00:00<00:00,  1.74it/s]"
          ]
        },
        {
          "output_type": "stream",
          "name": "stdout",
          "text": [
            "Epoch 155 finished\n"
          ]
        },
        {
          "output_type": "stream",
          "name": "stderr",
          "text": [
            "\n",
            "100%|██████████| 1/1 [00:00<00:00,  1.71it/s]"
          ]
        },
        {
          "output_type": "stream",
          "name": "stdout",
          "text": [
            "Epoch 156 finished\n"
          ]
        },
        {
          "output_type": "stream",
          "name": "stderr",
          "text": [
            "\n",
            "100%|██████████| 1/1 [00:00<00:00,  1.69it/s]"
          ]
        },
        {
          "output_type": "stream",
          "name": "stdout",
          "text": [
            "Epoch 157 finished\n"
          ]
        },
        {
          "output_type": "stream",
          "name": "stderr",
          "text": [
            "\n",
            "100%|██████████| 1/1 [00:00<00:00,  1.69it/s]"
          ]
        },
        {
          "output_type": "stream",
          "name": "stdout",
          "text": [
            "Epoch 158 finished\n"
          ]
        },
        {
          "output_type": "stream",
          "name": "stderr",
          "text": [
            "\n",
            "100%|██████████| 1/1 [00:00<00:00,  1.39it/s]"
          ]
        },
        {
          "output_type": "stream",
          "name": "stdout",
          "text": [
            "Epoch 159 finished\n"
          ]
        },
        {
          "output_type": "stream",
          "name": "stderr",
          "text": [
            "\n",
            "  0%|          | 0/1 [00:00<?, ?it/s]"
          ]
        },
        {
          "output_type": "stream",
          "name": "stdout",
          "text": [
            "(Steps: 2400160) train/TotalLoss = 0.2153.\n",
            "(Steps: 2400160) train/mel_loss_ = 0.0685.\n",
            "(Steps: 2400160) train/mel_loss = 0.0496.\n",
            "(Steps: 2400160) train/dur_loss = 0.0187.\n",
            "(Steps: 2400160) train/pitch_loss = 0.0230.\n",
            "(Steps: 2400160) train/energy_loss = 0.0555.\n",
            "(Steps: 2400160) train/batch_size = 3.4000.\n",
            "(Steps: 2400160) train/x_band_width = 2.8000.\n",
            "(Steps: 2400160) train/h_band_width = 2.8000.\n",
            "KanTtsSAMBERT learning rate: 0.000082\n"
          ]
        },
        {
          "output_type": "stream",
          "name": "stderr",
          "text": [
            "100%|██████████| 1/1 [00:00<00:00,  1.49it/s]"
          ]
        },
        {
          "output_type": "stream",
          "name": "stdout",
          "text": [
            "Epoch 160 finished\n"
          ]
        },
        {
          "output_type": "stream",
          "name": "stderr",
          "text": [
            "\n",
            "100%|██████████| 1/1 [00:00<00:00,  1.45it/s]"
          ]
        },
        {
          "output_type": "stream",
          "name": "stdout",
          "text": [
            "Epoch 161 finished\n"
          ]
        },
        {
          "output_type": "stream",
          "name": "stderr",
          "text": [
            "\n",
            "100%|██████████| 1/1 [00:00<00:00,  1.68it/s]"
          ]
        },
        {
          "output_type": "stream",
          "name": "stdout",
          "text": [
            "Epoch 162 finished\n"
          ]
        },
        {
          "output_type": "stream",
          "name": "stderr",
          "text": [
            "\n",
            "100%|██████████| 1/1 [00:00<00:00,  1.47it/s]"
          ]
        },
        {
          "output_type": "stream",
          "name": "stdout",
          "text": [
            "Epoch 163 finished\n"
          ]
        },
        {
          "output_type": "stream",
          "name": "stderr",
          "text": [
            "\n",
            "100%|██████████| 1/1 [00:00<00:00,  1.44it/s]"
          ]
        },
        {
          "output_type": "stream",
          "name": "stdout",
          "text": [
            "Epoch 164 finished\n"
          ]
        },
        {
          "output_type": "stream",
          "name": "stderr",
          "text": [
            "\n",
            "100%|██████████| 1/1 [00:00<00:00,  1.45it/s]"
          ]
        },
        {
          "output_type": "stream",
          "name": "stdout",
          "text": [
            "Epoch 165 finished\n"
          ]
        },
        {
          "output_type": "stream",
          "name": "stderr",
          "text": [
            "\n",
            "100%|██████████| 1/1 [00:00<00:00,  1.52it/s]"
          ]
        },
        {
          "output_type": "stream",
          "name": "stdout",
          "text": [
            "Epoch 166 finished\n"
          ]
        },
        {
          "output_type": "stream",
          "name": "stderr",
          "text": [
            "\n",
            "100%|██████████| 1/1 [00:00<00:00,  1.52it/s]"
          ]
        },
        {
          "output_type": "stream",
          "name": "stdout",
          "text": [
            "Epoch 167 finished\n"
          ]
        },
        {
          "output_type": "stream",
          "name": "stderr",
          "text": [
            "\n",
            "100%|██████████| 1/1 [00:00<00:00,  1.53it/s]"
          ]
        },
        {
          "output_type": "stream",
          "name": "stdout",
          "text": [
            "Epoch 168 finished\n"
          ]
        },
        {
          "output_type": "stream",
          "name": "stderr",
          "text": [
            "\n",
            "100%|██████████| 1/1 [00:00<00:00,  1.37it/s]"
          ]
        },
        {
          "output_type": "stream",
          "name": "stdout",
          "text": [
            "Epoch 169 finished\n"
          ]
        },
        {
          "output_type": "stream",
          "name": "stderr",
          "text": [
            "\n",
            "  0%|          | 0/1 [00:00<?, ?it/s]"
          ]
        },
        {
          "output_type": "stream",
          "name": "stdout",
          "text": [
            "(Steps: 2400170) train/TotalLoss = 0.2121.\n",
            "(Steps: 2400170) train/mel_loss_ = 0.0681.\n",
            "(Steps: 2400170) train/mel_loss = 0.0491.\n",
            "(Steps: 2400170) train/dur_loss = 0.0180.\n",
            "(Steps: 2400170) train/pitch_loss = 0.0224.\n",
            "(Steps: 2400170) train/energy_loss = 0.0545.\n",
            "(Steps: 2400170) train/batch_size = 3.4000.\n",
            "(Steps: 2400170) train/x_band_width = 2.8000.\n",
            "(Steps: 2400170) train/h_band_width = 2.8000.\n",
            "KanTtsSAMBERT learning rate: 0.000082\n"
          ]
        },
        {
          "output_type": "stream",
          "name": "stderr",
          "text": [
            "100%|██████████| 1/1 [00:00<00:00,  1.45it/s]"
          ]
        },
        {
          "output_type": "stream",
          "name": "stdout",
          "text": [
            "Epoch 170 finished\n"
          ]
        },
        {
          "output_type": "stream",
          "name": "stderr",
          "text": [
            "\n",
            "100%|██████████| 1/1 [00:00<00:00,  1.58it/s]"
          ]
        },
        {
          "output_type": "stream",
          "name": "stdout",
          "text": [
            "Epoch 171 finished\n"
          ]
        },
        {
          "output_type": "stream",
          "name": "stderr",
          "text": [
            "\n",
            "100%|██████████| 1/1 [00:00<00:00,  1.50it/s]"
          ]
        },
        {
          "output_type": "stream",
          "name": "stdout",
          "text": [
            "Epoch 172 finished\n"
          ]
        },
        {
          "output_type": "stream",
          "name": "stderr",
          "text": [
            "\n",
            "100%|██████████| 1/1 [00:00<00:00,  1.44it/s]"
          ]
        },
        {
          "output_type": "stream",
          "name": "stdout",
          "text": [
            "Epoch 173 finished\n"
          ]
        },
        {
          "output_type": "stream",
          "name": "stderr",
          "text": [
            "\n",
            "100%|██████████| 1/1 [00:00<00:00,  1.58it/s]"
          ]
        },
        {
          "output_type": "stream",
          "name": "stdout",
          "text": [
            "Epoch 174 finished\n"
          ]
        },
        {
          "output_type": "stream",
          "name": "stderr",
          "text": [
            "\n",
            "100%|██████████| 1/1 [00:00<00:00,  1.68it/s]"
          ]
        },
        {
          "output_type": "stream",
          "name": "stdout",
          "text": [
            "Epoch 175 finished\n"
          ]
        },
        {
          "output_type": "stream",
          "name": "stderr",
          "text": [
            "\n",
            "100%|██████████| 1/1 [00:00<00:00,  1.32it/s]"
          ]
        },
        {
          "output_type": "stream",
          "name": "stdout",
          "text": [
            "Epoch 176 finished\n"
          ]
        },
        {
          "output_type": "stream",
          "name": "stderr",
          "text": [
            "\n",
            "100%|██████████| 1/1 [00:00<00:00,  1.49it/s]"
          ]
        },
        {
          "output_type": "stream",
          "name": "stdout",
          "text": [
            "Epoch 177 finished\n"
          ]
        },
        {
          "output_type": "stream",
          "name": "stderr",
          "text": [
            "\n",
            "100%|██████████| 1/1 [00:00<00:00,  1.50it/s]"
          ]
        },
        {
          "output_type": "stream",
          "name": "stdout",
          "text": [
            "Epoch 178 finished\n"
          ]
        },
        {
          "output_type": "stream",
          "name": "stderr",
          "text": [
            "\n",
            "100%|██████████| 1/1 [00:00<00:00,  1.56it/s]"
          ]
        },
        {
          "output_type": "stream",
          "name": "stdout",
          "text": [
            "Epoch 179 finished\n"
          ]
        },
        {
          "output_type": "stream",
          "name": "stderr",
          "text": [
            "\n",
            "  0%|          | 0/1 [00:00<?, ?it/s]"
          ]
        },
        {
          "output_type": "stream",
          "name": "stdout",
          "text": [
            "(Steps: 2400180) train/TotalLoss = 0.2082.\n",
            "(Steps: 2400180) train/mel_loss_ = 0.0670.\n",
            "(Steps: 2400180) train/mel_loss = 0.0484.\n",
            "(Steps: 2400180) train/dur_loss = 0.0171.\n",
            "(Steps: 2400180) train/pitch_loss = 0.0220.\n",
            "(Steps: 2400180) train/energy_loss = 0.0537.\n",
            "(Steps: 2400180) train/batch_size = 3.4000.\n",
            "(Steps: 2400180) train/x_band_width = 2.8000.\n",
            "(Steps: 2400180) train/h_band_width = 2.8000.\n",
            "KanTtsSAMBERT learning rate: 0.000082\n"
          ]
        },
        {
          "output_type": "stream",
          "name": "stderr",
          "text": [
            "100%|██████████| 1/1 [00:00<00:00,  1.61it/s]"
          ]
        },
        {
          "output_type": "stream",
          "name": "stdout",
          "text": [
            "Epoch 180 finished\n"
          ]
        },
        {
          "output_type": "stream",
          "name": "stderr",
          "text": [
            "\n",
            "100%|██████████| 1/1 [00:00<00:00,  1.51it/s]"
          ]
        },
        {
          "output_type": "stream",
          "name": "stdout",
          "text": [
            "Epoch 181 finished\n"
          ]
        },
        {
          "output_type": "stream",
          "name": "stderr",
          "text": [
            "\n",
            "100%|██████████| 1/1 [00:00<00:00,  1.53it/s]"
          ]
        },
        {
          "output_type": "stream",
          "name": "stdout",
          "text": [
            "Epoch 182 finished\n"
          ]
        },
        {
          "output_type": "stream",
          "name": "stderr",
          "text": [
            "\n",
            "100%|██████████| 1/1 [00:00<00:00,  1.68it/s]"
          ]
        },
        {
          "output_type": "stream",
          "name": "stdout",
          "text": [
            "Epoch 183 finished\n"
          ]
        },
        {
          "output_type": "stream",
          "name": "stderr",
          "text": [
            "\n",
            "100%|██████████| 1/1 [00:00<00:00,  1.59it/s]"
          ]
        },
        {
          "output_type": "stream",
          "name": "stdout",
          "text": [
            "Epoch 184 finished\n"
          ]
        },
        {
          "output_type": "stream",
          "name": "stderr",
          "text": [
            "\n",
            "100%|██████████| 1/1 [00:00<00:00,  1.57it/s]"
          ]
        },
        {
          "output_type": "stream",
          "name": "stdout",
          "text": [
            "Epoch 185 finished\n"
          ]
        },
        {
          "output_type": "stream",
          "name": "stderr",
          "text": [
            "\n",
            "100%|██████████| 1/1 [00:00<00:00,  1.54it/s]"
          ]
        },
        {
          "output_type": "stream",
          "name": "stdout",
          "text": [
            "Epoch 186 finished\n"
          ]
        },
        {
          "output_type": "stream",
          "name": "stderr",
          "text": [
            "\n",
            "100%|██████████| 1/1 [00:00<00:00,  1.74it/s]"
          ]
        },
        {
          "output_type": "stream",
          "name": "stdout",
          "text": [
            "Epoch 187 finished\n"
          ]
        },
        {
          "output_type": "stream",
          "name": "stderr",
          "text": [
            "\n",
            "100%|██████████| 1/1 [00:00<00:00,  1.72it/s]"
          ]
        },
        {
          "output_type": "stream",
          "name": "stdout",
          "text": [
            "Epoch 188 finished\n"
          ]
        },
        {
          "output_type": "stream",
          "name": "stderr",
          "text": [
            "\n",
            "100%|██████████| 1/1 [00:00<00:00,  1.72it/s]"
          ]
        },
        {
          "output_type": "stream",
          "name": "stdout",
          "text": [
            "Epoch 189 finished\n"
          ]
        },
        {
          "output_type": "stream",
          "name": "stderr",
          "text": [
            "\n",
            "  0%|          | 0/1 [00:00<?, ?it/s]"
          ]
        },
        {
          "output_type": "stream",
          "name": "stdout",
          "text": [
            "(Steps: 2400190) train/TotalLoss = 0.2065.\n",
            "(Steps: 2400190) train/mel_loss_ = 0.0673.\n",
            "(Steps: 2400190) train/mel_loss = 0.0484.\n",
            "(Steps: 2400190) train/dur_loss = 0.0167.\n",
            "(Steps: 2400190) train/pitch_loss = 0.0214.\n",
            "(Steps: 2400190) train/energy_loss = 0.0527.\n",
            "(Steps: 2400190) train/batch_size = 3.4000.\n",
            "(Steps: 2400190) train/x_band_width = 2.8000.\n",
            "(Steps: 2400190) train/h_band_width = 2.8000.\n",
            "KanTtsSAMBERT learning rate: 0.000082\n"
          ]
        },
        {
          "output_type": "stream",
          "name": "stderr",
          "text": [
            "100%|██████████| 1/1 [00:00<00:00,  1.43it/s]"
          ]
        },
        {
          "output_type": "stream",
          "name": "stdout",
          "text": [
            "Epoch 190 finished\n"
          ]
        },
        {
          "output_type": "stream",
          "name": "stderr",
          "text": [
            "\n",
            "100%|██████████| 1/1 [00:00<00:00,  1.48it/s]"
          ]
        },
        {
          "output_type": "stream",
          "name": "stdout",
          "text": [
            "Epoch 191 finished\n"
          ]
        },
        {
          "output_type": "stream",
          "name": "stderr",
          "text": [
            "\n",
            "100%|██████████| 1/1 [00:00<00:00,  1.49it/s]"
          ]
        },
        {
          "output_type": "stream",
          "name": "stdout",
          "text": [
            "Epoch 192 finished\n"
          ]
        },
        {
          "output_type": "stream",
          "name": "stderr",
          "text": [
            "\n",
            "100%|██████████| 1/1 [00:00<00:00,  1.54it/s]"
          ]
        },
        {
          "output_type": "stream",
          "name": "stdout",
          "text": [
            "Epoch 193 finished\n"
          ]
        },
        {
          "output_type": "stream",
          "name": "stderr",
          "text": [
            "\n",
            "100%|██████████| 1/1 [00:00<00:00,  1.62it/s]"
          ]
        },
        {
          "output_type": "stream",
          "name": "stdout",
          "text": [
            "Epoch 194 finished\n"
          ]
        },
        {
          "output_type": "stream",
          "name": "stderr",
          "text": [
            "\n",
            "100%|██████████| 1/1 [00:00<00:00,  1.67it/s]"
          ]
        },
        {
          "output_type": "stream",
          "name": "stdout",
          "text": [
            "Epoch 195 finished\n"
          ]
        },
        {
          "output_type": "stream",
          "name": "stderr",
          "text": [
            "\n",
            "100%|██████████| 1/1 [00:00<00:00,  1.54it/s]"
          ]
        },
        {
          "output_type": "stream",
          "name": "stdout",
          "text": [
            "Epoch 196 finished\n"
          ]
        },
        {
          "output_type": "stream",
          "name": "stderr",
          "text": [
            "\n",
            "100%|██████████| 1/1 [00:00<00:00,  1.36it/s]"
          ]
        },
        {
          "output_type": "stream",
          "name": "stdout",
          "text": [
            "Epoch 197 finished\n"
          ]
        },
        {
          "output_type": "stream",
          "name": "stderr",
          "text": [
            "\n",
            "100%|██████████| 1/1 [00:00<00:00,  1.45it/s]"
          ]
        },
        {
          "output_type": "stream",
          "name": "stdout",
          "text": [
            "Epoch 198 finished\n"
          ]
        },
        {
          "output_type": "stream",
          "name": "stderr",
          "text": [
            "\n",
            "100%|██████████| 1/1 [00:00<00:00,  1.41it/s]"
          ]
        },
        {
          "output_type": "stream",
          "name": "stdout",
          "text": [
            "Epoch 199 finished\n"
          ]
        },
        {
          "output_type": "stream",
          "name": "stderr",
          "text": [
            "\n",
            "  0%|          | 0/1 [00:00<?, ?it/s]"
          ]
        },
        {
          "output_type": "stream",
          "name": "stdout",
          "text": [
            "(Steps: 2400200) train/TotalLoss = 0.2041.\n",
            "(Steps: 2400200) train/mel_loss_ = 0.0668.\n",
            "(Steps: 2400200) train/mel_loss = 0.0481.\n",
            "(Steps: 2400200) train/dur_loss = 0.0164.\n",
            "(Steps: 2400200) train/pitch_loss = 0.0209.\n",
            "(Steps: 2400200) train/energy_loss = 0.0519.\n",
            "(Steps: 2400200) train/batch_size = 3.4000.\n",
            "(Steps: 2400200) train/x_band_width = 2.8000.\n",
            "(Steps: 2400200) train/h_band_width = 2.8000.\n",
            "KanTtsSAMBERT learning rate: 0.000082\n"
          ]
        },
        {
          "output_type": "stream",
          "name": "stderr",
          "text": [
            "100%|██████████| 1/1 [00:00<00:00,  1.63it/s]"
          ]
        },
        {
          "output_type": "stream",
          "name": "stdout",
          "text": [
            "Epoch 200 finished\n"
          ]
        },
        {
          "output_type": "stream",
          "name": "stderr",
          "text": [
            "\n",
            "100%|██████████| 1/1 [00:00<00:00,  1.76it/s]"
          ]
        },
        {
          "output_type": "stream",
          "name": "stdout",
          "text": [
            "Epoch 201 finished\n"
          ]
        },
        {
          "output_type": "stream",
          "name": "stderr",
          "text": [
            "\n",
            "100%|██████████| 1/1 [00:00<00:00,  1.73it/s]"
          ]
        },
        {
          "output_type": "stream",
          "name": "stdout",
          "text": [
            "Epoch 202 finished\n"
          ]
        },
        {
          "output_type": "stream",
          "name": "stderr",
          "text": [
            "\n",
            "100%|██████████| 1/1 [00:00<00:00,  1.70it/s]"
          ]
        },
        {
          "output_type": "stream",
          "name": "stdout",
          "text": [
            "Epoch 203 finished\n"
          ]
        },
        {
          "output_type": "stream",
          "name": "stderr",
          "text": [
            "\n",
            "100%|██████████| 1/1 [00:00<00:00,  1.70it/s]"
          ]
        },
        {
          "output_type": "stream",
          "name": "stdout",
          "text": [
            "Epoch 204 finished\n"
          ]
        },
        {
          "output_type": "stream",
          "name": "stderr",
          "text": [
            "\n",
            "100%|██████████| 1/1 [00:00<00:00,  1.70it/s]"
          ]
        },
        {
          "output_type": "stream",
          "name": "stdout",
          "text": [
            "Epoch 205 finished\n"
          ]
        },
        {
          "output_type": "stream",
          "name": "stderr",
          "text": [
            "\n",
            "100%|██████████| 1/1 [00:00<00:00,  1.66it/s]"
          ]
        },
        {
          "output_type": "stream",
          "name": "stdout",
          "text": [
            "Epoch 206 finished\n"
          ]
        },
        {
          "output_type": "stream",
          "name": "stderr",
          "text": [
            "\n",
            "100%|██████████| 1/1 [00:00<00:00,  1.69it/s]"
          ]
        },
        {
          "output_type": "stream",
          "name": "stdout",
          "text": [
            "Epoch 207 finished\n"
          ]
        },
        {
          "output_type": "stream",
          "name": "stderr",
          "text": [
            "\n",
            "100%|██████████| 1/1 [00:00<00:00,  1.72it/s]"
          ]
        },
        {
          "output_type": "stream",
          "name": "stdout",
          "text": [
            "Epoch 208 finished\n"
          ]
        },
        {
          "output_type": "stream",
          "name": "stderr",
          "text": [
            "\n",
            "100%|██████████| 1/1 [00:00<00:00,  1.68it/s]"
          ]
        },
        {
          "output_type": "stream",
          "name": "stdout",
          "text": [
            "Epoch 209 finished\n"
          ]
        },
        {
          "output_type": "stream",
          "name": "stderr",
          "text": [
            "\n",
            "  0%|          | 0/1 [00:00<?, ?it/s]"
          ]
        },
        {
          "output_type": "stream",
          "name": "stdout",
          "text": [
            "(Steps: 2400210) train/TotalLoss = 0.2019.\n",
            "(Steps: 2400210) train/mel_loss_ = 0.0662.\n",
            "(Steps: 2400210) train/mel_loss = 0.0477.\n",
            "(Steps: 2400210) train/dur_loss = 0.0156.\n",
            "(Steps: 2400210) train/pitch_loss = 0.0207.\n",
            "(Steps: 2400210) train/energy_loss = 0.0516.\n",
            "(Steps: 2400210) train/batch_size = 3.4000.\n",
            "(Steps: 2400210) train/x_band_width = 2.8000.\n",
            "(Steps: 2400210) train/h_band_width = 2.8000.\n",
            "KanTtsSAMBERT learning rate: 0.000082\n"
          ]
        },
        {
          "output_type": "stream",
          "name": "stderr",
          "text": [
            "100%|██████████| 1/1 [00:00<00:00,  1.64it/s]"
          ]
        },
        {
          "output_type": "stream",
          "name": "stdout",
          "text": [
            "Epoch 210 finished\n"
          ]
        },
        {
          "output_type": "stream",
          "name": "stderr",
          "text": [
            "\n",
            "100%|██████████| 1/1 [00:00<00:00,  1.73it/s]"
          ]
        },
        {
          "output_type": "stream",
          "name": "stdout",
          "text": [
            "Epoch 211 finished\n"
          ]
        },
        {
          "output_type": "stream",
          "name": "stderr",
          "text": [
            "\n",
            "100%|██████████| 1/1 [00:00<00:00,  1.71it/s]"
          ]
        },
        {
          "output_type": "stream",
          "name": "stdout",
          "text": [
            "Epoch 212 finished\n"
          ]
        },
        {
          "output_type": "stream",
          "name": "stderr",
          "text": [
            "\n",
            "100%|██████████| 1/1 [00:00<00:00,  1.75it/s]"
          ]
        },
        {
          "output_type": "stream",
          "name": "stdout",
          "text": [
            "Epoch 213 finished\n"
          ]
        },
        {
          "output_type": "stream",
          "name": "stderr",
          "text": [
            "\n",
            "100%|██████████| 1/1 [00:00<00:00,  1.73it/s]"
          ]
        },
        {
          "output_type": "stream",
          "name": "stdout",
          "text": [
            "Epoch 214 finished\n"
          ]
        },
        {
          "output_type": "stream",
          "name": "stderr",
          "text": [
            "\n",
            "100%|██████████| 1/1 [00:00<00:00,  1.68it/s]"
          ]
        },
        {
          "output_type": "stream",
          "name": "stdout",
          "text": [
            "Epoch 215 finished\n"
          ]
        },
        {
          "output_type": "stream",
          "name": "stderr",
          "text": [
            "\n",
            "100%|██████████| 1/1 [00:00<00:00,  1.72it/s]"
          ]
        },
        {
          "output_type": "stream",
          "name": "stdout",
          "text": [
            "Epoch 216 finished\n"
          ]
        },
        {
          "output_type": "stream",
          "name": "stderr",
          "text": [
            "\n",
            "100%|██████████| 1/1 [00:00<00:00,  1.54it/s]"
          ]
        },
        {
          "output_type": "stream",
          "name": "stdout",
          "text": [
            "Epoch 217 finished\n"
          ]
        },
        {
          "output_type": "stream",
          "name": "stderr",
          "text": [
            "\n",
            "100%|██████████| 1/1 [00:00<00:00,  1.48it/s]"
          ]
        },
        {
          "output_type": "stream",
          "name": "stdout",
          "text": [
            "Epoch 218 finished\n"
          ]
        },
        {
          "output_type": "stream",
          "name": "stderr",
          "text": [
            "\n",
            "100%|██████████| 1/1 [00:00<00:00,  1.58it/s]"
          ]
        },
        {
          "output_type": "stream",
          "name": "stdout",
          "text": [
            "Epoch 219 finished\n"
          ]
        },
        {
          "output_type": "stream",
          "name": "stderr",
          "text": [
            "\n",
            "  0%|          | 0/1 [00:00<?, ?it/s]"
          ]
        },
        {
          "output_type": "stream",
          "name": "stdout",
          "text": [
            "(Steps: 2400220) train/TotalLoss = 0.1990.\n",
            "(Steps: 2400220) train/mel_loss_ = 0.0655.\n",
            "(Steps: 2400220) train/mel_loss = 0.0472.\n",
            "(Steps: 2400220) train/dur_loss = 0.0155.\n",
            "(Steps: 2400220) train/pitch_loss = 0.0200.\n",
            "(Steps: 2400220) train/energy_loss = 0.0507.\n",
            "(Steps: 2400220) train/batch_size = 3.4000.\n",
            "(Steps: 2400220) train/x_band_width = 2.8000.\n",
            "(Steps: 2400220) train/h_band_width = 2.8000.\n",
            "KanTtsSAMBERT learning rate: 0.000082\n"
          ]
        },
        {
          "output_type": "stream",
          "name": "stderr",
          "text": [
            "100%|██████████| 1/1 [00:00<00:00,  1.55it/s]"
          ]
        },
        {
          "output_type": "stream",
          "name": "stdout",
          "text": [
            "Epoch 220 finished\n"
          ]
        },
        {
          "output_type": "stream",
          "name": "stderr",
          "text": [
            "\n",
            "100%|██████████| 1/1 [00:00<00:00,  1.62it/s]"
          ]
        },
        {
          "output_type": "stream",
          "name": "stdout",
          "text": [
            "Epoch 221 finished\n"
          ]
        },
        {
          "output_type": "stream",
          "name": "stderr",
          "text": [
            "\n",
            "100%|██████████| 1/1 [00:00<00:00,  1.60it/s]"
          ]
        },
        {
          "output_type": "stream",
          "name": "stdout",
          "text": [
            "Epoch 222 finished\n"
          ]
        },
        {
          "output_type": "stream",
          "name": "stderr",
          "text": [
            "\n",
            "100%|██████████| 1/1 [00:00<00:00,  1.52it/s]"
          ]
        },
        {
          "output_type": "stream",
          "name": "stdout",
          "text": [
            "Epoch 223 finished\n"
          ]
        },
        {
          "output_type": "stream",
          "name": "stderr",
          "text": [
            "\n",
            "100%|██████████| 1/1 [00:00<00:00,  1.61it/s]"
          ]
        },
        {
          "output_type": "stream",
          "name": "stdout",
          "text": [
            "Epoch 224 finished\n"
          ]
        },
        {
          "output_type": "stream",
          "name": "stderr",
          "text": [
            "\n",
            "100%|██████████| 1/1 [00:00<00:00,  1.60it/s]"
          ]
        },
        {
          "output_type": "stream",
          "name": "stdout",
          "text": [
            "Epoch 225 finished\n"
          ]
        },
        {
          "output_type": "stream",
          "name": "stderr",
          "text": [
            "\n",
            "100%|██████████| 1/1 [00:00<00:00,  1.61it/s]"
          ]
        },
        {
          "output_type": "stream",
          "name": "stdout",
          "text": [
            "Epoch 226 finished\n"
          ]
        },
        {
          "output_type": "stream",
          "name": "stderr",
          "text": [
            "\n",
            "100%|██████████| 1/1 [00:00<00:00,  1.64it/s]"
          ]
        },
        {
          "output_type": "stream",
          "name": "stdout",
          "text": [
            "Epoch 227 finished\n"
          ]
        },
        {
          "output_type": "stream",
          "name": "stderr",
          "text": [
            "\n",
            "100%|██████████| 1/1 [00:00<00:00,  1.67it/s]"
          ]
        },
        {
          "output_type": "stream",
          "name": "stdout",
          "text": [
            "Epoch 228 finished\n"
          ]
        },
        {
          "output_type": "stream",
          "name": "stderr",
          "text": [
            "\n",
            "100%|██████████| 1/1 [00:00<00:00,  1.74it/s]"
          ]
        },
        {
          "output_type": "stream",
          "name": "stdout",
          "text": [
            "Epoch 229 finished\n"
          ]
        },
        {
          "output_type": "stream",
          "name": "stderr",
          "text": [
            "\n",
            "  0%|          | 0/1 [00:00<?, ?it/s]"
          ]
        },
        {
          "output_type": "stream",
          "name": "stdout",
          "text": [
            "(Steps: 2400230) train/TotalLoss = 0.1979.\n",
            "(Steps: 2400230) train/mel_loss_ = 0.0657.\n",
            "(Steps: 2400230) train/mel_loss = 0.0472.\n",
            "(Steps: 2400230) train/dur_loss = 0.0151.\n",
            "(Steps: 2400230) train/pitch_loss = 0.0197.\n",
            "(Steps: 2400230) train/energy_loss = 0.0501.\n",
            "(Steps: 2400230) train/batch_size = 3.4000.\n",
            "(Steps: 2400230) train/x_band_width = 2.8000.\n",
            "(Steps: 2400230) train/h_band_width = 2.8000.\n",
            "KanTtsSAMBERT learning rate: 0.000082\n"
          ]
        },
        {
          "output_type": "stream",
          "name": "stderr",
          "text": [
            "100%|██████████| 1/1 [00:00<00:00,  1.64it/s]"
          ]
        },
        {
          "output_type": "stream",
          "name": "stdout",
          "text": [
            "Epoch 230 finished\n"
          ]
        },
        {
          "output_type": "stream",
          "name": "stderr",
          "text": [
            "\n",
            "100%|██████████| 1/1 [00:00<00:00,  1.74it/s]"
          ]
        },
        {
          "output_type": "stream",
          "name": "stdout",
          "text": [
            "Epoch 231 finished\n"
          ]
        },
        {
          "output_type": "stream",
          "name": "stderr",
          "text": [
            "\n",
            "100%|██████████| 1/1 [00:00<00:00,  1.73it/s]"
          ]
        },
        {
          "output_type": "stream",
          "name": "stdout",
          "text": [
            "Epoch 232 finished\n"
          ]
        },
        {
          "output_type": "stream",
          "name": "stderr",
          "text": [
            "\n",
            "100%|██████████| 1/1 [00:00<00:00,  1.69it/s]"
          ]
        },
        {
          "output_type": "stream",
          "name": "stdout",
          "text": [
            "Epoch 233 finished\n"
          ]
        },
        {
          "output_type": "stream",
          "name": "stderr",
          "text": [
            "\n",
            "100%|██████████| 1/1 [00:00<00:00,  1.72it/s]"
          ]
        },
        {
          "output_type": "stream",
          "name": "stdout",
          "text": [
            "Epoch 234 finished\n"
          ]
        },
        {
          "output_type": "stream",
          "name": "stderr",
          "text": [
            "\n",
            "100%|██████████| 1/1 [00:00<00:00,  1.72it/s]"
          ]
        },
        {
          "output_type": "stream",
          "name": "stdout",
          "text": [
            "Epoch 235 finished\n"
          ]
        },
        {
          "output_type": "stream",
          "name": "stderr",
          "text": [
            "\n",
            "100%|██████████| 1/1 [00:00<00:00,  1.70it/s]"
          ]
        },
        {
          "output_type": "stream",
          "name": "stdout",
          "text": [
            "Epoch 236 finished\n"
          ]
        },
        {
          "output_type": "stream",
          "name": "stderr",
          "text": [
            "\n",
            "100%|██████████| 1/1 [00:00<00:00,  1.72it/s]"
          ]
        },
        {
          "output_type": "stream",
          "name": "stdout",
          "text": [
            "Epoch 237 finished\n"
          ]
        },
        {
          "output_type": "stream",
          "name": "stderr",
          "text": [
            "\n",
            "100%|██████████| 1/1 [00:00<00:00,  1.71it/s]"
          ]
        },
        {
          "output_type": "stream",
          "name": "stdout",
          "text": [
            "Epoch 238 finished\n"
          ]
        },
        {
          "output_type": "stream",
          "name": "stderr",
          "text": [
            "\n",
            "100%|██████████| 1/1 [00:00<00:00,  1.65it/s]"
          ]
        },
        {
          "output_type": "stream",
          "name": "stdout",
          "text": [
            "Epoch 239 finished\n"
          ]
        },
        {
          "output_type": "stream",
          "name": "stderr",
          "text": [
            "\n",
            "  0%|          | 0/1 [00:00<?, ?it/s]"
          ]
        },
        {
          "output_type": "stream",
          "name": "stdout",
          "text": [
            "(Steps: 2400240) train/TotalLoss = 0.1950.\n",
            "(Steps: 2400240) train/mel_loss_ = 0.0650.\n",
            "(Steps: 2400240) train/mel_loss = 0.0468.\n",
            "(Steps: 2400240) train/dur_loss = 0.0148.\n",
            "(Steps: 2400240) train/pitch_loss = 0.0193.\n",
            "(Steps: 2400240) train/energy_loss = 0.0491.\n",
            "(Steps: 2400240) train/batch_size = 3.4000.\n",
            "(Steps: 2400240) train/x_band_width = 2.8000.\n",
            "(Steps: 2400240) train/h_band_width = 2.8000.\n",
            "KanTtsSAMBERT learning rate: 0.000082\n"
          ]
        },
        {
          "output_type": "stream",
          "name": "stderr",
          "text": [
            "100%|██████████| 1/1 [00:00<00:00,  1.60it/s]"
          ]
        },
        {
          "output_type": "stream",
          "name": "stdout",
          "text": [
            "Epoch 240 finished\n"
          ]
        },
        {
          "output_type": "stream",
          "name": "stderr",
          "text": [
            "\n",
            "100%|██████████| 1/1 [00:00<00:00,  1.74it/s]"
          ]
        },
        {
          "output_type": "stream",
          "name": "stdout",
          "text": [
            "Epoch 241 finished\n"
          ]
        },
        {
          "output_type": "stream",
          "name": "stderr",
          "text": [
            "\n",
            "100%|██████████| 1/1 [00:00<00:00,  1.74it/s]"
          ]
        },
        {
          "output_type": "stream",
          "name": "stdout",
          "text": [
            "Epoch 242 finished\n"
          ]
        },
        {
          "output_type": "stream",
          "name": "stderr",
          "text": [
            "\n",
            "100%|██████████| 1/1 [00:00<00:00,  1.70it/s]"
          ]
        },
        {
          "output_type": "stream",
          "name": "stdout",
          "text": [
            "Epoch 243 finished\n"
          ]
        },
        {
          "output_type": "stream",
          "name": "stderr",
          "text": [
            "\n",
            "100%|██████████| 1/1 [00:00<00:00,  1.76it/s]"
          ]
        },
        {
          "output_type": "stream",
          "name": "stdout",
          "text": [
            "Epoch 244 finished\n"
          ]
        },
        {
          "output_type": "stream",
          "name": "stderr",
          "text": [
            "\n",
            "100%|██████████| 1/1 [00:00<00:00,  1.53it/s]"
          ]
        },
        {
          "output_type": "stream",
          "name": "stdout",
          "text": [
            "Epoch 245 finished\n"
          ]
        },
        {
          "output_type": "stream",
          "name": "stderr",
          "text": [
            "\n",
            "100%|██████████| 1/1 [00:00<00:00,  1.51it/s]"
          ]
        },
        {
          "output_type": "stream",
          "name": "stdout",
          "text": [
            "Epoch 246 finished\n"
          ]
        },
        {
          "output_type": "stream",
          "name": "stderr",
          "text": [
            "\n",
            "100%|██████████| 1/1 [00:00<00:00,  1.43it/s]"
          ]
        },
        {
          "output_type": "stream",
          "name": "stdout",
          "text": [
            "Epoch 247 finished\n"
          ]
        },
        {
          "output_type": "stream",
          "name": "stderr",
          "text": [
            "\n",
            "100%|██████████| 1/1 [00:00<00:00,  1.55it/s]"
          ]
        },
        {
          "output_type": "stream",
          "name": "stdout",
          "text": [
            "Epoch 248 finished\n"
          ]
        },
        {
          "output_type": "stream",
          "name": "stderr",
          "text": [
            "\n",
            "100%|██████████| 1/1 [00:00<00:00,  1.47it/s]"
          ]
        },
        {
          "output_type": "stream",
          "name": "stdout",
          "text": [
            "Epoch 249 finished\n"
          ]
        },
        {
          "output_type": "stream",
          "name": "stderr",
          "text": [
            "\n",
            "  0%|          | 0/1 [00:00<?, ?it/s]"
          ]
        },
        {
          "output_type": "stream",
          "name": "stdout",
          "text": [
            "(Steps: 2400250) train/TotalLoss = 0.1936.\n",
            "(Steps: 2400250) train/mel_loss_ = 0.0649.\n",
            "(Steps: 2400250) train/mel_loss = 0.0466.\n",
            "(Steps: 2400250) train/dur_loss = 0.0144.\n",
            "(Steps: 2400250) train/pitch_loss = 0.0189.\n",
            "(Steps: 2400250) train/energy_loss = 0.0487.\n",
            "(Steps: 2400250) train/batch_size = 3.4000.\n",
            "(Steps: 2400250) train/x_band_width = 2.8000.\n",
            "(Steps: 2400250) train/h_band_width = 2.8000.\n",
            "KanTtsSAMBERT learning rate: 0.000082\n"
          ]
        },
        {
          "output_type": "stream",
          "name": "stderr",
          "text": [
            "100%|██████████| 1/1 [00:00<00:00,  1.28it/s]"
          ]
        },
        {
          "output_type": "stream",
          "name": "stdout",
          "text": [
            "Epoch 250 finished\n"
          ]
        },
        {
          "output_type": "stream",
          "name": "stderr",
          "text": [
            "\n",
            "100%|██████████| 1/1 [00:00<00:00,  1.35it/s]"
          ]
        },
        {
          "output_type": "stream",
          "name": "stdout",
          "text": [
            "Epoch 251 finished\n"
          ]
        },
        {
          "output_type": "stream",
          "name": "stderr",
          "text": [
            "\n",
            "100%|██████████| 1/1 [00:00<00:00,  1.27it/s]"
          ]
        },
        {
          "output_type": "stream",
          "name": "stdout",
          "text": [
            "Epoch 252 finished\n"
          ]
        },
        {
          "output_type": "stream",
          "name": "stderr",
          "text": [
            "\n",
            "100%|██████████| 1/1 [00:00<00:00,  1.30it/s]"
          ]
        },
        {
          "output_type": "stream",
          "name": "stdout",
          "text": [
            "Epoch 253 finished\n"
          ]
        },
        {
          "output_type": "stream",
          "name": "stderr",
          "text": [
            "\n",
            "100%|██████████| 1/1 [00:00<00:00,  1.32it/s]"
          ]
        },
        {
          "output_type": "stream",
          "name": "stdout",
          "text": [
            "Epoch 254 finished\n"
          ]
        },
        {
          "output_type": "stream",
          "name": "stderr",
          "text": [
            "\n",
            "100%|██████████| 1/1 [00:00<00:00,  1.32it/s]"
          ]
        },
        {
          "output_type": "stream",
          "name": "stdout",
          "text": [
            "Epoch 255 finished\n"
          ]
        },
        {
          "output_type": "stream",
          "name": "stderr",
          "text": [
            "\n",
            "100%|██████████| 1/1 [00:00<00:00,  1.49it/s]"
          ]
        },
        {
          "output_type": "stream",
          "name": "stdout",
          "text": [
            "Epoch 256 finished\n"
          ]
        },
        {
          "output_type": "stream",
          "name": "stderr",
          "text": [
            "\n",
            "100%|██████████| 1/1 [00:00<00:00,  1.56it/s]"
          ]
        },
        {
          "output_type": "stream",
          "name": "stdout",
          "text": [
            "Epoch 257 finished\n"
          ]
        },
        {
          "output_type": "stream",
          "name": "stderr",
          "text": [
            "\n",
            "100%|██████████| 1/1 [00:00<00:00,  1.58it/s]"
          ]
        },
        {
          "output_type": "stream",
          "name": "stdout",
          "text": [
            "Epoch 258 finished\n"
          ]
        },
        {
          "output_type": "stream",
          "name": "stderr",
          "text": [
            "\n",
            "100%|██████████| 1/1 [00:00<00:00,  1.67it/s]"
          ]
        },
        {
          "output_type": "stream",
          "name": "stdout",
          "text": [
            "Epoch 259 finished\n"
          ]
        },
        {
          "output_type": "stream",
          "name": "stderr",
          "text": [
            "\n",
            "  0%|          | 0/1 [00:00<?, ?it/s]"
          ]
        },
        {
          "output_type": "stream",
          "name": "stdout",
          "text": [
            "(Steps: 2400260) train/TotalLoss = 0.1919.\n",
            "(Steps: 2400260) train/mel_loss_ = 0.0641.\n",
            "(Steps: 2400260) train/mel_loss = 0.0462.\n",
            "(Steps: 2400260) train/dur_loss = 0.0144.\n",
            "(Steps: 2400260) train/pitch_loss = 0.0188.\n",
            "(Steps: 2400260) train/energy_loss = 0.0483.\n",
            "(Steps: 2400260) train/batch_size = 3.4000.\n",
            "(Steps: 2400260) train/x_band_width = 2.8000.\n",
            "(Steps: 2400260) train/h_band_width = 2.8000.\n",
            "KanTtsSAMBERT learning rate: 0.000082\n"
          ]
        },
        {
          "output_type": "stream",
          "name": "stderr",
          "text": [
            "100%|██████████| 1/1 [00:00<00:00,  1.56it/s]"
          ]
        },
        {
          "output_type": "stream",
          "name": "stdout",
          "text": [
            "Epoch 260 finished\n"
          ]
        },
        {
          "output_type": "stream",
          "name": "stderr",
          "text": [
            "\n",
            "100%|██████████| 1/1 [00:00<00:00,  1.73it/s]"
          ]
        },
        {
          "output_type": "stream",
          "name": "stdout",
          "text": [
            "Epoch 261 finished\n"
          ]
        },
        {
          "output_type": "stream",
          "name": "stderr",
          "text": [
            "\n",
            "100%|██████████| 1/1 [00:00<00:00,  1.70it/s]"
          ]
        },
        {
          "output_type": "stream",
          "name": "stdout",
          "text": [
            "Epoch 262 finished\n"
          ]
        },
        {
          "output_type": "stream",
          "name": "stderr",
          "text": [
            "\n",
            "100%|██████████| 1/1 [00:00<00:00,  1.76it/s]"
          ]
        },
        {
          "output_type": "stream",
          "name": "stdout",
          "text": [
            "Epoch 263 finished\n"
          ]
        },
        {
          "output_type": "stream",
          "name": "stderr",
          "text": [
            "\n",
            "100%|██████████| 1/1 [00:00<00:00,  1.72it/s]"
          ]
        },
        {
          "output_type": "stream",
          "name": "stdout",
          "text": [
            "Epoch 264 finished\n"
          ]
        },
        {
          "output_type": "stream",
          "name": "stderr",
          "text": [
            "\n",
            "100%|██████████| 1/1 [00:00<00:00,  1.75it/s]"
          ]
        },
        {
          "output_type": "stream",
          "name": "stdout",
          "text": [
            "Epoch 265 finished\n"
          ]
        },
        {
          "output_type": "stream",
          "name": "stderr",
          "text": [
            "\n",
            "100%|██████████| 1/1 [00:00<00:00,  1.67it/s]"
          ]
        },
        {
          "output_type": "stream",
          "name": "stdout",
          "text": [
            "Epoch 266 finished\n"
          ]
        },
        {
          "output_type": "stream",
          "name": "stderr",
          "text": [
            "\n",
            "100%|██████████| 1/1 [00:00<00:00,  1.71it/s]"
          ]
        },
        {
          "output_type": "stream",
          "name": "stdout",
          "text": [
            "Epoch 267 finished\n"
          ]
        },
        {
          "output_type": "stream",
          "name": "stderr",
          "text": [
            "\n",
            "100%|██████████| 1/1 [00:00<00:00,  1.73it/s]"
          ]
        },
        {
          "output_type": "stream",
          "name": "stdout",
          "text": [
            "Epoch 268 finished\n"
          ]
        },
        {
          "output_type": "stream",
          "name": "stderr",
          "text": [
            "\n",
            "100%|██████████| 1/1 [00:00<00:00,  1.66it/s]"
          ]
        },
        {
          "output_type": "stream",
          "name": "stdout",
          "text": [
            "Epoch 269 finished\n"
          ]
        },
        {
          "output_type": "stream",
          "name": "stderr",
          "text": [
            "\n",
            "  0%|          | 0/1 [00:00<?, ?it/s]"
          ]
        },
        {
          "output_type": "stream",
          "name": "stdout",
          "text": [
            "(Steps: 2400270) train/TotalLoss = 0.1900.\n",
            "(Steps: 2400270) train/mel_loss_ = 0.0641.\n",
            "(Steps: 2400270) train/mel_loss = 0.0460.\n",
            "(Steps: 2400270) train/dur_loss = 0.0139.\n",
            "(Steps: 2400270) train/pitch_loss = 0.0183.\n",
            "(Steps: 2400270) train/energy_loss = 0.0477.\n",
            "(Steps: 2400270) train/batch_size = 3.4000.\n",
            "(Steps: 2400270) train/x_band_width = 2.8000.\n",
            "(Steps: 2400270) train/h_band_width = 2.8000.\n",
            "KanTtsSAMBERT learning rate: 0.000082\n"
          ]
        },
        {
          "output_type": "stream",
          "name": "stderr",
          "text": [
            "100%|██████████| 1/1 [00:00<00:00,  1.64it/s]"
          ]
        },
        {
          "output_type": "stream",
          "name": "stdout",
          "text": [
            "Epoch 270 finished\n"
          ]
        },
        {
          "output_type": "stream",
          "name": "stderr",
          "text": [
            "\n",
            "100%|██████████| 1/1 [00:00<00:00,  1.76it/s]"
          ]
        },
        {
          "output_type": "stream",
          "name": "stdout",
          "text": [
            "Epoch 271 finished\n"
          ]
        },
        {
          "output_type": "stream",
          "name": "stderr",
          "text": [
            "\n",
            "100%|██████████| 1/1 [00:00<00:00,  1.63it/s]"
          ]
        },
        {
          "output_type": "stream",
          "name": "stdout",
          "text": [
            "Epoch 272 finished\n"
          ]
        },
        {
          "output_type": "stream",
          "name": "stderr",
          "text": [
            "\n",
            "100%|██████████| 1/1 [00:00<00:00,  1.57it/s]"
          ]
        },
        {
          "output_type": "stream",
          "name": "stdout",
          "text": [
            "Epoch 273 finished\n"
          ]
        },
        {
          "output_type": "stream",
          "name": "stderr",
          "text": [
            "\n",
            "100%|██████████| 1/1 [00:00<00:00,  1.54it/s]"
          ]
        },
        {
          "output_type": "stream",
          "name": "stdout",
          "text": [
            "Epoch 274 finished\n"
          ]
        },
        {
          "output_type": "stream",
          "name": "stderr",
          "text": [
            "\n",
            "100%|██████████| 1/1 [00:00<00:00,  1.61it/s]"
          ]
        },
        {
          "output_type": "stream",
          "name": "stdout",
          "text": [
            "Epoch 275 finished\n"
          ]
        },
        {
          "output_type": "stream",
          "name": "stderr",
          "text": [
            "\n",
            "100%|██████████| 1/1 [00:00<00:00,  1.56it/s]"
          ]
        },
        {
          "output_type": "stream",
          "name": "stdout",
          "text": [
            "Epoch 276 finished\n"
          ]
        },
        {
          "output_type": "stream",
          "name": "stderr",
          "text": [
            "\n",
            "100%|██████████| 1/1 [00:00<00:00,  1.61it/s]"
          ]
        },
        {
          "output_type": "stream",
          "name": "stdout",
          "text": [
            "Epoch 277 finished\n"
          ]
        },
        {
          "output_type": "stream",
          "name": "stderr",
          "text": [
            "\n",
            "100%|██████████| 1/1 [00:00<00:00,  1.61it/s]"
          ]
        },
        {
          "output_type": "stream",
          "name": "stdout",
          "text": [
            "Epoch 278 finished\n"
          ]
        },
        {
          "output_type": "stream",
          "name": "stderr",
          "text": [
            "\n",
            "100%|██████████| 1/1 [00:00<00:00,  1.49it/s]"
          ]
        },
        {
          "output_type": "stream",
          "name": "stdout",
          "text": [
            "Epoch 279 finished\n"
          ]
        },
        {
          "output_type": "stream",
          "name": "stderr",
          "text": [
            "\n",
            "  0%|          | 0/1 [00:00<?, ?it/s]"
          ]
        },
        {
          "output_type": "stream",
          "name": "stdout",
          "text": [
            "(Steps: 2400280) train/TotalLoss = 0.1876.\n",
            "(Steps: 2400280) train/mel_loss_ = 0.0634.\n",
            "(Steps: 2400280) train/mel_loss = 0.0457.\n",
            "(Steps: 2400280) train/dur_loss = 0.0138.\n",
            "(Steps: 2400280) train/pitch_loss = 0.0178.\n",
            "(Steps: 2400280) train/energy_loss = 0.0469.\n",
            "(Steps: 2400280) train/batch_size = 3.4000.\n",
            "(Steps: 2400280) train/x_band_width = 2.8000.\n",
            "(Steps: 2400280) train/h_band_width = 2.8000.\n",
            "KanTtsSAMBERT learning rate: 0.000082\n"
          ]
        },
        {
          "output_type": "stream",
          "name": "stderr",
          "text": [
            "100%|██████████| 1/1 [00:00<00:00,  1.44it/s]"
          ]
        },
        {
          "output_type": "stream",
          "name": "stdout",
          "text": [
            "Epoch 280 finished\n"
          ]
        },
        {
          "output_type": "stream",
          "name": "stderr",
          "text": [
            "\n",
            "100%|██████████| 1/1 [00:00<00:00,  1.56it/s]"
          ]
        },
        {
          "output_type": "stream",
          "name": "stdout",
          "text": [
            "Epoch 281 finished\n"
          ]
        },
        {
          "output_type": "stream",
          "name": "stderr",
          "text": [
            "\n",
            "100%|██████████| 1/1 [00:00<00:00,  1.54it/s]"
          ]
        },
        {
          "output_type": "stream",
          "name": "stdout",
          "text": [
            "Epoch 282 finished\n"
          ]
        },
        {
          "output_type": "stream",
          "name": "stderr",
          "text": [
            "\n",
            "100%|██████████| 1/1 [00:00<00:00,  1.67it/s]"
          ]
        },
        {
          "output_type": "stream",
          "name": "stdout",
          "text": [
            "Epoch 283 finished\n"
          ]
        },
        {
          "output_type": "stream",
          "name": "stderr",
          "text": [
            "\n",
            "100%|██████████| 1/1 [00:00<00:00,  1.74it/s]"
          ]
        },
        {
          "output_type": "stream",
          "name": "stdout",
          "text": [
            "Epoch 284 finished\n"
          ]
        },
        {
          "output_type": "stream",
          "name": "stderr",
          "text": [
            "\n",
            "100%|██████████| 1/1 [00:00<00:00,  1.76it/s]"
          ]
        },
        {
          "output_type": "stream",
          "name": "stdout",
          "text": [
            "Epoch 285 finished\n"
          ]
        },
        {
          "output_type": "stream",
          "name": "stderr",
          "text": [
            "\n",
            "100%|██████████| 1/1 [00:00<00:00,  1.73it/s]"
          ]
        },
        {
          "output_type": "stream",
          "name": "stdout",
          "text": [
            "Epoch 286 finished\n"
          ]
        },
        {
          "output_type": "stream",
          "name": "stderr",
          "text": [
            "\n",
            "100%|██████████| 1/1 [00:00<00:00,  1.74it/s]"
          ]
        },
        {
          "output_type": "stream",
          "name": "stdout",
          "text": [
            "Epoch 287 finished\n"
          ]
        },
        {
          "output_type": "stream",
          "name": "stderr",
          "text": [
            "\n",
            "100%|██████████| 1/1 [00:00<00:00,  1.72it/s]"
          ]
        },
        {
          "output_type": "stream",
          "name": "stdout",
          "text": [
            "Epoch 288 finished\n"
          ]
        },
        {
          "output_type": "stream",
          "name": "stderr",
          "text": [
            "\n",
            "100%|██████████| 1/1 [00:00<00:00,  1.76it/s]"
          ]
        },
        {
          "output_type": "stream",
          "name": "stdout",
          "text": [
            "Epoch 289 finished\n"
          ]
        },
        {
          "output_type": "stream",
          "name": "stderr",
          "text": [
            "\n",
            "  0%|          | 0/1 [00:00<?, ?it/s]"
          ]
        },
        {
          "output_type": "stream",
          "name": "stdout",
          "text": [
            "(Steps: 2400290) train/TotalLoss = 0.1857.\n",
            "(Steps: 2400290) train/mel_loss_ = 0.0630.\n",
            "(Steps: 2400290) train/mel_loss = 0.0453.\n",
            "(Steps: 2400290) train/dur_loss = 0.0136.\n",
            "(Steps: 2400290) train/pitch_loss = 0.0172.\n",
            "(Steps: 2400290) train/energy_loss = 0.0466.\n",
            "(Steps: 2400290) train/batch_size = 3.4000.\n",
            "(Steps: 2400290) train/x_band_width = 2.8000.\n",
            "(Steps: 2400290) train/h_band_width = 2.8000.\n",
            "KanTtsSAMBERT learning rate: 0.000082\n"
          ]
        },
        {
          "output_type": "stream",
          "name": "stderr",
          "text": [
            "100%|██████████| 1/1 [00:00<00:00,  1.59it/s]"
          ]
        },
        {
          "output_type": "stream",
          "name": "stdout",
          "text": [
            "Epoch 290 finished\n"
          ]
        },
        {
          "output_type": "stream",
          "name": "stderr",
          "text": [
            "\n",
            "100%|██████████| 1/1 [00:00<00:00,  1.72it/s]"
          ]
        },
        {
          "output_type": "stream",
          "name": "stdout",
          "text": [
            "Epoch 291 finished\n"
          ]
        },
        {
          "output_type": "stream",
          "name": "stderr",
          "text": [
            "\n",
            "100%|██████████| 1/1 [00:00<00:00,  1.70it/s]"
          ]
        },
        {
          "output_type": "stream",
          "name": "stdout",
          "text": [
            "Epoch 292 finished\n"
          ]
        },
        {
          "output_type": "stream",
          "name": "stderr",
          "text": [
            "\n",
            "100%|██████████| 1/1 [00:00<00:00,  1.73it/s]"
          ]
        },
        {
          "output_type": "stream",
          "name": "stdout",
          "text": [
            "Epoch 293 finished\n"
          ]
        },
        {
          "output_type": "stream",
          "name": "stderr",
          "text": [
            "\n",
            "100%|██████████| 1/1 [00:00<00:00,  1.76it/s]"
          ]
        },
        {
          "output_type": "stream",
          "name": "stdout",
          "text": [
            "Epoch 294 finished\n"
          ]
        },
        {
          "output_type": "stream",
          "name": "stderr",
          "text": [
            "\n",
            "100%|██████████| 1/1 [00:00<00:00,  1.71it/s]"
          ]
        },
        {
          "output_type": "stream",
          "name": "stdout",
          "text": [
            "Epoch 295 finished\n"
          ]
        },
        {
          "output_type": "stream",
          "name": "stderr",
          "text": [
            "\n",
            "100%|██████████| 1/1 [00:00<00:00,  1.76it/s]"
          ]
        },
        {
          "output_type": "stream",
          "name": "stdout",
          "text": [
            "Epoch 296 finished\n"
          ]
        },
        {
          "output_type": "stream",
          "name": "stderr",
          "text": [
            "\n",
            "100%|██████████| 1/1 [00:00<00:00,  1.72it/s]"
          ]
        },
        {
          "output_type": "stream",
          "name": "stdout",
          "text": [
            "Epoch 297 finished\n"
          ]
        },
        {
          "output_type": "stream",
          "name": "stderr",
          "text": [
            "\n",
            "100%|██████████| 1/1 [00:00<00:00,  1.74it/s]"
          ]
        },
        {
          "output_type": "stream",
          "name": "stdout",
          "text": [
            "Epoch 298 finished\n"
          ]
        },
        {
          "output_type": "stream",
          "name": "stderr",
          "text": [
            "\n",
            "100%|██████████| 1/1 [00:00<00:00,  1.73it/s]"
          ]
        },
        {
          "output_type": "stream",
          "name": "stdout",
          "text": [
            "Epoch 299 finished\n"
          ]
        },
        {
          "output_type": "stream",
          "name": "stderr",
          "text": [
            "\n",
            "  0%|          | 0/1 [00:00<?, ?it/s]"
          ]
        },
        {
          "output_type": "stream",
          "name": "stdout",
          "text": [
            "Checkpoint saved at step 2400300\n",
            "(Steps: 2400300) train/TotalLoss = 0.1840.\n",
            "(Steps: 2400300) train/mel_loss_ = 0.0628.\n",
            "(Steps: 2400300) train/mel_loss = 0.0453.\n",
            "(Steps: 2400300) train/dur_loss = 0.0133.\n",
            "(Steps: 2400300) train/pitch_loss = 0.0167.\n",
            "(Steps: 2400300) train/energy_loss = 0.0459.\n",
            "(Steps: 2400300) train/batch_size = 3.4000.\n",
            "(Steps: 2400300) train/x_band_width = 2.8000.\n",
            "(Steps: 2400300) train/h_band_width = 2.8000.\n",
            "KanTtsSAMBERT learning rate: 0.000082\n"
          ]
        },
        {
          "output_type": "stream",
          "name": "stderr",
          "text": [
            "100%|██████████| 1/1 [00:01<00:00,  1.01s/it]"
          ]
        },
        {
          "output_type": "stream",
          "name": "stdout",
          "text": [
            "Epoch 300 finished\n"
          ]
        },
        {
          "output_type": "stream",
          "name": "stderr",
          "text": [
            "\n",
            "  0%|          | 0/1 [00:00<?, ?it/s]"
          ]
        },
        {
          "output_type": "stream",
          "name": "stdout",
          "text": [
            "Epoch 301 finished\n"
          ]
        },
        {
          "output_type": "stream",
          "name": "stderr",
          "text": [
            "\n",
            "2023-07-07 21:07:15,709 - modelscope - INFO - SAMBERT training spent: 0.05 hours\n",
            "\n",
            "2023-07-07 21:07:15,713 - modelscope - INFO - skip HIFIGAN training...\n"
          ]
        }
      ]
    },
    {
      "cell_type": "markdown",
      "source": [
        "## 推理 Inference"
      ],
      "metadata": {
        "id": "l2rLYGwIcJ5U"
      }
    },
    {
      "cell_type": "code",
      "source": [
        "import os\n",
        "from modelscope.models.audio.tts import SambertHifigan\n",
        "from modelscope.pipelines import pipeline\n",
        "from modelscope.utils.constant import Tasks\n",
        "\n",
        "model_dir = os.path.abspath(\"./pretrain_work_dir\")\n",
        "\n",
        "custom_infer_abs = {\n",
        "    'voice_name':\n",
        "    'F7',\n",
        "    'am_ckpt':\n",
        "    os.path.join(model_dir, 'tmp_am', 'ckpt'),\n",
        "    'am_config':\n",
        "    os.path.join(model_dir, 'tmp_am', 'config.yaml'),\n",
        "    'voc_ckpt':\n",
        "    os.path.join(model_dir, 'orig_model', 'basemodel_16k', 'hifigan', 'ckpt'),\n",
        "    'voc_config':\n",
        "    os.path.join(model_dir, 'orig_model', 'basemodel_16k', 'hifigan',\n",
        "             'config.yaml'),\n",
        "    'audio_config':\n",
        "    os.path.join(model_dir, 'data', 'audio_config.yaml'),\n",
        "    'se_file':\n",
        "    os.path.join(model_dir, 'data', 'se', 'se.npy')\n",
        "}\n",
        "kwargs = {'custom_ckpt': custom_infer_abs}\n",
        "\n",
        "model_id = SambertHifigan(os.path.join(model_dir, \"orig_model\"), **kwargs)\n",
        "\n",
        "inference = pipeline(task=Tasks.text_to_speech, model=model_id)\n",
        "output = inference(input=\"大家好呀，欢迎使用滔滔智能的声音克隆产品！\") # 在这里编辑想要输出的文本\n",
        "\n",
        "import IPython.display as ipd\n",
        "ipd.Audio(output[\"output_wav\"], rate=16000)\n"
      ],
      "metadata": {
        "id": "hBVxPrEpbgB-",
        "colab": {
          "base_uri": "https://localhost:8080/",
          "height": 290
        },
        "outputId": "e51a751a-96eb-4938-9393-1bb52eb7ac3d"
      },
      "execution_count": 14,
      "outputs": [
        {
          "output_type": "stream",
          "name": "stderr",
          "text": [
            "2023-07-07 21:08:41,643 - modelscope - INFO - am_config=/content/pretrain_work_dir/tmp_am/config.yaml voc_config=/content/pretrain_work_dir/orig_model/basemodel_16k/hifigan/config.yaml\n",
            "2023-07-07 21:08:41,646 - modelscope - INFO - audio_config=/content/pretrain_work_dir/data/audio_config.yaml\n",
            "2023-07-07 21:08:41,648 - modelscope - INFO - am_ckpts=OrderedDict([(2400000, '/content/pretrain_work_dir/tmp_am/ckpt/checkpoint_2400000.pth'), (2400300, '/content/pretrain_work_dir/tmp_am/ckpt/checkpoint_2400300.pth')])\n",
            "2023-07-07 21:08:41,649 - modelscope - INFO - voc_ckpts=OrderedDict([(2400000, '/content/pretrain_work_dir/orig_model/basemodel_16k/hifigan/ckpt/checkpoint_2400000.pth')])\n",
            "2023-07-07 21:08:41,651 - modelscope - INFO - se_path=/content/pretrain_work_dir/data/se/se.npy se_model_path=/content/pretrain_work_dir/orig_model/se.onnx\n",
            "2023-07-07 21:08:41,653 - modelscope - INFO - mvn_path=/content/pretrain_work_dir/orig_model/mvn.npy\n",
            "2023-07-07 21:08:45,999 - modelscope - WARNING - No preprocessor field found in cfg.\n",
            "2023-07-07 21:08:46,001 - modelscope - WARNING - No val key and type key found in preprocessor domain of configuration.json file.\n",
            "2023-07-07 21:08:46,003 - modelscope - WARNING - Cannot find available config to build preprocessor at mode inference, current config: {'model_dir': '/content/pretrain_work_dir/orig_model'}. trying to build by task and model information.\n",
            "2023-07-07 21:08:46,004 - modelscope - WARNING - No preprocessor key ('sambert-hifigan', 'text-to-speech') found in PREPROCESSOR_MAP, skip building preprocessor.\n"
          ]
        },
        {
          "output_type": "stream",
          "name": "stdout",
          "text": [
            "Removing weight norm...\n"
          ]
        },
        {
          "output_type": "execute_result",
          "data": {
            "text/plain": [
              "<IPython.lib.display.Audio object>"
            ],
            "text/html": [
              "\n",
              "                <audio  controls=\"controls\" >\n",
              "                    <source src=\"data:audio/wav;base64,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\" type=\"audio/wav\" />\n",
              "                    Your browser does not support the audio element.\n",
              "                </audio>\n",
              "              "
            ]
          },
          "metadata": {},
          "execution_count": 14
        }
      ]
    },
    {
      "cell_type": "markdown",
      "source": [
        "## 打包训练好的模型，可下载到本地"
      ],
      "metadata": {
        "id": "rEdzf5eTLE9f"
      }
    },
    {
      "cell_type": "code",
      "source": [
        "!zip -r /content/model.zip /content/pretrain_work_dir"
      ],
      "metadata": {
        "id": "vGnr0aezIQOc",
        "colab": {
          "base_uri": "https://localhost:8080/"
        },
        "outputId": "45baae0f-c426-4a6c-a456-86d67b914a00"
      },
      "execution_count": 15,
      "outputs": [
        {
          "output_type": "stream",
          "name": "stdout",
          "text": [
            "  adding: content/pretrain_work_dir/ (stored 0%)\n",
            "  adding: content/pretrain_work_dir/tmp_voc/ (stored 0%)\n",
            "  adding: content/pretrain_work_dir/tmp_am/ (stored 0%)\n",
            "  adding: content/pretrain_work_dir/tmp_am/config.yaml (deflated 61%)\n",
            "  adding: content/pretrain_work_dir/tmp_am/ckpt/ (stored 0%)\n",
            "  adding: content/pretrain_work_dir/tmp_am/ckpt/checkpoint_2400300.pth (deflated 10%)\n",
            "  adding: content/pretrain_work_dir/tmp_am/ckpt/checkpoint_2400000.pth (deflated 10%)\n",
            "  adding: content/pretrain_work_dir/tmp_am/log/ (stored 0%)\n",
            "  adding: content/pretrain_work_dir/tmp_am/log/events.out.tfevents.1688763841.ac082646fefb (deflated 73%)\n",
            "  adding: content/pretrain_work_dir/data/ (stored 0%)\n",
            "  adding: content/pretrain_work_dir/data/frame_uv/ (stored 0%)\n",
            "  adding: content/pretrain_work_dir/data/frame_uv/test_0_0.npy (deflated 92%)\n",
            "  adding: content/pretrain_work_dir/data/frame_uv/test_0_10.npy (deflated 84%)\n",
            "  adding: content/pretrain_work_dir/data/frame_uv/test_0_8.npy (deflated 90%)\n",
            "  adding: content/pretrain_work_dir/data/frame_uv/test_0_19.npy (deflated 83%)\n",
            "  adding: content/pretrain_work_dir/data/frame_uv/test_0_9.npy (deflated 93%)\n",
            "  adding: content/pretrain_work_dir/data/frame_uv/test_0_1.npy (deflated 93%)\n",
            "  adding: content/pretrain_work_dir/data/frame_uv/test_0_16.npy (deflated 90%)\n",
            "  adding: content/pretrain_work_dir/data/frame_uv/test_0_14.npy (deflated 87%)\n",
            "  adding: content/pretrain_work_dir/data/frame_uv/test_0_2.npy (deflated 90%)\n",
            "  adding: content/pretrain_work_dir/data/frame_uv/test_0_4.npy (deflated 89%)\n",
            "  adding: content/pretrain_work_dir/data/frame_uv/test_0_13.npy (deflated 91%)\n",
            "  adding: content/pretrain_work_dir/data/frame_uv/test_0_18.npy (deflated 90%)\n",
            "  adding: content/pretrain_work_dir/data/frame_uv/test_0_12.npy (deflated 87%)\n",
            "  adding: content/pretrain_work_dir/data/frame_uv/test_0_6.npy (deflated 92%)\n",
            "  adding: content/pretrain_work_dir/data/frame_uv/test_0_11.npy (deflated 90%)\n",
            "  adding: content/pretrain_work_dir/data/frame_uv/test_0_7.npy (deflated 84%)\n",
            "  adding: content/pretrain_work_dir/data/frame_uv/test_0_17.npy (deflated 90%)\n",
            "  adding: content/pretrain_work_dir/data/frame_uv/test_0_5.npy (deflated 93%)\n",
            "  adding: content/pretrain_work_dir/data/frame_uv/test_0_3.npy (deflated 85%)\n",
            "  adding: content/pretrain_work_dir/data/energy/ (stored 0%)\n",
            "  adding: content/pretrain_work_dir/data/energy/test_0_0.npy (deflated 25%)\n",
            "  adding: content/pretrain_work_dir/data/energy/test_0_10.npy (deflated 35%)\n",
            "  adding: content/pretrain_work_dir/data/energy/test_0_8.npy (deflated 26%)\n",
            "  adding: content/pretrain_work_dir/data/energy/test_0_19.npy (deflated 32%)\n",
            "  adding: content/pretrain_work_dir/data/energy/test_0_9.npy (deflated 22%)\n",
            "  adding: content/pretrain_work_dir/data/energy/test_0_1.npy (deflated 20%)\n",
            "  adding: content/pretrain_work_dir/data/energy/energy_mean.txt (stored 0%)\n",
            "  adding: content/pretrain_work_dir/data/energy/test_0_16.npy (deflated 26%)\n",
            "  adding: content/pretrain_work_dir/data/energy/test_0_14.npy (deflated 29%)\n",
            "  adding: content/pretrain_work_dir/data/energy/test_0_2.npy (deflated 27%)\n",
            "  adding: content/pretrain_work_dir/data/energy/test_0_4.npy (deflated 30%)\n",
            "  adding: content/pretrain_work_dir/data/energy/test_0_13.npy (deflated 29%)\n",
            "  adding: content/pretrain_work_dir/data/energy/test_0_18.npy (deflated 26%)\n",
            "  adding: content/pretrain_work_dir/data/energy/test_0_12.npy (deflated 31%)\n",
            "  adding: content/pretrain_work_dir/data/energy/test_0_6.npy (deflated 25%)\n",
            "  adding: content/pretrain_work_dir/data/energy/test_0_11.npy (deflated 25%)\n",
            "  adding: content/pretrain_work_dir/data/energy/test_0_7.npy (deflated 31%)\n",
            "  adding: content/pretrain_work_dir/data/energy/energy_std.txt (stored 0%)\n",
            "  adding: content/pretrain_work_dir/data/energy/test_0_17.npy (deflated 27%)\n",
            "  adding: content/pretrain_work_dir/data/energy/test_0_5.npy (deflated 23%)\n",
            "  adding: content/pretrain_work_dir/data/energy/test_0_3.npy (deflated 31%)\n",
            "  adding: content/pretrain_work_dir/data/badlist.txt (stored 0%)\n",
            "  adding: content/pretrain_work_dir/data/mel/ (stored 0%)\n",
            "  adding: content/pretrain_work_dir/data/mel/test_0_0.npy (deflated 6%)\n",
            "  adding: content/pretrain_work_dir/data/mel/test_0_10.npy (deflated 8%)\n",
            "  adding: content/pretrain_work_dir/data/mel/test_0_8.npy (deflated 8%)\n",
            "  adding: content/pretrain_work_dir/data/mel/test_0_19.npy (deflated 5%)\n",
            "  adding: content/pretrain_work_dir/data/mel/test_0_9.npy (deflated 5%)\n",
            "  adding: content/pretrain_work_dir/data/mel/test_0_1.npy (deflated 6%)\n",
            "  adding: content/pretrain_work_dir/data/mel/test_0_16.npy (deflated 9%)\n",
            "  adding: content/pretrain_work_dir/data/mel/test_0_14.npy (deflated 16%)\n",
            "  adding: content/pretrain_work_dir/data/mel/test_0_2.npy (deflated 5%)\n",
            "  adding: content/pretrain_work_dir/data/mel/test_0_4.npy (deflated 9%)\n",
            "  adding: content/pretrain_work_dir/data/mel/mel_std.txt (deflated 63%)\n",
            "  adding: content/pretrain_work_dir/data/mel/test_0_13.npy (deflated 5%)\n",
            "  adding: content/pretrain_work_dir/data/mel/test_0_18.npy (deflated 8%)\n",
            "  adding: content/pretrain_work_dir/data/mel/test_0_12.npy (deflated 6%)\n",
            "  adding: content/pretrain_work_dir/data/mel/test_0_6.npy (deflated 9%)\n",
            "  adding: content/pretrain_work_dir/data/mel/test_0_11.npy (deflated 5%)\n",
            "  adding: content/pretrain_work_dir/data/mel/test_0_7.npy (deflated 4%)\n",
            "  adding: content/pretrain_work_dir/data/mel/mel_mean.txt (deflated 58%)\n",
            "  adding: content/pretrain_work_dir/data/mel/test_0_17.npy (deflated 6%)\n",
            "  adding: content/pretrain_work_dir/data/mel/test_0_5.npy (deflated 5%)\n",
            "  adding: content/pretrain_work_dir/data/mel/test_0_3.npy (deflated 8%)\n",
            "  adding: content/pretrain_work_dir/data/f0/ (stored 0%)\n",
            "  adding: content/pretrain_work_dir/data/f0/test_0_0.npy (deflated 28%)\n",
            "  adding: content/pretrain_work_dir/data/f0/test_0_10.npy (deflated 41%)\n",
            "  adding: content/pretrain_work_dir/data/f0/test_0_8.npy (deflated 28%)\n",
            "  adding: content/pretrain_work_dir/data/f0/test_0_19.npy (deflated 37%)\n",
            "  adding: content/pretrain_work_dir/data/f0/test_0_9.npy (deflated 28%)\n",
            "  adding: content/pretrain_work_dir/data/f0/test_0_1.npy (deflated 25%)\n",
            "  adding: content/pretrain_work_dir/data/f0/test_0_16.npy (deflated 33%)\n",
            "  adding: content/pretrain_work_dir/data/f0/test_0_14.npy (deflated 35%)\n",
            "  adding: content/pretrain_work_dir/data/f0/test_0_2.npy (deflated 31%)\n",
            "  adding: content/pretrain_work_dir/data/f0/f0_std.txt (stored 0%)\n",
            "  adding: content/pretrain_work_dir/data/f0/test_0_4.npy (deflated 39%)\n",
            "  adding: content/pretrain_work_dir/data/f0/test_0_13.npy (deflated 33%)\n",
            "  adding: content/pretrain_work_dir/data/f0/test_0_18.npy (deflated 29%)\n",
            "  adding: content/pretrain_work_dir/data/f0/test_0_12.npy (deflated 38%)\n",
            "  adding: content/pretrain_work_dir/data/f0/test_0_6.npy (deflated 32%)\n",
            "  adding: content/pretrain_work_dir/data/f0/test_0_11.npy (deflated 31%)\n",
            "  adding: content/pretrain_work_dir/data/f0/test_0_7.npy (deflated 38%)\n",
            "  adding: content/pretrain_work_dir/data/f0/f0_mean.txt (stored 0%)\n",
            "  adding: content/pretrain_work_dir/data/f0/test_0_17.npy (deflated 32%)\n",
            "  adding: content/pretrain_work_dir/data/f0/test_0_5.npy (deflated 25%)\n",
            "  adding: content/pretrain_work_dir/data/f0/test_0_3.npy (deflated 32%)\n",
            "  adding: content/pretrain_work_dir/data/frame_energy/ (stored 0%)\n",
            "  adding: content/pretrain_work_dir/data/frame_energy/test_0_0.npy (deflated 4%)\n",
            "  adding: content/pretrain_work_dir/data/frame_energy/test_0_10.npy (deflated 3%)\n",
            "  adding: content/pretrain_work_dir/data/frame_energy/test_0_8.npy (deflated 5%)\n",
            "  adding: content/pretrain_work_dir/data/frame_energy/test_0_19.npy (deflated 3%)\n",
            "  adding: content/pretrain_work_dir/data/frame_energy/test_0_9.npy (deflated 5%)\n",
            "  adding: content/pretrain_work_dir/data/frame_energy/test_0_1.npy (deflated 5%)\n",
            "  adding: content/pretrain_work_dir/data/frame_energy/test_0_16.npy (deflated 4%)\n",
            "  adding: content/pretrain_work_dir/data/frame_energy/test_0_14.npy (deflated 9%)\n",
            "  adding: content/pretrain_work_dir/data/frame_energy/test_0_2.npy (deflated 4%)\n",
            "  adding: content/pretrain_work_dir/data/frame_energy/test_0_4.npy (deflated 5%)\n",
            "  adding: content/pretrain_work_dir/data/frame_energy/test_0_13.npy (deflated 4%)\n",
            "  adding: content/pretrain_work_dir/data/frame_energy/test_0_18.npy (deflated 4%)\n",
            "  adding: content/pretrain_work_dir/data/frame_energy/test_0_12.npy (deflated 4%)\n",
            "  adding: content/pretrain_work_dir/data/frame_energy/test_0_6.npy (deflated 5%)\n",
            "  adding: content/pretrain_work_dir/data/frame_energy/test_0_11.npy (deflated 4%)\n",
            "  adding: content/pretrain_work_dir/data/frame_energy/test_0_7.npy (deflated 3%)\n",
            "  adding: content/pretrain_work_dir/data/frame_energy/test_0_17.npy (deflated 4%)\n",
            "  adding: content/pretrain_work_dir/data/frame_energy/test_0_5.npy (deflated 5%)\n",
            "  adding: content/pretrain_work_dir/data/frame_energy/test_0_3.npy (deflated 4%)\n",
            "  adding: content/pretrain_work_dir/data/am_valid.lst (deflated 82%)\n",
            "  adding: content/pretrain_work_dir/data/se/ (stored 0%)\n",
            "  adding: content/pretrain_work_dir/data/se/test_0_0.npy (deflated 6%)\n",
            "  adding: content/pretrain_work_dir/data/se/test_0_10.npy (deflated 5%)\n",
            "  adding: content/pretrain_work_dir/data/se/test_0_8.npy (deflated 6%)\n",
            "  adding: content/pretrain_work_dir/data/se/test_0_19.npy (deflated 5%)\n",
            "  adding: content/pretrain_work_dir/data/se/test_0_9.npy (deflated 5%)\n",
            "  adding: content/pretrain_work_dir/data/se/test_0_1.npy (deflated 5%)\n",
            "  adding: content/pretrain_work_dir/data/se/test_0_16.npy (deflated 5%)\n",
            "  adding: content/pretrain_work_dir/data/se/test_0_14.npy (deflated 5%)\n",
            "  adding: content/pretrain_work_dir/data/se/test_0_2.npy (deflated 6%)\n",
            "  adding: content/pretrain_work_dir/data/se/test_0_4.npy (deflated 5%)\n",
            "  adding: content/pretrain_work_dir/data/se/test_0_13.npy (deflated 6%)\n",
            "  adding: content/pretrain_work_dir/data/se/test_0_18.npy (deflated 5%)\n",
            "  adding: content/pretrain_work_dir/data/se/test_0_12.npy (deflated 6%)\n",
            "  adding: content/pretrain_work_dir/data/se/test_0_6.npy (deflated 5%)\n",
            "  adding: content/pretrain_work_dir/data/se/test_0_11.npy (deflated 5%)\n",
            "  adding: content/pretrain_work_dir/data/se/test_0_7.npy (deflated 5%)\n",
            "  adding: content/pretrain_work_dir/data/se/test_0_17.npy (deflated 6%)\n",
            "  adding: content/pretrain_work_dir/data/se/se.npy (deflated 5%)\n",
            "  adding: content/pretrain_work_dir/data/se/test_0_5.npy (deflated 5%)\n",
            "  adding: content/pretrain_work_dir/data/se/test_0_3.npy (deflated 6%)\n",
            "  adding: content/pretrain_work_dir/data/wav/ (stored 0%)\n",
            "  adding: content/pretrain_work_dir/data/wav/test_0_1.wav (deflated 15%)\n",
            "  adding: content/pretrain_work_dir/data/wav/test_0_16.wav (deflated 18%)\n",
            "  adding: content/pretrain_work_dir/data/wav/test_0_11.wav (deflated 10%)\n",
            "  adding: content/pretrain_work_dir/data/wav/test_0_19.wav (deflated 9%)\n",
            "  adding: content/pretrain_work_dir/data/wav/test_0_9.wav (deflated 13%)\n",
            "  adding: content/pretrain_work_dir/data/wav/test_0_6.wav (deflated 18%)\n",
            "  adding: content/pretrain_work_dir/data/wav/test_0_14.wav (deflated 28%)\n",
            "  adding: content/pretrain_work_dir/data/wav/test_0_3.wav (deflated 14%)\n",
            "  adding: content/pretrain_work_dir/data/wav/test_0_10.wav (deflated 17%)\n",
            "  adding: content/pretrain_work_dir/data/wav/test_0_13.wav (deflated 12%)\n",
            "  adding: content/pretrain_work_dir/data/wav/test_0_7.wav (deflated 8%)\n",
            "  adding: content/pretrain_work_dir/data/wav/test_0_17.wav (deflated 15%)\n",
            "  adding: content/pretrain_work_dir/data/wav/test_0_0.wav (deflated 15%)\n",
            "  adding: content/pretrain_work_dir/data/wav/test_0_5.wav (deflated 13%)\n",
            "  adding: content/pretrain_work_dir/data/wav/test_0_12.wav (deflated 15%)\n",
            "  adding: content/pretrain_work_dir/data/wav/test_0_2.wav (deflated 12%)\n",
            "  adding: content/pretrain_work_dir/data/wav/test_0_8.wav (deflated 16%)\n",
            "  adding: content/pretrain_work_dir/data/wav/test_0_18.wav (deflated 14%)\n",
            "  adding: content/pretrain_work_dir/data/wav/test_0_4.wav (deflated 18%)\n",
            "  adding: content/pretrain_work_dir/data/valid.lst (stored 0%)\n",
            "  adding: content/pretrain_work_dir/data/audio_config.yaml (deflated 38%)\n",
            "  adding: content/pretrain_work_dir/data/raw_duration/ (stored 0%)\n",
            "  adding: content/pretrain_work_dir/data/raw_duration/test_0_0.npy (deflated 68%)\n",
            "  adding: content/pretrain_work_dir/data/raw_duration/test_0_10.npy (deflated 59%)\n",
            "  adding: content/pretrain_work_dir/data/raw_duration/test_0_8.npy (deflated 66%)\n",
            "  adding: content/pretrain_work_dir/data/raw_duration/test_0_3.phone (deflated 13%)\n",
            "  adding: content/pretrain_work_dir/data/raw_duration/test_0_19.npy (deflated 63%)\n",
            "  adding: content/pretrain_work_dir/data/raw_duration/test_0_9.phone (deflated 39%)\n",
            "  adding: content/pretrain_work_dir/data/raw_duration/test_0_14.phone (deflated 8%)\n",
            "  adding: content/pretrain_work_dir/data/raw_duration/test_0_9.npy (deflated 71%)\n",
            "  adding: content/pretrain_work_dir/data/raw_duration/test_0_1.npy (deflated 72%)\n",
            "  adding: content/pretrain_work_dir/data/raw_duration/test_0_18.phone (deflated 24%)\n",
            "  adding: content/pretrain_work_dir/data/raw_duration/test_0_16.npy (deflated 65%)\n",
            "  adding: content/pretrain_work_dir/data/raw_duration/test_0_14.npy (deflated 61%)\n",
            "  adding: content/pretrain_work_dir/data/raw_duration/test_0_1.phone (deflated 33%)\n",
            "  adding: content/pretrain_work_dir/data/raw_duration/test_0_2.npy (deflated 65%)\n",
            "  adding: content/pretrain_work_dir/data/raw_duration/test_0_13.phone (deflated 19%)\n",
            "  adding: content/pretrain_work_dir/data/raw_duration/test_0_4.npy (deflated 68%)\n",
            "  adding: content/pretrain_work_dir/data/raw_duration/test_0_10.phone (deflated 6%)\n",
            "  adding: content/pretrain_work_dir/data/raw_duration/test_0_16.phone (deflated 21%)\n",
            "  adding: content/pretrain_work_dir/data/raw_duration/test_0_0.phone (deflated 27%)\n",
            "  adding: content/pretrain_work_dir/data/raw_duration/test_0_5.phone (deflated 30%)\n",
            "  adding: content/pretrain_work_dir/data/raw_duration/test_0_7.phone (deflated 11%)\n",
            "  adding: content/pretrain_work_dir/data/raw_duration/test_0_13.npy (deflated 65%)\n",
            "  adding: content/pretrain_work_dir/data/raw_duration/test_0_18.npy (deflated 67%)\n",
            "  adding: content/pretrain_work_dir/data/raw_duration/test_0_4.phone (deflated 22%)\n",
            "  adding: content/pretrain_work_dir/data/raw_duration/test_0_2.phone (deflated 20%)\n",
            "  adding: content/pretrain_work_dir/data/raw_duration/test_0_12.npy (deflated 61%)\n",
            "  adding: content/pretrain_work_dir/data/raw_duration/test_0_6.npy (deflated 66%)\n",
            "  adding: content/pretrain_work_dir/data/raw_duration/test_0_11.npy (deflated 70%)\n",
            "  adding: content/pretrain_work_dir/data/raw_duration/test_0_7.npy (deflated 63%)\n",
            "  adding: content/pretrain_work_dir/data/raw_duration/test_0_19.phone (deflated 7%)\n",
            "  adding: content/pretrain_work_dir/data/raw_duration/test_0_6.phone (deflated 27%)\n",
            "  adding: content/pretrain_work_dir/data/raw_duration/test_0_17.npy (deflated 66%)\n",
            "  adding: content/pretrain_work_dir/data/raw_duration/test_0_8.phone (deflated 21%)\n",
            "  adding: content/pretrain_work_dir/data/raw_duration/test_0_11.phone (deflated 30%)\n",
            "  adding: content/pretrain_work_dir/data/raw_duration/test_0_5.npy (deflated 71%)\n",
            "  adding: content/pretrain_work_dir/data/raw_duration/test_0_17.phone (deflated 25%)\n",
            "  adding: content/pretrain_work_dir/data/raw_duration/test_0_3.npy (deflated 61%)\n",
            "  adding: content/pretrain_work_dir/data/raw_duration/test_0_12.phone (deflated 15%)\n",
            "  adding: content/pretrain_work_dir/data/train.lst (deflated 65%)\n",
            "  adding: content/pretrain_work_dir/data/Script.xml (deflated 91%)\n",
            "  adding: content/pretrain_work_dir/data/raw_metafile.txt (deflated 95%)\n",
            "  adding: content/pretrain_work_dir/data/am_train.lst (deflated 95%)\n",
            "  adding: content/pretrain_work_dir/data/frame_f0/ (stored 0%)\n",
            "  adding: content/pretrain_work_dir/data/frame_f0/test_0_0.npy (deflated 11%)\n",
            "  adding: content/pretrain_work_dir/data/frame_f0/test_0_10.npy (deflated 20%)\n",
            "  adding: content/pretrain_work_dir/data/frame_f0/test_0_8.npy (deflated 9%)\n",
            "  adding: content/pretrain_work_dir/data/frame_f0/test_0_19.npy (deflated 5%)\n",
            "  adding: content/pretrain_work_dir/data/frame_f0/test_0_9.npy (deflated 6%)\n",
            "  adding: content/pretrain_work_dir/data/frame_f0/test_0_1.npy (deflated 7%)\n",
            "  adding: content/pretrain_work_dir/data/frame_f0/test_0_16.npy (deflated 5%)\n",
            "  adding: content/pretrain_work_dir/data/frame_f0/test_0_14.npy (deflated 5%)\n",
            "  adding: content/pretrain_work_dir/data/frame_f0/test_0_2.npy (deflated 7%)\n",
            "  adding: content/pretrain_work_dir/data/frame_f0/test_0_4.npy (deflated 6%)\n",
            "  adding: content/pretrain_work_dir/data/frame_f0/test_0_13.npy (deflated 14%)\n",
            "  adding: content/pretrain_work_dir/data/frame_f0/test_0_18.npy (deflated 6%)\n",
            "  adding: content/pretrain_work_dir/data/frame_f0/test_0_12.npy (deflated 6%)\n",
            "  adding: content/pretrain_work_dir/data/frame_f0/test_0_6.npy (deflated 6%)\n",
            "  adding: content/pretrain_work_dir/data/frame_f0/test_0_11.npy (deflated 6%)\n",
            "  adding: content/pretrain_work_dir/data/frame_f0/test_0_7.npy (deflated 8%)\n",
            "  adding: content/pretrain_work_dir/data/frame_f0/test_0_17.npy (deflated 6%)\n",
            "  adding: content/pretrain_work_dir/data/frame_f0/test_0_5.npy (deflated 6%)\n",
            "  adding: content/pretrain_work_dir/data/frame_f0/test_0_3.npy (deflated 16%)\n",
            "  adding: content/pretrain_work_dir/data/duration/ (stored 0%)\n",
            "  adding: content/pretrain_work_dir/data/duration/test_0_0.npy (deflated 71%)\n",
            "  adding: content/pretrain_work_dir/data/duration/test_0_10.npy (deflated 61%)\n",
            "  adding: content/pretrain_work_dir/data/duration/test_0_8.npy (deflated 67%)\n",
            "  adding: content/pretrain_work_dir/data/duration/test_0_19.npy (deflated 64%)\n",
            "  adding: content/pretrain_work_dir/data/duration/test_0_9.npy (deflated 72%)\n",
            "  adding: content/pretrain_work_dir/data/duration/test_0_1.npy (deflated 72%)\n",
            "  adding: content/pretrain_work_dir/data/duration/test_0_16.npy (deflated 66%)\n",
            "  adding: content/pretrain_work_dir/data/duration/test_0_14.npy (deflated 63%)\n",
            "  adding: content/pretrain_work_dir/data/duration/test_0_2.npy (deflated 66%)\n",
            "  adding: content/pretrain_work_dir/data/duration/test_0_13.npy (deflated 67%)\n",
            "  adding: content/pretrain_work_dir/data/duration/test_0_18.npy (deflated 68%)\n",
            "  adding: content/pretrain_work_dir/data/duration/test_0_12.npy (deflated 62%)\n",
            "  adding: content/pretrain_work_dir/data/duration/test_0_6.npy (deflated 68%)\n",
            "  adding: content/pretrain_work_dir/data/duration/test_0_11.npy (deflated 71%)\n",
            "  adding: content/pretrain_work_dir/data/duration/test_0_7.npy (deflated 64%)\n",
            "  adding: content/pretrain_work_dir/data/duration/test_0_17.npy (deflated 68%)\n",
            "  adding: content/pretrain_work_dir/data/duration/test_0_5.npy (deflated 73%)\n",
            "  adding: content/pretrain_work_dir/data/duration/test_0_3.npy (deflated 62%)\n",
            "  adding: content/pretrain_work_dir/orig_model/ (stored 0%)\n",
            "  adding: content/pretrain_work_dir/orig_model/resource.zip (stored 0%)\n",
            "  adding: content/pretrain_work_dir/orig_model/basemodel_16k/ (stored 0%)\n",
            "  adding: content/pretrain_work_dir/orig_model/basemodel_16k/sambert/ (stored 0%)\n",
            "  adding: content/pretrain_work_dir/orig_model/basemodel_16k/sambert/config.yaml (deflated 61%)\n",
            "  adding: content/pretrain_work_dir/orig_model/basemodel_16k/sambert/ckpt/ (stored 0%)\n",
            "  adding: content/pretrain_work_dir/orig_model/basemodel_16k/sambert/ckpt/checkpoint_2400000.pth (deflated 10%)\n",
            "  adding: content/pretrain_work_dir/orig_model/basemodel_16k/audio_config_se_16k.yaml (deflated 44%)\n",
            "  adding: content/pretrain_work_dir/orig_model/basemodel_16k/speaker_embedding/ (stored 0%)\n",
            "  adding: content/pretrain_work_dir/orig_model/basemodel_16k/speaker_embedding/se.onnx (deflated 8%)\n",
            "  adding: content/pretrain_work_dir/orig_model/basemodel_16k/speaker_embedding/se.model (deflated 8%)\n",
            "  adding: content/pretrain_work_dir/orig_model/basemodel_16k/hifigan/ (stored 0%)\n",
            "  adding: content/pretrain_work_dir/orig_model/basemodel_16k/hifigan/config.yaml (deflated 70%)\n",
            "  adding: content/pretrain_work_dir/orig_model/basemodel_16k/hifigan/ckpt/ (stored 0%)\n",
            "  adding: content/pretrain_work_dir/orig_model/basemodel_16k/hifigan/ckpt/checkpoint_2400000.pth (deflated 8%)\n",
            "  adding: content/pretrain_work_dir/orig_model/resource/ (stored 0%)\n",
            "  adding: content/pretrain_work_dir/orig_model/resource/ws_hk/ (stored 0%)\n",
            "  adding: content/pretrain_work_dir/orig_model/resource/ws_hk/xiaoyan.dict (deflated 66%)\n",
            "  adding: content/pretrain_work_dir/orig_model/resource/ws_hk/pos_hmm.dict (deflated 60%)\n",
            "  adding: content/pretrain_work_dir/orig_model/resource/ws_hk/ivr.dict (deflated 75%)\n",
            "  adding: content/pretrain_work_dir/orig_model/resource/ws_hk/ws-dfa-rule.dict (deflated 96%)\n",
            "  adding: content/pretrain_work_dir/orig_model/resource/ws_hk/puncNumberTimeLetter.dict (deflated 100%)\n",
            "  adding: content/pretrain_work_dir/orig_model/resource/ws_hk/AliTokenizer_example.conf (deflated 31%)\n",
            "  adding: content/pretrain_work_dir/orig_model/resource/festival/ (stored 0%)\n",
            "  adding: content/pretrain_work_dir/orig_model/resource/festival/fringe.scm (deflated 66%)\n",
            "  adding: content/pretrain_work_dir/orig_model/resource/festival/tobi.scm (deflated 76%)\n",
            "  adding: content/pretrain_work_dir/orig_model/resource/festival/languages.scm (deflated 69%)\n",
            "  adding: content/pretrain_work_dir/orig_model/resource/festival/duration.scm (deflated 68%)\n",
            "  adding: content/pretrain_work_dir/orig_model/resource/festival/apml_f2bf0lr.scm (deflated 86%)\n",
            "  adding: content/pretrain_work_dir/orig_model/resource/festival/siteinit.scm (deflated 61%)\n",
            "  adding: content/pretrain_work_dir/orig_model/resource/festival/voices/ (stored 0%)\n",
            "  adding: content/pretrain_work_dir/orig_model/resource/festival/voices/english/ (stored 0%)\n",
            "  adding: content/pretrain_work_dir/orig_model/resource/festival/voices/english/rab_diphone/ (stored 0%)\n",
            "  adding: content/pretrain_work_dir/orig_model/resource/festival/voices/english/rab_diphone/COPYING (deflated 57%)\n",
            "  adding: content/pretrain_work_dir/orig_model/resource/festival/voices/english/rab_diphone/group/ (stored 0%)\n",
            "  adding: content/pretrain_work_dir/orig_model/resource/festival/voices/english/rab_diphone/group/rablpc16k.group (deflated 29%)\n",
            "  adding: content/pretrain_work_dir/orig_model/resource/festival/voices/english/rab_diphone/festvox/ (stored 0%)\n",
            "  adding: content/pretrain_work_dir/orig_model/resource/festival/voices/english/rab_diphone/festvox/rab_diphone.scm (deflated 69%)\n",
            "  adding: content/pretrain_work_dir/orig_model/resource/festival/voices/english/kal_diphone/ (stored 0%)\n",
            "  adding: content/pretrain_work_dir/orig_model/resource/festival/voices/english/kal_diphone/COPYING (deflated 57%)\n",
            "  adding: content/pretrain_work_dir/orig_model/resource/festival/voices/english/kal_diphone/group/ (stored 0%)\n",
            "  adding: content/pretrain_work_dir/orig_model/resource/festival/voices/english/kal_diphone/group/kallpc16k.group (deflated 33%)\n",
            "  adding: content/pretrain_work_dir/orig_model/resource/festival/voices/english/kal_diphone/festvox/ (stored 0%)\n",
            "  adding: content/pretrain_work_dir/orig_model/resource/festival/voices/english/kal_diphone/festvox/kal_diphone.scm (deflated 69%)\n",
            "  adding: content/pretrain_work_dir/orig_model/resource/festival/voices/english/kal_diphone/festvox/kaldurtreeZ.scm (deflated 76%)\n",
            "  adding: content/pretrain_work_dir/orig_model/resource/festival/f2bf0lr.scm (deflated 71%)\n",
            "  adding: content/pretrain_work_dir/orig_model/resource/festival/etc/ (stored 0%)\n",
            "  adding: content/pretrain_work_dir/orig_model/resource/festival/etc/email_filter (deflated 66%)\n",
            "  adding: content/pretrain_work_dir/orig_model/resource/festival/apml.scm (deflated 72%)\n",
            "  adding: content/pretrain_work_dir/orig_model/resource/festival/mrpa_allophones.scm (deflated 70%)\n",
            "  adding: content/pretrain_work_dir/orig_model/resource/festival/singing-mode.scm (deflated 73%)\n",
            "  adding: content/pretrain_work_dir/orig_model/resource/festival/sec.B.hept.ngrambin (deflated 65%)\n",
            "  adding: content/pretrain_work_dir/orig_model/resource/festival/klatt_durs.scm (deflated 64%)\n",
            "  adding: content/pretrain_work_dir/orig_model/resource/festival/gswdurtreeZ.scm (deflated 77%)\n",
            "  adding: content/pretrain_work_dir/orig_model/resource/festival/cart_aux.scm (deflated 68%)\n",
            "  adding: content/pretrain_work_dir/orig_model/resource/festival/lexicons.scm (deflated 67%)\n",
            "  adding: content/pretrain_work_dir/orig_model/resource/festival/Singing.v0_1.dtd (deflated 64%)\n",
            "  adding: content/pretrain_work_dir/orig_model/resource/festival/module_description.scm (deflated 67%)\n",
            "  adding: content/pretrain_work_dir/orig_model/resource/festival/siod.scm (deflated 66%)\n",
            "  adding: content/pretrain_work_dir/orig_model/resource/festival/darpa_phones.scm (deflated 71%)\n",
            "  adding: content/pretrain_work_dir/orig_model/resource/festival/postlex.scm (deflated 75%)\n",
            "  adding: content/pretrain_work_dir/orig_model/resource/festival/hts.scm (deflated 83%)\n",
            "  adding: content/pretrain_work_dir/orig_model/resource/festival/lts.scm (deflated 70%)\n",
            "  adding: content/pretrain_work_dir/orig_model/resource/festival/engmorphsyn.scm (deflated 65%)\n",
            "  adding: content/pretrain_work_dir/orig_model/resource/festival/multisyn/ (stored 0%)\n",
            "  adding: content/pretrain_work_dir/orig_model/resource/festival/multisyn/multisyn_pauses.scm (deflated 64%)\n",
            "  adding: content/pretrain_work_dir/orig_model/resource/festival/multisyn/multisyn.scm (deflated 65%)\n",
            "  adding: content/pretrain_work_dir/orig_model/resource/festival/multisyn/radio_phones_multisyn.scm (deflated 69%)\n",
            "  adding: content/pretrain_work_dir/orig_model/resource/festival/multisyn/send_xwaves.scm (deflated 70%)\n",
            "  adding: content/pretrain_work_dir/orig_model/resource/festival/multisyn/target_cost.scm (deflated 71%)\n",
            "  adding: content/pretrain_work_dir/orig_model/resource/festival/pos.scm (deflated 66%)\n",
            "  adding: content/pretrain_work_dir/orig_model/resource/festival/festival.scm (deflated 70%)\n",
            "  adding: content/pretrain_work_dir/orig_model/resource/festival/festdoc.scm (deflated 63%)\n",
            "  adding: content/pretrain_work_dir/orig_model/resource/festival/web.scm (deflated 63%)\n",
            "  adding: content/pretrain_work_dir/orig_model/resource/festival/mbrola.scm (deflated 63%)\n",
            "  adding: content/pretrain_work_dir/orig_model/resource/festival/dicts/ (stored 0%)\n",
            "  adding: content/pretrain_work_dir/orig_model/resource/festival/dicts/wsj.wp39.tri.ngrambin (deflated 84%)\n",
            "  adding: content/pretrain_work_dir/orig_model/resource/festival/dicts/cmu/ (stored 0%)\n",
            "  adding: content/pretrain_work_dir/orig_model/resource/festival/dicts/cmu/cmudict-0.4.out (deflated 83%)\n",
            "  adding: content/pretrain_work_dir/orig_model/resource/festival/dicts/cmu/cmudict-0.4.scm (deflated 80%)\n",
            "  adding: content/pretrain_work_dir/orig_model/resource/festival/dicts/cmu/cmudict-0.4.diff (deflated 86%)\n",
            "  adding: content/pretrain_work_dir/orig_model/resource/festival/dicts/cmu/cmulex.scm (deflated 75%)\n",
            "  adding: content/pretrain_work_dir/orig_model/resource/festival/dicts/cmu/COPYING (deflated 57%)\n",
            "  adding: content/pretrain_work_dir/orig_model/resource/festival/dicts/cmu/cmu_lts_rules.scm (deflated 90%)\n",
            "  adding: content/pretrain_work_dir/orig_model/resource/festival/dicts/cmu/cmudict_extensions.scm (deflated 64%)\n",
            "  adding: content/pretrain_work_dir/orig_model/resource/festival/dicts/cmu/cmu2ft (deflated 41%)\n",
            "  adding: content/pretrain_work_dir/orig_model/resource/festival/dicts/cmu/cmudict_compile.scm (deflated 64%)\n",
            "  adding: content/pretrain_work_dir/orig_model/resource/festival/dicts/cmu/allowables.scm (deflated 73%)\n",
            "  adding: content/pretrain_work_dir/orig_model/resource/festival/dicts/oald/ (stored 0%)\n",
            "  adding: content/pretrain_work_dir/orig_model/resource/festival/dicts/oald/oaldlex.scm (deflated 75%)\n",
            "  adding: content/pretrain_work_dir/orig_model/resource/festival/dicts/oald/oald_lts_rules.scm (deflated 92%)\n",
            "  adding: content/pretrain_work_dir/orig_model/resource/festival/dicts/oald/COPYING (deflated 63%)\n",
            "  adding: content/pretrain_work_dir/orig_model/resource/festival/dicts/oald/oald_extensions.scm (deflated 65%)\n",
            "  adding: content/pretrain_work_dir/orig_model/resource/festival/dicts/oald/ali.oald.lex (deflated 83%)\n",
            "  adding: content/pretrain_work_dir/orig_model/resource/festival/dicts/wsj.wp39.poslexR (deflated 82%)\n",
            "  adding: content/pretrain_work_dir/orig_model/resource/festival/cstr.scm (deflated 65%)\n",
            "  adding: content/pretrain_work_dir/orig_model/resource/festival/phrase.scm (deflated 63%)\n",
            "  adding: content/pretrain_work_dir/orig_model/resource/festival/festival.el (deflated 69%)\n",
            "  adding: content/pretrain_work_dir/orig_model/resource/festival/cslush.scm (deflated 61%)\n",
            "  adding: content/pretrain_work_dir/orig_model/resource/festival/scfg.scm (deflated 63%)\n",
            "  adding: content/pretrain_work_dir/orig_model/resource/festival/cmusphinx2_phones.scm (deflated 68%)\n",
            "  adding: content/pretrain_work_dir/orig_model/resource/festival/tokenpos.scm (deflated 64%)\n",
            "  adding: content/pretrain_work_dir/orig_model/resource/festival/mrpa_durs.scm (deflated 63%)\n",
            "  adding: content/pretrain_work_dir/orig_model/resource/festival/email-mode.scm (deflated 64%)\n",
            "  adding: content/pretrain_work_dir/orig_model/resource/festival/ogimarkup-mode.scm (deflated 68%)\n",
            "  adding: content/pretrain_work_dir/orig_model/resource/festival/sec.ts20.quad.ngrambin (deflated 87%)\n",
            "  adding: content/pretrain_work_dir/orig_model/resource/festival/engmorph.scm (deflated 71%)\n",
            "  adding: content/pretrain_work_dir/orig_model/resource/festival/synthesis.scm (deflated 75%)\n",
            "  adding: content/pretrain_work_dir/orig_model/resource/festival/mrpa_phones.scm (deflated 70%)\n",
            "  adding: content/pretrain_work_dir/orig_model/resource/festival/VCLocalRules (deflated 18%)\n",
            "  adding: content/pretrain_work_dir/orig_model/resource/festival/tobi_rules.scm (deflated 74%)\n",
            "  adding: content/pretrain_work_dir/orig_model/resource/festival/Sable.v0_2.dtd (deflated 68%)\n",
            "  adding: content/pretrain_work_dir/orig_model/resource/festival/phoneset.scm (deflated 66%)\n",
            "  adding: content/pretrain_work_dir/orig_model/resource/festival/soleml-mode.scm (deflated 74%)\n",
            "  adding: content/pretrain_work_dir/orig_model/resource/festival/speech.properties (deflated 28%)\n",
            "  adding: content/pretrain_work_dir/orig_model/resource/festival/tts.scm (deflated 64%)\n",
            "  adding: content/pretrain_work_dir/orig_model/resource/festival/radio_phones.scm (deflated 68%)\n",
            "  adding: content/pretrain_work_dir/orig_model/resource/festival/token.scm (deflated 76%)\n",
            "  adding: content/pretrain_work_dir/orig_model/resource/festival/apml_kaldurtreeZ.scm (deflated 76%)\n",
            "  adding: content/pretrain_work_dir/orig_model/resource/festival/intonation.scm (deflated 66%)\n",
            "  adding: content/pretrain_work_dir/orig_model/resource/festival/f2bdurtreeZ.scm (deflated 78%)\n",
            "  adding: content/pretrain_work_dir/orig_model/resource/festival/sable-latin.ent (deflated 69%)\n",
            "  adding: content/pretrain_work_dir/orig_model/resource/festival/init.scm (deflated 67%)\n",
            "  adding: content/pretrain_work_dir/orig_model/resource/festival/clunits_build.scm (deflated 72%)\n",
            "  adding: content/pretrain_work_dir/orig_model/resource/festival/scfg_wsj_wp20.gram (deflated 68%)\n",
            "  adding: content/pretrain_work_dir/orig_model/resource/festival/unilex_phones.scm (deflated 75%)\n",
            "  adding: content/pretrain_work_dir/orig_model/resource/festival/clunits.scm (deflated 72%)\n",
            "  adding: content/pretrain_work_dir/orig_model/resource/festival/display.scm (deflated 66%)\n",
            "  adding: content/pretrain_work_dir/orig_model/resource/festival/pauses.scm (deflated 72%)\n",
            "  adding: content/pretrain_work_dir/orig_model/resource/festival/tilt.scm (deflated 75%)\n",
            "  adding: content/pretrain_work_dir/orig_model/resource/festival/mettree.scm (deflated 61%)\n",
            "  adding: content/pretrain_work_dir/orig_model/resource/festival/java.scm (deflated 64%)\n",
            "  adding: content/pretrain_work_dir/orig_model/resource/festival/sable-mode.scm (deflated 74%)\n",
            "  adding: content/pretrain_work_dir/orig_model/resource/festival/lts_build.scm (deflated 74%)\n",
            "  adding: content/pretrain_work_dir/orig_model/resource/festival/voices.scm (deflated 69%)\n",
            "  adding: content/pretrain_work_dir/orig_model/resource/festival/festtest.scm (deflated 67%)\n",
            "  adding: content/pretrain_work_dir/orig_model/resource/festival/holmes_phones.scm (deflated 68%)\n",
            "  adding: content/pretrain_work_dir/orig_model/resource/jprsc/ (stored 0%)\n",
            "  adding: content/pretrain_work_dir/orig_model/resource/jprsc/right-id.def (deflated 87%)\n",
            "  adding: content/pretrain_work_dir/orig_model/resource/jprsc/unk.dic (deflated 87%)\n",
            "  adding: content/pretrain_work_dir/orig_model/resource/jprsc/COPYING (deflated 78%)\n",
            "  adding: content/pretrain_work_dir/orig_model/resource/jprsc/pos-id.def (deflated 67%)\n",
            "  adding: content/pretrain_work_dir/orig_model/resource/jprsc/char.bin (deflated 100%)\n",
            "  adding: content/pretrain_work_dir/orig_model/resource/jprsc/left-id.def (deflated 87%)\n",
            "  adding: content/pretrain_work_dir/orig_model/resource/jprsc/matrix.bin (deflated 52%)\n",
            "  adding: content/pretrain_work_dir/orig_model/resource/jprsc/rewrite.def (deflated 85%)\n",
            "  adding: content/pretrain_work_dir/orig_model/resource/jprsc/sys.dic (deflated 79%)\n",
            "  adding: content/pretrain_work_dir/orig_model/resource/ws/ (stored 0%)\n",
            "  adding: content/pretrain_work_dir/orig_model/resource/ws/xiaoyan.dict (deflated 67%)\n",
            "  adding: content/pretrain_work_dir/orig_model/resource/ws/pos_hmm.dict (deflated 60%)\n",
            "  adding: content/pretrain_work_dir/orig_model/resource/ws/crf_model (deflated 66%)\n",
            "  adding: content/pretrain_work_dir/orig_model/resource/ws/ivr.dict (deflated 75%)\n",
            "  adding: content/pretrain_work_dir/orig_model/resource/ws/ws-dfa-rule.dict (deflated 96%)\n",
            "  adding: content/pretrain_work_dir/orig_model/resource/ws/puncNumberTimeLetter.dict (deflated 100%)\n",
            "  adding: content/pretrain_work_dir/orig_model/resource/ws/AliTokenizer_example.conf (deflated 31%)\n",
            "  adding: content/pretrain_work_dir/orig_model/resource/ws_chhk/ (stored 0%)\n",
            "  adding: content/pretrain_work_dir/orig_model/resource/ws_chhk/xiaoyan.dict (deflated 67%)\n",
            "  adding: content/pretrain_work_dir/orig_model/resource/ws_chhk/pos_hmm.dict (deflated 60%)\n",
            "  adding: content/pretrain_work_dir/orig_model/resource/ws_chhk/ivr.dict (deflated 75%)\n",
            "  adding: content/pretrain_work_dir/orig_model/resource/ws_chhk/ws-dfa-rule.dict (deflated 96%)\n",
            "  adding: content/pretrain_work_dir/orig_model/resource/ws_chhk/puncNumberTimeLetter.dict (deflated 100%)\n",
            "  adding: content/pretrain_work_dir/orig_model/resource/ws_chhk/AliTokenizer_example.conf (deflated 31%)\n",
            "  adding: content/pretrain_work_dir/orig_model/resource/languagedata_embedded.bin (deflated 23%)\n",
            "  adding: content/pretrain_work_dir/orig_model/resource/ws_chsh/ (stored 0%)\n",
            "  adding: content/pretrain_work_dir/orig_model/resource/ws_chsh/xiaoyan.dict (deflated 68%)\n",
            "  adding: content/pretrain_work_dir/orig_model/resource/ws_chsh/pos_hmm.dict (deflated 60%)\n",
            "  adding: content/pretrain_work_dir/orig_model/resource/ws_chsh/ivr.dict (deflated 75%)\n",
            "  adding: content/pretrain_work_dir/orig_model/resource/ws_chsh/ws-dfa-rule.dict (deflated 96%)\n",
            "  adding: content/pretrain_work_dir/orig_model/resource/ws_chsh/puncNumberTimeLetter.dict (deflated 100%)\n",
            "  adding: content/pretrain_work_dir/orig_model/resource/ws_chsh/AliTokenizer_example.conf (deflated 31%)\n",
            "  adding: content/pretrain_work_dir/orig_model/resource/ws_zhsc/ (stored 0%)\n",
            "  adding: content/pretrain_work_dir/orig_model/resource/ws_zhsc/xiaoyan.dict (deflated 67%)\n",
            "  adding: content/pretrain_work_dir/orig_model/resource/ws_zhsc/pos_hmm.dict (deflated 60%)\n",
            "  adding: content/pretrain_work_dir/orig_model/resource/ws_zhsc/crf_model (deflated 66%)\n",
            "  adding: content/pretrain_work_dir/orig_model/resource/ws_zhsc/ivr.dict (deflated 75%)\n",
            "  adding: content/pretrain_work_dir/orig_model/resource/ws_zhsc/ws-dfa-rule.dict (deflated 96%)\n",
            "  adding: content/pretrain_work_dir/orig_model/resource/ws_zhsc/puncNumberTimeLetter.dict (deflated 100%)\n",
            "  adding: content/pretrain_work_dir/orig_model/resource/ws_zhsc/AliTokenizer_example.conf (deflated 31%)\n",
            "  adding: content/pretrain_work_dir/orig_model/description/ (stored 0%)\n",
            "  adding: content/pretrain_work_dir/orig_model/description/sambert.jpg (deflated 22%)\n",
            "  adding: content/pretrain_work_dir/orig_model/description/notebook_steps/ (stored 0%)\n",
            "  adding: content/pretrain_work_dir/orig_model/description/notebook_steps/autolabel_setting.jpg (deflated 28%)\n",
            "  adding: content/pretrain_work_dir/orig_model/description/notebook_steps/autolabel_done.jpg (deflated 31%)\n",
            "  adding: content/pretrain_work_dir/orig_model/description/notebook_steps/upload_wavs.jpg (deflated 37%)\n",
            "  adding: content/pretrain_work_dir/orig_model/description/notebook_steps/fetch_nltk_data.jpg (deflated 28%)\n",
            "  adding: content/pretrain_work_dir/orig_model/description/notebook_steps/inference_play.jpg (deflated 22%)\n",
            "  adding: content/pretrain_work_dir/orig_model/description/notebook_steps/training.jpg (deflated 15%)\n",
            "  adding: content/pretrain_work_dir/orig_model/description/notebook_steps/inference.jpg (deflated 23%)\n",
            "  adding: content/pretrain_work_dir/orig_model/description/notebook_steps/build_trainer.jpg (deflated 28%)\n",
            "  adding: content/pretrain_work_dir/orig_model/description/ptts_normal.png (deflated 15%)\n",
            "  adding: content/pretrain_work_dir/orig_model/description/tts-system.jpg (deflated 39%)\n",
            "  adding: content/pretrain_work_dir/orig_model/description/wav/ (stored 0%)\n",
            "  adding: content/pretrain_work_dir/orig_model/description/wav/ptts/ (stored 0%)\n",
            "  adding: content/pretrain_work_dir/orig_model/description/wav/ptts/6.wav (deflated 11%)\n",
            "  adding: content/pretrain_work_dir/orig_model/description/wav/ptts/8.wav (deflated 18%)\n",
            "  adding: content/pretrain_work_dir/orig_model/description/wav/ptts/7.wav (deflated 15%)\n",
            "  adding: content/pretrain_work_dir/orig_model/description/wav/record/ (stored 0%)\n",
            "  adding: content/pretrain_work_dir/orig_model/description/wav/record/SSB00180500.wav (deflated 20%)\n",
            "  adding: content/pretrain_work_dir/orig_model/description/wav/record/SSB00180503.wav (deflated 26%)\n",
            "  adding: content/pretrain_work_dir/orig_model/description/wav/record/SSB00180288.wav (deflated 20%)\n",
            "  adding: content/pretrain_work_dir/orig_model/description/ptts_structure.png (deflated 12%)\n",
            "  adding: content/pretrain_work_dir/orig_model/description/speaker_embedding.png (deflated 11%)\n",
            "  adding: content/pretrain_work_dir/orig_model/description/hifigan.jpg (deflated 35%)\n",
            "  adding: content/pretrain_work_dir/orig_model/description/aishell3.png (deflated 19%)\n",
            "  adding: content/pretrain_work_dir/orig_model/description/ptts_vs_normal.png (deflated 10%)\n",
            "  adding: content/pretrain_work_dir/orig_model/.msc (deflated 73%)\n",
            "  adding: content/pretrain_work_dir/orig_model/README.md (deflated 61%)\n",
            "  adding: content/pretrain_work_dir/orig_model/configuration.json (deflated 72%)\n",
            "  adding: content/pretrain_work_dir/orig_model/.mdl (deflated 2%)\n"
          ]
        }
      ]
    },
    {
      "cell_type": "code",
      "source": [
        "from google.colab import files\n",
        "files.download(\"/content/model.zip\")"
      ],
      "metadata": {
        "colab": {
          "base_uri": "https://localhost:8080/",
          "height": 34
        },
        "id": "pkwYOqU6LptY",
        "outputId": "d9a80d73-24d7-490f-ba83-5a642d213ca3"
      },
      "execution_count": 17,
      "outputs": [
        {
          "output_type": "display_data",
          "data": {
            "text/plain": [
              "<IPython.core.display.Javascript object>"
            ],
            "application/javascript": [
              "\n",
              "    async function download(id, filename, size) {\n",
              "      if (!google.colab.kernel.accessAllowed) {\n",
              "        return;\n",
              "      }\n",
              "      const div = document.createElement('div');\n",
              "      const label = document.createElement('label');\n",
              "      label.textContent = `Downloading \"${filename}\": `;\n",
              "      div.appendChild(label);\n",
              "      const progress = document.createElement('progress');\n",
              "      progress.max = size;\n",
              "      div.appendChild(progress);\n",
              "      document.body.appendChild(div);\n",
              "\n",
              "      const buffers = [];\n",
              "      let downloaded = 0;\n",
              "\n",
              "      const channel = await google.colab.kernel.comms.open(id);\n",
              "      // Send a message to notify the kernel that we're ready.\n",
              "      channel.send({})\n",
              "\n",
              "      for await (const message of channel.messages) {\n",
              "        // Send a message to notify the kernel that we're ready.\n",
              "        channel.send({})\n",
              "        if (message.buffers) {\n",
              "          for (const buffer of message.buffers) {\n",
              "            buffers.push(buffer);\n",
              "            downloaded += buffer.byteLength;\n",
              "            progress.value = downloaded;\n",
              "          }\n",
              "        }\n",
              "      }\n",
              "      const blob = new Blob(buffers, {type: 'application/binary'});\n",
              "      const a = document.createElement('a');\n",
              "      a.href = window.URL.createObjectURL(blob);\n",
              "      a.download = filename;\n",
              "      div.appendChild(a);\n",
              "      a.click();\n",
              "      div.remove();\n",
              "    }\n",
              "  "
            ]
          },
          "metadata": {}
        },
        {
          "output_type": "display_data",
          "data": {
            "text/plain": [
              "<IPython.core.display.Javascript object>"
            ],
            "application/javascript": [
              "download(\"download_97a03b1b-155a-4637-9ea6-6d560f35dc67\", \"model.zip\", 1819292955)"
            ]
          },
          "metadata": {}
        }
      ]
    },
    {
      "cell_type": "code",
      "source": [],
      "metadata": {
        "id": "AiAbfQ7tM31n"
      },
      "execution_count": null,
      "outputs": []
    }
  ]
}