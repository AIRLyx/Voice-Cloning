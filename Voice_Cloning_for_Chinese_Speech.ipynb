{
  "nbformat": 4,
  "nbformat_minor": 0,
  "metadata": {
    "colab": {
      "provenance": [],
      "machine_shape": "hm",
      "gpuType": "V100",
      "authorship_tag": "ABX9TyOWssLi6crmyp1umYiKQvYG",
      "include_colab_link": true
    },
    "kernelspec": {
      "name": "python3",
      "display_name": "Python 3"
    },
    "language_info": {
      "name": "python"
    },
    "accelerator": "GPU"
  },
  "cells": [
    {
      "cell_type": "markdown",
      "metadata": {
        "id": "view-in-github",
        "colab_type": "text"
      },
      "source": [
        "<a href=\"https://colab.research.google.com/github/KevinWang676/Bark-Voice-Cloning/blob/main/Voice_Cloning_for_Chinese_Speech.ipynb\" target=\"_parent\"><img src=\"https://colab.research.google.com/assets/colab-badge.svg\" alt=\"Open In Colab\"/></a>"
      ]
    },
    {
      "cell_type": "markdown",
      "source": [
        "# 全新中文声音克隆 Voice Cloning for Chinese Speech"
      ],
      "metadata": {
        "id": "Uhhc4_stcdSf"
      }
    },
    {
      "cell_type": "markdown",
      "source": [
        "## 配置环境 Set up"
      ],
      "metadata": {
        "id": "qIFF53SWVDe-"
      }
    },
    {
      "cell_type": "code",
      "source": [
        "! nvidia-smi # 需要使用GPU运行"
      ],
      "metadata": {
        "id": "4RZJ1P69VKLU"
      },
      "execution_count": null,
      "outputs": []
    },
    {
      "cell_type": "code",
      "source": [
        "! pip install openai-whisper\n",
        "! pip install modelscope\n",
        "! pip install tts-autolabel -f https://modelscope.oss-cn-beijing.aliyuncs.com/releases/repo.html\n",
        "! pip install typeguard==2.3.1\n",
        "! pip install sox\n",
        "! pip install bitstring\n",
        "! pip install pysptk --no-build-isolation\n",
        "! pip install kantts -f https://modelscope.oss-cn-beijing.aliyuncs.com/releases/repo.html\n",
        "! pip install pytorch_wavelets\n",
        "! pip install tensorboardX\n",
        "! git clone https://github.com/fbcotter/pytorch_wavelets\n",
        "! pip install matplotlib\n",
        "! pip install numpy==1.22.0"
      ],
      "metadata": {
        "id": "s2aAbOEPaVh6",
        "colab": {
          "base_uri": "https://localhost:8080/",
          "height": 1000
        },
        "outputId": "8e6da39e-d384-487f-b56f-cf8ec80786c9"
      },
      "execution_count": null,
      "outputs": [
        {
          "output_type": "stream",
          "name": "stdout",
          "text": [
            "Collecting openai-whisper\n",
            "  Downloading openai-whisper-20230314.tar.gz (792 kB)\n",
            "\u001b[?25l     \u001b[90m━━━━━━━━━━━━━━━━━━━━━━━━━━━━━━━━━━━━━━━━\u001b[0m \u001b[32m0.0/792.9 kB\u001b[0m \u001b[31m?\u001b[0m eta \u001b[36m-:--:--\u001b[0m\r\u001b[2K     \u001b[90m━━━━━━━━━━━━━━━━━━━━━━━━━━━━━━━━━━━━━━\u001b[0m \u001b[32m792.9/792.9 kB\u001b[0m \u001b[31m25.8 MB/s\u001b[0m eta \u001b[36m0:00:00\u001b[0m\n",
            "\u001b[?25h  Installing build dependencies ... \u001b[?25l\u001b[?25hdone\n",
            "  Getting requirements to build wheel ... \u001b[?25l\u001b[?25hdone\n",
            "  Preparing metadata (pyproject.toml) ... \u001b[?25l\u001b[?25hdone\n",
            "Requirement already satisfied: triton==2.0.0 in /usr/local/lib/python3.10/dist-packages (from openai-whisper) (2.0.0)\n",
            "Requirement already satisfied: numba in /usr/local/lib/python3.10/dist-packages (from openai-whisper) (0.56.4)\n",
            "Requirement already satisfied: numpy in /usr/local/lib/python3.10/dist-packages (from openai-whisper) (1.22.4)\n",
            "Requirement already satisfied: torch in /usr/local/lib/python3.10/dist-packages (from openai-whisper) (2.0.1+cu118)\n",
            "Requirement already satisfied: tqdm in /usr/local/lib/python3.10/dist-packages (from openai-whisper) (4.65.0)\n",
            "Requirement already satisfied: more-itertools in /usr/local/lib/python3.10/dist-packages (from openai-whisper) (9.1.0)\n",
            "Collecting tiktoken==0.3.1 (from openai-whisper)\n",
            "  Downloading tiktoken-0.3.1-cp310-cp310-manylinux_2_17_x86_64.manylinux2014_x86_64.whl (1.7 MB)\n",
            "\u001b[2K     \u001b[90m━━━━━━━━━━━━━━━━━━━━━━━━━━━━━━━━━━━━━━━━\u001b[0m \u001b[32m1.7/1.7 MB\u001b[0m \u001b[31m28.5 MB/s\u001b[0m eta \u001b[36m0:00:00\u001b[0m\n",
            "\u001b[?25hCollecting ffmpeg-python==0.2.0 (from openai-whisper)\n",
            "  Downloading ffmpeg_python-0.2.0-py3-none-any.whl (25 kB)\n",
            "Requirement already satisfied: future in /usr/local/lib/python3.10/dist-packages (from ffmpeg-python==0.2.0->openai-whisper) (0.18.3)\n",
            "Requirement already satisfied: regex>=2022.1.18 in /usr/local/lib/python3.10/dist-packages (from tiktoken==0.3.1->openai-whisper) (2022.10.31)\n",
            "Requirement already satisfied: requests>=2.26.0 in /usr/local/lib/python3.10/dist-packages (from tiktoken==0.3.1->openai-whisper) (2.27.1)\n",
            "Requirement already satisfied: cmake in /usr/local/lib/python3.10/dist-packages (from triton==2.0.0->openai-whisper) (3.25.2)\n",
            "Requirement already satisfied: filelock in /usr/local/lib/python3.10/dist-packages (from triton==2.0.0->openai-whisper) (3.12.2)\n",
            "Requirement already satisfied: lit in /usr/local/lib/python3.10/dist-packages (from triton==2.0.0->openai-whisper) (16.0.6)\n",
            "Requirement already satisfied: llvmlite<0.40,>=0.39.0dev0 in /usr/local/lib/python3.10/dist-packages (from numba->openai-whisper) (0.39.1)\n",
            "Requirement already satisfied: setuptools in /usr/local/lib/python3.10/dist-packages (from numba->openai-whisper) (67.7.2)\n",
            "Requirement already satisfied: typing-extensions in /usr/local/lib/python3.10/dist-packages (from torch->openai-whisper) (4.7.1)\n",
            "Requirement already satisfied: sympy in /usr/local/lib/python3.10/dist-packages (from torch->openai-whisper) (1.11.1)\n",
            "Requirement already satisfied: networkx in /usr/local/lib/python3.10/dist-packages (from torch->openai-whisper) (3.1)\n",
            "Requirement already satisfied: jinja2 in /usr/local/lib/python3.10/dist-packages (from torch->openai-whisper) (3.1.2)\n",
            "Requirement already satisfied: urllib3<1.27,>=1.21.1 in /usr/local/lib/python3.10/dist-packages (from requests>=2.26.0->tiktoken==0.3.1->openai-whisper) (1.26.16)\n",
            "Requirement already satisfied: certifi>=2017.4.17 in /usr/local/lib/python3.10/dist-packages (from requests>=2.26.0->tiktoken==0.3.1->openai-whisper) (2023.5.7)\n",
            "Requirement already satisfied: charset-normalizer~=2.0.0 in /usr/local/lib/python3.10/dist-packages (from requests>=2.26.0->tiktoken==0.3.1->openai-whisper) (2.0.12)\n",
            "Requirement already satisfied: idna<4,>=2.5 in /usr/local/lib/python3.10/dist-packages (from requests>=2.26.0->tiktoken==0.3.1->openai-whisper) (3.4)\n",
            "Requirement already satisfied: MarkupSafe>=2.0 in /usr/local/lib/python3.10/dist-packages (from jinja2->torch->openai-whisper) (2.1.3)\n",
            "Requirement already satisfied: mpmath>=0.19 in /usr/local/lib/python3.10/dist-packages (from sympy->torch->openai-whisper) (1.3.0)\n",
            "Building wheels for collected packages: openai-whisper\n",
            "  Building wheel for openai-whisper (pyproject.toml) ... \u001b[?25l\u001b[?25hdone\n",
            "  Created wheel for openai-whisper: filename=openai_whisper-20230314-py3-none-any.whl size=796910 sha256=be9e3d9633c0c27cd621a532987e123f5a21780164327264754674f723228f3e\n",
            "  Stored in directory: /root/.cache/pip/wheels/b2/13/5f/fe8245f6dc59df505879da4b2129932e342f02a80e6b87f27d\n",
            "Successfully built openai-whisper\n",
            "Installing collected packages: ffmpeg-python, tiktoken, openai-whisper\n",
            "Successfully installed ffmpeg-python-0.2.0 openai-whisper-20230314 tiktoken-0.3.1\n",
            "Collecting modelscope\n",
            "  Downloading modelscope-1.7.1-py3-none-any.whl (4.5 MB)\n",
            "\u001b[2K     \u001b[90m━━━━━━━━━━━━━━━━━━━━━━━━━━━━━━━━━━━━━━━━\u001b[0m \u001b[32m4.5/4.5 MB\u001b[0m \u001b[31m69.6 MB/s\u001b[0m eta \u001b[36m0:00:00\u001b[0m\n",
            "\u001b[?25hCollecting addict (from modelscope)\n",
            "  Downloading addict-2.4.0-py3-none-any.whl (3.8 kB)\n",
            "Requirement already satisfied: attrs in /usr/local/lib/python3.10/dist-packages (from modelscope) (23.1.0)\n",
            "Collecting datasets (from modelscope)\n",
            "  Downloading datasets-2.13.1-py3-none-any.whl (486 kB)\n",
            "\u001b[2K     \u001b[90m━━━━━━━━━━━━━━━━━━━━━━━━━━━━━━━━━━━━━━\u001b[0m \u001b[32m486.2/486.2 kB\u001b[0m \u001b[31m48.2 MB/s\u001b[0m eta \u001b[36m0:00:00\u001b[0m\n",
            "\u001b[?25hCollecting einops (from modelscope)\n",
            "  Downloading einops-0.6.1-py3-none-any.whl (42 kB)\n",
            "\u001b[2K     \u001b[90m━━━━━━━━━━━━━━━━━━━━━━━━━━━━━━━━━━━━━━━━\u001b[0m \u001b[32m42.2/42.2 kB\u001b[0m \u001b[31m5.2 MB/s\u001b[0m eta \u001b[36m0:00:00\u001b[0m\n",
            "\u001b[?25hRequirement already satisfied: filelock>=3.3.0 in /usr/local/lib/python3.10/dist-packages (from modelscope) (3.12.2)\n",
            "Requirement already satisfied: gast>=0.2.2 in /usr/local/lib/python3.10/dist-packages (from modelscope) (0.4.0)\n",
            "Collecting numpy<=1.22.0 (from modelscope)\n",
            "  Downloading numpy-1.22.0-cp310-cp310-manylinux_2_17_x86_64.manylinux2014_x86_64.whl (16.8 MB)\n",
            "\u001b[2K     \u001b[90m━━━━━━━━━━━━━━━━━━━━━━━━━━━━━━━━━━━━━━━━\u001b[0m \u001b[32m16.8/16.8 MB\u001b[0m \u001b[31m77.5 MB/s\u001b[0m eta \u001b[36m0:00:00\u001b[0m\n",
            "\u001b[?25hCollecting oss2 (from modelscope)\n",
            "  Downloading oss2-2.18.1.tar.gz (274 kB)\n",
            "\u001b[2K     \u001b[90m━━━━━━━━━━━━━━━━━━━━━━━━━━━━━━━━━━━━━━\u001b[0m \u001b[32m274.3/274.3 kB\u001b[0m \u001b[31m32.9 MB/s\u001b[0m eta \u001b[36m0:00:00\u001b[0m\n",
            "\u001b[?25h  Preparing metadata (setup.py) ... \u001b[?25l\u001b[?25hdone\n",
            "Collecting pandas<1.4.0 (from modelscope)\n",
            "  Downloading pandas-1.3.5-cp310-cp310-manylinux_2_17_x86_64.manylinux2014_x86_64.whl (11.5 MB)\n",
            "\u001b[2K     \u001b[90m━━━━━━━━━━━━━━━━━━━━━━━━━━━━━━━━━━━━━━━\u001b[0m \u001b[32m11.5/11.5 MB\u001b[0m \u001b[31m105.2 MB/s\u001b[0m eta \u001b[36m0:00:00\u001b[0m\n",
            "\u001b[?25hRequirement already satisfied: Pillow>=6.2.0 in /usr/local/lib/python3.10/dist-packages (from modelscope) (8.4.0)\n",
            "Collecting pyarrow!=9.0.0,>=6.0.0 (from modelscope)\n",
            "  Downloading pyarrow-12.0.1-cp310-cp310-manylinux_2_17_x86_64.manylinux2014_x86_64.whl (38.9 MB)\n",
            "\u001b[2K     \u001b[90m━━━━━━━━━━━━━━━━━━━━━━━━━━━━━━━━━━━━━━━━\u001b[0m \u001b[32m38.9/38.9 MB\u001b[0m \u001b[31m11.8 MB/s\u001b[0m eta \u001b[36m0:00:00\u001b[0m\n",
            "\u001b[?25hRequirement already satisfied: python-dateutil>=2.1 in /usr/local/lib/python3.10/dist-packages (from modelscope) (2.8.2)\n",
            "Requirement already satisfied: pyyaml in /usr/local/lib/python3.10/dist-packages (from modelscope) (6.0)\n",
            "Requirement already satisfied: requests>=2.25 in /usr/local/lib/python3.10/dist-packages (from modelscope) (2.27.1)\n",
            "Requirement already satisfied: scipy in /usr/local/lib/python3.10/dist-packages (from modelscope) (1.10.1)\n",
            "Requirement already satisfied: setuptools in /usr/local/lib/python3.10/dist-packages (from modelscope) (67.7.2)\n",
            "Collecting simplejson>=3.3.0 (from modelscope)\n",
            "  Downloading simplejson-3.19.1-cp310-cp310-manylinux_2_5_x86_64.manylinux1_x86_64.manylinux_2_17_x86_64.manylinux2014_x86_64.whl (137 kB)\n",
            "\u001b[2K     \u001b[90m━━━━━━━━━━━━━━━━━━━━━━━━━━━━━━━━━━━━━━\u001b[0m \u001b[32m137.9/137.9 kB\u001b[0m \u001b[31m14.8 MB/s\u001b[0m eta \u001b[36m0:00:00\u001b[0m\n",
            "\u001b[?25hRequirement already satisfied: sortedcontainers>=1.5.9 in /usr/local/lib/python3.10/dist-packages (from modelscope) (2.4.0)\n",
            "Requirement already satisfied: tqdm>=4.64.0 in /usr/local/lib/python3.10/dist-packages (from modelscope) (4.65.0)\n",
            "Requirement already satisfied: urllib3>=1.26 in /usr/local/lib/python3.10/dist-packages (from modelscope) (1.26.16)\n",
            "Collecting yapf (from modelscope)\n",
            "  Downloading yapf-0.40.1-py3-none-any.whl (250 kB)\n",
            "\u001b[2K     \u001b[90m━━━━━━━━━━━━━━━━━━━━━━━━━━━━━━━━━━━━━━\u001b[0m \u001b[32m250.3/250.3 kB\u001b[0m \u001b[31m25.2 MB/s\u001b[0m eta \u001b[36m0:00:00\u001b[0m\n",
            "\u001b[?25hRequirement already satisfied: pytz>=2017.3 in /usr/local/lib/python3.10/dist-packages (from pandas<1.4.0->modelscope) (2022.7.1)\n",
            "Requirement already satisfied: six>=1.5 in /usr/local/lib/python3.10/dist-packages (from python-dateutil>=2.1->modelscope) (1.16.0)\n",
            "Requirement already satisfied: certifi>=2017.4.17 in /usr/local/lib/python3.10/dist-packages (from requests>=2.25->modelscope) (2023.5.7)\n",
            "Requirement already satisfied: charset-normalizer~=2.0.0 in /usr/local/lib/python3.10/dist-packages (from requests>=2.25->modelscope) (2.0.12)\n",
            "Requirement already satisfied: idna<4,>=2.5 in /usr/local/lib/python3.10/dist-packages (from requests>=2.25->modelscope) (3.4)\n",
            "Collecting dill<0.3.7,>=0.3.0 (from datasets->modelscope)\n",
            "  Downloading dill-0.3.6-py3-none-any.whl (110 kB)\n",
            "\u001b[2K     \u001b[90m━━━━━━━━━━━━━━━━━━━━━━━━━━━━━━━━━━━━━━\u001b[0m \u001b[32m110.5/110.5 kB\u001b[0m \u001b[31m13.0 MB/s\u001b[0m eta \u001b[36m0:00:00\u001b[0m\n",
            "\u001b[?25hCollecting xxhash (from datasets->modelscope)\n",
            "  Downloading xxhash-3.2.0-cp310-cp310-manylinux_2_17_x86_64.manylinux2014_x86_64.whl (212 kB)\n",
            "\u001b[2K     \u001b[90m━━━━━━━━━━━━━━━━━━━━━━━━━━━━━━━━━━━━━━\u001b[0m \u001b[32m212.5/212.5 kB\u001b[0m \u001b[31m23.7 MB/s\u001b[0m eta \u001b[36m0:00:00\u001b[0m\n",
            "\u001b[?25hCollecting multiprocess (from datasets->modelscope)\n",
            "  Downloading multiprocess-0.70.14-py310-none-any.whl (134 kB)\n",
            "\u001b[2K     \u001b[90m━━━━━━━━━━━━━━━━━━━━━━━━━━━━━━━━━━━━━━\u001b[0m \u001b[32m134.3/134.3 kB\u001b[0m \u001b[31m16.6 MB/s\u001b[0m eta \u001b[36m0:00:00\u001b[0m\n",
            "\u001b[?25hRequirement already satisfied: fsspec[http]>=2021.11.1 in /usr/local/lib/python3.10/dist-packages (from datasets->modelscope) (2023.6.0)\n",
            "Requirement already satisfied: aiohttp in /usr/local/lib/python3.10/dist-packages (from datasets->modelscope) (3.8.4)\n",
            "Collecting huggingface-hub<1.0.0,>=0.11.0 (from datasets->modelscope)\n",
            "  Downloading huggingface_hub-0.16.4-py3-none-any.whl (268 kB)\n",
            "\u001b[2K     \u001b[90m━━━━━━━━━━━━━━━━━━━━━━━━━━━━━━━━━━━━━━\u001b[0m \u001b[32m268.8/268.8 kB\u001b[0m \u001b[31m31.0 MB/s\u001b[0m eta \u001b[36m0:00:00\u001b[0m\n",
            "\u001b[?25hRequirement already satisfied: packaging in /usr/local/lib/python3.10/dist-packages (from datasets->modelscope) (23.1)\n",
            "Collecting crcmod>=1.7 (from oss2->modelscope)\n",
            "  Downloading crcmod-1.7.tar.gz (89 kB)\n",
            "\u001b[2K     \u001b[90m━━━━━━━━━━━━━━━━━━━━━━━━━━━━━━━━━━━━━━━━\u001b[0m \u001b[32m89.7/89.7 kB\u001b[0m \u001b[31m11.0 MB/s\u001b[0m eta \u001b[36m0:00:00\u001b[0m\n",
            "\u001b[?25h  Preparing metadata (setup.py) ... \u001b[?25l\u001b[?25hdone\n",
            "Collecting pycryptodome>=3.4.7 (from oss2->modelscope)\n",
            "  Downloading pycryptodome-3.18.0-cp35-abi3-manylinux_2_17_x86_64.manylinux2014_x86_64.whl (2.1 MB)\n",
            "\u001b[2K     \u001b[90m━━━━━━━━━━━━━━━━━━━━━━━━━━━━━━━━━━━━━━━━\u001b[0m \u001b[32m2.1/2.1 MB\u001b[0m \u001b[31m90.4 MB/s\u001b[0m eta \u001b[36m0:00:00\u001b[0m\n",
            "\u001b[?25hCollecting aliyun-python-sdk-kms>=2.4.1 (from oss2->modelscope)\n",
            "  Downloading aliyun_python_sdk_kms-2.16.1-py2.py3-none-any.whl (70 kB)\n",
            "\u001b[2K     \u001b[90m━━━━━━━━━━━━━━━━━━━━━━━━━━━━━━━━━━━━━━━━\u001b[0m \u001b[32m70.8/70.8 kB\u001b[0m \u001b[31m9.3 MB/s\u001b[0m eta \u001b[36m0:00:00\u001b[0m\n",
            "\u001b[?25hCollecting aliyun-python-sdk-core>=2.13.12 (from oss2->modelscope)\n",
            "  Downloading aliyun-python-sdk-core-2.13.36.tar.gz (440 kB)\n",
            "\u001b[2K     \u001b[90m━━━━━━━━━━━━━━━━━━━━━━━━━━━━━━━━━━━━━━\u001b[0m \u001b[32m440.5/440.5 kB\u001b[0m \u001b[31m37.1 MB/s\u001b[0m eta \u001b[36m0:00:00\u001b[0m\n",
            "\u001b[?25h  Preparing metadata (setup.py) ... \u001b[?25l\u001b[?25hdone\n",
            "Collecting importlib-metadata>=6.6.0 (from yapf->modelscope)\n",
            "  Downloading importlib_metadata-6.8.0-py3-none-any.whl (22 kB)\n",
            "Requirement already satisfied: platformdirs>=3.5.1 in /usr/local/lib/python3.10/dist-packages (from yapf->modelscope) (3.8.1)\n",
            "Requirement already satisfied: tomli>=2.0.1 in /usr/local/lib/python3.10/dist-packages (from yapf->modelscope) (2.0.1)\n",
            "Collecting jmespath<1.0.0,>=0.9.3 (from aliyun-python-sdk-core>=2.13.12->oss2->modelscope)\n",
            "  Downloading jmespath-0.10.0-py2.py3-none-any.whl (24 kB)\n",
            "Collecting cryptography>=2.6.0 (from aliyun-python-sdk-core>=2.13.12->oss2->modelscope)\n",
            "  Downloading cryptography-41.0.2-cp37-abi3-manylinux_2_28_x86_64.whl (4.3 MB)\n",
            "\u001b[2K     \u001b[90m━━━━━━━━━━━━━━━━━━━━━━━━━━━━━━━━━━━━━━━━\u001b[0m \u001b[32m4.3/4.3 MB\u001b[0m \u001b[31m111.2 MB/s\u001b[0m eta \u001b[36m0:00:00\u001b[0m\n",
            "\u001b[?25hRequirement already satisfied: multidict<7.0,>=4.5 in /usr/local/lib/python3.10/dist-packages (from aiohttp->datasets->modelscope) (6.0.4)\n",
            "Requirement already satisfied: async-timeout<5.0,>=4.0.0a3 in /usr/local/lib/python3.10/dist-packages (from aiohttp->datasets->modelscope) (4.0.2)\n",
            "Requirement already satisfied: yarl<2.0,>=1.0 in /usr/local/lib/python3.10/dist-packages (from aiohttp->datasets->modelscope) (1.9.2)\n",
            "Requirement already satisfied: frozenlist>=1.1.1 in /usr/local/lib/python3.10/dist-packages (from aiohttp->datasets->modelscope) (1.4.0)\n",
            "Requirement already satisfied: aiosignal>=1.1.2 in /usr/local/lib/python3.10/dist-packages (from aiohttp->datasets->modelscope) (1.3.1)\n",
            "Requirement already satisfied: typing-extensions>=3.7.4.3 in /usr/local/lib/python3.10/dist-packages (from huggingface-hub<1.0.0,>=0.11.0->datasets->modelscope) (4.7.1)\n",
            "Requirement already satisfied: zipp>=0.5 in /usr/local/lib/python3.10/dist-packages (from importlib-metadata>=6.6.0->yapf->modelscope) (3.16.1)\n",
            "Requirement already satisfied: cffi>=1.12 in /usr/local/lib/python3.10/dist-packages (from cryptography>=2.6.0->aliyun-python-sdk-core>=2.13.12->oss2->modelscope) (1.15.1)\n",
            "Requirement already satisfied: pycparser in /usr/local/lib/python3.10/dist-packages (from cffi>=1.12->cryptography>=2.6.0->aliyun-python-sdk-core>=2.13.12->oss2->modelscope) (2.21)\n",
            "Building wheels for collected packages: oss2, aliyun-python-sdk-core, crcmod\n",
            "  Building wheel for oss2 (setup.py) ... \u001b[?25l\u001b[?25hdone\n",
            "  Created wheel for oss2: filename=oss2-2.18.1-py3-none-any.whl size=115178 sha256=4396a56f3f529b85202b0fb04a964373cb25ec4976ac1aef1d32e883c8a4652c\n",
            "  Stored in directory: /root/.cache/pip/wheels/54/b1/27/f9d5791a1f01ee0ad99c934aa0e1df3eaae375b5d5aa3da184\n",
            "  Building wheel for aliyun-python-sdk-core (setup.py) ... \u001b[?25l\u001b[?25hdone\n",
            "  Created wheel for aliyun-python-sdk-core: filename=aliyun_python_sdk_core-2.13.36-py3-none-any.whl size=533194 sha256=16777b223fc1a641bdbb798c17f1bc1bf7808e0bb3838376935ec3c56a5c6552\n",
            "  Stored in directory: /root/.cache/pip/wheels/c0/f4/0e/87c534857132bd3bd2c4465c0b15b4db650cf6c15a876bda34\n",
            "  Building wheel for crcmod (setup.py) ... \u001b[?25l\u001b[?25hdone\n",
            "  Created wheel for crcmod: filename=crcmod-1.7-cp310-cp310-linux_x86_64.whl size=37111 sha256=cc7a2d2f68e781c6a691d2fc0be1168743e5ae7873d1d366b16dbd49b1b6ced2\n",
            "  Stored in directory: /root/.cache/pip/wheels/85/4c/07/72215c529bd59d67e3dac29711d7aba1b692f543c808ba9e86\n",
            "Successfully built oss2 aliyun-python-sdk-core crcmod\n",
            "Installing collected packages: crcmod, addict, xxhash, simplejson, pycryptodome, numpy, jmespath, importlib-metadata, einops, dill, yapf, pyarrow, pandas, multiprocess, huggingface-hub, cryptography, aliyun-python-sdk-core, datasets, aliyun-python-sdk-kms, oss2, modelscope\n",
            "  Attempting uninstall: numpy\n",
            "    Found existing installation: numpy 1.22.4\n",
            "    Uninstalling numpy-1.22.4:\n",
            "      Successfully uninstalled numpy-1.22.4\n",
            "  Attempting uninstall: pyarrow\n",
            "    Found existing installation: pyarrow 9.0.0\n",
            "    Uninstalling pyarrow-9.0.0:\n",
            "      Successfully uninstalled pyarrow-9.0.0\n",
            "  Attempting uninstall: pandas\n",
            "    Found existing installation: pandas 1.5.3\n",
            "    Uninstalling pandas-1.5.3:\n",
            "      Successfully uninstalled pandas-1.5.3\n",
            "\u001b[31mERROR: pip's dependency resolver does not currently take into account all the packages that are installed. This behaviour is the source of the following dependency conflicts.\n",
            "google-colab 1.0.0 requires pandas==1.5.3, but you have pandas 1.3.5 which is incompatible.\n",
            "librosa 0.10.0.post2 requires numpy!=1.22.0,!=1.22.1,!=1.22.2,>=1.20.3, but you have numpy 1.22.0 which is incompatible.\n",
            "pandas-gbq 0.17.9 requires pyarrow<10.0dev,>=3.0.0, but you have pyarrow 12.0.1 which is incompatible.\u001b[0m\u001b[31m\n",
            "\u001b[0mSuccessfully installed addict-2.4.0 aliyun-python-sdk-core-2.13.36 aliyun-python-sdk-kms-2.16.1 crcmod-1.7 cryptography-41.0.2 datasets-2.13.1 dill-0.3.6 einops-0.6.1 huggingface-hub-0.16.4 importlib-metadata-6.8.0 jmespath-0.10.0 modelscope-1.7.1 multiprocess-0.70.14 numpy-1.22.0 oss2-2.18.1 pandas-1.3.5 pyarrow-12.0.1 pycryptodome-3.18.0 simplejson-3.19.1 xxhash-3.2.0 yapf-0.40.1\n"
          ]
        },
        {
          "output_type": "display_data",
          "data": {
            "application/vnd.colab-display-data+json": {
              "pip_warning": {
                "packages": [
                  "numpy"
                ]
              }
            }
          },
          "metadata": {}
        },
        {
          "output_type": "stream",
          "name": "stdout",
          "text": [
            "Looking in links: https://modelscope.oss-cn-beijing.aliyuncs.com/releases/repo.html\n",
            "Collecting tts-autolabel\n",
            "  Downloading https://modelscope.oss-cn-beijing.aliyuncs.com/releases/dependencies/kantts/tts_autolabel-1.1.2-py3-none-any.whl (80 kB)\n",
            "\u001b[2K     \u001b[90m━━━━━━━━━━━━━━━━━━━━━━━━━━━━━━━━━━━━━━━\u001b[0m \u001b[32m80.3/80.3 kB\u001b[0m \u001b[31m165.3 kB/s\u001b[0m eta \u001b[36m0:00:00\u001b[0m\n",
            "\u001b[?25hCollecting onnxruntime (from tts-autolabel)\n",
            "  Downloading onnxruntime-1.15.1-cp310-cp310-manylinux_2_17_x86_64.manylinux2014_x86_64.whl (5.9 MB)\n",
            "\u001b[2K     \u001b[90m━━━━━━━━━━━━━━━━━━━━━━━━━━━━━━━━━━━━━━━━\u001b[0m \u001b[32m5.9/5.9 MB\u001b[0m \u001b[31m36.5 MB/s\u001b[0m eta \u001b[36m0:00:00\u001b[0m\n",
            "\u001b[?25hRequirement already satisfied: librosa in /usr/local/lib/python3.10/dist-packages (from tts-autolabel) (0.10.0.post2)\n",
            "Requirement already satisfied: numpy in /usr/local/lib/python3.10/dist-packages (from tts-autolabel) (1.22.0)\n",
            "Requirement already satisfied: scipy in /usr/local/lib/python3.10/dist-packages (from tts-autolabel) (1.10.1)\n",
            "Collecting typeguard (from tts-autolabel)\n",
            "  Downloading typeguard-4.0.0-py3-none-any.whl (33 kB)\n",
            "Collecting kaldi-native-fbank (from tts-autolabel)\n",
            "  Downloading kaldi_native_fbank-1.17-cp310-cp310-manylinux_2_17_x86_64.manylinux2014_x86_64.whl (189 kB)\n",
            "\u001b[2K     \u001b[90m━━━━━━━━━━━━━━━━━━━━━━━━━━━━━━━━━━━━━━\u001b[0m \u001b[32m189.5/189.5 kB\u001b[0m \u001b[31m19.6 MB/s\u001b[0m eta \u001b[36m0:00:00\u001b[0m\n",
            "\u001b[?25hCollecting pypinyin (from tts-autolabel)\n",
            "  Downloading pypinyin-0.49.0-py2.py3-none-any.whl (1.4 MB)\n",
            "\u001b[2K     \u001b[90m━━━━━━━━━━━━━━━━━━━━━━━━━━━━━━━━━━━━━━━━\u001b[0m \u001b[32m1.4/1.4 MB\u001b[0m \u001b[31m82.0 MB/s\u001b[0m eta \u001b[36m0:00:00\u001b[0m\n",
            "\u001b[?25hCollecting g2p-en (from tts-autolabel)\n",
            "  Downloading g2p_en-2.1.0-py3-none-any.whl (3.1 MB)\n",
            "\u001b[2K     \u001b[90m━━━━━━━━━━━━━━━━━━━━━━━━━━━━━━━━━━━━━━━━\u001b[0m \u001b[32m3.1/3.1 MB\u001b[0m \u001b[31m94.1 MB/s\u001b[0m eta \u001b[36m0:00:00\u001b[0m\n",
            "\u001b[?25hCollecting nls-pykaldi (from tts-autolabel)\n",
            "  Downloading https://modelscope.oss-cn-beijing.aliyuncs.com/releases/dependencies/pykaldi/linux/nls_pykaldi-1.0.0-cp310-cp310-linux_x86_64.whl (21.7 MB)\n",
            "\u001b[2K     \u001b[90m━━━━━━━━━━━━━━━━━━━━━━━━━━━━━━━━━━━━━━━━\u001b[0m \u001b[32m21.7/21.7 MB\u001b[0m \u001b[31m13.9 MB/s\u001b[0m eta \u001b[36m0:00:00\u001b[0m\n",
            "\u001b[?25hCollecting ttsfrd>=0.1.2 (from tts-autolabel)\n",
            "  Downloading https://modelscope.oss-cn-beijing.aliyuncs.com/releases/dependencies/ttsfrd/linux/ttsfrd-0.2.1-cp310-cp310-linux_x86_64.whl (53.4 MB)\n",
            "\u001b[2K     \u001b[90m━━━━━━━━━━━━━━━━━━━━━━━━━━━━━━━━━━━━━━━━\u001b[0m \u001b[32m53.4/53.4 MB\u001b[0m \u001b[31m6.0 MB/s\u001b[0m eta \u001b[36m0:00:00\u001b[0m\n",
            "\u001b[?25hRequirement already satisfied: nltk>=3.2.4 in /usr/local/lib/python3.10/dist-packages (from g2p-en->tts-autolabel) (3.8.1)\n",
            "Requirement already satisfied: inflect>=0.3.1 in /usr/local/lib/python3.10/dist-packages (from g2p-en->tts-autolabel) (6.0.5)\n",
            "Collecting distance>=0.1.3 (from g2p-en->tts-autolabel)\n",
            "  Downloading Distance-0.1.3.tar.gz (180 kB)\n",
            "\u001b[2K     \u001b[90m━━━━━━━━━━━━━━━━━━━━━━━━━━━━━━━━━━━━━━\u001b[0m \u001b[32m180.3/180.3 kB\u001b[0m \u001b[31m22.3 MB/s\u001b[0m eta \u001b[36m0:00:00\u001b[0m\n",
            "\u001b[?25h  Preparing metadata (setup.py) ... \u001b[?25l\u001b[?25hdone\n",
            "Requirement already satisfied: audioread>=2.1.9 in /usr/local/lib/python3.10/dist-packages (from librosa->tts-autolabel) (3.0.0)\n",
            "Collecting numpy (from tts-autolabel)\n",
            "  Downloading numpy-1.25.1-cp310-cp310-manylinux_2_17_x86_64.manylinux2014_x86_64.whl (17.6 MB)\n",
            "\u001b[2K     \u001b[90m━━━━━━━━━━━━━━━━━━━━━━━━━━━━━━━━━━━━━━━━\u001b[0m \u001b[32m17.6/17.6 MB\u001b[0m \u001b[31m56.4 MB/s\u001b[0m eta \u001b[36m0:00:00\u001b[0m\n",
            "\u001b[?25hRequirement already satisfied: scikit-learn>=0.20.0 in /usr/local/lib/python3.10/dist-packages (from librosa->tts-autolabel) (1.2.2)\n",
            "Requirement already satisfied: joblib>=0.14 in /usr/local/lib/python3.10/dist-packages (from librosa->tts-autolabel) (1.3.1)\n",
            "Requirement already satisfied: decorator>=4.3.0 in /usr/local/lib/python3.10/dist-packages (from librosa->tts-autolabel) (4.4.2)\n",
            "Requirement already satisfied: numba>=0.51.0 in /usr/local/lib/python3.10/dist-packages (from librosa->tts-autolabel) (0.56.4)\n",
            "Requirement already satisfied: soundfile>=0.12.1 in /usr/local/lib/python3.10/dist-packages (from librosa->tts-autolabel) (0.12.1)\n",
            "Requirement already satisfied: pooch<1.7,>=1.0 in /usr/local/lib/python3.10/dist-packages (from librosa->tts-autolabel) (1.6.0)\n",
            "Requirement already satisfied: soxr>=0.3.2 in /usr/local/lib/python3.10/dist-packages (from librosa->tts-autolabel) (0.3.5)\n",
            "Requirement already satisfied: typing-extensions>=4.1.1 in /usr/local/lib/python3.10/dist-packages (from librosa->tts-autolabel) (4.7.1)\n",
            "Requirement already satisfied: lazy-loader>=0.1 in /usr/local/lib/python3.10/dist-packages (from librosa->tts-autolabel) (0.3)\n",
            "Requirement already satisfied: msgpack>=1.0 in /usr/local/lib/python3.10/dist-packages (from librosa->tts-autolabel) (1.0.5)\n",
            "Collecting coloredlogs (from onnxruntime->tts-autolabel)\n",
            "  Downloading coloredlogs-15.0.1-py2.py3-none-any.whl (46 kB)\n",
            "\u001b[2K     \u001b[90m━━━━━━━━━━━━━━━━━━━━━━━━━━━━━━━━━━━━━━━━\u001b[0m \u001b[32m46.0/46.0 kB\u001b[0m \u001b[31m5.5 MB/s\u001b[0m eta \u001b[36m0:00:00\u001b[0m\n",
            "\u001b[?25hRequirement already satisfied: flatbuffers in /usr/local/lib/python3.10/dist-packages (from onnxruntime->tts-autolabel) (23.5.26)\n",
            "Requirement already satisfied: packaging in /usr/local/lib/python3.10/dist-packages (from onnxruntime->tts-autolabel) (23.1)\n",
            "Requirement already satisfied: protobuf in /usr/local/lib/python3.10/dist-packages (from onnxruntime->tts-autolabel) (3.20.3)\n",
            "Requirement already satisfied: sympy in /usr/local/lib/python3.10/dist-packages (from onnxruntime->tts-autolabel) (1.11.1)\n",
            "Requirement already satisfied: pydantic<2,>=1.9.1 in /usr/local/lib/python3.10/dist-packages (from inflect>=0.3.1->g2p-en->tts-autolabel) (1.10.11)\n",
            "Requirement already satisfied: click in /usr/local/lib/python3.10/dist-packages (from nltk>=3.2.4->g2p-en->tts-autolabel) (8.1.4)\n",
            "Requirement already satisfied: regex>=2021.8.3 in /usr/local/lib/python3.10/dist-packages (from nltk>=3.2.4->g2p-en->tts-autolabel) (2022.10.31)\n",
            "Requirement already satisfied: tqdm in /usr/local/lib/python3.10/dist-packages (from nltk>=3.2.4->g2p-en->tts-autolabel) (4.65.0)\n",
            "Requirement already satisfied: llvmlite<0.40,>=0.39.0dev0 in /usr/local/lib/python3.10/dist-packages (from numba>=0.51.0->librosa->tts-autolabel) (0.39.1)\n",
            "Collecting numpy (from tts-autolabel)\n",
            "  Downloading numpy-1.23.5-cp310-cp310-manylinux_2_17_x86_64.manylinux2014_x86_64.whl (17.1 MB)\n",
            "\u001b[2K     \u001b[90m━━━━━━━━━━━━━━━━━━━━━━━━━━━━━━━━━━━━━━━━\u001b[0m \u001b[32m17.1/17.1 MB\u001b[0m \u001b[31m95.7 MB/s\u001b[0m eta \u001b[36m0:00:00\u001b[0m\n",
            "\u001b[?25hRequirement already satisfied: setuptools in /usr/local/lib/python3.10/dist-packages (from numba>=0.51.0->librosa->tts-autolabel) (67.7.2)\n",
            "Requirement already satisfied: appdirs>=1.3.0 in /usr/local/lib/python3.10/dist-packages (from pooch<1.7,>=1.0->librosa->tts-autolabel) (1.4.4)\n",
            "Requirement already satisfied: requests>=2.19.0 in /usr/local/lib/python3.10/dist-packages (from pooch<1.7,>=1.0->librosa->tts-autolabel) (2.27.1)\n",
            "Requirement already satisfied: threadpoolctl>=2.0.0 in /usr/local/lib/python3.10/dist-packages (from scikit-learn>=0.20.0->librosa->tts-autolabel) (3.1.0)\n",
            "Requirement already satisfied: cffi>=1.0 in /usr/local/lib/python3.10/dist-packages (from soundfile>=0.12.1->librosa->tts-autolabel) (1.15.1)\n",
            "Collecting humanfriendly>=9.1 (from coloredlogs->onnxruntime->tts-autolabel)\n",
            "  Downloading humanfriendly-10.0-py2.py3-none-any.whl (86 kB)\n",
            "\u001b[2K     \u001b[90m━━━━━━━━━━━━━━━━━━━━━━━━━━━━━━━━━━━━━━━━\u001b[0m \u001b[32m86.8/86.8 kB\u001b[0m \u001b[31m10.9 MB/s\u001b[0m eta \u001b[36m0:00:00\u001b[0m\n",
            "\u001b[?25hRequirement already satisfied: mpmath>=0.19 in /usr/local/lib/python3.10/dist-packages (from sympy->onnxruntime->tts-autolabel) (1.3.0)\n",
            "Requirement already satisfied: pycparser in /usr/local/lib/python3.10/dist-packages (from cffi>=1.0->soundfile>=0.12.1->librosa->tts-autolabel) (2.21)\n",
            "Requirement already satisfied: urllib3<1.27,>=1.21.1 in /usr/local/lib/python3.10/dist-packages (from requests>=2.19.0->pooch<1.7,>=1.0->librosa->tts-autolabel) (1.26.16)\n",
            "Requirement already satisfied: certifi>=2017.4.17 in /usr/local/lib/python3.10/dist-packages (from requests>=2.19.0->pooch<1.7,>=1.0->librosa->tts-autolabel) (2023.5.7)\n",
            "Requirement already satisfied: charset-normalizer~=2.0.0 in /usr/local/lib/python3.10/dist-packages (from requests>=2.19.0->pooch<1.7,>=1.0->librosa->tts-autolabel) (2.0.12)\n",
            "Requirement already satisfied: idna<4,>=2.5 in /usr/local/lib/python3.10/dist-packages (from requests>=2.19.0->pooch<1.7,>=1.0->librosa->tts-autolabel) (3.4)\n",
            "Building wheels for collected packages: distance\n",
            "  Building wheel for distance (setup.py) ... \u001b[?25l\u001b[?25hdone\n",
            "  Created wheel for distance: filename=Distance-0.1.3-py3-none-any.whl size=16258 sha256=29e21df6d864a1af9766272b584298309cb5ecaf64a5f797ccce8af3d75bf6c2\n",
            "  Stored in directory: /root/.cache/pip/wheels/e8/bb/de/f71bf63559ea9a921059a5405806f7ff6ed612a9231c4a9309\n",
            "Successfully built distance\n",
            "Installing collected packages: distance, typeguard, ttsfrd, pypinyin, numpy, kaldi-native-fbank, humanfriendly, nls-pykaldi, coloredlogs, onnxruntime, g2p-en, tts-autolabel\n",
            "  Attempting uninstall: numpy\n",
            "    Found existing installation: numpy 1.22.0\n",
            "    Uninstalling numpy-1.22.0:\n",
            "      Successfully uninstalled numpy-1.22.0\n",
            "\u001b[31mERROR: pip's dependency resolver does not currently take into account all the packages that are installed. This behaviour is the source of the following dependency conflicts.\n",
            "modelscope 1.7.1 requires numpy<=1.22.0, but you have numpy 1.23.5 which is incompatible.\n",
            "pandas-gbq 0.17.9 requires pyarrow<10.0dev,>=3.0.0, but you have pyarrow 12.0.1 which is incompatible.\u001b[0m\u001b[31m\n",
            "\u001b[0mSuccessfully installed coloredlogs-15.0.1 distance-0.1.3 g2p-en-2.1.0 humanfriendly-10.0 kaldi-native-fbank-1.17 nls-pykaldi-1.0.0 numpy-1.23.5 onnxruntime-1.15.1 pypinyin-0.49.0 tts-autolabel-1.1.2 ttsfrd-0.2.1 typeguard-4.0.0\n"
          ]
        },
        {
          "output_type": "display_data",
          "data": {
            "application/vnd.colab-display-data+json": {
              "pip_warning": {
                "packages": [
                  "numpy"
                ]
              }
            }
          },
          "metadata": {}
        },
        {
          "output_type": "stream",
          "name": "stdout",
          "text": [
            "Collecting typeguard==2.3.1\n",
            "  Downloading typeguard-2.3.1-py3-none-any.whl (10 kB)\n",
            "Installing collected packages: typeguard\n",
            "  Attempting uninstall: typeguard\n",
            "    Found existing installation: typeguard 4.0.0\n",
            "    Uninstalling typeguard-4.0.0:\n",
            "      Successfully uninstalled typeguard-4.0.0\n",
            "Successfully installed typeguard-2.3.1\n",
            "Collecting sox\n",
            "  Downloading sox-1.4.1-py2.py3-none-any.whl (39 kB)\n",
            "Requirement already satisfied: numpy>=1.9.0 in /usr/local/lib/python3.10/dist-packages (from sox) (1.23.5)\n",
            "Installing collected packages: sox\n",
            "Successfully installed sox-1.4.1\n",
            "Collecting bitstring\n",
            "  Downloading bitstring-4.0.2-py3-none-any.whl (46 kB)\n",
            "\u001b[2K     \u001b[90m━━━━━━━━━━━━━━━━━━━━━━━━━━━━━━━━━━━━━━━━\u001b[0m \u001b[32m46.0/46.0 kB\u001b[0m \u001b[31m3.7 MB/s\u001b[0m eta \u001b[36m0:00:00\u001b[0m\n",
            "\u001b[?25hInstalling collected packages: bitstring\n",
            "Successfully installed bitstring-4.0.2\n",
            "Collecting pysptk\n",
            "  Downloading pysptk-0.2.0.tar.gz (276 kB)\n",
            "\u001b[2K     \u001b[90m━━━━━━━━━━━━━━━━━━━━━━━━━━━━━━━━━━━━━━\u001b[0m \u001b[32m276.8/276.8 kB\u001b[0m \u001b[31m14.3 MB/s\u001b[0m eta \u001b[36m0:00:00\u001b[0m\n",
            "\u001b[?25h  Preparing metadata (pyproject.toml) ... \u001b[?25l\u001b[?25hdone\n",
            "Requirement already satisfied: scipy in /usr/local/lib/python3.10/dist-packages (from pysptk) (1.10.1)\n",
            "Requirement already satisfied: decorator in /usr/local/lib/python3.10/dist-packages (from pysptk) (4.4.2)\n",
            "Requirement already satisfied: cython>=0.28.0 in /usr/local/lib/python3.10/dist-packages (from pysptk) (0.29.36)\n",
            "Requirement already satisfied: numpy<1.27.0,>=1.19.5 in /usr/local/lib/python3.10/dist-packages (from scipy->pysptk) (1.23.5)\n",
            "Building wheels for collected packages: pysptk\n",
            "  Building wheel for pysptk (pyproject.toml) ... \u001b[?25l\u001b[?25hdone\n",
            "  Created wheel for pysptk: filename=pysptk-0.2.0-cp310-cp310-linux_x86_64.whl size=1282777 sha256=4bea8e0bf7ebb5b9f9b3d625915e936505925345dece0450e27aaaadf29d1c25\n",
            "  Stored in directory: /root/.cache/pip/wheels/a7/2a/ed/6a829dcdfd2a67af80144fcdfc9c3f31eac108fafba4fceb59\n",
            "Successfully built pysptk\n",
            "Installing collected packages: pysptk\n",
            "Successfully installed pysptk-0.2.0\n",
            "Looking in links: https://modelscope.oss-cn-beijing.aliyuncs.com/releases/repo.html\n",
            "Collecting kantts\n",
            "  Downloading https://modelscope.oss-cn-beijing.aliyuncs.com/releases/dependencies/kantts/kantts-1.0.1-py3-none-any.whl (147 kB)\n",
            "\u001b[2K     \u001b[90m━━━━━━━━━━━━━━━━━━━━━━━━━━━━━━━━━━━━━\u001b[0m \u001b[32m147.2/147.2 kB\u001b[0m \u001b[31m217.3 kB/s\u001b[0m eta \u001b[36m0:00:00\u001b[0m\n",
            "\u001b[?25hRequirement already satisfied: librosa>=0.9.2 in /usr/local/lib/python3.10/dist-packages (from kantts) (0.10.0.post2)\n",
            "Requirement already satisfied: matplotlib in /usr/local/lib/python3.10/dist-packages (from kantts) (3.7.1)\n",
            "Requirement already satisfied: numpy in /usr/local/lib/python3.10/dist-packages (from kantts) (1.23.5)\n",
            "Requirement already satisfied: numba in /usr/local/lib/python3.10/dist-packages (from kantts) (0.56.4)\n",
            "Collecting unidecode (from kantts)\n",
            "  Downloading Unidecode-1.3.6-py3-none-any.whl (235 kB)\n",
            "\u001b[2K     \u001b[90m━━━━━━━━━━━━━━━━━━━━━━━━━━━━━━━━━━━━━━\u001b[0m \u001b[32m235.9/235.9 kB\u001b[0m \u001b[31m12.5 MB/s\u001b[0m eta \u001b[36m0:00:00\u001b[0m\n",
            "\u001b[?25hRequirement already satisfied: inflect in /usr/local/lib/python3.10/dist-packages (from kantts) (6.0.5)\n",
            "Requirement already satisfied: pywavelets>=1.3.0 in /usr/local/lib/python3.10/dist-packages (from kantts) (1.4.1)\n",
            "Requirement already satisfied: scikit-learn>=1.0.2 in /usr/local/lib/python3.10/dist-packages (from kantts) (1.2.2)\n",
            "Requirement already satisfied: scipy>=1.7.3 in /usr/local/lib/python3.10/dist-packages (from kantts) (1.10.1)\n",
            "Requirement already satisfied: tqdm in /usr/local/lib/python3.10/dist-packages (from kantts) (4.65.0)\n",
            "Requirement already satisfied: pysptk in /usr/local/lib/python3.10/dist-packages (from kantts) (0.2.0)\n",
            "Requirement already satisfied: sox in /usr/local/lib/python3.10/dist-packages (from kantts) (1.4.1)\n",
            "Requirement already satisfied: ttsfrd in /usr/local/lib/python3.10/dist-packages (from kantts) (0.2.1)\n",
            "Requirement already satisfied: audioread>=2.1.9 in /usr/local/lib/python3.10/dist-packages (from librosa>=0.9.2->kantts) (3.0.0)\n",
            "Requirement already satisfied: joblib>=0.14 in /usr/local/lib/python3.10/dist-packages (from librosa>=0.9.2->kantts) (1.3.1)\n",
            "Requirement already satisfied: decorator>=4.3.0 in /usr/local/lib/python3.10/dist-packages (from librosa>=0.9.2->kantts) (4.4.2)\n",
            "Requirement already satisfied: soundfile>=0.12.1 in /usr/local/lib/python3.10/dist-packages (from librosa>=0.9.2->kantts) (0.12.1)\n",
            "Requirement already satisfied: pooch<1.7,>=1.0 in /usr/local/lib/python3.10/dist-packages (from librosa>=0.9.2->kantts) (1.6.0)\n",
            "Requirement already satisfied: soxr>=0.3.2 in /usr/local/lib/python3.10/dist-packages (from librosa>=0.9.2->kantts) (0.3.5)\n",
            "Requirement already satisfied: typing-extensions>=4.1.1 in /usr/local/lib/python3.10/dist-packages (from librosa>=0.9.2->kantts) (4.7.1)\n",
            "Requirement already satisfied: lazy-loader>=0.1 in /usr/local/lib/python3.10/dist-packages (from librosa>=0.9.2->kantts) (0.3)\n",
            "Requirement already satisfied: msgpack>=1.0 in /usr/local/lib/python3.10/dist-packages (from librosa>=0.9.2->kantts) (1.0.5)\n",
            "Requirement already satisfied: llvmlite<0.40,>=0.39.0dev0 in /usr/local/lib/python3.10/dist-packages (from numba->kantts) (0.39.1)\n",
            "Requirement already satisfied: setuptools in /usr/local/lib/python3.10/dist-packages (from numba->kantts) (67.7.2)\n",
            "Requirement already satisfied: threadpoolctl>=2.0.0 in /usr/local/lib/python3.10/dist-packages (from scikit-learn>=1.0.2->kantts) (3.1.0)\n",
            "Requirement already satisfied: pydantic<2,>=1.9.1 in /usr/local/lib/python3.10/dist-packages (from inflect->kantts) (1.10.11)\n",
            "Requirement already satisfied: contourpy>=1.0.1 in /usr/local/lib/python3.10/dist-packages (from matplotlib->kantts) (1.1.0)\n",
            "Requirement already satisfied: cycler>=0.10 in /usr/local/lib/python3.10/dist-packages (from matplotlib->kantts) (0.11.0)\n",
            "Requirement already satisfied: fonttools>=4.22.0 in /usr/local/lib/python3.10/dist-packages (from matplotlib->kantts) (4.41.0)\n",
            "Requirement already satisfied: kiwisolver>=1.0.1 in /usr/local/lib/python3.10/dist-packages (from matplotlib->kantts) (1.4.4)\n",
            "Requirement already satisfied: packaging>=20.0 in /usr/local/lib/python3.10/dist-packages (from matplotlib->kantts) (23.1)\n",
            "Requirement already satisfied: pillow>=6.2.0 in /usr/local/lib/python3.10/dist-packages (from matplotlib->kantts) (8.4.0)\n",
            "Requirement already satisfied: pyparsing>=2.3.1 in /usr/local/lib/python3.10/dist-packages (from matplotlib->kantts) (3.1.0)\n",
            "Requirement already satisfied: python-dateutil>=2.7 in /usr/local/lib/python3.10/dist-packages (from matplotlib->kantts) (2.8.2)\n",
            "Requirement already satisfied: cython>=0.28.0 in /usr/local/lib/python3.10/dist-packages (from pysptk->kantts) (0.29.36)\n",
            "Requirement already satisfied: appdirs>=1.3.0 in /usr/local/lib/python3.10/dist-packages (from pooch<1.7,>=1.0->librosa>=0.9.2->kantts) (1.4.4)\n",
            "Requirement already satisfied: requests>=2.19.0 in /usr/local/lib/python3.10/dist-packages (from pooch<1.7,>=1.0->librosa>=0.9.2->kantts) (2.27.1)\n",
            "Requirement already satisfied: six>=1.5 in /usr/local/lib/python3.10/dist-packages (from python-dateutil>=2.7->matplotlib->kantts) (1.16.0)\n",
            "Requirement already satisfied: cffi>=1.0 in /usr/local/lib/python3.10/dist-packages (from soundfile>=0.12.1->librosa>=0.9.2->kantts) (1.15.1)\n",
            "Requirement already satisfied: pycparser in /usr/local/lib/python3.10/dist-packages (from cffi>=1.0->soundfile>=0.12.1->librosa>=0.9.2->kantts) (2.21)\n",
            "Requirement already satisfied: urllib3<1.27,>=1.21.1 in /usr/local/lib/python3.10/dist-packages (from requests>=2.19.0->pooch<1.7,>=1.0->librosa>=0.9.2->kantts) (1.26.16)\n",
            "Requirement already satisfied: certifi>=2017.4.17 in /usr/local/lib/python3.10/dist-packages (from requests>=2.19.0->pooch<1.7,>=1.0->librosa>=0.9.2->kantts) (2023.5.7)\n",
            "Requirement already satisfied: charset-normalizer~=2.0.0 in /usr/local/lib/python3.10/dist-packages (from requests>=2.19.0->pooch<1.7,>=1.0->librosa>=0.9.2->kantts) (2.0.12)\n",
            "Requirement already satisfied: idna<4,>=2.5 in /usr/local/lib/python3.10/dist-packages (from requests>=2.19.0->pooch<1.7,>=1.0->librosa>=0.9.2->kantts) (3.4)\n",
            "Installing collected packages: unidecode, kantts\n",
            "Successfully installed kantts-1.0.1 unidecode-1.3.6\n",
            "Collecting pytorch_wavelets\n",
            "  Downloading pytorch_wavelets-1.3.0-py3-none-any.whl (54 kB)\n",
            "\u001b[2K     \u001b[90m━━━━━━━━━━━━━━━━━━━━━━━━━━━━━━━━━━━━━━━━\u001b[0m \u001b[32m54.9/54.9 kB\u001b[0m \u001b[31m4.6 MB/s\u001b[0m eta \u001b[36m0:00:00\u001b[0m\n",
            "\u001b[?25hRequirement already satisfied: numpy in /usr/local/lib/python3.10/dist-packages (from pytorch_wavelets) (1.23.5)\n",
            "Requirement already satisfied: six in /usr/local/lib/python3.10/dist-packages (from pytorch_wavelets) (1.16.0)\n",
            "Requirement already satisfied: torch in /usr/local/lib/python3.10/dist-packages (from pytorch_wavelets) (2.0.1+cu118)\n",
            "Requirement already satisfied: filelock in /usr/local/lib/python3.10/dist-packages (from torch->pytorch_wavelets) (3.12.2)\n",
            "Requirement already satisfied: typing-extensions in /usr/local/lib/python3.10/dist-packages (from torch->pytorch_wavelets) (4.7.1)\n",
            "Requirement already satisfied: sympy in /usr/local/lib/python3.10/dist-packages (from torch->pytorch_wavelets) (1.11.1)\n",
            "Requirement already satisfied: networkx in /usr/local/lib/python3.10/dist-packages (from torch->pytorch_wavelets) (3.1)\n",
            "Requirement already satisfied: jinja2 in /usr/local/lib/python3.10/dist-packages (from torch->pytorch_wavelets) (3.1.2)\n",
            "Requirement already satisfied: triton==2.0.0 in /usr/local/lib/python3.10/dist-packages (from torch->pytorch_wavelets) (2.0.0)\n",
            "Requirement already satisfied: cmake in /usr/local/lib/python3.10/dist-packages (from triton==2.0.0->torch->pytorch_wavelets) (3.25.2)\n",
            "Requirement already satisfied: lit in /usr/local/lib/python3.10/dist-packages (from triton==2.0.0->torch->pytorch_wavelets) (16.0.6)\n",
            "Requirement already satisfied: MarkupSafe>=2.0 in /usr/local/lib/python3.10/dist-packages (from jinja2->torch->pytorch_wavelets) (2.1.3)\n",
            "Requirement already satisfied: mpmath>=0.19 in /usr/local/lib/python3.10/dist-packages (from sympy->torch->pytorch_wavelets) (1.3.0)\n",
            "Installing collected packages: pytorch_wavelets\n",
            "Successfully installed pytorch_wavelets-1.3.0\n",
            "Collecting tensorboardX\n",
            "  Downloading tensorboardX-2.6.1-py2.py3-none-any.whl (101 kB)\n",
            "\u001b[2K     \u001b[90m━━━━━━━━━━━━━━━━━━━━━━━━━━━━━━━━━━━━━━━\u001b[0m \u001b[32m101.6/101.6 kB\u001b[0m \u001b[31m6.3 MB/s\u001b[0m eta \u001b[36m0:00:00\u001b[0m\n",
            "\u001b[?25hRequirement already satisfied: numpy in /usr/local/lib/python3.10/dist-packages (from tensorboardX) (1.23.5)\n",
            "Requirement already satisfied: packaging in /usr/local/lib/python3.10/dist-packages (from tensorboardX) (23.1)\n",
            "Collecting protobuf>=4.22.3 (from tensorboardX)\n",
            "  Downloading protobuf-4.23.4-cp37-abi3-manylinux2014_x86_64.whl (304 kB)\n",
            "\u001b[2K     \u001b[90m━━━━━━━━━━━━━━━━━━━━━━━━━━━━━━━━━━━━━━\u001b[0m \u001b[32m304.5/304.5 kB\u001b[0m \u001b[31m24.5 MB/s\u001b[0m eta \u001b[36m0:00:00\u001b[0m\n",
            "\u001b[?25hInstalling collected packages: protobuf, tensorboardX\n",
            "  Attempting uninstall: protobuf\n",
            "    Found existing installation: protobuf 3.20.3\n",
            "    Uninstalling protobuf-3.20.3:\n",
            "      Successfully uninstalled protobuf-3.20.3\n",
            "\u001b[31mERROR: pip's dependency resolver does not currently take into account all the packages that are installed. This behaviour is the source of the following dependency conflicts.\n",
            "pandas-gbq 0.17.9 requires pyarrow<10.0dev,>=3.0.0, but you have pyarrow 12.0.1 which is incompatible.\u001b[0m\u001b[31m\n",
            "\u001b[0mSuccessfully installed protobuf-4.23.4 tensorboardX-2.6.1\n",
            "Cloning into 'pytorch_wavelets'...\n",
            "remote: Enumerating objects: 978, done.\u001b[K\n",
            "remote: Counting objects: 100% (142/142), done.\u001b[K\n",
            "remote: Compressing objects: 100% (96/96), done.\u001b[K\n",
            "remote: Total 978 (delta 79), reused 91 (delta 46), pack-reused 836\u001b[K\n",
            "Receiving objects: 100% (978/978), 6.80 MiB | 18.18 MiB/s, done.\n",
            "Resolving deltas: 100% (663/663), done.\n",
            "Requirement already satisfied: matplotlib in /usr/local/lib/python3.10/dist-packages (3.7.1)\n",
            "Requirement already satisfied: contourpy>=1.0.1 in /usr/local/lib/python3.10/dist-packages (from matplotlib) (1.1.0)\n",
            "Requirement already satisfied: cycler>=0.10 in /usr/local/lib/python3.10/dist-packages (from matplotlib) (0.11.0)\n",
            "Requirement already satisfied: fonttools>=4.22.0 in /usr/local/lib/python3.10/dist-packages (from matplotlib) (4.41.0)\n",
            "Requirement already satisfied: kiwisolver>=1.0.1 in /usr/local/lib/python3.10/dist-packages (from matplotlib) (1.4.4)\n",
            "Requirement already satisfied: numpy>=1.20 in /usr/local/lib/python3.10/dist-packages (from matplotlib) (1.23.5)\n",
            "Requirement already satisfied: packaging>=20.0 in /usr/local/lib/python3.10/dist-packages (from matplotlib) (23.1)\n",
            "Requirement already satisfied: pillow>=6.2.0 in /usr/local/lib/python3.10/dist-packages (from matplotlib) (8.4.0)\n",
            "Requirement already satisfied: pyparsing>=2.3.1 in /usr/local/lib/python3.10/dist-packages (from matplotlib) (3.1.0)\n",
            "Requirement already satisfied: python-dateutil>=2.7 in /usr/local/lib/python3.10/dist-packages (from matplotlib) (2.8.2)\n",
            "Requirement already satisfied: six>=1.5 in /usr/local/lib/python3.10/dist-packages (from python-dateutil>=2.7->matplotlib) (1.16.0)\n",
            "Collecting numpy==1.22.0\n",
            "  Using cached numpy-1.22.0-cp310-cp310-manylinux_2_17_x86_64.manylinux2014_x86_64.whl (16.8 MB)\n",
            "Installing collected packages: numpy\n",
            "  Attempting uninstall: numpy\n",
            "    Found existing installation: numpy 1.23.5\n",
            "    Uninstalling numpy-1.23.5:\n",
            "      Successfully uninstalled numpy-1.23.5\n",
            "\u001b[31mERROR: pip's dependency resolver does not currently take into account all the packages that are installed. This behaviour is the source of the following dependency conflicts.\n",
            "librosa 0.10.0.post2 requires numpy!=1.22.0,!=1.22.1,!=1.22.2,>=1.20.3, but you have numpy 1.22.0 which is incompatible.\n",
            "pandas-gbq 0.17.9 requires pyarrow<10.0dev,>=3.0.0, but you have pyarrow 12.0.1 which is incompatible.\u001b[0m\u001b[31m\n",
            "\u001b[0mSuccessfully installed numpy-1.22.0\n"
          ]
        },
        {
          "output_type": "display_data",
          "data": {
            "application/vnd.colab-display-data+json": {
              "pip_warning": {
                "packages": [
                  "numpy"
                ]
              }
            }
          },
          "metadata": {}
        }
      ]
    },
    {
      "cell_type": "markdown",
      "source": [
        "## 点击Colab左下角的终端，在终端中依次执行三行代码：\n",
        "apt-get install sox\n",
        "\n",
        "cd pytorch_wavelets\n",
        "\n",
        "pip install ."
      ],
      "metadata": {
        "id": "G6TZvGe96y2I"
      }
    },
    {
      "cell_type": "code",
      "source": [
        "import os\n",
        "os._exit(00) # 重启notebook"
      ],
      "metadata": {
        "id": "lO29uxHrVafx"
      },
      "execution_count": null,
      "outputs": []
    },
    {
      "cell_type": "code",
      "source": [
        "import sox"
      ],
      "metadata": {
        "id": "UsOLbeoYFO04"
      },
      "execution_count": null,
      "outputs": []
    },
    {
      "cell_type": "markdown",
      "source": [
        "## 选做、实测无影响：在终端中执行\n",
        "cd ~\n",
        "\n",
        "apt install zip\n",
        "\n",
        "wget https://isv-data.oss-cn-hangzhou.aliyuncs.com/ics/MaaS/TTS/download_files/nltk_data.zip\n",
        "\n",
        "unzip nltk_data.zip\n"
      ],
      "metadata": {
        "id": "n95rxUggJANs"
      }
    },
    {
      "cell_type": "markdown",
      "source": [
        "## 对音频切片处理"
      ],
      "metadata": {
        "id": "YZqH0DtGcsXJ"
      }
    },
    {
      "cell_type": "code",
      "source": [
        "import subprocess\n",
        "from pathlib import Path\n",
        "import librosa\n",
        "from scipy.io import wavfile\n",
        "import numpy as np\n",
        "import torch\n",
        "import csv\n",
        "import whisper\n",
        "\n",
        "def split_long_audio(model, filepaths, character_name, save_dir=\"data_dir\", out_sr=44100):\n",
        "    if isinstance(filepaths, str):\n",
        "        filepaths = [filepaths]\n",
        "\n",
        "    for file_idx, filepath in enumerate(filepaths):\n",
        "\n",
        "        save_path = Path(save_dir) / character_name\n",
        "        save_path.mkdir(exist_ok=True, parents=True)\n",
        "\n",
        "        print(f\"Transcribing file {file_idx}: '{filepath}' to segments...\")\n",
        "        result = model.transcribe(filepath, word_timestamps=True, task=\"transcribe\", beam_size=5, best_of=5)\n",
        "        segments = result['segments']\n",
        "\n",
        "        wav, sr = librosa.load(filepath, sr=None, offset=0, duration=None, mono=True)\n",
        "        wav, _ = librosa.effects.trim(wav, top_db=20)\n",
        "        peak = np.abs(wav).max()\n",
        "        if peak > 1.0:\n",
        "            wav = 0.98 * wav / peak\n",
        "        wav2 = librosa.resample(wav, orig_sr=sr, target_sr=out_sr)\n",
        "        wav2 /= max(wav2.max(), -wav2.min())\n",
        "\n",
        "        for i, seg in enumerate(segments):\n",
        "            start_time = seg['start']\n",
        "            end_time = seg['end']\n",
        "            wav_seg = wav2[int(start_time * out_sr):int(end_time * out_sr)]\n",
        "            wav_seg_name = f\"{character_name}_{file_idx}_{i}.wav\"\n",
        "            out_fpath = save_path / wav_seg_name\n",
        "            wavfile.write(out_fpath, rate=out_sr, data=(wav_seg * np.iinfo(np.int16).max).astype(np.int16))"
      ],
      "metadata": {
        "id": "NdoD-ZnIaWhN"
      },
      "execution_count": null,
      "outputs": []
    },
    {
      "cell_type": "code",
      "source": [
        "whisper_size = \"medium\"\n",
        "whisper_model = whisper.load_model(whisper_size)"
      ],
      "metadata": {
        "id": "yXrxpjEGaWlT",
        "colab": {
          "base_uri": "https://localhost:8080/"
        },
        "outputId": "f31837e3-959f-43f6-824a-97ff01005f20"
      },
      "execution_count": null,
      "outputs": [
        {
          "output_type": "stream",
          "name": "stderr",
          "text": [
            "100%|█████████████████████████████████████| 1.42G/1.42G [00:34<00:00, 44.3MiB/s]\n"
          ]
        }
      ]
    },
    {
      "cell_type": "markdown",
      "source": [
        "### 请在下方{filename}处填写您上传的wav文件名"
      ],
      "metadata": {
        "id": "oRZppf5D9jgo"
      }
    },
    {
      "cell_type": "code",
      "source": [
        "split_long_audio(whisper_model, \"filename.wav\", \"test\", \"dataset_raw\") # 请在{filename}处填写您上传的wav文件名"
      ],
      "metadata": {
        "id": "yTN4IRxOaWoi",
        "colab": {
          "base_uri": "https://localhost:8080/"
        },
        "outputId": "0654f25d-ebf8-448e-8a80-5e938709fd7a"
      },
      "execution_count": null,
      "outputs": [
        {
          "output_type": "stream",
          "name": "stdout",
          "text": [
            "Transcribing file 0: 'jay_speech.wav' to segments...\n"
          ]
        }
      ]
    },
    {
      "cell_type": "markdown",
      "source": [
        "## 需要新建三个文件夹，分别是：\"test_wavs\", \"output_training_data\", \"pretrain_work_dir\""
      ],
      "metadata": {
        "id": "ccQC4ZcWbtXy"
      }
    },
    {
      "cell_type": "code",
      "source": [
        "! mv  -v ./dataset_raw/test/* ./test_wavs/"
      ],
      "metadata": {
        "colab": {
          "base_uri": "https://localhost:8080/"
        },
        "id": "t7-qxeiBG2wH",
        "outputId": "357f9889-b5a0-4340-9181-4b95258d1861"
      },
      "execution_count": null,
      "outputs": [
        {
          "output_type": "stream",
          "name": "stdout",
          "text": [
            "renamed './dataset_raw/test/test_0_0.wav' -> './test_wavs/test_0_0.wav'\n",
            "renamed './dataset_raw/test/test_0_10.wav' -> './test_wavs/test_0_10.wav'\n",
            "renamed './dataset_raw/test/test_0_11.wav' -> './test_wavs/test_0_11.wav'\n",
            "renamed './dataset_raw/test/test_0_12.wav' -> './test_wavs/test_0_12.wav'\n",
            "renamed './dataset_raw/test/test_0_13.wav' -> './test_wavs/test_0_13.wav'\n",
            "renamed './dataset_raw/test/test_0_14.wav' -> './test_wavs/test_0_14.wav'\n",
            "renamed './dataset_raw/test/test_0_15.wav' -> './test_wavs/test_0_15.wav'\n",
            "renamed './dataset_raw/test/test_0_16.wav' -> './test_wavs/test_0_16.wav'\n",
            "renamed './dataset_raw/test/test_0_17.wav' -> './test_wavs/test_0_17.wav'\n",
            "renamed './dataset_raw/test/test_0_18.wav' -> './test_wavs/test_0_18.wav'\n",
            "renamed './dataset_raw/test/test_0_19.wav' -> './test_wavs/test_0_19.wav'\n",
            "renamed './dataset_raw/test/test_0_1.wav' -> './test_wavs/test_0_1.wav'\n",
            "renamed './dataset_raw/test/test_0_20.wav' -> './test_wavs/test_0_20.wav'\n",
            "renamed './dataset_raw/test/test_0_21.wav' -> './test_wavs/test_0_21.wav'\n",
            "renamed './dataset_raw/test/test_0_22.wav' -> './test_wavs/test_0_22.wav'\n",
            "renamed './dataset_raw/test/test_0_23.wav' -> './test_wavs/test_0_23.wav'\n",
            "renamed './dataset_raw/test/test_0_24.wav' -> './test_wavs/test_0_24.wav'\n",
            "renamed './dataset_raw/test/test_0_25.wav' -> './test_wavs/test_0_25.wav'\n",
            "renamed './dataset_raw/test/test_0_26.wav' -> './test_wavs/test_0_26.wav'\n",
            "renamed './dataset_raw/test/test_0_27.wav' -> './test_wavs/test_0_27.wav'\n",
            "renamed './dataset_raw/test/test_0_28.wav' -> './test_wavs/test_0_28.wav'\n",
            "renamed './dataset_raw/test/test_0_29.wav' -> './test_wavs/test_0_29.wav'\n",
            "renamed './dataset_raw/test/test_0_2.wav' -> './test_wavs/test_0_2.wav'\n",
            "renamed './dataset_raw/test/test_0_30.wav' -> './test_wavs/test_0_30.wav'\n",
            "renamed './dataset_raw/test/test_0_31.wav' -> './test_wavs/test_0_31.wav'\n",
            "renamed './dataset_raw/test/test_0_32.wav' -> './test_wavs/test_0_32.wav'\n",
            "renamed './dataset_raw/test/test_0_33.wav' -> './test_wavs/test_0_33.wav'\n",
            "renamed './dataset_raw/test/test_0_34.wav' -> './test_wavs/test_0_34.wav'\n",
            "renamed './dataset_raw/test/test_0_35.wav' -> './test_wavs/test_0_35.wav'\n",
            "renamed './dataset_raw/test/test_0_36.wav' -> './test_wavs/test_0_36.wav'\n",
            "renamed './dataset_raw/test/test_0_3.wav' -> './test_wavs/test_0_3.wav'\n",
            "renamed './dataset_raw/test/test_0_4.wav' -> './test_wavs/test_0_4.wav'\n",
            "renamed './dataset_raw/test/test_0_5.wav' -> './test_wavs/test_0_5.wav'\n",
            "renamed './dataset_raw/test/test_0_6.wav' -> './test_wavs/test_0_6.wav'\n",
            "renamed './dataset_raw/test/test_0_7.wav' -> './test_wavs/test_0_7.wav'\n",
            "renamed './dataset_raw/test/test_0_8.wav' -> './test_wavs/test_0_8.wav'\n",
            "renamed './dataset_raw/test/test_0_9.wav' -> './test_wavs/test_0_9.wav'\n"
          ]
        }
      ]
    },
    {
      "cell_type": "code",
      "source": [
        "from modelscope.tools import run_auto_label"
      ],
      "metadata": {
        "id": "4GPDev3BaRFm"
      },
      "execution_count": null,
      "outputs": []
    },
    {
      "cell_type": "code",
      "source": [
        "input_wav = \"./test_wavs/\"\n",
        "output_data = \"./output_training_data/\"\n",
        "\n",
        "ret, report = run_auto_label(input_wav=input_wav, work_dir=output_data, resource_revision=\"v1.0.5\")"
      ],
      "metadata": {
        "id": "YpEmrdkgaU1E",
        "colab": {
          "base_uri": "https://localhost:8080/"
        },
        "outputId": "870cf2f8-ccf8-44ed-c6ef-67be601b70ec"
      },
      "execution_count": null,
      "outputs": [
        {
          "output_type": "stream",
          "name": "stderr",
          "text": [
            "2023-07-19 15:26:31,055 - modelscope - INFO - Use user-specified model revision: v1.0.5\n",
            "Downloading: 100%|██████████| 185/185 [00:00<00:00, 744kB/s]\n",
            "Downloading: 100%|██████████| 1.02G/1.02G [00:27<00:00, 39.9MB/s]\n",
            "Downloading: 100%|██████████| 6.27k/6.27k [00:00<00:00, 1.72MB/s]\n"
          ]
        },
        {
          "output_type": "stream",
          "name": "stdout",
          "text": [
            "2023-07-19 15:27:25\n",
            "wav_preprocess start...\n",
            "---  new folder...  ---\n",
            "---  OK  ---\n"
          ]
        },
        {
          "output_type": "stream",
          "name": "stderr",
          "text": [
            "100%|██████████| 37/37 [00:00<00:00, 88.31it/s]"
          ]
        },
        {
          "output_type": "stream",
          "name": "stdout",
          "text": [
            "wav cut by vad start...\n"
          ]
        },
        {
          "output_type": "stream",
          "name": "stderr",
          "text": [
            "\n",
            "100%|██████████| 37/37 [00:01<00:00, 20.17it/s]\n",
            "100%|██████████| 36/36 [00:10<00:00,  3.51it/s]\n"
          ]
        },
        {
          "output_type": "stream",
          "name": "stdout",
          "text": [
            "Text to label start...\n"
          ]
        },
        {
          "output_type": "stream",
          "name": "stderr",
          "text": [
            "100%|██████████| 36/36 [00:08<00:00,  4.46it/s]\n"
          ]
        },
        {
          "output_type": "stream",
          "name": "stdout",
          "text": [
            "pre-break recording in paragraph by vad.\n",
            "Generate phone interval by asr align.\n",
            "---  New folder /content/output_training_data/align...  ---\n",
            "---  OK  ---\n",
            "prosody_dir=/content/output_training_data/paragraph/prosody\n",
            "run_asr_align step 2\n",
            "speak_script=/content/output_training_data/align/script.txt\n",
            "job_num=36 process_num=4 fbank_config=/root/.cache/modelscope/hub/damo/speech_ptts_autolabel_16k/model/fsmn_16k_2/fbank.conf, data_dir=/content/output_training_data/align/gen/data, fbank_dir=/content/output_training_data/align/gen/fbank\n",
            "run make_fbank with num=36 config_path=/root/.cache/modelscope/hub/damo/speech_ptts_autolabel_16k/model/fsmn_16k_2/fbank.conf\n",
            "data_path=/content/output_training_data/align/gen/data fbank_path=/content/output_training_data/align/gen/fbank\n",
            "[{'id': 'test_0_24', 'wav': '/content/output_training_data/wav_cut/test_0_24.wav'}, {'id': 'test_0_5', 'wav': '/content/output_training_data/wav_cut/test_0_5.wav'}, {'id': 'test_0_34', 'wav': '/content/output_training_data/wav_cut/test_0_34.wav'}, {'id': 'test_0_12', 'wav': '/content/output_training_data/wav_cut/test_0_12.wav'}, {'id': 'test_0_30', 'wav': '/content/output_training_data/wav_cut/test_0_30.wav'}, {'id': 'test_0_32', 'wav': '/content/output_training_data/wav_cut/test_0_32.wav'}, {'id': 'test_0_4', 'wav': '/content/output_training_data/wav_cut/test_0_4.wav'}, {'id': 'test_0_20', 'wav': '/content/output_training_data/wav_cut/test_0_20.wav'}, {'id': 'test_0_14', 'wav': '/content/output_training_data/wav_cut/test_0_14.wav'}, {'id': 'test_0_1', 'wav': '/content/output_training_data/wav_cut/test_0_1.wav'}, {'id': 'test_0_3', 'wav': '/content/output_training_data/wav_cut/test_0_3.wav'}, {'id': 'test_0_35', 'wav': '/content/output_training_data/wav_cut/test_0_35.wav'}, {'id': 'test_0_25', 'wav': '/content/output_training_data/wav_cut/test_0_25.wav'}, {'id': 'test_0_0', 'wav': '/content/output_training_data/wav_cut/test_0_0.wav'}, {'id': 'test_0_22', 'wav': '/content/output_training_data/wav_cut/test_0_22.wav'}, {'id': 'test_0_10', 'wav': '/content/output_training_data/wav_cut/test_0_10.wav'}, {'id': 'test_0_13', 'wav': '/content/output_training_data/wav_cut/test_0_13.wav'}, {'id': 'test_0_31', 'wav': '/content/output_training_data/wav_cut/test_0_31.wav'}, {'id': 'test_0_9', 'wav': '/content/output_training_data/wav_cut/test_0_9.wav'}, {'id': 'test_0_23', 'wav': '/content/output_training_data/wav_cut/test_0_23.wav'}, {'id': 'test_0_21', 'wav': '/content/output_training_data/wav_cut/test_0_21.wav'}, {'id': 'test_0_16', 'wav': '/content/output_training_data/wav_cut/test_0_16.wav'}, {'id': 'test_0_36', 'wav': '/content/output_training_data/wav_cut/test_0_36.wav'}, {'id': 'test_0_26', 'wav': '/content/output_training_data/wav_cut/test_0_26.wav'}, {'id': 'test_0_28', 'wav': '/content/output_training_data/wav_cut/test_0_28.wav'}, {'id': 'test_0_18', 'wav': '/content/output_training_data/wav_cut/test_0_18.wav'}, {'id': 'test_0_7', 'wav': '/content/output_training_data/wav_cut/test_0_7.wav'}, {'id': 'test_0_15', 'wav': '/content/output_training_data/wav_cut/test_0_15.wav'}, {'id': 'test_0_19', 'wav': '/content/output_training_data/wav_cut/test_0_19.wav'}, {'id': 'test_0_17', 'wav': '/content/output_training_data/wav_cut/test_0_17.wav'}, {'id': 'test_0_6', 'wav': '/content/output_training_data/wav_cut/test_0_6.wav'}, {'id': 'test_0_2', 'wav': '/content/output_training_data/wav_cut/test_0_2.wav'}, {'id': 'test_0_8', 'wav': '/content/output_training_data/wav_cut/test_0_8.wav'}, {'id': 'test_0_29', 'wav': '/content/output_training_data/wav_cut/test_0_29.wav'}, {'id': 'test_0_11', 'wav': '/content/output_training_data/wav_cut/test_0_11.wav'}, {'id': 'test_0_27', 'wav': '/content/output_training_data/wav_cut/test_0_27.wav'}]\n"
          ]
        },
        {
          "output_type": "stream",
          "name": "stderr",
          "text": [
            "100%|██████████| 36/36 [00:41<00:00,  1.16s/it]"
          ]
        },
        {
          "output_type": "stream",
          "name": "stdout",
          "text": [
            "DONE compute fbank and copy feats\n",
            "DONE!\n",
            "job_num=36 process_num=4 data_dir=/content/output_training_data/align/gen/data lm_dir=/root/.cache/modelscope/hub/damo/speech_ptts_autolabel_16k/model/lang am_dir=/root/.cache/modelscope/hub/damo/speech_ptts_autolabel_16k/model/fsmn_16k_2, fbank_dir=/content/output_training_data/align/gen/fbank, align_dir=/content/output_training_data/align/gen/align\n",
            "[{'id': 'test_0_24', 'ark': '/content/output_training_data/align/gen/fbank/raw_fbank_data.test_0_24.ark', 'scp': '/content/output_training_data/align/gen/fbank/raw_fbank_data.test_0_24.scp'}, {'id': 'test_0_5', 'ark': '/content/output_training_data/align/gen/fbank/raw_fbank_data.test_0_5.ark', 'scp': '/content/output_training_data/align/gen/fbank/raw_fbank_data.test_0_5.scp'}, {'id': 'test_0_34', 'ark': '/content/output_training_data/align/gen/fbank/raw_fbank_data.test_0_34.ark', 'scp': '/content/output_training_data/align/gen/fbank/raw_fbank_data.test_0_34.scp'}, {'id': 'test_0_12', 'ark': '/content/output_training_data/align/gen/fbank/raw_fbank_data.test_0_12.ark', 'scp': '/content/output_training_data/align/gen/fbank/raw_fbank_data.test_0_12.scp'}, {'id': 'test_0_30', 'ark': '/content/output_training_data/align/gen/fbank/raw_fbank_data.test_0_30.ark', 'scp': '/content/output_training_data/align/gen/fbank/raw_fbank_data.test_0_30.scp'}, {'id': 'test_0_32', 'ark': '/content/output_training_data/align/gen/fbank/raw_fbank_data.test_0_32.ark', 'scp': '/content/output_training_data/align/gen/fbank/raw_fbank_data.test_0_32.scp'}, {'id': 'test_0_4', 'ark': '/content/output_training_data/align/gen/fbank/raw_fbank_data.test_0_4.ark', 'scp': '/content/output_training_data/align/gen/fbank/raw_fbank_data.test_0_4.scp'}, {'id': 'test_0_20', 'ark': '/content/output_training_data/align/gen/fbank/raw_fbank_data.test_0_20.ark', 'scp': '/content/output_training_data/align/gen/fbank/raw_fbank_data.test_0_20.scp'}, {'id': 'test_0_14', 'ark': '/content/output_training_data/align/gen/fbank/raw_fbank_data.test_0_14.ark', 'scp': '/content/output_training_data/align/gen/fbank/raw_fbank_data.test_0_14.scp'}, {'id': 'test_0_1', 'ark': '/content/output_training_data/align/gen/fbank/raw_fbank_data.test_0_1.ark', 'scp': '/content/output_training_data/align/gen/fbank/raw_fbank_data.test_0_1.scp'}, {'id': 'test_0_3', 'ark': '/content/output_training_data/align/gen/fbank/raw_fbank_data.test_0_3.ark', 'scp': '/content/output_training_data/align/gen/fbank/raw_fbank_data.test_0_3.scp'}, {'id': 'test_0_35', 'ark': '/content/output_training_data/align/gen/fbank/raw_fbank_data.test_0_35.ark', 'scp': '/content/output_training_data/align/gen/fbank/raw_fbank_data.test_0_35.scp'}, {'id': 'test_0_25', 'ark': '/content/output_training_data/align/gen/fbank/raw_fbank_data.test_0_25.ark', 'scp': '/content/output_training_data/align/gen/fbank/raw_fbank_data.test_0_25.scp'}, {'id': 'test_0_0', 'ark': '/content/output_training_data/align/gen/fbank/raw_fbank_data.test_0_0.ark', 'scp': '/content/output_training_data/align/gen/fbank/raw_fbank_data.test_0_0.scp'}, {'id': 'test_0_22', 'ark': '/content/output_training_data/align/gen/fbank/raw_fbank_data.test_0_22.ark', 'scp': '/content/output_training_data/align/gen/fbank/raw_fbank_data.test_0_22.scp'}, {'id': 'test_0_10', 'ark': '/content/output_training_data/align/gen/fbank/raw_fbank_data.test_0_10.ark', 'scp': '/content/output_training_data/align/gen/fbank/raw_fbank_data.test_0_10.scp'}, {'id': 'test_0_13', 'ark': '/content/output_training_data/align/gen/fbank/raw_fbank_data.test_0_13.ark', 'scp': '/content/output_training_data/align/gen/fbank/raw_fbank_data.test_0_13.scp'}, {'id': 'test_0_31', 'ark': '/content/output_training_data/align/gen/fbank/raw_fbank_data.test_0_31.ark', 'scp': '/content/output_training_data/align/gen/fbank/raw_fbank_data.test_0_31.scp'}, {'id': 'test_0_9', 'ark': '/content/output_training_data/align/gen/fbank/raw_fbank_data.test_0_9.ark', 'scp': '/content/output_training_data/align/gen/fbank/raw_fbank_data.test_0_9.scp'}, {'id': 'test_0_23', 'ark': '/content/output_training_data/align/gen/fbank/raw_fbank_data.test_0_23.ark', 'scp': '/content/output_training_data/align/gen/fbank/raw_fbank_data.test_0_23.scp'}, {'id': 'test_0_21', 'ark': '/content/output_training_data/align/gen/fbank/raw_fbank_data.test_0_21.ark', 'scp': '/content/output_training_data/align/gen/fbank/raw_fbank_data.test_0_21.scp'}, {'id': 'test_0_16', 'ark': '/content/output_training_data/align/gen/fbank/raw_fbank_data.test_0_16.ark', 'scp': '/content/output_training_data/align/gen/fbank/raw_fbank_data.test_0_16.scp'}, {'id': 'test_0_36', 'ark': '/content/output_training_data/align/gen/fbank/raw_fbank_data.test_0_36.ark', 'scp': '/content/output_training_data/align/gen/fbank/raw_fbank_data.test_0_36.scp'}, {'id': 'test_0_26', 'ark': '/content/output_training_data/align/gen/fbank/raw_fbank_data.test_0_26.ark', 'scp': '/content/output_training_data/align/gen/fbank/raw_fbank_data.test_0_26.scp'}, {'id': 'test_0_28', 'ark': '/content/output_training_data/align/gen/fbank/raw_fbank_data.test_0_28.ark', 'scp': '/content/output_training_data/align/gen/fbank/raw_fbank_data.test_0_28.scp'}, {'id': 'test_0_18', 'ark': '/content/output_training_data/align/gen/fbank/raw_fbank_data.test_0_18.ark', 'scp': '/content/output_training_data/align/gen/fbank/raw_fbank_data.test_0_18.scp'}, {'id': 'test_0_7', 'ark': '/content/output_training_data/align/gen/fbank/raw_fbank_data.test_0_7.ark', 'scp': '/content/output_training_data/align/gen/fbank/raw_fbank_data.test_0_7.scp'}, {'id': 'test_0_15', 'ark': '/content/output_training_data/align/gen/fbank/raw_fbank_data.test_0_15.ark', 'scp': '/content/output_training_data/align/gen/fbank/raw_fbank_data.test_0_15.scp'}, {'id': 'test_0_19', 'ark': '/content/output_training_data/align/gen/fbank/raw_fbank_data.test_0_19.ark', 'scp': '/content/output_training_data/align/gen/fbank/raw_fbank_data.test_0_19.scp'}, {'id': 'test_0_17', 'ark': '/content/output_training_data/align/gen/fbank/raw_fbank_data.test_0_17.ark', 'scp': '/content/output_training_data/align/gen/fbank/raw_fbank_data.test_0_17.scp'}, {'id': 'test_0_6', 'ark': '/content/output_training_data/align/gen/fbank/raw_fbank_data.test_0_6.ark', 'scp': '/content/output_training_data/align/gen/fbank/raw_fbank_data.test_0_6.scp'}, {'id': 'test_0_2', 'ark': '/content/output_training_data/align/gen/fbank/raw_fbank_data.test_0_2.ark', 'scp': '/content/output_training_data/align/gen/fbank/raw_fbank_data.test_0_2.scp'}, {'id': 'test_0_8', 'ark': '/content/output_training_data/align/gen/fbank/raw_fbank_data.test_0_8.ark', 'scp': '/content/output_training_data/align/gen/fbank/raw_fbank_data.test_0_8.scp'}, {'id': 'test_0_29', 'ark': '/content/output_training_data/align/gen/fbank/raw_fbank_data.test_0_29.ark', 'scp': '/content/output_training_data/align/gen/fbank/raw_fbank_data.test_0_29.scp'}, {'id': 'test_0_11', 'ark': '/content/output_training_data/align/gen/fbank/raw_fbank_data.test_0_11.ark', 'scp': '/content/output_training_data/align/gen/fbank/raw_fbank_data.test_0_11.scp'}, {'id': 'test_0_27', 'ark': '/content/output_training_data/align/gen/fbank/raw_fbank_data.test_0_27.ark', 'scp': '/content/output_training_data/align/gen/fbank/raw_fbank_data.test_0_27.scp'}]\n"
          ]
        },
        {
          "output_type": "stream",
          "name": "stderr",
          "text": [
            "\n"
          ]
        },
        {
          "output_type": "stream",
          "name": "stdout",
          "text": [
            "Feature preprocessing start...\n"
          ]
        },
        {
          "output_type": "stream",
          "name": "stderr",
          "text": [
            "100%|██████████| 36/36 [01:12<00:00,  2.01s/it]"
          ]
        },
        {
          "output_type": "stream",
          "name": "stdout",
          "text": [
            "Waveform aligning start...\n"
          ]
        },
        {
          "output_type": "stream",
          "name": "stderr",
          "text": [
            "\n",
            "100%|██████████| 36/36 [00:41<00:00,  1.15s/it]"
          ]
        },
        {
          "output_type": "stream",
          "name": "stdout",
          "text": [
            "do_align done!\n",
            "---  new folder...  ---\n",
            "---  OK  ---\n",
            "test_0_3.ali\n",
            "test_0_10.ali\n",
            "test_0_12.ali\n",
            "test_0_2.ali\n",
            "test_0_20.ali\n",
            "test_0_22.ali\n",
            "test_0_23.ali\n",
            "test_0_13.ali\n",
            "test_0_0.ali\n",
            "test_0_32.ali\n",
            "test_0_7.ali\n",
            "test_0_21.ali\n",
            "test_0_8.ali\n",
            "test_0_26.ali\n",
            "test_0_17.ali\n",
            "test_0_30.ali\n",
            "test_0_5.ali\n",
            "test_0_35.ali\n",
            "test_0_34.ali\n",
            "test_0_1.ali\n",
            "test_0_29.ali\n",
            "test_0_16.ali\n",
            "test_0_27.ali\n",
            "test_0_31.ali\n",
            "test_0_11.ali\n",
            "test_0_19.ali\n",
            "test_0_14.ali\n",
            "test_0_4.ali\n",
            "test_0_36.ali\n",
            "test_0_6.ali\n",
            "test_0_25.ali\n",
            "test_0_15.ali\n",
            "test_0_9.ali\n",
            "test_0_28.ali\n",
            "test_0_18.ali\n",
            "test_0_24.ali\n",
            "Trim silence wav with align info and modify wav files....\n"
          ]
        },
        {
          "output_type": "stream",
          "name": "stderr",
          "text": [
            "\n",
            "100%|██████████| 36/36 [00:00<00:00, 159.18it/s]"
          ]
        },
        {
          "output_type": "stream",
          "name": "stdout",
          "text": [
            "Convert align info to interval files....\n",
            "---  There is this folder!  ---\n",
            "test_0_3.ali\n",
            "test_0_10.ali\n",
            "test_0_12.ali\n",
            "test_0_2.ali\n",
            "test_0_20.ali\n",
            "test_0_22.ali\n",
            "test_0_23.ali\n",
            "test_0_13.ali\n",
            "test_0_0.ali\n",
            "test_0_32.ali\n",
            "test_0_7.ali\n",
            "test_0_21.ali\n",
            "test_0_8.ali\n",
            "test_0_26.ali\n",
            "test_0_17.ali\n",
            "test_0_30.ali\n",
            "test_0_5.ali\n",
            "test_0_35.ali\n",
            "test_0_34.ali\n",
            "test_0_1.ali\n",
            "test_0_29.ali\n",
            "test_0_16.ali\n",
            "test_0_27.ali\n",
            "test_0_31.ali\n",
            "test_0_11.ali\n",
            "test_0_19.ali\n",
            "test_0_14.ali\n",
            "test_0_4.ali\n",
            "test_0_36.ali\n",
            "test_0_6.ali\n",
            "test_0_25.ali\n",
            "test_0_15.ali\n",
            "test_0_9.ali\n",
            "test_0_28.ali\n",
            "test_0_18.ali\n",
            "test_0_24.ali\n",
            "Modify sil to sp in interval....\n",
            "modify interval er phone.\n",
            "---  New folder /content/output_training_data/interval...  ---\n",
            "---  OK  ---\n",
            "qualification review.\n",
            "prosody sillence detect.\n",
            "---  New folder /content/output_training_data/prosody...  ---\n"
          ]
        },
        {
          "output_type": "stream",
          "name": "stderr",
          "text": [
            "\n"
          ]
        },
        {
          "output_type": "stream",
          "name": "stdout",
          "text": [
            "---  OK  ---\n",
            "average silence duration: 0.12040000000000001\n"
          ]
        },
        {
          "output_type": "stream",
          "name": "stderr",
          "text": [
            "100%|██████████| 72/72 [00:00<00:00, 8446.32it/s]"
          ]
        },
        {
          "output_type": "stream",
          "name": "stdout",
          "text": [
            "Write prosody file\n",
            "0 \"mismatch\" sentences\n",
            "\n",
            "Auto labeling info: stage 1 | develop mode 0 | gender:female | score 10.000000 | retcode 0\n",
            "labeling report:\n",
            "stage 1 | develop mode 0 | gender female | score 10.000000 | retcode 0\n",
            "qulification report:\n",
            "credit score: 10.000000\n",
            "qualified score: 3.000000\n",
            "normalized snr: 35.000000\n",
            "abandon utt snr threshold: 10.000000\n",
            "snr score ration: 0.500000\n",
            "interval score ration: 0.500000\n",
            "data qulificaion report:\n"
          ]
        },
        {
          "output_type": "stream",
          "name": "stderr",
          "text": [
            "\n"
          ]
        }
      ]
    },
    {
      "cell_type": "markdown",
      "source": [
        "## 训练 Training"
      ],
      "metadata": {
        "id": "oImeaYwbcFOV"
      }
    },
    {
      "cell_type": "code",
      "source": [
        "from modelscope.metainfo import Trainers\n",
        "from modelscope.trainers import build_trainer\n",
        "from modelscope.utils.audio.audio_utils import TtsTrainType\n",
        "\n",
        "pretrained_model_id = 'damo/speech_personal_sambert-hifigan_nsf_tts_zh-cn_pretrain_16k'\n",
        "\n",
        "dataset_id = \"./output_training_data/\"\n",
        "pretrain_work_dir = \"./pretrain_work_dir/\"\n",
        "\n",
        "# 训练信息，用于指定需要训练哪个或哪些模型，这里展示AM和Vocoder模型皆进行训练\n",
        "# 目前支持训练：TtsTrainType.TRAIN_TYPE_SAMBERT, TtsTrainType.TRAIN_TYPE_VOC\n",
        "# 训练SAMBERT会以模型最新step作为基础进行finetune\n",
        "train_info = {\n",
        "    TtsTrainType.TRAIN_TYPE_SAMBERT: {  # 配置训练AM（sambert）模型\n",
        "        'train_steps': 202,               # 训练多少个step\n",
        "        'save_interval_steps': 200,       # 每训练多少个step保存一次checkpoint\n",
        "        'log_interval': 10               # 每训练多少个step打印一次训练日志\n",
        "    }\n",
        "}\n",
        "\n",
        "# 配置训练参数，指定数据集，临时工作目录和train_info\n",
        "kwargs = dict(\n",
        "    model=pretrained_model_id,                  # 指定要finetune的模型\n",
        "    model_revision = \"v1.0.6\",\n",
        "    work_dir=pretrain_work_dir,                 # 指定临时工作目录\n",
        "    train_dataset=dataset_id,                   # 指定数据集id\n",
        "    train_type=train_info                       # 指定要训练类型及参数\n",
        ")\n",
        "\n",
        "trainer = build_trainer(Trainers.speech_kantts_trainer,\n",
        "                        default_args=kwargs)\n",
        "\n",
        "trainer.train()\n"
      ],
      "metadata": {
        "id": "tzH2jcmxbV1i",
        "colab": {
          "base_uri": "https://localhost:8080/"
        },
        "outputId": "7b657216-ac99-4f73-934a-18e6e187b2bb"
      },
      "execution_count": null,
      "outputs": [
        {
          "output_type": "stream",
          "name": "stderr",
          "text": [
            "2023-07-19 15:36:46,593 - modelscope - INFO - Use user-specified model revision: v1.0.6\n",
            "Downloading: 100%|██████████| 4.07k/4.07k [00:00<00:00, 1.65MB/s]\n",
            "2023-07-19 15:36:49,489 - modelscope - INFO - Use user-specified model revision: v1.0.6\n",
            "Downloading: 100%|██████████| 138k/138k [00:00<00:00, 231kB/s]\n",
            "Downloading: 100%|██████████| 288k/288k [00:00<00:00, 355kB/s]\n",
            "Downloading: 100%|██████████| 327k/327k [00:00<00:00, 376kB/s]\n",
            "Downloading: 100%|██████████| 535k/535k [00:01<00:00, 543kB/s]\n",
            "Downloading: 100%|██████████| 506/506 [00:00<00:00, 2.26MB/s]\n",
            "Downloading: 100%|██████████| 1.69M/1.69M [00:01<00:00, 1.36MB/s]\n",
            "Downloading: 100%|██████████| 452k/452k [00:01<00:00, 423kB/s]\n",
            "Downloading: 100%|██████████| 998k/998k [00:01<00:00, 809kB/s]\n",
            "Downloading: 100%|██████████| 866M/866M [00:26<00:00, 34.0MB/s]\n",
            "Downloading: 100%|██████████| 150M/150M [00:13<00:00, 12.1MB/s]\n",
            "Downloading: 100%|██████████| 3.82k/3.82k [00:00<00:00, 2.81MB/s]\n",
            "Downloading: 100%|██████████| 2.49k/2.49k [00:00<00:00, 9.43MB/s]\n",
            "Downloading: 100%|██████████| 1.60M/1.60M [00:01<00:00, 1.16MB/s]\n",
            "Downloading: 100%|██████████| 51.3k/51.3k [00:00<00:00, 127kB/s]\n",
            "Downloading: 100%|██████████| 1.79M/1.79M [00:01<00:00, 1.20MB/s]\n",
            "Downloading: 100%|██████████| 1.87M/1.87M [00:01<00:00, 1.25MB/s]\n",
            "Downloading: 100%|██████████| 112k/112k [00:00<00:00, 187kB/s]\n",
            "Downloading: 100%|██████████| 226k/226k [00:00<00:00, 268kB/s]\n",
            "Downloading: 100%|██████████| 72.3k/72.3k [00:00<00:00, 175kB/s]\n",
            "Downloading: 100%|██████████| 24.1k/24.1k [00:00<00:00, 118kB/s]\n",
            "Downloading: 100%|██████████| 236M/236M [00:17<00:00, 14.0MB/s]\n",
            "Downloading: 100%|██████████| 67.1k/67.1k [00:00<00:00, 158kB/s]\n",
            "Downloading: 100%|██████████| 26.8M/26.8M [00:03<00:00, 8.64MB/s]\n",
            "Downloading: 100%|██████████| 26.8M/26.8M [00:03<00:00, 8.91MB/s]\n",
            "Downloading: 100%|██████████| 151k/151k [00:00<00:00, 243kB/s]\n",
            "Downloading: 100%|██████████| 52.3k/52.3k [00:00<00:00, 127kB/s]\n",
            "Downloading: 100%|██████████| 98.7k/98.7k [00:00<00:00, 171kB/s]\n",
            "Downloading: 100%|██████████| 45.0k/45.0k [00:00<00:00, 108kB/s]\n",
            "Downloading: 100%|██████████| 2.34M/2.34M [00:01<00:00, 1.64MB/s]\n",
            "Downloading: 100%|██████████| 63.6k/63.6k [00:00<00:00, 155kB/s]\n",
            "Downloading: 100%|██████████| 1.57M/1.57M [00:01<00:00, 1.23MB/s]\n",
            "2023-07-19 15:38:38,079 - modelscope - INFO - Set workdir to ./pretrain_work_dir/\n",
            "2023-07-19 15:38:38,081 - modelscope - INFO - load ./output_training_data/\n",
            "2023-07-19 15:38:38,748 - modelscope - INFO - Use user-specified model revision: v1.0.6\n",
            "2023-07-19 15:38:50,280 - modelscope - INFO - am_config=./pretrain_work_dir/orig_model/basemodel_16k/sambert/config.yaml voc_config=./pretrain_work_dir/orig_model/basemodel_16k/hifigan/config.yaml\n",
            "2023-07-19 15:38:50,296 - modelscope - INFO - audio_config=./pretrain_work_dir/orig_model/basemodel_16k/audio_config_se_16k.yaml\n",
            "2023-07-19 15:38:50,298 - modelscope - INFO - am_ckpts=OrderedDict([(2400000, './pretrain_work_dir/orig_model/basemodel_16k/sambert/ckpt/checkpoint_2400000.pth')])\n",
            "2023-07-19 15:38:50,299 - modelscope - INFO - voc_ckpts=OrderedDict([(2400000, './pretrain_work_dir/orig_model/basemodel_16k/hifigan/ckpt/checkpoint_2400000.pth')])\n",
            "2023-07-19 15:38:50,301 - modelscope - INFO - se_path=./pretrain_work_dir/orig_model/se.npy se_model_path=./pretrain_work_dir/orig_model/basemodel_16k/speaker_embedding/se.onnx\n",
            "2023-07-19 15:38:50,302 - modelscope - INFO - mvn_path=./pretrain_work_dir/orig_model/mvn.npy\n",
            "100%|██████████| 72/72 [00:00<00:00, 7194.52it/s]"
          ]
        },
        {
          "output_type": "stream",
          "name": "stdout",
          "text": [
            "TextScriptConvertor.process:\n",
            "Save script to: ./pretrain_work_dir/data/Script.xml\n",
            "TextScriptConvertor.process:\n",
            "Save metafile to: ./pretrain_work_dir/data/raw_metafile.txt\n",
            "[AudioProcessor] Initialize AudioProcessor.\n",
            "[AudioProcessor] config params:\n",
            "[AudioProcessor] wav_normalize: True\n",
            "[AudioProcessor] trim_silence: True\n",
            "[AudioProcessor] trim_silence_threshold_db: 60\n",
            "[AudioProcessor] preemphasize: False\n",
            "[AudioProcessor] sampling_rate: 16000\n",
            "[AudioProcessor] hop_length: 200\n",
            "[AudioProcessor] win_length: 1000\n",
            "[AudioProcessor] n_fft: 2048\n",
            "[AudioProcessor] n_mels: 80\n",
            "[AudioProcessor] fmin: 0.0\n",
            "[AudioProcessor] fmax: 8000.0\n",
            "[AudioProcessor] phone_level_feature: True\n",
            "[AudioProcessor] se_feature: True\n",
            "[AudioProcessor] norm_type: mean_std\n",
            "[AudioProcessor] max_norm: 1.0\n",
            "[AudioProcessor] symmetric: False\n",
            "[AudioProcessor] min_level_db: -100.0\n",
            "[AudioProcessor] ref_level_db: 20\n",
            "[AudioProcessor] num_workers: 16\n",
            "[AudioProcessor] Amplitude normalization started\n",
            "Volume statistic proceeding...\n"
          ]
        },
        {
          "output_type": "stream",
          "name": "stderr",
          "text": [
            "\n",
            "100%|██████████| 36/36 [00:00<00:00, 58.51it/s]\n"
          ]
        },
        {
          "output_type": "stream",
          "name": "stdout",
          "text": [
            "Average amplitude RMS : 0.09618630555555557\n",
            "Volume statistic done.\n",
            "Volume normalization proceeding...\n"
          ]
        },
        {
          "output_type": "stream",
          "name": "stderr",
          "text": [
            "100%|██████████| 36/36 [00:00<00:00, 1434.86it/s]"
          ]
        },
        {
          "output_type": "stream",
          "name": "stdout",
          "text": [
            "Volume normalization done.\n",
            "[AudioProcessor] Amplitude normalization finished\n",
            "[AudioProcessor] Duration generation started\n"
          ]
        },
        {
          "output_type": "stream",
          "name": "stderr",
          "text": [
            "\n",
            "  0%|          | 0/36 [00:00<?, ?it/s]"
          ]
        },
        {
          "output_type": "stream",
          "name": "stdout",
          "text": [
            "[AudioProcessor] Duration align with mel is proceeding...\n"
          ]
        },
        {
          "output_type": "stream",
          "name": "stderr",
          "text": [
            "100%|██████████| 36/36 [00:01<00:00, 32.31it/s]\n"
          ]
        },
        {
          "output_type": "stream",
          "name": "stdout",
          "text": [
            "[AudioProcessor] Duration generate finished\n",
            "[AudioProcessor] Trim silence with interval started\n",
            "[AudioProcessor] Start to load pcm from ./pretrain_work_dir/data/wav\n"
          ]
        },
        {
          "output_type": "stream",
          "name": "stderr",
          "text": [
            "100%|██████████| 36/36 [00:01<00:00, 24.50it/s]\n",
            "  0%|          | 0/36 [00:01<?, ?it/s]\n",
            "100%|██████████| 36/36 [00:00<00:00, 1918.74it/s]"
          ]
        },
        {
          "output_type": "stream",
          "name": "stdout",
          "text": [
            "[AudioProcessor] Trim silence finished\n",
            "[AudioProcessor] Melspec extraction started\n"
          ]
        },
        {
          "output_type": "stream",
          "name": "stderr",
          "text": [
            "\n",
            "100%|██████████| 36/36 [00:02<00:00, 17.67it/s]\n"
          ]
        },
        {
          "output_type": "stream",
          "name": "stdout",
          "text": [
            "[AudioProcessor] Melspec extraction finished\n",
            "Melspec statistic proceeding...\n"
          ]
        },
        {
          "output_type": "stream",
          "name": "stderr",
          "text": [
            "100%|██████████| 36/36 [00:00<00:00, 10721.79it/s]\n",
            "100%|██████████| 36/36 [00:00<00:00, 5971.01it/s]"
          ]
        },
        {
          "output_type": "stream",
          "name": "stdout",
          "text": [
            "Melspec statistic done\n",
            "[AudioProcessor] melspec mean and std saved to:\n",
            "./pretrain_work_dir/data/mel/mel_mean.txt,\n",
            "./pretrain_work_dir/data/mel/mel_std.txt\n",
            "[AudioProcessor] Melspec mean std norm is proceeding...\n",
            "[AudioProcessor] Melspec normalization finished\n",
            "[AudioProcessor] Normed Melspec saved to ./pretrain_work_dir/data/mel\n",
            "[AudioProcessor] Duration calibrating failed for test_0_7, mismatch frames -1\n",
            "[AudioProcessor] Pitch extraction started\n"
          ]
        },
        {
          "output_type": "stream",
          "name": "stderr",
          "text": [
            "\n",
            "  0%|          | 0/36 [00:00<?, ?it/s]"
          ]
        },
        {
          "output_type": "stream",
          "name": "stdout",
          "text": [
            "[AudioProcessor] Pitch align with mel is proceeding...\n"
          ]
        },
        {
          "output_type": "stream",
          "name": "stderr",
          "text": [
            "100%|██████████| 36/36 [00:02<00:00, 17.90it/s]\n"
          ]
        },
        {
          "output_type": "stream",
          "name": "stdout",
          "text": [
            "[AudioProcessor] Pitch normalization is proceeding...\n"
          ]
        },
        {
          "output_type": "stream",
          "name": "stderr",
          "text": [
            "100%|██████████| 36/36 [00:00<00:00, 38130.04it/s]\n",
            "100%|██████████| 36/36 [00:00<00:00, 16600.15it/s]"
          ]
        },
        {
          "output_type": "stream",
          "name": "stdout",
          "text": [
            "[AudioProcessor] f0 mean and std saved to:\n",
            "./pretrain_work_dir/data/f0/f0_mean.txt,\n",
            "./pretrain_work_dir/data/f0/f0_std.txt\n",
            "[AudioProcessor] Pitch mean std norm is proceeding...\n",
            "[AudioProcessor] Pitch turn to phone-level is proceeding...\n"
          ]
        },
        {
          "output_type": "stream",
          "name": "stderr",
          "text": [
            "\n",
            "100%|██████████| 36/36 [00:00<00:00, 36.04it/s]\n"
          ]
        },
        {
          "output_type": "stream",
          "name": "stdout",
          "text": [
            "[AudioProcessor] Pitch normalization finished\n",
            "[AudioProcessor] Normed f0 saved to ./pretrain_work_dir/data/f0\n",
            "[AudioProcessor] Pitch extraction finished\n",
            "[AudioProcessor] Energy extraction started\n"
          ]
        },
        {
          "output_type": "stream",
          "name": "stderr",
          "text": [
            "100%|██████████| 36/36 [00:01<00:00, 29.16it/s]\n",
            "100%|██████████| 36/36 [00:00<00:00, 38372.29it/s]\n",
            "100%|██████████| 36/36 [00:00<00:00, 12826.62it/s]"
          ]
        },
        {
          "output_type": "stream",
          "name": "stdout",
          "text": [
            "[AudioProcessor] energy mean and std saved to:\n",
            "./pretrain_work_dir/data/energy/energy_mean.txt,\n",
            "./pretrain_work_dir/data/energy/energy_std.txt\n",
            "[AudioProcessor] Energy mean std norm is proceeding...\n"
          ]
        },
        {
          "output_type": "stream",
          "name": "stderr",
          "text": [
            "\n",
            "100%|██████████| 36/36 [00:01<00:00, 35.45it/s]\n"
          ]
        },
        {
          "output_type": "stream",
          "name": "stdout",
          "text": [
            "[AudioProcessor] Energy normalization finished\n",
            "[AudioProcessor] Normed Energy saved to ./pretrain_work_dir/data/energy\n",
            "[AudioProcessor] Energy extraction finished\n",
            "[AudioProcessor] All features extracted successfully!\n",
            "Processing audio done.\n",
            "[SpeakerEmbeddingProcessor] Speaker embedding extractor started\n",
            "[SpeakerEmbeddingProcessor] se model loading error!!!\n",
            "[SpeakerEmbeddingProcessor] please update your se model to ensure that the version is greater than or equal to 1.0.5\n",
            "[SpeakerEmbeddingProcessor] try load it as se.model\n",
            "[SpeakerEmbeddingProcessor] Speaker embedding extracted successfully!\n",
            "Processing speaker embedding done.\n",
            "Processing done.\n",
            "Voc metafile generated.\n",
            "AM metafile generated.\n"
          ]
        },
        {
          "output_type": "stream",
          "name": "stderr",
          "text": [
            "2023-07-19 15:40:30,439 - modelscope - INFO - Start training....\n",
            "2023-07-19 15:40:30,442 - modelscope - INFO - Start SAMBERT training...\n",
            "2023-07-19 15:40:30,444 - modelscope - INFO - TRAIN SAMBERT....\n",
            "2023-07-19 15:40:30,480 - modelscope - INFO - TRAINING steps: 2400202\n",
            "2023-07-19 15:40:30,492 - modelscope - INFO - audio_config = {'fmax': 8000.0, 'fmin': 0.0, 'hop_length': 200, 'max_norm': 1.0, 'min_level_db': -100.0, 'n_fft': 2048, 'n_mels': 80, 'norm_type': 'mean_std', 'num_workers': 16, 'phone_level_feature': True, 'preemphasize': False, 'ref_level_db': 20, 'sampling_rate': 16000, 'symmetric': False, 'trim_silence': True, 'trim_silence_threshold_db': 60, 'wav_normalize': True, 'win_length': 1000}\n",
            "2023-07-19 15:40:30,494 - modelscope - INFO - Loss = {'MelReconLoss': {'enable': True, 'params': {'loss_type': 'mae'}}, 'ProsodyReconLoss': {'enable': True, 'params': {'loss_type': 'mae'}}}\n",
            "2023-07-19 15:40:30,497 - modelscope - INFO - Model = {'KanTtsSAMBERT': {'optimizer': {'params': {'betas': [0.9, 0.98], 'eps': 1e-09, 'lr': 0.001, 'weight_decay': 0.0}, 'type': 'Adam'}, 'params': {'MAS': False, 'NSF': True, 'SE': True, 'decoder_attention_dropout': 0.1, 'decoder_dropout': 0.1, 'decoder_ffn_inner_dim': 1024, 'decoder_num_heads': 8, 'decoder_num_layers': 12, 'decoder_num_units': 128, 'decoder_prenet_units': [256, 256], 'decoder_relu_dropout': 0.1, 'dur_pred_lstm_units': 128, 'dur_pred_prenet_units': [128, 128], 'embedding_dim': 512, 'emotion_units': 32, 'encoder_attention_dropout': 0.1, 'encoder_dropout': 0.1, 'encoder_ffn_inner_dim': 1024, 'encoder_num_heads': 8, 'encoder_num_layers': 8, 'encoder_num_units': 128, 'encoder_projection_units': 32, 'encoder_relu_dropout': 0.1, 'max_len': 800, 'nsf_f0_global_maximum': 730.0, 'nsf_f0_global_minimum': 30.0, 'nsf_norm_type': 'global', 'num_mels': 82, 'outputs_per_step': 3, 'postnet_dropout': 0.1, 'postnet_ffn_inner_dim': 512, 'postnet_filter_size': 41, 'postnet_fsmn_num_layers': 4, 'postnet_lstm_units': 128, 'postnet_num_memory_units': 256, 'postnet_shift': 17, 'predictor_dropout': 0.1, 'predictor_ffn_inner_dim': 256, 'predictor_filter_size': 41, 'predictor_fsmn_num_layers': 3, 'predictor_lstm_units': 128, 'predictor_num_memory_units': 128, 'predictor_shift': 0, 'speaker_units': 192}, 'scheduler': {'params': {'warmup_steps': 4000}, 'type': 'NoamLR'}}}\n",
            "2023-07-19 15:40:30,502 - modelscope - INFO - allow_cache = False\n",
            "2023-07-19 15:40:30,504 - modelscope - INFO - batch_size = 32\n",
            "2023-07-19 15:40:30,507 - modelscope - INFO - create_time = 2023-07-19 15:40:30\n",
            "2023-07-19 15:40:30,509 - modelscope - INFO - eval_interval_steps = 10000000000000000\n",
            "2023-07-19 15:40:30,510 - modelscope - INFO - git_revision_hash = d16755444c9baf23348213211a5ed9035458ecf0\n",
            "2023-07-19 15:40:30,511 - modelscope - INFO - grad_norm = 1.0\n",
            "2023-07-19 15:40:30,512 - modelscope - INFO - linguistic_unit = {'cleaners': 'english_cleaners', 'lfeat_type_list': 'sy,tone,syllable_flag,word_segment,emo_category,speaker_category', 'speaker_list': 'F7'}\n",
            "2023-07-19 15:40:30,513 - modelscope - INFO - log_interval_steps = 50\n",
            "2023-07-19 15:40:30,516 - modelscope - INFO - model_type = sambert\n",
            "2023-07-19 15:40:30,517 - modelscope - INFO - num_save_intermediate_results = 4\n",
            "2023-07-19 15:40:30,518 - modelscope - INFO - num_workers = 4\n",
            "2023-07-19 15:40:30,519 - modelscope - INFO - pin_memory = False\n",
            "2023-07-19 15:40:30,520 - modelscope - INFO - remove_short_samples = False\n",
            "2023-07-19 15:40:30,521 - modelscope - INFO - save_interval_steps = 200\n",
            "2023-07-19 15:40:30,522 - modelscope - INFO - train_max_steps = 2400202\n",
            "2023-07-19 15:40:30,523 - modelscope - INFO - train_steps = 202\n",
            "2023-07-19 15:40:30,524 - modelscope - INFO - log_interval = 10\n",
            "2023-07-19 15:40:30,526 - modelscope - INFO - modelscope_version = 1.7.1\n"
          ]
        },
        {
          "output_type": "stream",
          "name": "stdout",
          "text": [
            "Loading metafile...\n"
          ]
        },
        {
          "output_type": "stream",
          "name": "stderr",
          "text": [
            "100%|██████████| 34/34 [00:00<00:00, 19134.09it/s]"
          ]
        },
        {
          "output_type": "stream",
          "name": "stdout",
          "text": [
            "Loading metafile...\n"
          ]
        },
        {
          "output_type": "stream",
          "name": "stderr",
          "text": [
            "\n",
            "100%|██████████| 1/1 [00:00<00:00, 8305.55it/s]\n",
            "2023-07-19 15:40:30,545 - modelscope - INFO - The number of training files = 34.\n",
            "2023-07-19 15:40:30,547 - modelscope - INFO - The number of validation files = 1.\n",
            "/usr/local/lib/python3.10/dist-packages/torch/utils/data/dataloader.py:560: UserWarning: This DataLoader will create 4 worker processes in total. Our suggested max number of worker in current system is 2, which is smaller than what this DataLoader is going to create. Please be aware that excessive worker creation might get DataLoader running slow or even freeze, lower the worker number to avoid potential slowness/freeze if necessary.\n",
            "  warnings.warn(_create_warning_msg(\n",
            "2023-07-19 15:40:32,668 - modelscope - INFO - Successfully resumed from ./pretrain_work_dir/orig_model/basemodel_16k/sambert/ckpt/checkpoint_2400000.pth.\n",
            "  0%|          | 0/2 [00:00<?, ?it/s]"
          ]
        },
        {
          "output_type": "stream",
          "name": "stdout",
          "text": [
            "Checkpoint saved at step 2400000\n",
            "(Steps: 2400000) train/TotalLoss = 0.0360.\n",
            "(Steps: 2400000) train/mel_loss_ = 0.0082.\n",
            "(Steps: 2400000) train/mel_loss = 0.0071.\n",
            "(Steps: 2400000) train/dur_loss = 0.0069.\n",
            "(Steps: 2400000) train/pitch_loss = 0.0043.\n",
            "(Steps: 2400000) train/energy_loss = 0.0095.\n",
            "(Steps: 2400000) train/batch_size = 0.6400.\n",
            "(Steps: 2400000) train/x_band_width = 0.2200.\n",
            "(Steps: 2400000) train/h_band_width = 0.2200.\n",
            "KanTtsSAMBERT learning rate: 0.000082\n"
          ]
        },
        {
          "output_type": "stream",
          "name": "stderr",
          "text": [
            "100%|██████████| 2/2 [00:07<00:00,  3.91s/it]"
          ]
        },
        {
          "output_type": "stream",
          "name": "stdout",
          "text": [
            "Epoch 0 finished\n"
          ]
        },
        {
          "output_type": "stream",
          "name": "stderr",
          "text": [
            "\n",
            "100%|██████████| 2/2 [00:01<00:00,  1.28it/s]"
          ]
        },
        {
          "output_type": "stream",
          "name": "stdout",
          "text": [
            "Epoch 1 finished\n"
          ]
        },
        {
          "output_type": "stream",
          "name": "stderr",
          "text": [
            "\n",
            "100%|██████████| 2/2 [00:01<00:00,  1.14it/s]"
          ]
        },
        {
          "output_type": "stream",
          "name": "stdout",
          "text": [
            "Epoch 2 finished\n"
          ]
        },
        {
          "output_type": "stream",
          "name": "stderr",
          "text": [
            "\n",
            "100%|██████████| 2/2 [00:02<00:00,  1.30s/it]"
          ]
        },
        {
          "output_type": "stream",
          "name": "stdout",
          "text": [
            "Epoch 3 finished\n"
          ]
        },
        {
          "output_type": "stream",
          "name": "stderr",
          "text": [
            "\n",
            "100%|██████████| 2/2 [00:02<00:00,  1.07s/it]"
          ]
        },
        {
          "output_type": "stream",
          "name": "stdout",
          "text": [
            "Epoch 4 finished\n"
          ]
        },
        {
          "output_type": "stream",
          "name": "stderr",
          "text": [
            "\n",
            "  0%|          | 0/2 [00:00<?, ?it/s]"
          ]
        },
        {
          "output_type": "stream",
          "name": "stdout",
          "text": [
            "(Steps: 2400010) train/TotalLoss = 0.3221.\n",
            "(Steps: 2400010) train/mel_loss_ = 0.0784.\n",
            "(Steps: 2400010) train/mel_loss = 0.0649.\n",
            "(Steps: 2400010) train/dur_loss = 0.0588.\n",
            "(Steps: 2400010) train/pitch_loss = 0.0393.\n",
            "(Steps: 2400010) train/energy_loss = 0.0807.\n",
            "(Steps: 2400010) train/batch_size = 3.4000.\n",
            "(Steps: 2400010) train/x_band_width = 2.0400.\n",
            "(Steps: 2400010) train/h_band_width = 2.0400.\n",
            "KanTtsSAMBERT learning rate: 0.000082\n"
          ]
        },
        {
          "output_type": "stream",
          "name": "stderr",
          "text": [
            "100%|██████████| 2/2 [00:02<00:00,  1.44s/it]"
          ]
        },
        {
          "output_type": "stream",
          "name": "stdout",
          "text": [
            "Epoch 5 finished\n"
          ]
        },
        {
          "output_type": "stream",
          "name": "stderr",
          "text": [
            "\n",
            "100%|██████████| 2/2 [00:00<00:00,  2.07it/s]"
          ]
        },
        {
          "output_type": "stream",
          "name": "stdout",
          "text": [
            "Epoch 6 finished\n"
          ]
        },
        {
          "output_type": "stream",
          "name": "stderr",
          "text": [
            "\n",
            "100%|██████████| 2/2 [00:02<00:00,  1.03s/it]"
          ]
        },
        {
          "output_type": "stream",
          "name": "stdout",
          "text": [
            "Epoch 7 finished\n"
          ]
        },
        {
          "output_type": "stream",
          "name": "stderr",
          "text": [
            "\n",
            "100%|██████████| 2/2 [00:00<00:00,  2.04it/s]"
          ]
        },
        {
          "output_type": "stream",
          "name": "stdout",
          "text": [
            "Epoch 8 finished\n"
          ]
        },
        {
          "output_type": "stream",
          "name": "stderr",
          "text": [
            "\n",
            "100%|██████████| 2/2 [00:02<00:00,  1.06s/it]"
          ]
        },
        {
          "output_type": "stream",
          "name": "stdout",
          "text": [
            "Epoch 9 finished\n"
          ]
        },
        {
          "output_type": "stream",
          "name": "stderr",
          "text": [
            "\n",
            "  0%|          | 0/2 [00:00<?, ?it/s]"
          ]
        },
        {
          "output_type": "stream",
          "name": "stdout",
          "text": [
            "(Steps: 2400020) train/TotalLoss = 0.3186.\n",
            "(Steps: 2400020) train/mel_loss_ = 0.0746.\n",
            "(Steps: 2400020) train/mel_loss = 0.0590.\n",
            "(Steps: 2400020) train/dur_loss = 0.0589.\n",
            "(Steps: 2400020) train/pitch_loss = 0.0366.\n",
            "(Steps: 2400020) train/energy_loss = 0.0895.\n",
            "(Steps: 2400020) train/batch_size = 3.4000.\n",
            "(Steps: 2400020) train/x_band_width = 1.9400.\n",
            "(Steps: 2400020) train/h_band_width = 1.9400.\n",
            "KanTtsSAMBERT learning rate: 0.000082\n"
          ]
        },
        {
          "output_type": "stream",
          "name": "stderr",
          "text": [
            "100%|██████████| 2/2 [00:01<00:00,  1.69it/s]"
          ]
        },
        {
          "output_type": "stream",
          "name": "stdout",
          "text": [
            "Epoch 10 finished\n"
          ]
        },
        {
          "output_type": "stream",
          "name": "stderr",
          "text": [
            "\n",
            "100%|██████████| 2/2 [00:01<00:00,  1.62it/s]"
          ]
        },
        {
          "output_type": "stream",
          "name": "stdout",
          "text": [
            "Epoch 11 finished\n"
          ]
        },
        {
          "output_type": "stream",
          "name": "stderr",
          "text": [
            "\n",
            "100%|██████████| 2/2 [00:01<00:00,  1.40it/s]"
          ]
        },
        {
          "output_type": "stream",
          "name": "stdout",
          "text": [
            "Epoch 12 finished\n"
          ]
        },
        {
          "output_type": "stream",
          "name": "stderr",
          "text": [
            "\n",
            "100%|██████████| 2/2 [00:01<00:00,  1.39it/s]"
          ]
        },
        {
          "output_type": "stream",
          "name": "stdout",
          "text": [
            "Epoch 13 finished\n"
          ]
        },
        {
          "output_type": "stream",
          "name": "stderr",
          "text": [
            "\n",
            "100%|██████████| 2/2 [00:02<00:00,  1.33s/it]"
          ]
        },
        {
          "output_type": "stream",
          "name": "stdout",
          "text": [
            "Epoch 14 finished\n"
          ]
        },
        {
          "output_type": "stream",
          "name": "stderr",
          "text": [
            "\n",
            "  0%|          | 0/2 [00:00<?, ?it/s]"
          ]
        },
        {
          "output_type": "stream",
          "name": "stdout",
          "text": [
            "(Steps: 2400030) train/TotalLoss = 0.2955.\n",
            "(Steps: 2400030) train/mel_loss_ = 0.0700.\n",
            "(Steps: 2400030) train/mel_loss = 0.0550.\n",
            "(Steps: 2400030) train/dur_loss = 0.0506.\n",
            "(Steps: 2400030) train/pitch_loss = 0.0386.\n",
            "(Steps: 2400030) train/energy_loss = 0.0813.\n",
            "(Steps: 2400030) train/batch_size = 3.4000.\n",
            "(Steps: 2400030) train/x_band_width = 1.9800.\n",
            "(Steps: 2400030) train/h_band_width = 1.9800.\n",
            "KanTtsSAMBERT learning rate: 0.000082\n"
          ]
        },
        {
          "output_type": "stream",
          "name": "stderr",
          "text": [
            "100%|██████████| 2/2 [00:01<00:00,  1.33it/s]"
          ]
        },
        {
          "output_type": "stream",
          "name": "stdout",
          "text": [
            "Epoch 15 finished\n"
          ]
        },
        {
          "output_type": "stream",
          "name": "stderr",
          "text": [
            "\n",
            "100%|██████████| 2/2 [00:01<00:00,  1.88it/s]"
          ]
        },
        {
          "output_type": "stream",
          "name": "stdout",
          "text": [
            "Epoch 16 finished\n"
          ]
        },
        {
          "output_type": "stream",
          "name": "stderr",
          "text": [
            "\n",
            "100%|██████████| 2/2 [00:00<00:00,  2.08it/s]"
          ]
        },
        {
          "output_type": "stream",
          "name": "stdout",
          "text": [
            "Epoch 17 finished\n"
          ]
        },
        {
          "output_type": "stream",
          "name": "stderr",
          "text": [
            "\n",
            "100%|██████████| 2/2 [00:01<00:00,  1.43it/s]"
          ]
        },
        {
          "output_type": "stream",
          "name": "stdout",
          "text": [
            "Epoch 18 finished\n"
          ]
        },
        {
          "output_type": "stream",
          "name": "stderr",
          "text": [
            "\n",
            "100%|██████████| 2/2 [00:01<00:00,  1.23it/s]"
          ]
        },
        {
          "output_type": "stream",
          "name": "stdout",
          "text": [
            "Epoch 19 finished\n"
          ]
        },
        {
          "output_type": "stream",
          "name": "stderr",
          "text": [
            "\n",
            "  0%|          | 0/2 [00:00<?, ?it/s]"
          ]
        },
        {
          "output_type": "stream",
          "name": "stdout",
          "text": [
            "(Steps: 2400040) train/TotalLoss = 0.2937.\n",
            "(Steps: 2400040) train/mel_loss_ = 0.0670.\n",
            "(Steps: 2400040) train/mel_loss = 0.0514.\n",
            "(Steps: 2400040) train/dur_loss = 0.0521.\n",
            "(Steps: 2400040) train/pitch_loss = 0.0363.\n",
            "(Steps: 2400040) train/energy_loss = 0.0869.\n",
            "(Steps: 2400040) train/batch_size = 3.4000.\n",
            "(Steps: 2400040) train/x_band_width = 1.8600.\n",
            "(Steps: 2400040) train/h_band_width = 1.8600.\n",
            "KanTtsSAMBERT learning rate: 0.000082\n"
          ]
        },
        {
          "output_type": "stream",
          "name": "stderr",
          "text": [
            "100%|██████████| 2/2 [00:01<00:00,  1.72it/s]"
          ]
        },
        {
          "output_type": "stream",
          "name": "stdout",
          "text": [
            "Epoch 20 finished\n"
          ]
        },
        {
          "output_type": "stream",
          "name": "stderr",
          "text": [
            "\n",
            "100%|██████████| 2/2 [00:00<00:00,  2.08it/s]"
          ]
        },
        {
          "output_type": "stream",
          "name": "stdout",
          "text": [
            "Epoch 21 finished\n"
          ]
        },
        {
          "output_type": "stream",
          "name": "stderr",
          "text": [
            "\n",
            "100%|██████████| 2/2 [00:00<00:00,  2.10it/s]"
          ]
        },
        {
          "output_type": "stream",
          "name": "stdout",
          "text": [
            "Epoch 22 finished\n"
          ]
        },
        {
          "output_type": "stream",
          "name": "stderr",
          "text": [
            "\n",
            "100%|██████████| 2/2 [00:00<00:00,  2.12it/s]"
          ]
        },
        {
          "output_type": "stream",
          "name": "stdout",
          "text": [
            "Epoch 23 finished\n"
          ]
        },
        {
          "output_type": "stream",
          "name": "stderr",
          "text": [
            "\n",
            "100%|██████████| 2/2 [00:00<00:00,  2.13it/s]"
          ]
        },
        {
          "output_type": "stream",
          "name": "stdout",
          "text": [
            "Epoch 24 finished\n"
          ]
        },
        {
          "output_type": "stream",
          "name": "stderr",
          "text": [
            "\n",
            "  0%|          | 0/2 [00:00<?, ?it/s]"
          ]
        },
        {
          "output_type": "stream",
          "name": "stdout",
          "text": [
            "(Steps: 2400050) train/TotalLoss = 0.2744.\n",
            "(Steps: 2400050) train/mel_loss_ = 0.0650.\n",
            "(Steps: 2400050) train/mel_loss = 0.0498.\n",
            "(Steps: 2400050) train/dur_loss = 0.0466.\n",
            "(Steps: 2400050) train/pitch_loss = 0.0348.\n",
            "(Steps: 2400050) train/energy_loss = 0.0783.\n",
            "(Steps: 2400050) train/batch_size = 3.4000.\n",
            "(Steps: 2400050) train/x_band_width = 2.0400.\n",
            "(Steps: 2400050) train/h_band_width = 2.0400.\n",
            "KanTtsSAMBERT learning rate: 0.000082\n"
          ]
        },
        {
          "output_type": "stream",
          "name": "stderr",
          "text": [
            "100%|██████████| 2/2 [00:02<00:00,  1.06s/it]"
          ]
        },
        {
          "output_type": "stream",
          "name": "stdout",
          "text": [
            "Epoch 25 finished\n"
          ]
        },
        {
          "output_type": "stream",
          "name": "stderr",
          "text": [
            "\n",
            "100%|██████████| 2/2 [00:02<00:00,  1.16s/it]"
          ]
        },
        {
          "output_type": "stream",
          "name": "stdout",
          "text": [
            "Epoch 26 finished\n"
          ]
        },
        {
          "output_type": "stream",
          "name": "stderr",
          "text": [
            "\n",
            "100%|██████████| 2/2 [00:02<00:00,  1.03s/it]"
          ]
        },
        {
          "output_type": "stream",
          "name": "stdout",
          "text": [
            "Epoch 27 finished\n"
          ]
        },
        {
          "output_type": "stream",
          "name": "stderr",
          "text": [
            "\n",
            "100%|██████████| 2/2 [00:01<00:00,  1.39it/s]"
          ]
        },
        {
          "output_type": "stream",
          "name": "stdout",
          "text": [
            "Epoch 28 finished\n"
          ]
        },
        {
          "output_type": "stream",
          "name": "stderr",
          "text": [
            "\n",
            "100%|██████████| 2/2 [00:01<00:00,  1.75it/s]"
          ]
        },
        {
          "output_type": "stream",
          "name": "stdout",
          "text": [
            "Epoch 29 finished\n"
          ]
        },
        {
          "output_type": "stream",
          "name": "stderr",
          "text": [
            "\n",
            "  0%|          | 0/2 [00:00<?, ?it/s]"
          ]
        },
        {
          "output_type": "stream",
          "name": "stdout",
          "text": [
            "(Steps: 2400060) train/TotalLoss = 0.2959.\n",
            "(Steps: 2400060) train/mel_loss_ = 0.0639.\n",
            "(Steps: 2400060) train/mel_loss = 0.0491.\n",
            "(Steps: 2400060) train/dur_loss = 0.0435.\n",
            "(Steps: 2400060) train/pitch_loss = 0.0392.\n",
            "(Steps: 2400060) train/energy_loss = 0.1002.\n",
            "(Steps: 2400060) train/batch_size = 3.4000.\n",
            "(Steps: 2400060) train/x_band_width = 1.8600.\n",
            "(Steps: 2400060) train/h_band_width = 1.8600.\n",
            "KanTtsSAMBERT learning rate: 0.000082\n"
          ]
        },
        {
          "output_type": "stream",
          "name": "stderr",
          "text": [
            "100%|██████████| 2/2 [00:00<00:00,  2.04it/s]"
          ]
        },
        {
          "output_type": "stream",
          "name": "stdout",
          "text": [
            "Epoch 30 finished\n"
          ]
        },
        {
          "output_type": "stream",
          "name": "stderr",
          "text": [
            "\n",
            "100%|██████████| 2/2 [00:00<00:00,  2.11it/s]"
          ]
        },
        {
          "output_type": "stream",
          "name": "stdout",
          "text": [
            "Epoch 31 finished\n"
          ]
        },
        {
          "output_type": "stream",
          "name": "stderr",
          "text": [
            "\n",
            "100%|██████████| 2/2 [00:00<00:00,  2.11it/s]"
          ]
        },
        {
          "output_type": "stream",
          "name": "stdout",
          "text": [
            "Epoch 32 finished\n"
          ]
        },
        {
          "output_type": "stream",
          "name": "stderr",
          "text": [
            "\n",
            "100%|██████████| 2/2 [00:00<00:00,  2.08it/s]"
          ]
        },
        {
          "output_type": "stream",
          "name": "stdout",
          "text": [
            "Epoch 33 finished\n"
          ]
        },
        {
          "output_type": "stream",
          "name": "stderr",
          "text": [
            "\n",
            "100%|██████████| 2/2 [00:00<00:00,  2.08it/s]"
          ]
        },
        {
          "output_type": "stream",
          "name": "stdout",
          "text": [
            "Epoch 34 finished\n"
          ]
        },
        {
          "output_type": "stream",
          "name": "stderr",
          "text": [
            "\n",
            "  0%|          | 0/2 [00:00<?, ?it/s]"
          ]
        },
        {
          "output_type": "stream",
          "name": "stdout",
          "text": [
            "(Steps: 2400070) train/TotalLoss = 0.2749.\n",
            "(Steps: 2400070) train/mel_loss_ = 0.0628.\n",
            "(Steps: 2400070) train/mel_loss = 0.0482.\n",
            "(Steps: 2400070) train/dur_loss = 0.0424.\n",
            "(Steps: 2400070) train/pitch_loss = 0.0390.\n",
            "(Steps: 2400070) train/energy_loss = 0.0825.\n",
            "(Steps: 2400070) train/batch_size = 3.4000.\n",
            "(Steps: 2400070) train/x_band_width = 2.0400.\n",
            "(Steps: 2400070) train/h_band_width = 2.0400.\n",
            "KanTtsSAMBERT learning rate: 0.000082\n"
          ]
        },
        {
          "output_type": "stream",
          "name": "stderr",
          "text": [
            "100%|██████████| 2/2 [00:01<00:00,  1.73it/s]"
          ]
        },
        {
          "output_type": "stream",
          "name": "stdout",
          "text": [
            "Epoch 35 finished\n"
          ]
        },
        {
          "output_type": "stream",
          "name": "stderr",
          "text": [
            "\n",
            "100%|██████████| 2/2 [00:02<00:00,  1.02s/it]"
          ]
        },
        {
          "output_type": "stream",
          "name": "stdout",
          "text": [
            "Epoch 36 finished\n"
          ]
        },
        {
          "output_type": "stream",
          "name": "stderr",
          "text": [
            "\n",
            "100%|██████████| 2/2 [00:01<00:00,  1.17it/s]"
          ]
        },
        {
          "output_type": "stream",
          "name": "stdout",
          "text": [
            "Epoch 37 finished\n"
          ]
        },
        {
          "output_type": "stream",
          "name": "stderr",
          "text": [
            "\n",
            "100%|██████████| 2/2 [00:02<00:00,  1.03s/it]"
          ]
        },
        {
          "output_type": "stream",
          "name": "stdout",
          "text": [
            "Epoch 38 finished\n"
          ]
        },
        {
          "output_type": "stream",
          "name": "stderr",
          "text": [
            "\n",
            "100%|██████████| 2/2 [00:01<00:00,  1.37it/s]"
          ]
        },
        {
          "output_type": "stream",
          "name": "stdout",
          "text": [
            "Epoch 39 finished\n"
          ]
        },
        {
          "output_type": "stream",
          "name": "stderr",
          "text": [
            "\n",
            "  0%|          | 0/2 [00:00<?, ?it/s]"
          ]
        },
        {
          "output_type": "stream",
          "name": "stdout",
          "text": [
            "(Steps: 2400080) train/TotalLoss = 0.2605.\n",
            "(Steps: 2400080) train/mel_loss_ = 0.0614.\n",
            "(Steps: 2400080) train/mel_loss = 0.0467.\n",
            "(Steps: 2400080) train/dur_loss = 0.0429.\n",
            "(Steps: 2400080) train/pitch_loss = 0.0341.\n",
            "(Steps: 2400080) train/energy_loss = 0.0754.\n",
            "(Steps: 2400080) train/batch_size = 3.4000.\n",
            "(Steps: 2400080) train/x_band_width = 1.8400.\n",
            "(Steps: 2400080) train/h_band_width = 1.8400.\n",
            "KanTtsSAMBERT learning rate: 0.000082\n"
          ]
        },
        {
          "output_type": "stream",
          "name": "stderr",
          "text": [
            "100%|██████████| 2/2 [00:01<00:00,  1.35it/s]"
          ]
        },
        {
          "output_type": "stream",
          "name": "stdout",
          "text": [
            "Epoch 40 finished\n"
          ]
        },
        {
          "output_type": "stream",
          "name": "stderr",
          "text": [
            "\n",
            "100%|██████████| 2/2 [00:01<00:00,  1.40it/s]"
          ]
        },
        {
          "output_type": "stream",
          "name": "stdout",
          "text": [
            "Epoch 41 finished\n"
          ]
        },
        {
          "output_type": "stream",
          "name": "stderr",
          "text": [
            "\n",
            "100%|██████████| 2/2 [00:01<00:00,  1.37it/s]"
          ]
        },
        {
          "output_type": "stream",
          "name": "stdout",
          "text": [
            "Epoch 42 finished\n"
          ]
        },
        {
          "output_type": "stream",
          "name": "stderr",
          "text": [
            "\n",
            "100%|██████████| 2/2 [00:01<00:00,  1.90it/s]"
          ]
        },
        {
          "output_type": "stream",
          "name": "stdout",
          "text": [
            "Epoch 43 finished\n"
          ]
        },
        {
          "output_type": "stream",
          "name": "stderr",
          "text": [
            "\n",
            "100%|██████████| 2/2 [00:00<00:00,  2.10it/s]"
          ]
        },
        {
          "output_type": "stream",
          "name": "stdout",
          "text": [
            "Epoch 44 finished\n"
          ]
        },
        {
          "output_type": "stream",
          "name": "stderr",
          "text": [
            "\n",
            "  0%|          | 0/2 [00:00<?, ?it/s]"
          ]
        },
        {
          "output_type": "stream",
          "name": "stdout",
          "text": [
            "(Steps: 2400090) train/TotalLoss = 0.2580.\n",
            "(Steps: 2400090) train/mel_loss_ = 0.0603.\n",
            "(Steps: 2400090) train/mel_loss = 0.0461.\n",
            "(Steps: 2400090) train/dur_loss = 0.0415.\n",
            "(Steps: 2400090) train/pitch_loss = 0.0313.\n",
            "(Steps: 2400090) train/energy_loss = 0.0787.\n",
            "(Steps: 2400090) train/batch_size = 3.4000.\n",
            "(Steps: 2400090) train/x_band_width = 2.0200.\n",
            "(Steps: 2400090) train/h_band_width = 2.0200.\n",
            "KanTtsSAMBERT learning rate: 0.000082\n"
          ]
        },
        {
          "output_type": "stream",
          "name": "stderr",
          "text": [
            "100%|██████████| 2/2 [00:00<00:00,  2.00it/s]"
          ]
        },
        {
          "output_type": "stream",
          "name": "stdout",
          "text": [
            "Epoch 45 finished\n"
          ]
        },
        {
          "output_type": "stream",
          "name": "stderr",
          "text": [
            "\n",
            "100%|██████████| 2/2 [00:00<00:00,  2.04it/s]"
          ]
        },
        {
          "output_type": "stream",
          "name": "stdout",
          "text": [
            "Epoch 46 finished\n"
          ]
        },
        {
          "output_type": "stream",
          "name": "stderr",
          "text": [
            "\n",
            "100%|██████████| 2/2 [00:00<00:00,  2.06it/s]"
          ]
        },
        {
          "output_type": "stream",
          "name": "stdout",
          "text": [
            "Epoch 47 finished\n"
          ]
        },
        {
          "output_type": "stream",
          "name": "stderr",
          "text": [
            "\n",
            "100%|██████████| 2/2 [00:01<00:00,  1.94it/s]"
          ]
        },
        {
          "output_type": "stream",
          "name": "stdout",
          "text": [
            "Epoch 48 finished\n"
          ]
        },
        {
          "output_type": "stream",
          "name": "stderr",
          "text": [
            "\n",
            "100%|██████████| 2/2 [00:00<00:00,  2.08it/s]"
          ]
        },
        {
          "output_type": "stream",
          "name": "stdout",
          "text": [
            "Epoch 49 finished\n"
          ]
        },
        {
          "output_type": "stream",
          "name": "stderr",
          "text": [
            "\n",
            "  0%|          | 0/2 [00:00<?, ?it/s]"
          ]
        },
        {
          "output_type": "stream",
          "name": "stdout",
          "text": [
            "(Steps: 2400100) train/TotalLoss = 0.2742.\n",
            "(Steps: 2400100) train/mel_loss_ = 0.0598.\n",
            "(Steps: 2400100) train/mel_loss = 0.0449.\n",
            "(Steps: 2400100) train/dur_loss = 0.0386.\n",
            "(Steps: 2400100) train/pitch_loss = 0.0396.\n",
            "(Steps: 2400100) train/energy_loss = 0.0914.\n",
            "(Steps: 2400100) train/batch_size = 3.4000.\n",
            "(Steps: 2400100) train/x_band_width = 2.0200.\n",
            "(Steps: 2400100) train/h_band_width = 2.0200.\n",
            "KanTtsSAMBERT learning rate: 0.000082\n"
          ]
        },
        {
          "output_type": "stream",
          "name": "stderr",
          "text": [
            "100%|██████████| 2/2 [00:01<00:00,  1.88it/s]"
          ]
        },
        {
          "output_type": "stream",
          "name": "stdout",
          "text": [
            "Epoch 50 finished\n"
          ]
        },
        {
          "output_type": "stream",
          "name": "stderr",
          "text": [
            "\n",
            "100%|██████████| 2/2 [00:01<00:00,  1.79it/s]"
          ]
        },
        {
          "output_type": "stream",
          "name": "stdout",
          "text": [
            "Epoch 51 finished\n"
          ]
        },
        {
          "output_type": "stream",
          "name": "stderr",
          "text": [
            "\n",
            "100%|██████████| 2/2 [00:01<00:00,  1.60it/s]"
          ]
        },
        {
          "output_type": "stream",
          "name": "stdout",
          "text": [
            "Epoch 52 finished\n"
          ]
        },
        {
          "output_type": "stream",
          "name": "stderr",
          "text": [
            "\n",
            "100%|██████████| 2/2 [00:01<00:00,  1.35it/s]"
          ]
        },
        {
          "output_type": "stream",
          "name": "stdout",
          "text": [
            "Epoch 53 finished\n"
          ]
        },
        {
          "output_type": "stream",
          "name": "stderr",
          "text": [
            "\n",
            "100%|██████████| 2/2 [00:01<00:00,  1.38it/s]"
          ]
        },
        {
          "output_type": "stream",
          "name": "stdout",
          "text": [
            "Epoch 54 finished\n"
          ]
        },
        {
          "output_type": "stream",
          "name": "stderr",
          "text": [
            "\n",
            "  0%|          | 0/2 [00:00<?, ?it/s]"
          ]
        },
        {
          "output_type": "stream",
          "name": "stdout",
          "text": [
            "(Steps: 2400110) train/TotalLoss = 0.2487.\n",
            "(Steps: 2400110) train/mel_loss_ = 0.0590.\n",
            "(Steps: 2400110) train/mel_loss = 0.0444.\n",
            "(Steps: 2400110) train/dur_loss = 0.0388.\n",
            "(Steps: 2400110) train/pitch_loss = 0.0321.\n",
            "(Steps: 2400110) train/energy_loss = 0.0744.\n",
            "(Steps: 2400110) train/batch_size = 3.4000.\n",
            "(Steps: 2400110) train/x_band_width = 2.0600.\n",
            "(Steps: 2400110) train/h_band_width = 2.0600.\n",
            "KanTtsSAMBERT learning rate: 0.000082\n"
          ]
        },
        {
          "output_type": "stream",
          "name": "stderr",
          "text": [
            "100%|██████████| 2/2 [00:01<00:00,  1.32it/s]"
          ]
        },
        {
          "output_type": "stream",
          "name": "stdout",
          "text": [
            "Epoch 55 finished\n"
          ]
        },
        {
          "output_type": "stream",
          "name": "stderr",
          "text": [
            "\n",
            "100%|██████████| 2/2 [00:01<00:00,  1.36it/s]"
          ]
        },
        {
          "output_type": "stream",
          "name": "stdout",
          "text": [
            "Epoch 56 finished\n"
          ]
        },
        {
          "output_type": "stream",
          "name": "stderr",
          "text": [
            "\n",
            "100%|██████████| 2/2 [00:01<00:00,  1.38it/s]"
          ]
        },
        {
          "output_type": "stream",
          "name": "stdout",
          "text": [
            "Epoch 57 finished\n"
          ]
        },
        {
          "output_type": "stream",
          "name": "stderr",
          "text": [
            "\n",
            "100%|██████████| 2/2 [00:01<00:00,  1.42it/s]"
          ]
        },
        {
          "output_type": "stream",
          "name": "stdout",
          "text": [
            "Epoch 58 finished\n"
          ]
        },
        {
          "output_type": "stream",
          "name": "stderr",
          "text": [
            "\n",
            "100%|██████████| 2/2 [00:01<00:00,  1.99it/s]"
          ]
        },
        {
          "output_type": "stream",
          "name": "stdout",
          "text": [
            "Epoch 59 finished\n"
          ]
        },
        {
          "output_type": "stream",
          "name": "stderr",
          "text": [
            "\n",
            "  0%|          | 0/2 [00:00<?, ?it/s]"
          ]
        },
        {
          "output_type": "stream",
          "name": "stdout",
          "text": [
            "(Steps: 2400120) train/TotalLoss = 0.2410.\n",
            "(Steps: 2400120) train/mel_loss_ = 0.0594.\n",
            "(Steps: 2400120) train/mel_loss = 0.0448.\n",
            "(Steps: 2400120) train/dur_loss = 0.0367.\n",
            "(Steps: 2400120) train/pitch_loss = 0.0309.\n",
            "(Steps: 2400120) train/energy_loss = 0.0693.\n",
            "(Steps: 2400120) train/batch_size = 3.4000.\n",
            "(Steps: 2400120) train/x_band_width = 1.9200.\n",
            "(Steps: 2400120) train/h_band_width = 1.9200.\n",
            "KanTtsSAMBERT learning rate: 0.000082\n"
          ]
        },
        {
          "output_type": "stream",
          "name": "stderr",
          "text": [
            "100%|██████████| 2/2 [00:01<00:00,  1.96it/s]"
          ]
        },
        {
          "output_type": "stream",
          "name": "stdout",
          "text": [
            "Epoch 60 finished\n"
          ]
        },
        {
          "output_type": "stream",
          "name": "stderr",
          "text": [
            "\n",
            "100%|██████████| 2/2 [00:00<00:00,  2.05it/s]"
          ]
        },
        {
          "output_type": "stream",
          "name": "stdout",
          "text": [
            "Epoch 61 finished\n"
          ]
        },
        {
          "output_type": "stream",
          "name": "stderr",
          "text": [
            "\n",
            "100%|██████████| 2/2 [00:00<00:00,  2.05it/s]"
          ]
        },
        {
          "output_type": "stream",
          "name": "stdout",
          "text": [
            "Epoch 62 finished\n"
          ]
        },
        {
          "output_type": "stream",
          "name": "stderr",
          "text": [
            "\n",
            "100%|██████████| 2/2 [00:01<00:00,  1.47it/s]"
          ]
        },
        {
          "output_type": "stream",
          "name": "stdout",
          "text": [
            "Epoch 63 finished\n"
          ]
        },
        {
          "output_type": "stream",
          "name": "stderr",
          "text": [
            "\n",
            "100%|██████████| 2/2 [00:01<00:00,  1.99it/s]"
          ]
        },
        {
          "output_type": "stream",
          "name": "stdout",
          "text": [
            "Epoch 64 finished\n"
          ]
        },
        {
          "output_type": "stream",
          "name": "stderr",
          "text": [
            "\n",
            "  0%|          | 0/2 [00:00<?, ?it/s]"
          ]
        },
        {
          "output_type": "stream",
          "name": "stdout",
          "text": [
            "(Steps: 2400130) train/TotalLoss = 0.2472.\n",
            "(Steps: 2400130) train/mel_loss_ = 0.0593.\n",
            "(Steps: 2400130) train/mel_loss = 0.0449.\n",
            "(Steps: 2400130) train/dur_loss = 0.0352.\n",
            "(Steps: 2400130) train/pitch_loss = 0.0318.\n",
            "(Steps: 2400130) train/energy_loss = 0.0760.\n",
            "(Steps: 2400130) train/batch_size = 3.4000.\n",
            "(Steps: 2400130) train/x_band_width = 2.0800.\n",
            "(Steps: 2400130) train/h_band_width = 2.0800.\n",
            "KanTtsSAMBERT learning rate: 0.000082\n"
          ]
        },
        {
          "output_type": "stream",
          "name": "stderr",
          "text": [
            "100%|██████████| 2/2 [00:00<00:00,  2.02it/s]"
          ]
        },
        {
          "output_type": "stream",
          "name": "stdout",
          "text": [
            "Epoch 65 finished\n"
          ]
        },
        {
          "output_type": "stream",
          "name": "stderr",
          "text": [
            "\n",
            "100%|██████████| 2/2 [00:00<00:00,  2.09it/s]"
          ]
        },
        {
          "output_type": "stream",
          "name": "stdout",
          "text": [
            "Epoch 66 finished\n"
          ]
        },
        {
          "output_type": "stream",
          "name": "stderr",
          "text": [
            "\n",
            "100%|██████████| 2/2 [00:00<00:00,  2.08it/s]"
          ]
        },
        {
          "output_type": "stream",
          "name": "stdout",
          "text": [
            "Epoch 67 finished\n"
          ]
        },
        {
          "output_type": "stream",
          "name": "stderr",
          "text": [
            "\n",
            "100%|██████████| 2/2 [00:01<00:00,  1.08it/s]"
          ]
        },
        {
          "output_type": "stream",
          "name": "stdout",
          "text": [
            "Epoch 68 finished\n"
          ]
        },
        {
          "output_type": "stream",
          "name": "stderr",
          "text": [
            "\n",
            "100%|██████████| 2/2 [00:01<00:00,  1.42it/s]"
          ]
        },
        {
          "output_type": "stream",
          "name": "stdout",
          "text": [
            "Epoch 69 finished\n"
          ]
        },
        {
          "output_type": "stream",
          "name": "stderr",
          "text": [
            "\n",
            "  0%|          | 0/2 [00:00<?, ?it/s]"
          ]
        },
        {
          "output_type": "stream",
          "name": "stdout",
          "text": [
            "(Steps: 2400140) train/TotalLoss = 0.2444.\n",
            "(Steps: 2400140) train/mel_loss_ = 0.0586.\n",
            "(Steps: 2400140) train/mel_loss = 0.0441.\n",
            "(Steps: 2400140) train/dur_loss = 0.0342.\n",
            "(Steps: 2400140) train/pitch_loss = 0.0337.\n",
            "(Steps: 2400140) train/energy_loss = 0.0738.\n",
            "(Steps: 2400140) train/batch_size = 3.4000.\n",
            "(Steps: 2400140) train/x_band_width = 2.0200.\n",
            "(Steps: 2400140) train/h_band_width = 2.0200.\n",
            "KanTtsSAMBERT learning rate: 0.000082\n"
          ]
        },
        {
          "output_type": "stream",
          "name": "stderr",
          "text": [
            "100%|██████████| 2/2 [00:02<00:00,  1.07s/it]"
          ]
        },
        {
          "output_type": "stream",
          "name": "stdout",
          "text": [
            "Epoch 70 finished\n"
          ]
        },
        {
          "output_type": "stream",
          "name": "stderr",
          "text": [
            "\n",
            "100%|██████████| 2/2 [00:01<00:00,  1.34it/s]"
          ]
        },
        {
          "output_type": "stream",
          "name": "stdout",
          "text": [
            "Epoch 71 finished\n"
          ]
        },
        {
          "output_type": "stream",
          "name": "stderr",
          "text": [
            "\n",
            "100%|██████████| 2/2 [00:01<00:00,  1.36it/s]"
          ]
        },
        {
          "output_type": "stream",
          "name": "stdout",
          "text": [
            "Epoch 72 finished\n"
          ]
        },
        {
          "output_type": "stream",
          "name": "stderr",
          "text": [
            "\n",
            "100%|██████████| 2/2 [00:01<00:00,  1.69it/s]"
          ]
        },
        {
          "output_type": "stream",
          "name": "stdout",
          "text": [
            "Epoch 73 finished\n"
          ]
        },
        {
          "output_type": "stream",
          "name": "stderr",
          "text": [
            "\n",
            "100%|██████████| 2/2 [00:00<00:00,  2.06it/s]"
          ]
        },
        {
          "output_type": "stream",
          "name": "stdout",
          "text": [
            "Epoch 74 finished\n"
          ]
        },
        {
          "output_type": "stream",
          "name": "stderr",
          "text": [
            "\n",
            "  0%|          | 0/2 [00:00<?, ?it/s]"
          ]
        },
        {
          "output_type": "stream",
          "name": "stdout",
          "text": [
            "(Steps: 2400150) train/TotalLoss = 0.2370.\n",
            "(Steps: 2400150) train/mel_loss_ = 0.0583.\n",
            "(Steps: 2400150) train/mel_loss = 0.0439.\n",
            "(Steps: 2400150) train/dur_loss = 0.0327.\n",
            "(Steps: 2400150) train/pitch_loss = 0.0308.\n",
            "(Steps: 2400150) train/energy_loss = 0.0713.\n",
            "(Steps: 2400150) train/batch_size = 3.4000.\n",
            "(Steps: 2400150) train/x_band_width = 1.8600.\n",
            "(Steps: 2400150) train/h_band_width = 1.8600.\n",
            "KanTtsSAMBERT learning rate: 0.000082\n"
          ]
        },
        {
          "output_type": "stream",
          "name": "stderr",
          "text": [
            "100%|██████████| 2/2 [00:01<00:00,  1.99it/s]"
          ]
        },
        {
          "output_type": "stream",
          "name": "stdout",
          "text": [
            "Epoch 75 finished\n"
          ]
        },
        {
          "output_type": "stream",
          "name": "stderr",
          "text": [
            "\n",
            "100%|██████████| 2/2 [00:00<00:00,  2.04it/s]"
          ]
        },
        {
          "output_type": "stream",
          "name": "stdout",
          "text": [
            "Epoch 76 finished\n"
          ]
        },
        {
          "output_type": "stream",
          "name": "stderr",
          "text": [
            "\n",
            "100%|██████████| 2/2 [00:00<00:00,  2.07it/s]"
          ]
        },
        {
          "output_type": "stream",
          "name": "stdout",
          "text": [
            "Epoch 77 finished\n"
          ]
        },
        {
          "output_type": "stream",
          "name": "stderr",
          "text": [
            "\n",
            "100%|██████████| 2/2 [00:00<00:00,  2.03it/s]"
          ]
        },
        {
          "output_type": "stream",
          "name": "stdout",
          "text": [
            "Epoch 78 finished\n"
          ]
        },
        {
          "output_type": "stream",
          "name": "stderr",
          "text": [
            "\n",
            "100%|██████████| 2/2 [00:01<00:00,  1.23it/s]"
          ]
        },
        {
          "output_type": "stream",
          "name": "stdout",
          "text": [
            "Epoch 79 finished\n"
          ]
        },
        {
          "output_type": "stream",
          "name": "stderr",
          "text": [
            "\n",
            "  0%|          | 0/2 [00:00<?, ?it/s]"
          ]
        },
        {
          "output_type": "stream",
          "name": "stdout",
          "text": [
            "(Steps: 2400160) train/TotalLoss = 0.2398.\n",
            "(Steps: 2400160) train/mel_loss_ = 0.0587.\n",
            "(Steps: 2400160) train/mel_loss = 0.0437.\n",
            "(Steps: 2400160) train/dur_loss = 0.0314.\n",
            "(Steps: 2400160) train/pitch_loss = 0.0308.\n",
            "(Steps: 2400160) train/energy_loss = 0.0752.\n",
            "(Steps: 2400160) train/batch_size = 3.4000.\n",
            "(Steps: 2400160) train/x_band_width = 1.9200.\n",
            "(Steps: 2400160) train/h_band_width = 1.9200.\n",
            "KanTtsSAMBERT learning rate: 0.000082\n"
          ]
        },
        {
          "output_type": "stream",
          "name": "stderr",
          "text": [
            "100%|██████████| 2/2 [00:01<00:00,  1.92it/s]"
          ]
        },
        {
          "output_type": "stream",
          "name": "stdout",
          "text": [
            "Epoch 80 finished\n"
          ]
        },
        {
          "output_type": "stream",
          "name": "stderr",
          "text": [
            "\n",
            "100%|██████████| 2/2 [00:00<00:00,  2.07it/s]"
          ]
        },
        {
          "output_type": "stream",
          "name": "stdout",
          "text": [
            "Epoch 81 finished\n"
          ]
        },
        {
          "output_type": "stream",
          "name": "stderr",
          "text": [
            "\n",
            "100%|██████████| 2/2 [00:01<00:00,  1.85it/s]"
          ]
        },
        {
          "output_type": "stream",
          "name": "stdout",
          "text": [
            "Epoch 82 finished\n"
          ]
        },
        {
          "output_type": "stream",
          "name": "stderr",
          "text": [
            "\n",
            "100%|██████████| 2/2 [00:01<00:00,  1.35it/s]"
          ]
        },
        {
          "output_type": "stream",
          "name": "stdout",
          "text": [
            "Epoch 83 finished\n"
          ]
        },
        {
          "output_type": "stream",
          "name": "stderr",
          "text": [
            "\n",
            "100%|██████████| 2/2 [00:01<00:00,  1.38it/s]"
          ]
        },
        {
          "output_type": "stream",
          "name": "stdout",
          "text": [
            "Epoch 84 finished\n"
          ]
        },
        {
          "output_type": "stream",
          "name": "stderr",
          "text": [
            "\n",
            "  0%|          | 0/2 [00:00<?, ?it/s]"
          ]
        },
        {
          "output_type": "stream",
          "name": "stdout",
          "text": [
            "(Steps: 2400170) train/TotalLoss = 0.2555.\n",
            "(Steps: 2400170) train/mel_loss_ = 0.0583.\n",
            "(Steps: 2400170) train/mel_loss = 0.0433.\n",
            "(Steps: 2400170) train/dur_loss = 0.0329.\n",
            "(Steps: 2400170) train/pitch_loss = 0.0370.\n",
            "(Steps: 2400170) train/energy_loss = 0.0841.\n",
            "(Steps: 2400170) train/batch_size = 3.4000.\n",
            "(Steps: 2400170) train/x_band_width = 1.9600.\n",
            "(Steps: 2400170) train/h_band_width = 1.9600.\n",
            "KanTtsSAMBERT learning rate: 0.000082\n"
          ]
        },
        {
          "output_type": "stream",
          "name": "stderr",
          "text": [
            "100%|██████████| 2/2 [00:01<00:00,  1.36it/s]"
          ]
        },
        {
          "output_type": "stream",
          "name": "stdout",
          "text": [
            "Epoch 85 finished\n"
          ]
        },
        {
          "output_type": "stream",
          "name": "stderr",
          "text": [
            "\n",
            "100%|██████████| 2/2 [00:01<00:00,  1.37it/s]"
          ]
        },
        {
          "output_type": "stream",
          "name": "stdout",
          "text": [
            "Epoch 86 finished\n"
          ]
        },
        {
          "output_type": "stream",
          "name": "stderr",
          "text": [
            "\n",
            "100%|██████████| 2/2 [00:01<00:00,  1.41it/s]"
          ]
        },
        {
          "output_type": "stream",
          "name": "stdout",
          "text": [
            "Epoch 87 finished\n"
          ]
        },
        {
          "output_type": "stream",
          "name": "stderr",
          "text": [
            "\n",
            "100%|██████████| 2/2 [00:01<00:00,  1.54it/s]"
          ]
        },
        {
          "output_type": "stream",
          "name": "stdout",
          "text": [
            "Epoch 88 finished\n"
          ]
        },
        {
          "output_type": "stream",
          "name": "stderr",
          "text": [
            "\n",
            "100%|██████████| 2/2 [00:00<00:00,  2.06it/s]"
          ]
        },
        {
          "output_type": "stream",
          "name": "stdout",
          "text": [
            "Epoch 89 finished\n"
          ]
        },
        {
          "output_type": "stream",
          "name": "stderr",
          "text": [
            "\n",
            "  0%|          | 0/2 [00:00<?, ?it/s]"
          ]
        },
        {
          "output_type": "stream",
          "name": "stdout",
          "text": [
            "(Steps: 2400180) train/TotalLoss = 0.2425.\n",
            "(Steps: 2400180) train/mel_loss_ = 0.0568.\n",
            "(Steps: 2400180) train/mel_loss = 0.0423.\n",
            "(Steps: 2400180) train/dur_loss = 0.0351.\n",
            "(Steps: 2400180) train/pitch_loss = 0.0290.\n",
            "(Steps: 2400180) train/energy_loss = 0.0793.\n",
            "(Steps: 2400180) train/batch_size = 3.4000.\n",
            "(Steps: 2400180) train/x_band_width = 2.0400.\n",
            "(Steps: 2400180) train/h_band_width = 2.0400.\n",
            "KanTtsSAMBERT learning rate: 0.000082\n"
          ]
        },
        {
          "output_type": "stream",
          "name": "stderr",
          "text": [
            "100%|██████████| 2/2 [00:01<00:00,  1.40it/s]"
          ]
        },
        {
          "output_type": "stream",
          "name": "stdout",
          "text": [
            "Epoch 90 finished\n"
          ]
        },
        {
          "output_type": "stream",
          "name": "stderr",
          "text": [
            "\n",
            "100%|██████████| 2/2 [00:00<00:00,  2.07it/s]"
          ]
        },
        {
          "output_type": "stream",
          "name": "stdout",
          "text": [
            "Epoch 91 finished\n"
          ]
        },
        {
          "output_type": "stream",
          "name": "stderr",
          "text": [
            "\n",
            "100%|██████████| 2/2 [00:00<00:00,  2.10it/s]"
          ]
        },
        {
          "output_type": "stream",
          "name": "stdout",
          "text": [
            "Epoch 92 finished\n"
          ]
        },
        {
          "output_type": "stream",
          "name": "stderr",
          "text": [
            "\n",
            "100%|██████████| 2/2 [00:00<00:00,  2.05it/s]"
          ]
        },
        {
          "output_type": "stream",
          "name": "stdout",
          "text": [
            "Epoch 93 finished\n"
          ]
        },
        {
          "output_type": "stream",
          "name": "stderr",
          "text": [
            "\n",
            "100%|██████████| 2/2 [00:00<00:00,  2.07it/s]"
          ]
        },
        {
          "output_type": "stream",
          "name": "stdout",
          "text": [
            "Epoch 94 finished\n"
          ]
        },
        {
          "output_type": "stream",
          "name": "stderr",
          "text": [
            "\n",
            "  0%|          | 0/2 [00:00<?, ?it/s]"
          ]
        },
        {
          "output_type": "stream",
          "name": "stdout",
          "text": [
            "(Steps: 2400190) train/TotalLoss = 0.2319.\n",
            "(Steps: 2400190) train/mel_loss_ = 0.0564.\n",
            "(Steps: 2400190) train/mel_loss = 0.0422.\n",
            "(Steps: 2400190) train/dur_loss = 0.0304.\n",
            "(Steps: 2400190) train/pitch_loss = 0.0300.\n",
            "(Steps: 2400190) train/energy_loss = 0.0730.\n",
            "(Steps: 2400190) train/batch_size = 3.4000.\n",
            "(Steps: 2400190) train/x_band_width = 2.0200.\n",
            "(Steps: 2400190) train/h_band_width = 2.0200.\n",
            "KanTtsSAMBERT learning rate: 0.000082\n"
          ]
        },
        {
          "output_type": "stream",
          "name": "stderr",
          "text": [
            "100%|██████████| 2/2 [00:01<00:00,  2.00it/s]"
          ]
        },
        {
          "output_type": "stream",
          "name": "stdout",
          "text": [
            "Epoch 95 finished\n"
          ]
        },
        {
          "output_type": "stream",
          "name": "stderr",
          "text": [
            "\n",
            "100%|██████████| 2/2 [00:00<00:00,  2.06it/s]"
          ]
        },
        {
          "output_type": "stream",
          "name": "stdout",
          "text": [
            "Epoch 96 finished\n"
          ]
        },
        {
          "output_type": "stream",
          "name": "stderr",
          "text": [
            "\n",
            "100%|██████████| 2/2 [00:00<00:00,  2.02it/s]"
          ]
        },
        {
          "output_type": "stream",
          "name": "stdout",
          "text": [
            "Epoch 97 finished\n"
          ]
        },
        {
          "output_type": "stream",
          "name": "stderr",
          "text": [
            "\n",
            "100%|██████████| 2/2 [00:01<00:00,  1.62it/s]"
          ]
        },
        {
          "output_type": "stream",
          "name": "stdout",
          "text": [
            "Epoch 98 finished\n"
          ]
        },
        {
          "output_type": "stream",
          "name": "stderr",
          "text": [
            "\n",
            "100%|██████████| 2/2 [00:01<00:00,  1.34it/s]"
          ]
        },
        {
          "output_type": "stream",
          "name": "stdout",
          "text": [
            "Epoch 99 finished\n"
          ]
        },
        {
          "output_type": "stream",
          "name": "stderr",
          "text": [
            "\n",
            "  0%|          | 0/2 [00:00<?, ?it/s]"
          ]
        },
        {
          "output_type": "stream",
          "name": "stdout",
          "text": [
            "Checkpoint saved at step 2400200\n",
            "(Steps: 2400200) train/TotalLoss = 0.2352.\n",
            "(Steps: 2400200) train/mel_loss_ = 0.0554.\n",
            "(Steps: 2400200) train/mel_loss = 0.0419.\n",
            "(Steps: 2400200) train/dur_loss = 0.0317.\n",
            "(Steps: 2400200) train/pitch_loss = 0.0276.\n",
            "(Steps: 2400200) train/energy_loss = 0.0787.\n",
            "(Steps: 2400200) train/batch_size = 3.4000.\n",
            "(Steps: 2400200) train/x_band_width = 1.7400.\n",
            "(Steps: 2400200) train/h_band_width = 1.7400.\n",
            "KanTtsSAMBERT learning rate: 0.000082\n"
          ]
        },
        {
          "output_type": "stream",
          "name": "stderr",
          "text": [
            " 50%|█████     | 1/2 [00:02<00:02,  2.13s/it]"
          ]
        },
        {
          "output_type": "stream",
          "name": "stdout",
          "text": [
            "Epoch 100 finished\n"
          ]
        },
        {
          "output_type": "stream",
          "name": "stderr",
          "text": [
            "\n",
            "2023-07-19 15:42:55,106 - modelscope - INFO - SAMBERT training spent: 0.04 hours\n",
            "\n",
            "2023-07-19 15:42:55,112 - modelscope - INFO - skip HIFIGAN training...\n"
          ]
        }
      ]
    },
    {
      "cell_type": "markdown",
      "source": [
        "## 推理 Inference （可编辑中文文本内容）"
      ],
      "metadata": {
        "id": "l2rLYGwIcJ5U"
      }
    },
    {
      "cell_type": "code",
      "source": [
        "import os\n",
        "from modelscope.models.audio.tts import SambertHifigan\n",
        "from modelscope.pipelines import pipeline\n",
        "from modelscope.utils.constant import Tasks\n",
        "\n",
        "model_dir = os.path.abspath(\"./pretrain_work_dir\")\n",
        "\n",
        "custom_infer_abs = {\n",
        "    'voice_name':\n",
        "    'F7',\n",
        "    'am_ckpt':\n",
        "    os.path.join(model_dir, 'tmp_am', 'ckpt'),\n",
        "    'am_config':\n",
        "    os.path.join(model_dir, 'tmp_am', 'config.yaml'),\n",
        "    'voc_ckpt':\n",
        "    os.path.join(model_dir, 'orig_model', 'basemodel_16k', 'hifigan', 'ckpt'),\n",
        "    'voc_config':\n",
        "    os.path.join(model_dir, 'orig_model', 'basemodel_16k', 'hifigan',\n",
        "             'config.yaml'),\n",
        "    'audio_config':\n",
        "    os.path.join(model_dir, 'data', 'audio_config.yaml'),\n",
        "    'se_file':\n",
        "    os.path.join(model_dir, 'data', 'se', 'se.npy')\n",
        "}\n",
        "kwargs = {'custom_ckpt': custom_infer_abs}\n",
        "\n",
        "model_id = SambertHifigan(os.path.join(model_dir, \"orig_model\"), **kwargs)\n",
        "\n",
        "inference = pipeline(task=Tasks.text_to_speech, model=model_id)\n",
        "output = inference(input=\"大家好呀，欢迎使用滔滔智能的声音克隆产品！\") # 在这里编辑想要输出的文本\n",
        "\n",
        "import IPython.display as ipd\n",
        "ipd.Audio(output[\"output_wav\"], rate=44100)\n"
      ],
      "metadata": {
        "id": "hBVxPrEpbgB-",
        "colab": {
          "base_uri": "https://localhost:8080/",
          "height": 290
        },
        "outputId": "91248ffc-3e90-4f5a-8301-58bd4103e0ba"
      },
      "execution_count": null,
      "outputs": [
        {
          "output_type": "stream",
          "name": "stderr",
          "text": [
            "2023-07-19 15:42:55,133 - modelscope - INFO - am_config=/content/pretrain_work_dir/tmp_am/config.yaml voc_config=/content/pretrain_work_dir/orig_model/basemodel_16k/hifigan/config.yaml\n",
            "2023-07-19 15:42:55,139 - modelscope - INFO - audio_config=/content/pretrain_work_dir/data/audio_config.yaml\n",
            "2023-07-19 15:42:55,141 - modelscope - INFO - am_ckpts=OrderedDict([(2400000, '/content/pretrain_work_dir/tmp_am/ckpt/checkpoint_2400000.pth'), (2400200, '/content/pretrain_work_dir/tmp_am/ckpt/checkpoint_2400200.pth')])\n",
            "2023-07-19 15:42:55,143 - modelscope - INFO - voc_ckpts=OrderedDict([(2400000, '/content/pretrain_work_dir/orig_model/basemodel_16k/hifigan/ckpt/checkpoint_2400000.pth')])\n",
            "2023-07-19 15:42:55,148 - modelscope - INFO - se_path=/content/pretrain_work_dir/data/se/se.npy se_model_path=/content/pretrain_work_dir/orig_model/se.onnx\n",
            "2023-07-19 15:42:55,149 - modelscope - INFO - mvn_path=/content/pretrain_work_dir/orig_model/mvn.npy\n",
            "2023-07-19 15:43:02,729 - modelscope - WARNING - No preprocessor field found in cfg.\n",
            "2023-07-19 15:43:02,731 - modelscope - WARNING - No val key and type key found in preprocessor domain of configuration.json file.\n",
            "2023-07-19 15:43:02,734 - modelscope - WARNING - Cannot find available config to build preprocessor at mode inference, current config: {'model_dir': '/content/pretrain_work_dir/orig_model'}. trying to build by task and model information.\n",
            "2023-07-19 15:43:02,737 - modelscope - WARNING - No preprocessor key ('sambert-hifigan', 'text-to-speech') found in PREPROCESSOR_MAP, skip building preprocessor.\n"
          ]
        },
        {
          "output_type": "stream",
          "name": "stdout",
          "text": [
            "Removing weight norm...\n"
          ]
        },
        {
          "output_type": "execute_result",
          "data": {
            "text/plain": [
              "<IPython.lib.display.Audio object>"
            ],
            "text/html": [
              "\n",
              "                <audio  controls=\"controls\" >\n",
              "                    <source src=\"data:audio/wav;base64,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\" type=\"audio/wav\" />\n",
              "                    Your browser does not support the audio element.\n",
              "                </audio>\n",
              "              "
            ]
          },
          "metadata": {},
          "execution_count": 12
        }
      ]
    },
    {
      "cell_type": "markdown",
      "source": [
        "## 打包训练好的模型，可下载到本地"
      ],
      "metadata": {
        "id": "rEdzf5eTLE9f"
      }
    },
    {
      "cell_type": "code",
      "source": [
        "!zip -r /content/model.zip ./pretrain_work_dir"
      ],
      "metadata": {
        "id": "vGnr0aezIQOc",
        "colab": {
          "base_uri": "https://localhost:8080/"
        },
        "outputId": "70aa2032-a6ef-4675-fe77-94e79ec65515"
      },
      "execution_count": null,
      "outputs": [
        {
          "output_type": "stream",
          "name": "stdout",
          "text": [
            "  adding: pretrain_work_dir/ (stored 0%)\n",
            "  adding: pretrain_work_dir/tmp_voc/ (stored 0%)\n",
            "  adding: pretrain_work_dir/tmp_am/ (stored 0%)\n",
            "  adding: pretrain_work_dir/tmp_am/config.yaml (deflated 61%)\n",
            "  adding: pretrain_work_dir/tmp_am/ckpt/ (stored 0%)\n",
            "  adding: pretrain_work_dir/tmp_am/ckpt/checkpoint_2400000.pth (deflated 10%)\n",
            "  adding: pretrain_work_dir/tmp_am/ckpt/checkpoint_2401000.pth (deflated 10%)\n",
            "  adding: pretrain_work_dir/tmp_am/log/ (stored 0%)\n",
            "  adding: pretrain_work_dir/tmp_am/log/events.out.tfevents.1688843636.977810d1baf5 (deflated 74%)\n",
            "  adding: pretrain_work_dir/data/ (stored 0%)\n",
            "  adding: pretrain_work_dir/data/frame_uv/ (stored 0%)\n",
            "  adding: pretrain_work_dir/data/frame_uv/test_0_15.npy (deflated 83%)\n",
            "  adding: pretrain_work_dir/data/frame_uv/test_0_0.npy (deflated 83%)\n",
            "  adding: pretrain_work_dir/data/frame_uv/test_0_21.npy (deflated 91%)\n",
            "  adding: pretrain_work_dir/data/frame_uv/test_0_10.npy (deflated 90%)\n",
            "  adding: pretrain_work_dir/data/frame_uv/test_0_28.npy (deflated 84%)\n",
            "  adding: pretrain_work_dir/data/frame_uv/test_0_8.npy (deflated 83%)\n",
            "  adding: pretrain_work_dir/data/frame_uv/test_0_19.npy (deflated 85%)\n",
            "  adding: pretrain_work_dir/data/frame_uv/test_0_22.npy (deflated 86%)\n",
            "  adding: pretrain_work_dir/data/frame_uv/test_0_9.npy (deflated 90%)\n",
            "  adding: pretrain_work_dir/data/frame_uv/test_0_20.npy (deflated 83%)\n",
            "  adding: pretrain_work_dir/data/frame_uv/test_0_1.npy (deflated 88%)\n",
            "  adding: pretrain_work_dir/data/frame_uv/test_0_25.npy (deflated 87%)\n",
            "  adding: pretrain_work_dir/data/frame_uv/test_0_29.npy (deflated 89%)\n",
            "  adding: pretrain_work_dir/data/frame_uv/test_0_16.npy (deflated 90%)\n",
            "  adding: pretrain_work_dir/data/frame_uv/test_0_33.npy (deflated 82%)\n",
            "  adding: pretrain_work_dir/data/frame_uv/test_0_14.npy (deflated 88%)\n",
            "  adding: pretrain_work_dir/data/frame_uv/test_0_2.npy (deflated 86%)\n",
            "  adding: pretrain_work_dir/data/frame_uv/test_0_4.npy (deflated 81%)\n",
            "  adding: pretrain_work_dir/data/frame_uv/test_0_31.npy (deflated 84%)\n",
            "  adding: pretrain_work_dir/data/frame_uv/test_0_32.npy (deflated 89%)\n",
            "  adding: pretrain_work_dir/data/frame_uv/test_0_13.npy (deflated 78%)\n",
            "  adding: pretrain_work_dir/data/frame_uv/test_0_18.npy (deflated 82%)\n",
            "  adding: pretrain_work_dir/data/frame_uv/test_0_23.npy (deflated 89%)\n",
            "  adding: pretrain_work_dir/data/frame_uv/test_0_12.npy (deflated 86%)\n",
            "  adding: pretrain_work_dir/data/frame_uv/test_0_6.npy (deflated 85%)\n",
            "  adding: pretrain_work_dir/data/frame_uv/test_0_11.npy (deflated 77%)\n",
            "  adding: pretrain_work_dir/data/frame_uv/test_0_7.npy (deflated 88%)\n",
            "  adding: pretrain_work_dir/data/frame_uv/test_0_17.npy (deflated 90%)\n",
            "  adding: pretrain_work_dir/data/frame_uv/test_0_27.npy (deflated 85%)\n",
            "  adding: pretrain_work_dir/data/frame_uv/test_0_5.npy (deflated 85%)\n",
            "  adding: pretrain_work_dir/data/frame_uv/test_0_26.npy (deflated 83%)\n",
            "  adding: pretrain_work_dir/data/frame_uv/test_0_3.npy (deflated 86%)\n",
            "  adding: pretrain_work_dir/data/frame_uv/test_0_24.npy (deflated 82%)\n",
            "  adding: pretrain_work_dir/data/energy/ (stored 0%)\n",
            "  adding: pretrain_work_dir/data/energy/test_0_15.npy (deflated 29%)\n",
            "  adding: pretrain_work_dir/data/energy/test_0_0.npy (deflated 37%)\n",
            "  adding: pretrain_work_dir/data/energy/test_0_21.npy (deflated 27%)\n",
            "  adding: pretrain_work_dir/data/energy/test_0_10.npy (deflated 25%)\n",
            "  adding: pretrain_work_dir/data/energy/test_0_28.npy (deflated 30%)\n",
            "  adding: pretrain_work_dir/data/energy/test_0_8.npy (deflated 32%)\n",
            "  adding: pretrain_work_dir/data/energy/test_0_19.npy (deflated 29%)\n",
            "  adding: pretrain_work_dir/data/energy/test_0_22.npy (deflated 33%)\n",
            "  adding: pretrain_work_dir/data/energy/test_0_9.npy (deflated 26%)\n",
            "  adding: pretrain_work_dir/data/energy/test_0_20.npy (deflated 31%)\n",
            "  adding: pretrain_work_dir/data/energy/test_0_1.npy (deflated 28%)\n",
            "  adding: pretrain_work_dir/data/energy/test_0_25.npy (deflated 29%)\n",
            "  adding: pretrain_work_dir/data/energy/test_0_29.npy (deflated 25%)\n",
            "  adding: pretrain_work_dir/data/energy/energy_mean.txt (stored 0%)\n",
            "  adding: pretrain_work_dir/data/energy/test_0_16.npy (deflated 24%)\n",
            "  adding: pretrain_work_dir/data/energy/test_0_33.npy (deflated 32%)\n",
            "  adding: pretrain_work_dir/data/energy/test_0_14.npy (deflated 26%)\n",
            "  adding: pretrain_work_dir/data/energy/test_0_2.npy (deflated 28%)\n",
            "  adding: pretrain_work_dir/data/energy/test_0_4.npy (deflated 35%)\n",
            "  adding: pretrain_work_dir/data/energy/test_0_31.npy (deflated 29%)\n",
            "  adding: pretrain_work_dir/data/energy/test_0_32.npy (deflated 28%)\n",
            "  adding: pretrain_work_dir/data/energy/test_0_13.npy (deflated 35%)\n",
            "  adding: pretrain_work_dir/data/energy/test_0_18.npy (deflated 32%)\n",
            "  adding: pretrain_work_dir/data/energy/test_0_23.npy (deflated 24%)\n",
            "  adding: pretrain_work_dir/data/energy/test_0_12.npy (deflated 32%)\n",
            "  adding: pretrain_work_dir/data/energy/test_0_6.npy (deflated 25%)\n",
            "  adding: pretrain_work_dir/data/energy/test_0_11.npy (deflated 32%)\n",
            "  adding: pretrain_work_dir/data/energy/test_0_7.npy (deflated 30%)\n",
            "  adding: pretrain_work_dir/data/energy/energy_std.txt (stored 0%)\n",
            "  adding: pretrain_work_dir/data/energy/test_0_17.npy (deflated 23%)\n",
            "  adding: pretrain_work_dir/data/energy/test_0_27.npy (deflated 29%)\n",
            "  adding: pretrain_work_dir/data/energy/test_0_5.npy (deflated 35%)\n",
            "  adding: pretrain_work_dir/data/energy/test_0_26.npy (deflated 31%)\n",
            "  adding: pretrain_work_dir/data/energy/test_0_3.npy (deflated 28%)\n",
            "  adding: pretrain_work_dir/data/energy/test_0_24.npy (deflated 32%)\n",
            "  adding: pretrain_work_dir/data/badlist.txt (stored 0%)\n",
            "  adding: pretrain_work_dir/data/mel/ (stored 0%)\n",
            "  adding: pretrain_work_dir/data/mel/test_0_15.npy (deflated 5%)\n",
            "  adding: pretrain_work_dir/data/mel/test_0_0.npy (deflated 10%)\n",
            "  adding: pretrain_work_dir/data/mel/test_0_21.npy (deflated 16%)\n",
            "  adding: pretrain_work_dir/data/mel/test_0_10.npy (deflated 16%)\n",
            "  adding: pretrain_work_dir/data/mel/test_0_28.npy (deflated 11%)\n",
            "  adding: pretrain_work_dir/data/mel/test_0_8.npy (deflated 5%)\n",
            "  adding: pretrain_work_dir/data/mel/test_0_19.npy (deflated 11%)\n",
            "  adding: pretrain_work_dir/data/mel/test_0_22.npy (deflated 10%)\n",
            "  adding: pretrain_work_dir/data/mel/test_0_9.npy (deflated 12%)\n",
            "  adding: pretrain_work_dir/data/mel/test_0_20.npy (deflated 10%)\n",
            "  adding: pretrain_work_dir/data/mel/test_0_1.npy (deflated 14%)\n",
            "  adding: pretrain_work_dir/data/mel/test_0_25.npy (deflated 18%)\n",
            "  adding: pretrain_work_dir/data/mel/test_0_29.npy (deflated 17%)\n",
            "  adding: pretrain_work_dir/data/mel/test_0_16.npy (deflated 8%)\n",
            "  adding: pretrain_work_dir/data/mel/test_0_33.npy (deflated 8%)\n",
            "  adding: pretrain_work_dir/data/mel/test_0_14.npy (deflated 7%)\n",
            "  adding: pretrain_work_dir/data/mel/test_0_2.npy (deflated 6%)\n",
            "  adding: pretrain_work_dir/data/mel/test_0_4.npy (deflated 5%)\n",
            "  adding: pretrain_work_dir/data/mel/test_0_31.npy (deflated 8%)\n",
            "  adding: pretrain_work_dir/data/mel/mel_std.txt (deflated 63%)\n",
            "  adding: pretrain_work_dir/data/mel/test_0_32.npy (deflated 8%)\n",
            "  adding: pretrain_work_dir/data/mel/test_0_13.npy (deflated 6%)\n",
            "  adding: pretrain_work_dir/data/mel/test_0_18.npy (deflated 7%)\n",
            "  adding: pretrain_work_dir/data/mel/test_0_23.npy (deflated 10%)\n",
            "  adding: pretrain_work_dir/data/mel/test_0_12.npy (deflated 14%)\n",
            "  adding: pretrain_work_dir/data/mel/test_0_6.npy (deflated 6%)\n",
            "  adding: pretrain_work_dir/data/mel/test_0_11.npy (deflated 18%)\n",
            "  adding: pretrain_work_dir/data/mel/test_0_7.npy (deflated 11%)\n",
            "  adding: pretrain_work_dir/data/mel/mel_mean.txt (deflated 58%)\n",
            "  adding: pretrain_work_dir/data/mel/test_0_17.npy (deflated 8%)\n",
            "  adding: pretrain_work_dir/data/mel/test_0_27.npy (deflated 9%)\n",
            "  adding: pretrain_work_dir/data/mel/test_0_5.npy (deflated 17%)\n",
            "  adding: pretrain_work_dir/data/mel/test_0_26.npy (deflated 6%)\n",
            "  adding: pretrain_work_dir/data/mel/test_0_3.npy (deflated 6%)\n",
            "  adding: pretrain_work_dir/data/mel/test_0_24.npy (deflated 5%)\n",
            "  adding: pretrain_work_dir/data/f0/ (stored 0%)\n",
            "  adding: pretrain_work_dir/data/f0/test_0_15.npy (deflated 37%)\n",
            "  adding: pretrain_work_dir/data/f0/test_0_0.npy (deflated 38%)\n",
            "  adding: pretrain_work_dir/data/f0/test_0_21.npy (deflated 33%)\n",
            "  adding: pretrain_work_dir/data/f0/test_0_10.npy (deflated 29%)\n",
            "  adding: pretrain_work_dir/data/f0/test_0_28.npy (deflated 40%)\n",
            "  adding: pretrain_work_dir/data/f0/test_0_8.npy (deflated 35%)\n",
            "  adding: pretrain_work_dir/data/f0/test_0_19.npy (deflated 35%)\n",
            "  adding: pretrain_work_dir/data/f0/test_0_22.npy (deflated 36%)\n",
            "  adding: pretrain_work_dir/data/f0/test_0_9.npy (deflated 30%)\n",
            "  adding: pretrain_work_dir/data/f0/test_0_20.npy (deflated 36%)\n",
            "  adding: pretrain_work_dir/data/f0/test_0_1.npy (deflated 37%)\n",
            "  adding: pretrain_work_dir/data/f0/test_0_25.npy (deflated 32%)\n",
            "  adding: pretrain_work_dir/data/f0/test_0_29.npy (deflated 38%)\n",
            "  adding: pretrain_work_dir/data/f0/test_0_16.npy (deflated 29%)\n",
            "  adding: pretrain_work_dir/data/f0/test_0_33.npy (deflated 34%)\n",
            "  adding: pretrain_work_dir/data/f0/test_0_14.npy (deflated 34%)\n",
            "  adding: pretrain_work_dir/data/f0/test_0_2.npy (deflated 33%)\n",
            "  adding: pretrain_work_dir/data/f0/f0_std.txt (stored 0%)\n",
            "  adding: pretrain_work_dir/data/f0/test_0_4.npy (deflated 40%)\n",
            "  adding: pretrain_work_dir/data/f0/test_0_31.npy (deflated 33%)\n",
            "  adding: pretrain_work_dir/data/f0/test_0_32.npy (deflated 30%)\n",
            "  adding: pretrain_work_dir/data/f0/test_0_13.npy (deflated 40%)\n",
            "  adding: pretrain_work_dir/data/f0/test_0_18.npy (deflated 42%)\n",
            "  adding: pretrain_work_dir/data/f0/test_0_23.npy (deflated 36%)\n",
            "  adding: pretrain_work_dir/data/f0/test_0_12.npy (deflated 35%)\n",
            "  adding: pretrain_work_dir/data/f0/test_0_6.npy (deflated 32%)\n",
            "  adding: pretrain_work_dir/data/f0/test_0_11.npy (deflated 33%)\n",
            "  adding: pretrain_work_dir/data/f0/test_0_7.npy (deflated 35%)\n",
            "  adding: pretrain_work_dir/data/f0/f0_mean.txt (stored 0%)\n",
            "  adding: pretrain_work_dir/data/f0/test_0_17.npy (deflated 25%)\n",
            "  adding: pretrain_work_dir/data/f0/test_0_27.npy (deflated 31%)\n",
            "  adding: pretrain_work_dir/data/f0/test_0_5.npy (deflated 44%)\n",
            "  adding: pretrain_work_dir/data/f0/test_0_26.npy (deflated 35%)\n",
            "  adding: pretrain_work_dir/data/f0/test_0_3.npy (deflated 33%)\n",
            "  adding: pretrain_work_dir/data/f0/test_0_24.npy (deflated 37%)\n",
            "  adding: pretrain_work_dir/data/frame_energy/ (stored 0%)\n",
            "  adding: pretrain_work_dir/data/frame_energy/test_0_15.npy (deflated 3%)\n",
            "  adding: pretrain_work_dir/data/frame_energy/test_0_0.npy (deflated 3%)\n",
            "  adding: pretrain_work_dir/data/frame_energy/test_0_21.npy (deflated 4%)\n",
            "  adding: pretrain_work_dir/data/frame_energy/test_0_10.npy (deflated 4%)\n",
            "  adding: pretrain_work_dir/data/frame_energy/test_0_28.npy (deflated 3%)\n",
            "  adding: pretrain_work_dir/data/frame_energy/test_0_8.npy (deflated 3%)\n",
            "  adding: pretrain_work_dir/data/frame_energy/test_0_19.npy (deflated 3%)\n",
            "  adding: pretrain_work_dir/data/frame_energy/test_0_22.npy (deflated 4%)\n",
            "  adding: pretrain_work_dir/data/frame_energy/test_0_9.npy (deflated 4%)\n",
            "  adding: pretrain_work_dir/data/frame_energy/test_0_20.npy (deflated 3%)\n",
            "  adding: pretrain_work_dir/data/frame_energy/test_0_1.npy (deflated 5%)\n",
            "  adding: pretrain_work_dir/data/frame_energy/test_0_25.npy (deflated 7%)\n",
            "  adding: pretrain_work_dir/data/frame_energy/test_0_29.npy (deflated 8%)\n",
            "  adding: pretrain_work_dir/data/frame_energy/test_0_16.npy (deflated 4%)\n",
            "  adding: pretrain_work_dir/data/frame_energy/test_0_33.npy (deflated 3%)\n",
            "  adding: pretrain_work_dir/data/frame_energy/test_0_14.npy (deflated 4%)\n",
            "  adding: pretrain_work_dir/data/frame_energy/test_0_2.npy (deflated 4%)\n",
            "  adding: pretrain_work_dir/data/frame_energy/test_0_4.npy (deflated 4%)\n",
            "  adding: pretrain_work_dir/data/frame_energy/test_0_31.npy (deflated 3%)\n",
            "  adding: pretrain_work_dir/data/frame_energy/test_0_32.npy (deflated 5%)\n",
            "  adding: pretrain_work_dir/data/frame_energy/test_0_13.npy (deflated 4%)\n",
            "  adding: pretrain_work_dir/data/frame_energy/test_0_18.npy (deflated 3%)\n",
            "  adding: pretrain_work_dir/data/frame_energy/test_0_23.npy (deflated 4%)\n",
            "  adding: pretrain_work_dir/data/frame_energy/test_0_12.npy (deflated 4%)\n",
            "  adding: pretrain_work_dir/data/frame_energy/test_0_6.npy (deflated 4%)\n",
            "  adding: pretrain_work_dir/data/frame_energy/test_0_11.npy (deflated 4%)\n",
            "  adding: pretrain_work_dir/data/frame_energy/test_0_7.npy (deflated 5%)\n",
            "  adding: pretrain_work_dir/data/frame_energy/test_0_17.npy (deflated 4%)\n",
            "  adding: pretrain_work_dir/data/frame_energy/test_0_27.npy (deflated 4%)\n",
            "  adding: pretrain_work_dir/data/frame_energy/test_0_5.npy (deflated 4%)\n",
            "  adding: pretrain_work_dir/data/frame_energy/test_0_26.npy (deflated 4%)\n",
            "  adding: pretrain_work_dir/data/frame_energy/test_0_3.npy (deflated 4%)\n",
            "  adding: pretrain_work_dir/data/frame_energy/test_0_24.npy (deflated 4%)\n",
            "  adding: pretrain_work_dir/data/am_valid.lst (deflated 88%)\n",
            "  adding: pretrain_work_dir/data/se/ (stored 0%)\n",
            "  adding: pretrain_work_dir/data/se/test_0_15.npy (deflated 5%)\n",
            "  adding: pretrain_work_dir/data/se/test_0_0.npy (deflated 5%)\n",
            "  adding: pretrain_work_dir/data/se/test_0_21.npy (deflated 5%)\n",
            "  adding: pretrain_work_dir/data/se/test_0_10.npy (deflated 5%)\n",
            "  adding: pretrain_work_dir/data/se/test_0_28.npy (deflated 5%)\n",
            "  adding: pretrain_work_dir/data/se/test_0_8.npy (deflated 5%)\n",
            "  adding: pretrain_work_dir/data/se/test_0_19.npy (deflated 6%)\n",
            "  adding: pretrain_work_dir/data/se/test_0_22.npy (deflated 6%)\n",
            "  adding: pretrain_work_dir/data/se/test_0_9.npy (deflated 5%)\n",
            "  adding: pretrain_work_dir/data/se/test_0_20.npy (deflated 6%)\n",
            "  adding: pretrain_work_dir/data/se/test_0_1.npy (deflated 6%)\n",
            "  adding: pretrain_work_dir/data/se/test_0_25.npy (deflated 5%)\n",
            "  adding: pretrain_work_dir/data/se/test_0_29.npy (deflated 5%)\n",
            "  adding: pretrain_work_dir/data/se/test_0_16.npy (deflated 5%)\n",
            "  adding: pretrain_work_dir/data/se/test_0_33.npy (deflated 5%)\n",
            "  adding: pretrain_work_dir/data/se/test_0_14.npy (deflated 5%)\n",
            "  adding: pretrain_work_dir/data/se/test_0_2.npy (deflated 5%)\n",
            "  adding: pretrain_work_dir/data/se/test_0_4.npy (deflated 5%)\n",
            "  adding: pretrain_work_dir/data/se/test_0_31.npy (deflated 5%)\n",
            "  adding: pretrain_work_dir/data/se/test_0_32.npy (deflated 5%)\n",
            "  adding: pretrain_work_dir/data/se/test_0_13.npy (deflated 5%)\n",
            "  adding: pretrain_work_dir/data/se/test_0_18.npy (deflated 5%)\n",
            "  adding: pretrain_work_dir/data/se/test_0_23.npy (deflated 5%)\n",
            "  adding: pretrain_work_dir/data/se/test_0_12.npy (deflated 6%)\n",
            "  adding: pretrain_work_dir/data/se/test_0_6.npy (deflated 5%)\n",
            "  adding: pretrain_work_dir/data/se/test_0_11.npy (deflated 5%)\n",
            "  adding: pretrain_work_dir/data/se/test_0_7.npy (deflated 5%)\n",
            "  adding: pretrain_work_dir/data/se/test_0_17.npy (deflated 5%)\n",
            "  adding: pretrain_work_dir/data/se/test_0_27.npy (deflated 6%)\n",
            "  adding: pretrain_work_dir/data/se/se.npy (deflated 5%)\n",
            "  adding: pretrain_work_dir/data/se/test_0_5.npy (deflated 5%)\n",
            "  adding: pretrain_work_dir/data/se/test_0_26.npy (deflated 5%)\n",
            "  adding: pretrain_work_dir/data/se/test_0_3.npy (deflated 5%)\n",
            "  adding: pretrain_work_dir/data/se/test_0_24.npy (deflated 6%)\n",
            "  adding: pretrain_work_dir/data/wav/ (stored 0%)\n",
            "  adding: pretrain_work_dir/data/wav/test_0_23.wav (deflated 16%)\n",
            "  adding: pretrain_work_dir/data/wav/test_0_1.wav (deflated 20%)\n",
            "  adding: pretrain_work_dir/data/wav/test_0_28.wav (deflated 16%)\n",
            "  adding: pretrain_work_dir/data/wav/test_0_16.wav (deflated 11%)\n",
            "  adding: pretrain_work_dir/data/wav/test_0_24.wav (deflated 11%)\n",
            "  adding: pretrain_work_dir/data/wav/test_0_11.wav (deflated 19%)\n",
            "  adding: pretrain_work_dir/data/wav/test_0_19.wav (deflated 19%)\n",
            "  adding: pretrain_work_dir/data/wav/test_0_9.wav (deflated 17%)\n",
            "  adding: pretrain_work_dir/data/wav/test_0_6.wav (deflated 12%)\n",
            "  adding: pretrain_work_dir/data/wav/test_0_14.wav (deflated 11%)\n",
            "  adding: pretrain_work_dir/data/wav/test_0_15.wav (deflated 10%)\n",
            "  adding: pretrain_work_dir/data/wav/test_0_27.wav (deflated 14%)\n",
            "  adding: pretrain_work_dir/data/wav/test_0_26.wav (deflated 10%)\n",
            "  adding: pretrain_work_dir/data/wav/test_0_33.wav (deflated 12%)\n",
            "  adding: pretrain_work_dir/data/wav/test_0_22.wav (deflated 14%)\n",
            "  adding: pretrain_work_dir/data/wav/test_0_3.wav (deflated 13%)\n",
            "  adding: pretrain_work_dir/data/wav/test_0_25.wav (deflated 25%)\n",
            "  adding: pretrain_work_dir/data/wav/test_0_10.wav (deflated 20%)\n",
            "  adding: pretrain_work_dir/data/wav/test_0_21.wav (deflated 19%)\n",
            "  adding: pretrain_work_dir/data/wav/test_0_13.wav (deflated 11%)\n",
            "  adding: pretrain_work_dir/data/wav/test_0_7.wav (deflated 17%)\n",
            "  adding: pretrain_work_dir/data/wav/test_0_17.wav (deflated 13%)\n",
            "  adding: pretrain_work_dir/data/wav/test_0_0.wav (deflated 16%)\n",
            "  adding: pretrain_work_dir/data/wav/test_0_5.wav (deflated 25%)\n",
            "  adding: pretrain_work_dir/data/wav/test_0_12.wav (deflated 23%)\n",
            "  adding: pretrain_work_dir/data/wav/test_0_2.wav (deflated 15%)\n",
            "  adding: pretrain_work_dir/data/wav/test_0_31.wav (deflated 11%)\n",
            "  adding: pretrain_work_dir/data/wav/test_0_8.wav (deflated 7%)\n",
            "  adding: pretrain_work_dir/data/wav/test_0_32.wav (deflated 12%)\n",
            "  adding: pretrain_work_dir/data/wav/test_0_18.wav (deflated 11%)\n",
            "  adding: pretrain_work_dir/data/wav/test_0_20.wav (deflated 17%)\n",
            "  adding: pretrain_work_dir/data/wav/test_0_29.wav (deflated 22%)\n",
            "  adding: pretrain_work_dir/data/wav/test_0_4.wav (deflated 10%)\n",
            "  adding: pretrain_work_dir/data/valid.lst (stored 0%)\n",
            "  adding: pretrain_work_dir/data/audio_config.yaml (deflated 38%)\n",
            "  adding: pretrain_work_dir/data/raw_duration/ (stored 0%)\n",
            "  adding: pretrain_work_dir/data/raw_duration/test_0_15.npy (deflated 65%)\n",
            "  adding: pretrain_work_dir/data/raw_duration/test_0_0.npy (deflated 56%)\n",
            "  adding: pretrain_work_dir/data/raw_duration/test_0_21.npy (deflated 65%)\n",
            "  adding: pretrain_work_dir/data/raw_duration/test_0_32.phone (deflated 23%)\n",
            "  adding: pretrain_work_dir/data/raw_duration/test_0_10.npy (deflated 66%)\n",
            "  adding: pretrain_work_dir/data/raw_duration/test_0_28.npy (deflated 61%)\n",
            "  adding: pretrain_work_dir/data/raw_duration/test_0_8.npy (deflated 64%)\n",
            "  adding: pretrain_work_dir/data/raw_duration/test_0_3.phone (deflated 20%)\n",
            "  adding: pretrain_work_dir/data/raw_duration/test_0_19.npy (deflated 62%)\n",
            "  adding: pretrain_work_dir/data/raw_duration/test_0_22.npy (deflated 58%)\n",
            "  adding: pretrain_work_dir/data/raw_duration/test_0_9.phone (deflated 21%)\n",
            "  adding: pretrain_work_dir/data/raw_duration/test_0_21.phone (deflated 19%)\n",
            "  adding: pretrain_work_dir/data/raw_duration/test_0_14.phone (deflated 26%)\n",
            "  adding: pretrain_work_dir/data/raw_duration/test_0_9.npy (deflated 66%)\n",
            "  adding: pretrain_work_dir/data/raw_duration/test_0_20.npy (deflated 63%)\n",
            "  adding: pretrain_work_dir/data/raw_duration/test_0_1.npy (deflated 63%)\n",
            "  adding: pretrain_work_dir/data/raw_duration/test_0_25.npy (deflated 64%)\n",
            "  adding: pretrain_work_dir/data/raw_duration/test_0_29.npy (deflated 67%)\n",
            "  adding: pretrain_work_dir/data/raw_duration/test_0_18.phone (deflated 7%)\n",
            "  adding: pretrain_work_dir/data/raw_duration/test_0_16.npy (deflated 67%)\n",
            "  adding: pretrain_work_dir/data/raw_duration/test_0_33.npy (deflated 58%)\n",
            "  adding: pretrain_work_dir/data/raw_duration/test_0_15.phone (deflated 13%)\n",
            "  adding: pretrain_work_dir/data/raw_duration/test_0_14.npy (deflated 68%)\n",
            "  adding: pretrain_work_dir/data/raw_duration/test_0_1.phone (deflated 13%)\n",
            "  adding: pretrain_work_dir/data/raw_duration/test_0_2.npy (deflated 64%)\n",
            "  adding: pretrain_work_dir/data/raw_duration/test_0_13.phone (deflated 3%)\n",
            "  adding: pretrain_work_dir/data/raw_duration/test_0_4.npy (deflated 63%)\n",
            "  adding: pretrain_work_dir/data/raw_duration/test_0_31.npy (deflated 65%)\n",
            "  adding: pretrain_work_dir/data/raw_duration/test_0_10.phone (deflated 28%)\n",
            "  adding: pretrain_work_dir/data/raw_duration/test_0_16.phone (deflated 26%)\n",
            "  adding: pretrain_work_dir/data/raw_duration/test_0_0.phone (deflated 3%)\n",
            "  adding: pretrain_work_dir/data/raw_duration/test_0_5.phone (stored 0%)\n",
            "  adding: pretrain_work_dir/data/raw_duration/test_0_22.phone (deflated 2%)\n",
            "  adding: pretrain_work_dir/data/raw_duration/test_0_32.npy (deflated 67%)\n",
            "  adding: pretrain_work_dir/data/raw_duration/test_0_7.phone (deflated 21%)\n",
            "  adding: pretrain_work_dir/data/raw_duration/test_0_13.npy (deflated 60%)\n",
            "  adding: pretrain_work_dir/data/raw_duration/test_0_18.npy (deflated 63%)\n",
            "  adding: pretrain_work_dir/data/raw_duration/test_0_4.phone (deflated 9%)\n",
            "  adding: pretrain_work_dir/data/raw_duration/test_0_28.phone (deflated 7%)\n",
            "  adding: pretrain_work_dir/data/raw_duration/test_0_23.phone (deflated 31%)\n",
            "  adding: pretrain_work_dir/data/raw_duration/test_0_2.phone (deflated 13%)\n",
            "  adding: pretrain_work_dir/data/raw_duration/test_0_23.npy (deflated 68%)\n",
            "  adding: pretrain_work_dir/data/raw_duration/test_0_12.npy (deflated 61%)\n",
            "  adding: pretrain_work_dir/data/raw_duration/test_0_6.npy (deflated 68%)\n",
            "  adding: pretrain_work_dir/data/raw_duration/test_0_31.phone (deflated 14%)\n",
            "  adding: pretrain_work_dir/data/raw_duration/test_0_11.npy (deflated 63%)\n",
            "  adding: pretrain_work_dir/data/raw_duration/test_0_7.npy (deflated 67%)\n",
            "  adding: pretrain_work_dir/data/raw_duration/test_0_19.phone (deflated 7%)\n",
            "  adding: pretrain_work_dir/data/raw_duration/test_0_6.phone (deflated 22%)\n",
            "  adding: pretrain_work_dir/data/raw_duration/test_0_25.phone (deflated 8%)\n",
            "  adding: pretrain_work_dir/data/raw_duration/test_0_20.phone (deflated 2%)\n",
            "  adding: pretrain_work_dir/data/raw_duration/test_0_29.phone (deflated 22%)\n",
            "  adding: pretrain_work_dir/data/raw_duration/test_0_26.phone (deflated 15%)\n",
            "  adding: pretrain_work_dir/data/raw_duration/test_0_17.npy (deflated 69%)\n",
            "  adding: pretrain_work_dir/data/raw_duration/test_0_27.npy (deflated 64%)\n",
            "  adding: pretrain_work_dir/data/raw_duration/test_0_24.phone (deflated 7%)\n",
            "  adding: pretrain_work_dir/data/raw_duration/test_0_27.phone (deflated 15%)\n",
            "  adding: pretrain_work_dir/data/raw_duration/test_0_33.phone (stored 0%)\n",
            "  adding: pretrain_work_dir/data/raw_duration/test_0_8.phone (deflated 12%)\n",
            "  adding: pretrain_work_dir/data/raw_duration/test_0_11.phone (stored 0%)\n",
            "  adding: pretrain_work_dir/data/raw_duration/test_0_5.npy (deflated 58%)\n",
            "  adding: pretrain_work_dir/data/raw_duration/test_0_26.npy (deflated 65%)\n",
            "  adding: pretrain_work_dir/data/raw_duration/test_0_17.phone (deflated 26%)\n",
            "  adding: pretrain_work_dir/data/raw_duration/test_0_3.npy (deflated 66%)\n",
            "  adding: pretrain_work_dir/data/raw_duration/test_0_12.phone (deflated 25%)\n",
            "  adding: pretrain_work_dir/data/raw_duration/test_0_24.npy (deflated 62%)\n",
            "  adding: pretrain_work_dir/data/train.lst (deflated 74%)\n",
            "  adding: pretrain_work_dir/data/Script.xml (deflated 92%)\n",
            "  adding: pretrain_work_dir/data/raw_metafile.txt (deflated 96%)\n",
            "  adding: pretrain_work_dir/data/am_train.lst (deflated 95%)\n",
            "  adding: pretrain_work_dir/data/frame_f0/ (stored 0%)\n",
            "  adding: pretrain_work_dir/data/frame_f0/test_0_15.npy (deflated 5%)\n",
            "  adding: pretrain_work_dir/data/frame_f0/test_0_0.npy (deflated 5%)\n",
            "  adding: pretrain_work_dir/data/frame_f0/test_0_21.npy (deflated 6%)\n",
            "  adding: pretrain_work_dir/data/frame_f0/test_0_10.npy (deflated 6%)\n",
            "  adding: pretrain_work_dir/data/frame_f0/test_0_28.npy (deflated 6%)\n",
            "  adding: pretrain_work_dir/data/frame_f0/test_0_8.npy (deflated 4%)\n",
            "  adding: pretrain_work_dir/data/frame_f0/test_0_19.npy (deflated 5%)\n",
            "  adding: pretrain_work_dir/data/frame_f0/test_0_22.npy (deflated 9%)\n",
            "  adding: pretrain_work_dir/data/frame_f0/test_0_9.npy (deflated 6%)\n",
            "  adding: pretrain_work_dir/data/frame_f0/test_0_20.npy (deflated 5%)\n",
            "  adding: pretrain_work_dir/data/frame_f0/test_0_1.npy (deflated 5%)\n",
            "  adding: pretrain_work_dir/data/frame_f0/test_0_25.npy (deflated 6%)\n",
            "  adding: pretrain_work_dir/data/frame_f0/test_0_29.npy (deflated 6%)\n",
            "  adding: pretrain_work_dir/data/frame_f0/test_0_16.npy (deflated 7%)\n",
            "  adding: pretrain_work_dir/data/frame_f0/test_0_33.npy (deflated 7%)\n",
            "  adding: pretrain_work_dir/data/frame_f0/test_0_14.npy (deflated 6%)\n",
            "  adding: pretrain_work_dir/data/frame_f0/test_0_2.npy (deflated 8%)\n",
            "  adding: pretrain_work_dir/data/frame_f0/test_0_4.npy (deflated 6%)\n",
            "  adding: pretrain_work_dir/data/frame_f0/test_0_31.npy (deflated 5%)\n",
            "  adding: pretrain_work_dir/data/frame_f0/test_0_32.npy (deflated 6%)\n",
            "  adding: pretrain_work_dir/data/frame_f0/test_0_13.npy (deflated 19%)\n",
            "  adding: pretrain_work_dir/data/frame_f0/test_0_18.npy (deflated 6%)\n",
            "  adding: pretrain_work_dir/data/frame_f0/test_0_23.npy (deflated 6%)\n",
            "  adding: pretrain_work_dir/data/frame_f0/test_0_12.npy (deflated 6%)\n",
            "  adding: pretrain_work_dir/data/frame_f0/test_0_6.npy (deflated 6%)\n",
            "  adding: pretrain_work_dir/data/frame_f0/test_0_11.npy (deflated 5%)\n",
            "  adding: pretrain_work_dir/data/frame_f0/test_0_7.npy (deflated 7%)\n",
            "  adding: pretrain_work_dir/data/frame_f0/test_0_17.npy (deflated 10%)\n",
            "  adding: pretrain_work_dir/data/frame_f0/test_0_27.npy (deflated 7%)\n",
            "  adding: pretrain_work_dir/data/frame_f0/test_0_5.npy (deflated 16%)\n",
            "  adding: pretrain_work_dir/data/frame_f0/test_0_26.npy (deflated 6%)\n",
            "  adding: pretrain_work_dir/data/frame_f0/test_0_3.npy (deflated 10%)\n",
            "  adding: pretrain_work_dir/data/frame_f0/test_0_24.npy (deflated 8%)\n",
            "  adding: pretrain_work_dir/data/duration/ (stored 0%)\n",
            "  adding: pretrain_work_dir/data/duration/test_0_15.npy (deflated 67%)\n",
            "  adding: pretrain_work_dir/data/duration/test_0_0.npy (deflated 59%)\n",
            "  adding: pretrain_work_dir/data/duration/test_0_21.npy (deflated 68%)\n",
            "  adding: pretrain_work_dir/data/duration/test_0_10.npy (deflated 68%)\n",
            "  adding: pretrain_work_dir/data/duration/test_0_28.npy (deflated 62%)\n",
            "  adding: pretrain_work_dir/data/duration/test_0_8.npy (deflated 67%)\n",
            "  adding: pretrain_work_dir/data/duration/test_0_19.npy (deflated 61%)\n",
            "  adding: pretrain_work_dir/data/duration/test_0_22.npy (deflated 62%)\n",
            "  adding: pretrain_work_dir/data/duration/test_0_9.npy (deflated 68%)\n",
            "  adding: pretrain_work_dir/data/duration/test_0_20.npy (deflated 62%)\n",
            "  adding: pretrain_work_dir/data/duration/test_0_1.npy (deflated 65%)\n",
            "  adding: pretrain_work_dir/data/duration/test_0_25.npy (deflated 65%)\n",
            "  adding: pretrain_work_dir/data/duration/test_0_29.npy (deflated 68%)\n",
            "  adding: pretrain_work_dir/data/duration/test_0_16.npy (deflated 69%)\n",
            "  adding: pretrain_work_dir/data/duration/test_0_33.npy (deflated 60%)\n",
            "  adding: pretrain_work_dir/data/duration/test_0_14.npy (deflated 69%)\n",
            "  adding: pretrain_work_dir/data/duration/test_0_2.npy (deflated 66%)\n",
            "  adding: pretrain_work_dir/data/duration/test_0_4.npy (deflated 66%)\n",
            "  adding: pretrain_work_dir/data/duration/test_0_31.npy (deflated 67%)\n",
            "  adding: pretrain_work_dir/data/duration/test_0_32.npy (deflated 70%)\n",
            "  adding: pretrain_work_dir/data/duration/test_0_13.npy (deflated 63%)\n",
            "  adding: pretrain_work_dir/data/duration/test_0_18.npy (deflated 66%)\n",
            "  adding: pretrain_work_dir/data/duration/test_0_23.npy (deflated 70%)\n",
            "  adding: pretrain_work_dir/data/duration/test_0_12.npy (deflated 64%)\n",
            "  adding: pretrain_work_dir/data/duration/test_0_6.npy (deflated 69%)\n",
            "  adding: pretrain_work_dir/data/duration/test_0_11.npy (deflated 64%)\n",
            "  adding: pretrain_work_dir/data/duration/test_0_17.npy (deflated 71%)\n",
            "  adding: pretrain_work_dir/data/duration/test_0_27.npy (deflated 66%)\n",
            "  adding: pretrain_work_dir/data/duration/test_0_5.npy (deflated 60%)\n",
            "  adding: pretrain_work_dir/data/duration/test_0_26.npy (deflated 68%)\n",
            "  adding: pretrain_work_dir/data/duration/test_0_3.npy (deflated 67%)\n",
            "  adding: pretrain_work_dir/data/duration/test_0_24.npy (deflated 65%)\n",
            "  adding: pretrain_work_dir/orig_model/ (stored 0%)\n",
            "  adding: pretrain_work_dir/orig_model/resource.zip (stored 0%)\n",
            "  adding: pretrain_work_dir/orig_model/basemodel_16k/ (stored 0%)\n",
            "  adding: pretrain_work_dir/orig_model/basemodel_16k/sambert/ (stored 0%)\n",
            "  adding: pretrain_work_dir/orig_model/basemodel_16k/sambert/config.yaml (deflated 61%)\n",
            "  adding: pretrain_work_dir/orig_model/basemodel_16k/sambert/ckpt/ (stored 0%)\n",
            "  adding: pretrain_work_dir/orig_model/basemodel_16k/sambert/ckpt/checkpoint_2400000.pth (deflated 10%)\n",
            "  adding: pretrain_work_dir/orig_model/basemodel_16k/audio_config_se_16k.yaml (deflated 44%)\n",
            "  adding: pretrain_work_dir/orig_model/basemodel_16k/speaker_embedding/ (stored 0%)\n",
            "  adding: pretrain_work_dir/orig_model/basemodel_16k/speaker_embedding/se.onnx (deflated 8%)\n",
            "  adding: pretrain_work_dir/orig_model/basemodel_16k/speaker_embedding/se.model (deflated 8%)\n",
            "  adding: pretrain_work_dir/orig_model/basemodel_16k/hifigan/ (stored 0%)\n",
            "  adding: pretrain_work_dir/orig_model/basemodel_16k/hifigan/config.yaml (deflated 70%)\n",
            "  adding: pretrain_work_dir/orig_model/basemodel_16k/hifigan/ckpt/ (stored 0%)\n",
            "  adding: pretrain_work_dir/orig_model/basemodel_16k/hifigan/ckpt/checkpoint_2400000.pth (deflated 8%)\n",
            "  adding: pretrain_work_dir/orig_model/resource/ (stored 0%)\n",
            "  adding: pretrain_work_dir/orig_model/resource/ws_hk/ (stored 0%)\n",
            "  adding: pretrain_work_dir/orig_model/resource/ws_hk/xiaoyan.dict (deflated 66%)\n",
            "  adding: pretrain_work_dir/orig_model/resource/ws_hk/pos_hmm.dict (deflated 60%)\n",
            "  adding: pretrain_work_dir/orig_model/resource/ws_hk/ivr.dict (deflated 75%)\n",
            "  adding: pretrain_work_dir/orig_model/resource/ws_hk/ws-dfa-rule.dict (deflated 96%)\n",
            "  adding: pretrain_work_dir/orig_model/resource/ws_hk/puncNumberTimeLetter.dict (deflated 100%)\n",
            "  adding: pretrain_work_dir/orig_model/resource/ws_hk/AliTokenizer_example.conf (deflated 31%)\n",
            "  adding: pretrain_work_dir/orig_model/resource/festival/ (stored 0%)\n",
            "  adding: pretrain_work_dir/orig_model/resource/festival/fringe.scm (deflated 66%)\n",
            "  adding: pretrain_work_dir/orig_model/resource/festival/tobi.scm (deflated 76%)\n",
            "  adding: pretrain_work_dir/orig_model/resource/festival/languages.scm (deflated 69%)\n",
            "  adding: pretrain_work_dir/orig_model/resource/festival/duration.scm (deflated 68%)\n",
            "  adding: pretrain_work_dir/orig_model/resource/festival/apml_f2bf0lr.scm (deflated 86%)\n",
            "  adding: pretrain_work_dir/orig_model/resource/festival/siteinit.scm (deflated 61%)\n",
            "  adding: pretrain_work_dir/orig_model/resource/festival/voices/ (stored 0%)\n",
            "  adding: pretrain_work_dir/orig_model/resource/festival/voices/english/ (stored 0%)\n",
            "  adding: pretrain_work_dir/orig_model/resource/festival/voices/english/rab_diphone/ (stored 0%)\n",
            "  adding: pretrain_work_dir/orig_model/resource/festival/voices/english/rab_diphone/COPYING (deflated 57%)\n",
            "  adding: pretrain_work_dir/orig_model/resource/festival/voices/english/rab_diphone/group/ (stored 0%)\n",
            "  adding: pretrain_work_dir/orig_model/resource/festival/voices/english/rab_diphone/group/rablpc16k.group (deflated 29%)\n",
            "  adding: pretrain_work_dir/orig_model/resource/festival/voices/english/rab_diphone/festvox/ (stored 0%)\n",
            "  adding: pretrain_work_dir/orig_model/resource/festival/voices/english/rab_diphone/festvox/rab_diphone.scm (deflated 69%)\n",
            "  adding: pretrain_work_dir/orig_model/resource/festival/voices/english/kal_diphone/ (stored 0%)\n",
            "  adding: pretrain_work_dir/orig_model/resource/festival/voices/english/kal_diphone/COPYING (deflated 57%)\n",
            "  adding: pretrain_work_dir/orig_model/resource/festival/voices/english/kal_diphone/group/ (stored 0%)\n",
            "  adding: pretrain_work_dir/orig_model/resource/festival/voices/english/kal_diphone/group/kallpc16k.group (deflated 33%)\n",
            "  adding: pretrain_work_dir/orig_model/resource/festival/voices/english/kal_diphone/festvox/ (stored 0%)\n",
            "  adding: pretrain_work_dir/orig_model/resource/festival/voices/english/kal_diphone/festvox/kal_diphone.scm (deflated 69%)\n",
            "  adding: pretrain_work_dir/orig_model/resource/festival/voices/english/kal_diphone/festvox/kaldurtreeZ.scm (deflated 76%)\n",
            "  adding: pretrain_work_dir/orig_model/resource/festival/f2bf0lr.scm (deflated 71%)\n",
            "  adding: pretrain_work_dir/orig_model/resource/festival/etc/ (stored 0%)\n",
            "  adding: pretrain_work_dir/orig_model/resource/festival/etc/email_filter (deflated 66%)\n",
            "  adding: pretrain_work_dir/orig_model/resource/festival/apml.scm (deflated 72%)\n",
            "  adding: pretrain_work_dir/orig_model/resource/festival/mrpa_allophones.scm (deflated 70%)\n",
            "  adding: pretrain_work_dir/orig_model/resource/festival/singing-mode.scm (deflated 73%)\n",
            "  adding: pretrain_work_dir/orig_model/resource/festival/sec.B.hept.ngrambin (deflated 65%)\n",
            "  adding: pretrain_work_dir/orig_model/resource/festival/klatt_durs.scm (deflated 64%)\n",
            "  adding: pretrain_work_dir/orig_model/resource/festival/gswdurtreeZ.scm (deflated 77%)\n",
            "  adding: pretrain_work_dir/orig_model/resource/festival/cart_aux.scm (deflated 68%)\n",
            "  adding: pretrain_work_dir/orig_model/resource/festival/lexicons.scm (deflated 67%)\n",
            "  adding: pretrain_work_dir/orig_model/resource/festival/Singing.v0_1.dtd (deflated 64%)\n",
            "  adding: pretrain_work_dir/orig_model/resource/festival/module_description.scm (deflated 67%)\n",
            "  adding: pretrain_work_dir/orig_model/resource/festival/siod.scm (deflated 66%)\n",
            "  adding: pretrain_work_dir/orig_model/resource/festival/darpa_phones.scm (deflated 71%)\n",
            "  adding: pretrain_work_dir/orig_model/resource/festival/postlex.scm (deflated 75%)\n",
            "  adding: pretrain_work_dir/orig_model/resource/festival/hts.scm (deflated 83%)\n",
            "  adding: pretrain_work_dir/orig_model/resource/festival/lts.scm (deflated 70%)\n",
            "  adding: pretrain_work_dir/orig_model/resource/festival/engmorphsyn.scm (deflated 65%)\n",
            "  adding: pretrain_work_dir/orig_model/resource/festival/multisyn/ (stored 0%)\n",
            "  adding: pretrain_work_dir/orig_model/resource/festival/multisyn/multisyn_pauses.scm (deflated 64%)\n",
            "  adding: pretrain_work_dir/orig_model/resource/festival/multisyn/multisyn.scm (deflated 65%)\n",
            "  adding: pretrain_work_dir/orig_model/resource/festival/multisyn/radio_phones_multisyn.scm (deflated 69%)\n",
            "  adding: pretrain_work_dir/orig_model/resource/festival/multisyn/send_xwaves.scm (deflated 70%)\n",
            "  adding: pretrain_work_dir/orig_model/resource/festival/multisyn/target_cost.scm (deflated 71%)\n",
            "  adding: pretrain_work_dir/orig_model/resource/festival/pos.scm (deflated 66%)\n",
            "  adding: pretrain_work_dir/orig_model/resource/festival/festival.scm (deflated 70%)\n",
            "  adding: pretrain_work_dir/orig_model/resource/festival/festdoc.scm (deflated 63%)\n",
            "  adding: pretrain_work_dir/orig_model/resource/festival/web.scm (deflated 63%)\n",
            "  adding: pretrain_work_dir/orig_model/resource/festival/mbrola.scm (deflated 63%)\n",
            "  adding: pretrain_work_dir/orig_model/resource/festival/dicts/ (stored 0%)\n",
            "  adding: pretrain_work_dir/orig_model/resource/festival/dicts/wsj.wp39.tri.ngrambin (deflated 84%)\n",
            "  adding: pretrain_work_dir/orig_model/resource/festival/dicts/cmu/ (stored 0%)\n",
            "  adding: pretrain_work_dir/orig_model/resource/festival/dicts/cmu/cmudict-0.4.out (deflated 83%)\n",
            "  adding: pretrain_work_dir/orig_model/resource/festival/dicts/cmu/cmudict-0.4.scm (deflated 80%)\n",
            "  adding: pretrain_work_dir/orig_model/resource/festival/dicts/cmu/cmudict-0.4.diff (deflated 86%)\n",
            "  adding: pretrain_work_dir/orig_model/resource/festival/dicts/cmu/cmulex.scm (deflated 75%)\n",
            "  adding: pretrain_work_dir/orig_model/resource/festival/dicts/cmu/COPYING (deflated 57%)\n",
            "  adding: pretrain_work_dir/orig_model/resource/festival/dicts/cmu/cmu_lts_rules.scm (deflated 90%)\n",
            "  adding: pretrain_work_dir/orig_model/resource/festival/dicts/cmu/cmudict_extensions.scm (deflated 64%)\n",
            "  adding: pretrain_work_dir/orig_model/resource/festival/dicts/cmu/cmu2ft (deflated 41%)\n",
            "  adding: pretrain_work_dir/orig_model/resource/festival/dicts/cmu/cmudict_compile.scm (deflated 64%)\n",
            "  adding: pretrain_work_dir/orig_model/resource/festival/dicts/cmu/allowables.scm (deflated 73%)\n",
            "  adding: pretrain_work_dir/orig_model/resource/festival/dicts/oald/ (stored 0%)\n",
            "  adding: pretrain_work_dir/orig_model/resource/festival/dicts/oald/oaldlex.scm (deflated 75%)\n",
            "  adding: pretrain_work_dir/orig_model/resource/festival/dicts/oald/oald_lts_rules.scm (deflated 92%)\n",
            "  adding: pretrain_work_dir/orig_model/resource/festival/dicts/oald/COPYING (deflated 63%)\n",
            "  adding: pretrain_work_dir/orig_model/resource/festival/dicts/oald/oald_extensions.scm (deflated 65%)\n",
            "  adding: pretrain_work_dir/orig_model/resource/festival/dicts/oald/ali.oald.lex (deflated 83%)\n",
            "  adding: pretrain_work_dir/orig_model/resource/festival/dicts/wsj.wp39.poslexR (deflated 82%)\n",
            "  adding: pretrain_work_dir/orig_model/resource/festival/cstr.scm (deflated 65%)\n",
            "  adding: pretrain_work_dir/orig_model/resource/festival/phrase.scm (deflated 63%)\n",
            "  adding: pretrain_work_dir/orig_model/resource/festival/festival.el (deflated 69%)\n",
            "  adding: pretrain_work_dir/orig_model/resource/festival/cslush.scm (deflated 61%)\n",
            "  adding: pretrain_work_dir/orig_model/resource/festival/scfg.scm (deflated 63%)\n",
            "  adding: pretrain_work_dir/orig_model/resource/festival/cmusphinx2_phones.scm (deflated 68%)\n",
            "  adding: pretrain_work_dir/orig_model/resource/festival/tokenpos.scm (deflated 64%)\n",
            "  adding: pretrain_work_dir/orig_model/resource/festival/mrpa_durs.scm (deflated 63%)\n",
            "  adding: pretrain_work_dir/orig_model/resource/festival/email-mode.scm (deflated 64%)\n",
            "  adding: pretrain_work_dir/orig_model/resource/festival/ogimarkup-mode.scm (deflated 68%)\n",
            "  adding: pretrain_work_dir/orig_model/resource/festival/sec.ts20.quad.ngrambin (deflated 87%)\n",
            "  adding: pretrain_work_dir/orig_model/resource/festival/engmorph.scm (deflated 71%)\n",
            "  adding: pretrain_work_dir/orig_model/resource/festival/synthesis.scm (deflated 75%)\n",
            "  adding: pretrain_work_dir/orig_model/resource/festival/mrpa_phones.scm (deflated 70%)\n",
            "  adding: pretrain_work_dir/orig_model/resource/festival/VCLocalRules (deflated 18%)\n",
            "  adding: pretrain_work_dir/orig_model/resource/festival/tobi_rules.scm (deflated 74%)\n",
            "  adding: pretrain_work_dir/orig_model/resource/festival/Sable.v0_2.dtd (deflated 68%)\n",
            "  adding: pretrain_work_dir/orig_model/resource/festival/phoneset.scm (deflated 66%)\n",
            "  adding: pretrain_work_dir/orig_model/resource/festival/soleml-mode.scm (deflated 74%)\n",
            "  adding: pretrain_work_dir/orig_model/resource/festival/speech.properties (deflated 28%)\n",
            "  adding: pretrain_work_dir/orig_model/resource/festival/tts.scm (deflated 64%)\n",
            "  adding: pretrain_work_dir/orig_model/resource/festival/radio_phones.scm (deflated 68%)\n",
            "  adding: pretrain_work_dir/orig_model/resource/festival/token.scm (deflated 76%)\n",
            "  adding: pretrain_work_dir/orig_model/resource/festival/apml_kaldurtreeZ.scm (deflated 76%)\n",
            "  adding: pretrain_work_dir/orig_model/resource/festival/intonation.scm (deflated 66%)\n",
            "  adding: pretrain_work_dir/orig_model/resource/festival/f2bdurtreeZ.scm (deflated 78%)\n",
            "  adding: pretrain_work_dir/orig_model/resource/festival/sable-latin.ent (deflated 69%)\n",
            "  adding: pretrain_work_dir/orig_model/resource/festival/init.scm (deflated 67%)\n",
            "  adding: pretrain_work_dir/orig_model/resource/festival/clunits_build.scm (deflated 72%)\n",
            "  adding: pretrain_work_dir/orig_model/resource/festival/scfg_wsj_wp20.gram (deflated 68%)\n",
            "  adding: pretrain_work_dir/orig_model/resource/festival/unilex_phones.scm (deflated 75%)\n",
            "  adding: pretrain_work_dir/orig_model/resource/festival/clunits.scm (deflated 72%)\n",
            "  adding: pretrain_work_dir/orig_model/resource/festival/display.scm (deflated 66%)\n",
            "  adding: pretrain_work_dir/orig_model/resource/festival/pauses.scm (deflated 72%)\n",
            "  adding: pretrain_work_dir/orig_model/resource/festival/tilt.scm (deflated 75%)\n",
            "  adding: pretrain_work_dir/orig_model/resource/festival/mettree.scm (deflated 61%)\n",
            "  adding: pretrain_work_dir/orig_model/resource/festival/java.scm (deflated 64%)\n",
            "  adding: pretrain_work_dir/orig_model/resource/festival/sable-mode.scm (deflated 74%)\n",
            "  adding: pretrain_work_dir/orig_model/resource/festival/lts_build.scm (deflated 74%)\n",
            "  adding: pretrain_work_dir/orig_model/resource/festival/voices.scm (deflated 69%)\n",
            "  adding: pretrain_work_dir/orig_model/resource/festival/festtest.scm (deflated 67%)\n",
            "  adding: pretrain_work_dir/orig_model/resource/festival/holmes_phones.scm (deflated 68%)\n",
            "  adding: pretrain_work_dir/orig_model/resource/jprsc/ (stored 0%)\n",
            "  adding: pretrain_work_dir/orig_model/resource/jprsc/right-id.def (deflated 87%)\n",
            "  adding: pretrain_work_dir/orig_model/resource/jprsc/unk.dic (deflated 87%)\n",
            "  adding: pretrain_work_dir/orig_model/resource/jprsc/COPYING (deflated 78%)\n",
            "  adding: pretrain_work_dir/orig_model/resource/jprsc/pos-id.def (deflated 67%)\n",
            "  adding: pretrain_work_dir/orig_model/resource/jprsc/char.bin (deflated 100%)\n",
            "  adding: pretrain_work_dir/orig_model/resource/jprsc/left-id.def (deflated 87%)\n",
            "  adding: pretrain_work_dir/orig_model/resource/jprsc/matrix.bin (deflated 52%)\n",
            "  adding: pretrain_work_dir/orig_model/resource/jprsc/rewrite.def (deflated 85%)\n",
            "  adding: pretrain_work_dir/orig_model/resource/jprsc/sys.dic (deflated 79%)\n",
            "  adding: pretrain_work_dir/orig_model/resource/ws/ (stored 0%)\n",
            "  adding: pretrain_work_dir/orig_model/resource/ws/xiaoyan.dict (deflated 67%)\n",
            "  adding: pretrain_work_dir/orig_model/resource/ws/pos_hmm.dict (deflated 60%)\n",
            "  adding: pretrain_work_dir/orig_model/resource/ws/crf_model (deflated 66%)\n",
            "  adding: pretrain_work_dir/orig_model/resource/ws/ivr.dict (deflated 75%)\n",
            "  adding: pretrain_work_dir/orig_model/resource/ws/ws-dfa-rule.dict (deflated 96%)\n",
            "  adding: pretrain_work_dir/orig_model/resource/ws/puncNumberTimeLetter.dict (deflated 100%)\n",
            "  adding: pretrain_work_dir/orig_model/resource/ws/AliTokenizer_example.conf (deflated 31%)\n",
            "  adding: pretrain_work_dir/orig_model/resource/ws_chhk/ (stored 0%)\n",
            "  adding: pretrain_work_dir/orig_model/resource/ws_chhk/xiaoyan.dict (deflated 67%)\n",
            "  adding: pretrain_work_dir/orig_model/resource/ws_chhk/pos_hmm.dict (deflated 60%)\n",
            "  adding: pretrain_work_dir/orig_model/resource/ws_chhk/ivr.dict (deflated 75%)\n",
            "  adding: pretrain_work_dir/orig_model/resource/ws_chhk/ws-dfa-rule.dict (deflated 96%)\n",
            "  adding: pretrain_work_dir/orig_model/resource/ws_chhk/puncNumberTimeLetter.dict (deflated 100%)\n",
            "  adding: pretrain_work_dir/orig_model/resource/ws_chhk/AliTokenizer_example.conf (deflated 31%)\n",
            "  adding: pretrain_work_dir/orig_model/resource/languagedata_embedded.bin (deflated 23%)\n",
            "  adding: pretrain_work_dir/orig_model/resource/ws_chsh/ (stored 0%)\n",
            "  adding: pretrain_work_dir/orig_model/resource/ws_chsh/xiaoyan.dict (deflated 68%)\n",
            "  adding: pretrain_work_dir/orig_model/resource/ws_chsh/pos_hmm.dict (deflated 60%)\n",
            "  adding: pretrain_work_dir/orig_model/resource/ws_chsh/ivr.dict (deflated 75%)\n",
            "  adding: pretrain_work_dir/orig_model/resource/ws_chsh/ws-dfa-rule.dict (deflated 96%)\n",
            "  adding: pretrain_work_dir/orig_model/resource/ws_chsh/puncNumberTimeLetter.dict (deflated 100%)\n",
            "  adding: pretrain_work_dir/orig_model/resource/ws_chsh/AliTokenizer_example.conf (deflated 31%)\n",
            "  adding: pretrain_work_dir/orig_model/resource/ws_zhsc/ (stored 0%)\n",
            "  adding: pretrain_work_dir/orig_model/resource/ws_zhsc/xiaoyan.dict (deflated 67%)\n",
            "  adding: pretrain_work_dir/orig_model/resource/ws_zhsc/pos_hmm.dict (deflated 60%)\n",
            "  adding: pretrain_work_dir/orig_model/resource/ws_zhsc/crf_model (deflated 66%)\n",
            "  adding: pretrain_work_dir/orig_model/resource/ws_zhsc/ivr.dict (deflated 75%)\n",
            "  adding: pretrain_work_dir/orig_model/resource/ws_zhsc/ws-dfa-rule.dict (deflated 96%)\n",
            "  adding: pretrain_work_dir/orig_model/resource/ws_zhsc/puncNumberTimeLetter.dict (deflated 100%)\n",
            "  adding: pretrain_work_dir/orig_model/resource/ws_zhsc/AliTokenizer_example.conf (deflated 31%)\n",
            "  adding: pretrain_work_dir/orig_model/description/ (stored 0%)\n",
            "  adding: pretrain_work_dir/orig_model/description/sambert.jpg (deflated 22%)\n",
            "  adding: pretrain_work_dir/orig_model/description/notebook_steps/ (stored 0%)\n",
            "  adding: pretrain_work_dir/orig_model/description/notebook_steps/autolabel_setting.jpg (deflated 28%)\n",
            "  adding: pretrain_work_dir/orig_model/description/notebook_steps/autolabel_done.jpg (deflated 31%)\n",
            "  adding: pretrain_work_dir/orig_model/description/notebook_steps/upload_wavs.jpg (deflated 37%)\n",
            "  adding: pretrain_work_dir/orig_model/description/notebook_steps/fetch_nltk_data.jpg (deflated 28%)\n",
            "  adding: pretrain_work_dir/orig_model/description/notebook_steps/inference_play.jpg (deflated 22%)\n",
            "  adding: pretrain_work_dir/orig_model/description/notebook_steps/training.jpg (deflated 15%)\n",
            "  adding: pretrain_work_dir/orig_model/description/notebook_steps/inference.jpg (deflated 23%)\n",
            "  adding: pretrain_work_dir/orig_model/description/notebook_steps/build_trainer.jpg (deflated 28%)\n",
            "  adding: pretrain_work_dir/orig_model/description/ptts_normal.png (deflated 15%)\n",
            "  adding: pretrain_work_dir/orig_model/description/tts-system.jpg (deflated 39%)\n",
            "  adding: pretrain_work_dir/orig_model/description/wav/ (stored 0%)\n",
            "  adding: pretrain_work_dir/orig_model/description/wav/ptts/ (stored 0%)\n",
            "  adding: pretrain_work_dir/orig_model/description/wav/ptts/6.wav (deflated 11%)\n",
            "  adding: pretrain_work_dir/orig_model/description/wav/ptts/8.wav (deflated 18%)\n",
            "  adding: pretrain_work_dir/orig_model/description/wav/ptts/7.wav (deflated 15%)\n",
            "  adding: pretrain_work_dir/orig_model/description/wav/record/ (stored 0%)\n",
            "  adding: pretrain_work_dir/orig_model/description/wav/record/SSB00180500.wav (deflated 20%)\n",
            "  adding: pretrain_work_dir/orig_model/description/wav/record/SSB00180503.wav (deflated 26%)\n",
            "  adding: pretrain_work_dir/orig_model/description/wav/record/SSB00180288.wav (deflated 20%)\n",
            "  adding: pretrain_work_dir/orig_model/description/ptts_structure.png (deflated 12%)\n",
            "  adding: pretrain_work_dir/orig_model/description/speaker_embedding.png (deflated 11%)\n",
            "  adding: pretrain_work_dir/orig_model/description/hifigan.jpg (deflated 35%)\n",
            "  adding: pretrain_work_dir/orig_model/description/aishell3.png (deflated 19%)\n",
            "  adding: pretrain_work_dir/orig_model/description/ptts_vs_normal.png (deflated 10%)\n",
            "  adding: pretrain_work_dir/orig_model/.msc (deflated 73%)\n",
            "  adding: pretrain_work_dir/orig_model/README.md (deflated 61%)\n",
            "  adding: pretrain_work_dir/orig_model/configuration.json (deflated 72%)\n",
            "  adding: pretrain_work_dir/orig_model/.mdl (deflated 2%)\n"
          ]
        }
      ]
    },
    {
      "cell_type": "code",
      "source": [
        "from google.colab import files\n",
        "files.download(\"/content/model.zip\")"
      ],
      "metadata": {
        "colab": {
          "base_uri": "https://localhost:8080/",
          "height": 34
        },
        "id": "pkwYOqU6LptY",
        "outputId": "d9a80d73-24d7-490f-ba83-5a642d213ca3"
      },
      "execution_count": null,
      "outputs": [
        {
          "output_type": "display_data",
          "data": {
            "text/plain": [
              "<IPython.core.display.Javascript object>"
            ],
            "application/javascript": [
              "\n",
              "    async function download(id, filename, size) {\n",
              "      if (!google.colab.kernel.accessAllowed) {\n",
              "        return;\n",
              "      }\n",
              "      const div = document.createElement('div');\n",
              "      const label = document.createElement('label');\n",
              "      label.textContent = `Downloading \"${filename}\": `;\n",
              "      div.appendChild(label);\n",
              "      const progress = document.createElement('progress');\n",
              "      progress.max = size;\n",
              "      div.appendChild(progress);\n",
              "      document.body.appendChild(div);\n",
              "\n",
              "      const buffers = [];\n",
              "      let downloaded = 0;\n",
              "\n",
              "      const channel = await google.colab.kernel.comms.open(id);\n",
              "      // Send a message to notify the kernel that we're ready.\n",
              "      channel.send({})\n",
              "\n",
              "      for await (const message of channel.messages) {\n",
              "        // Send a message to notify the kernel that we're ready.\n",
              "        channel.send({})\n",
              "        if (message.buffers) {\n",
              "          for (const buffer of message.buffers) {\n",
              "            buffers.push(buffer);\n",
              "            downloaded += buffer.byteLength;\n",
              "            progress.value = downloaded;\n",
              "          }\n",
              "        }\n",
              "      }\n",
              "      const blob = new Blob(buffers, {type: 'application/binary'});\n",
              "      const a = document.createElement('a');\n",
              "      a.href = window.URL.createObjectURL(blob);\n",
              "      a.download = filename;\n",
              "      div.appendChild(a);\n",
              "      a.click();\n",
              "      div.remove();\n",
              "    }\n",
              "  "
            ]
          },
          "metadata": {}
        },
        {
          "output_type": "display_data",
          "data": {
            "text/plain": [
              "<IPython.core.display.Javascript object>"
            ],
            "application/javascript": [
              "download(\"download_97a03b1b-155a-4637-9ea6-6d560f35dc67\", \"model.zip\", 1819292955)"
            ]
          },
          "metadata": {}
        }
      ]
    },
    {
      "cell_type": "markdown",
      "source": [
        "### 也可以连接谷歌云盘，直接上传至云盘，速度更快"
      ],
      "metadata": {
        "id": "QMiy3GxF7u7K"
      }
    },
    {
      "cell_type": "code",
      "source": [
        "from google.colab import drive\n",
        "drive.mount('/content/drive')"
      ],
      "metadata": {
        "id": "AiAbfQ7tM31n",
        "outputId": "45837cd2-99f7-471e-bbeb-4e654bd4b6f4",
        "colab": {
          "base_uri": "https://localhost:8080/"
        }
      },
      "execution_count": null,
      "outputs": [
        {
          "output_type": "stream",
          "name": "stdout",
          "text": [
            "Mounted at /content/drive\n"
          ]
        }
      ]
    },
    {
      "cell_type": "code",
      "source": [
        "import shutil"
      ],
      "metadata": {
        "id": "ti396L-A7_zu"
      },
      "execution_count": null,
      "outputs": []
    },
    {
      "cell_type": "code",
      "source": [
        "shutil.copy(\"model.zip\",\"/content/drive/MyDrive/folder_name\")"
      ],
      "metadata": {
        "id": "IzJi6D9y7tiO",
        "outputId": "83260762-7b19-4c2b-c2d1-03b1e7107898",
        "colab": {
          "base_uri": "https://localhost:8080/",
          "height": 35
        }
      },
      "execution_count": null,
      "outputs": [
        {
          "output_type": "execute_result",
          "data": {
            "text/plain": [
              "'/content/drive/MyDrive/dataset/model.zip'"
            ],
            "application/vnd.google.colaboratory.intrinsic+json": {
              "type": "string"
            }
          },
          "metadata": {},
          "execution_count": 16
        }
      ]
    },
    {
      "cell_type": "code",
      "source": [],
      "metadata": {
        "id": "soFE76hH-te7"
      },
      "execution_count": null,
      "outputs": []
    }
  ]
}